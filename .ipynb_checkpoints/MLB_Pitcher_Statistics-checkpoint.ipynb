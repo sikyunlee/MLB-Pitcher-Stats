{
 "cells": [
  {
   "cell_type": "markdown",
   "metadata": {},
   "source": [
    "### Analytics Project - Baseball Pitch by Pitch Analysis\n",
    "#### Sikyun (George) Lee \n",
    "1. Obtain a Dataset\n",
    "2. Model and store dataset (SQL, Pandas, ORM, Python Objects, etc.)\n",
    "3. Visualize (Relationship, Insights, Descriptive Statstistics)\n",
    "4. Think ahead of project\n",
    "5. Due 11/25\n"
   ]
  },
  {
   "cell_type": "markdown",
   "metadata": {},
   "source": [
    "#### Background information on data\n",
    "Data is downloaded from Kaggle (https://www.kaggle.com/pschale/mlb-pitch-data-20152018?select=atbats.csv) but the source of this is from a webscrape in (http://gd2.mlb.com/components/game/mlb/). \n",
    "\n",
    "This data looks at pitch-level data from the 2015 to 2018 seasons in MLB. Through this data, I am hoping to answer some of these questions from a pitching standpoint.\n",
    "\n",
    "**1. What are the pitch-types that gets outs the most? (unhittable pitches)**\\\n",
    "**2. Which pitcher has most pitches per inning ratio? (shows efficiency)**\\\n",
    "**3. Some other questions will asked as project progresses**\\\n",
    "\n",
    "For this session, I will some simple Exploratory Data Analysis to better understand and visualize the data"
   ]
  },
  {
   "cell_type": "markdown",
   "metadata": {},
   "source": [
    "#### 1. Data source will be from the above ***mlb.com*** source through webscraping if possible. Currently, the link above is dead and if another substitute link cannot be found, the dataset from Kaggle will be used."
   ]
  },
  {
   "cell_type": "code",
   "execution_count": 3,
   "metadata": {},
   "outputs": [],
   "source": [
    "#For homework purposes, I'll only import and work with the 2019 season data\n",
    "\n",
    "import pandas as pd\n",
    "import numpy as np\n",
    "import seaborn as sns\n",
    "import matplotlib.pyplot as plt\n",
    "%matplotlib inline"
   ]
  },
  {
   "cell_type": "code",
   "execution_count": 4,
   "metadata": {},
   "outputs": [],
   "source": [
    "#quick test on Retrosheet \n",
    "#test = pd.read_csv('20tor.txt')"
   ]
  },
  {
   "cell_type": "code",
   "execution_count": 8,
   "metadata": {},
   "outputs": [],
   "source": [
    "#test.head(10)"
   ]
  },
  {
   "cell_type": "markdown",
   "metadata": {},
   "source": [
    "#### 2. Store Data as Pandas Objects"
   ]
  },
  {
   "cell_type": "code",
   "execution_count": 9,
   "metadata": {},
   "outputs": [],
   "source": [
    "atbats = pd.read_csv('2019_atbats.csv')\n",
    "games = pd.read_csv('2019_games.csv')\n",
    "pitches = pd.read_csv('2019_pitches.csv')\n",
    "names = pd.read_csv('player_names.csv')"
   ]
  },
  {
   "cell_type": "markdown",
   "metadata": {},
   "source": [
    "#### 3. Visualize the Data for:\n",
    "- Exploratory Data Analysis to find relationships and insights\n",
    "- Descriptive Statistics"
   ]
  },
  {
   "cell_type": "code",
   "execution_count": 10,
   "metadata": {},
   "outputs": [
    {
     "data": {
      "text/plain": [
       "Index(['inning', 'top', 'ab_id', 'g_id', 'p_score', 'batter_id', 'pitcher_id',\n",
       "       'stand', 'p_throws', 'event', 'o'],\n",
       "      dtype='object')"
      ]
     },
     "execution_count": 10,
     "metadata": {},
     "output_type": "execute_result"
    }
   ],
   "source": [
    "atbats.columns"
   ]
  },
  {
   "cell_type": "code",
   "execution_count": 11,
   "metadata": {},
   "outputs": [
    {
     "data": {
      "text/plain": [
       "Index(['g_id', 'home_team', 'away_team', 'home_final_score',\n",
       "       'away_final_score', 'date', 'umpire_HP', 'umpire_1B', 'umpire_2B',\n",
       "       'umpire_3B', 'start_time', 'venue_name', 'weather', 'wind',\n",
       "       'elapsed_time', 'attendance'],\n",
       "      dtype='object')"
      ]
     },
     "execution_count": 11,
     "metadata": {},
     "output_type": "execute_result"
    }
   ],
   "source": [
    "games.columns"
   ]
  },
  {
   "cell_type": "code",
   "execution_count": 12,
   "metadata": {},
   "outputs": [
    {
     "data": {
      "text/plain": [
       "Index(['px', 'pz', 'start_speed', 'end_speed', 'spin_rate', 'spin_dir',\n",
       "       'break_angle', 'break_length', 'break_y', 'ax', 'ay', 'az', 'sz_bot',\n",
       "       'sz_top', 'type_confidence', 'vx0', 'vy0', 'vz0', 'x', 'x0', 'y', 'y0',\n",
       "       'z0', 'pfx_x', 'pfx_z', 'nasty', 'zone', 'code', 'type', 'pitch_type',\n",
       "       'event_num', 'b_score', 'ab_id', 'b_count', 's_count', 'outs',\n",
       "       'pitch_num', 'on_1b', 'on_2b', 'on_3b'],\n",
       "      dtype='object')"
      ]
     },
     "execution_count": 12,
     "metadata": {},
     "output_type": "execute_result"
    }
   ],
   "source": [
    "pitches.columns"
   ]
  },
  {
   "cell_type": "code",
   "execution_count": 110,
   "metadata": {},
   "outputs": [],
   "source": [
    "# What pitches were thrown the most frequently\n",
    "# Join the pitches pitch_type column by the ab_id to the atbats data\n",
    "joined_atbats = atbats.copy(deep = True)"
   ]
  },
  {
   "cell_type": "code",
   "execution_count": 111,
   "metadata": {},
   "outputs": [],
   "source": [
    "joined_atbats = pd.merge(pitches, joined_atbats, how = 'left', on = 'ab_id')\n",
    "joined_atbats = pd.merge(joined_atbats, games, how = 'left', on ='g_id')\n",
    "joined_atbats = pd.merge(joined_atbats, names, how = 'left', left_on = 'pitcher_id', right_on = 'id')"
   ]
  },
  {
   "cell_type": "code",
   "execution_count": 116,
   "metadata": {},
   "outputs": [
    {
     "data": {
      "text/plain": [
       "0         Mike Fiers\n",
       "1         Mike Fiers\n",
       "2         Mike Fiers\n",
       "3         Mike Fiers\n",
       "4         Mike Fiers\n",
       "             ...    \n",
       "728785     Ken Giles\n",
       "728786     Ken Giles\n",
       "728787     Ken Giles\n",
       "728788     Ken Giles\n",
       "728789     Ken Giles\n",
       "Name: full_name, Length: 728790, dtype: object"
      ]
     },
     "execution_count": 116,
     "metadata": {},
     "output_type": "execute_result"
    }
   ],
   "source": [
    "joined_atbats['full_name']"
   ]
  },
  {
   "cell_type": "code",
   "execution_count": 16,
   "metadata": {},
   "outputs": [],
   "source": [
    "a_viz = joined_atbats[['inning', 'top', 'ab_id', 'g_id', 'p_score', 'batter_id', 'pitcher_id',\n",
    "             'p_throws', 'o', 'zone', 'pitch_type', 'b_count', 's_count', 'outs', \n",
    "              'pitch_num', 'on_1b', 'on_2b', 'on_3b']]"
   ]
  },
  {
   "cell_type": "code",
   "execution_count": 17,
   "metadata": {},
   "outputs": [
    {
     "name": "stderr",
     "output_type": "stream",
     "text": [
      "C:\\Users\\sikyu\\AppData\\Local\\Continuum\\anaconda3\\lib\\site-packages\\ipykernel_launcher.py:1: SettingWithCopyWarning: \n",
      "A value is trying to be set on a copy of a slice from a DataFrame.\n",
      "Try using .loc[row_indexer,col_indexer] = value instead\n",
      "\n",
      "See the caveats in the documentation: http://pandas.pydata.org/pandas-docs/stable/user_guide/indexing.html#returning-a-view-versus-a-copy\n",
      "  \"\"\"Entry point for launching an IPython kernel.\n"
     ]
    }
   ],
   "source": [
    "a_viz1 = a_viz['o_lag'] = a_viz['o'].shift(1)"
   ]
  },
  {
   "cell_type": "code",
   "execution_count": 18,
   "metadata": {},
   "outputs": [
    {
     "name": "stderr",
     "output_type": "stream",
     "text": [
      "C:\\Users\\sikyu\\AppData\\Local\\Continuum\\anaconda3\\lib\\site-packages\\ipykernel_launcher.py:1: SettingWithCopyWarning: \n",
      "A value is trying to be set on a copy of a slice from a DataFrame.\n",
      "Try using .loc[row_indexer,col_indexer] = value instead\n",
      "\n",
      "See the caveats in the documentation: http://pandas.pydata.org/pandas-docs/stable/user_guide/indexing.html#returning-a-view-versus-a-copy\n",
      "  \"\"\"Entry point for launching an IPython kernel.\n"
     ]
    }
   ],
   "source": [
    "a_viz['out'] = a_viz['o'] - a_viz['o_lag']"
   ]
  },
  {
   "cell_type": "code",
   "execution_count": 19,
   "metadata": {},
   "outputs": [],
   "source": [
    "#Let's see who has on average and median thrown the most innings\n",
    "a_viz1 = a_viz.groupby(by = 'pitcher_id', as_index=False).agg([np.mean])"
   ]
  },
  {
   "cell_type": "code",
   "execution_count": 20,
   "metadata": {},
   "outputs": [],
   "source": [
    "a_viz1['pitcher_id'] = a_viz1.index"
   ]
  },
  {
   "cell_type": "code",
   "execution_count": 21,
   "metadata": {},
   "outputs": [],
   "source": [
    "names['full_name'] = names.first_name + \" \" + names.last_name"
   ]
  },
  {
   "cell_type": "code",
   "execution_count": 22,
   "metadata": {},
   "outputs": [],
   "source": [
    "#names = names.rename(columns = {'pitcher_id' : 'id'})"
   ]
  },
  {
   "cell_type": "code",
   "execution_count": 23,
   "metadata": {},
   "outputs": [],
   "source": [
    "a_viz1['avg_inning'] = a_viz1['inning', 'mean']"
   ]
  },
  {
   "cell_type": "code",
   "execution_count": 24,
   "metadata": {},
   "outputs": [
    {
     "data": {
      "text/html": [
       "<div>\n",
       "<style scoped>\n",
       "    .dataframe tbody tr th:only-of-type {\n",
       "        vertical-align: middle;\n",
       "    }\n",
       "\n",
       "    .dataframe tbody tr th {\n",
       "        vertical-align: top;\n",
       "    }\n",
       "\n",
       "    .dataframe thead tr th {\n",
       "        text-align: left;\n",
       "    }\n",
       "\n",
       "    .dataframe thead tr:last-of-type th {\n",
       "        text-align: right;\n",
       "    }\n",
       "</style>\n",
       "<table border=\"1\" class=\"dataframe\">\n",
       "  <thead>\n",
       "    <tr>\n",
       "      <th></th>\n",
       "      <th>inning</th>\n",
       "      <th>top</th>\n",
       "      <th>ab_id</th>\n",
       "      <th>g_id</th>\n",
       "      <th>p_score</th>\n",
       "      <th>batter_id</th>\n",
       "      <th>o</th>\n",
       "      <th>b_count</th>\n",
       "      <th>s_count</th>\n",
       "      <th>outs</th>\n",
       "      <th>pitch_num</th>\n",
       "      <th>on_1b</th>\n",
       "      <th>on_2b</th>\n",
       "      <th>on_3b</th>\n",
       "      <th>o_lag</th>\n",
       "      <th>out</th>\n",
       "      <th>pitcher_id</th>\n",
       "      <th>avg_inning</th>\n",
       "    </tr>\n",
       "    <tr>\n",
       "      <th></th>\n",
       "      <th>mean</th>\n",
       "      <th>mean</th>\n",
       "      <th>mean</th>\n",
       "      <th>mean</th>\n",
       "      <th>mean</th>\n",
       "      <th>mean</th>\n",
       "      <th>mean</th>\n",
       "      <th>mean</th>\n",
       "      <th>mean</th>\n",
       "      <th>mean</th>\n",
       "      <th>mean</th>\n",
       "      <th>mean</th>\n",
       "      <th>mean</th>\n",
       "      <th>mean</th>\n",
       "      <th>mean</th>\n",
       "      <th>mean</th>\n",
       "      <th></th>\n",
       "      <th></th>\n",
       "    </tr>\n",
       "    <tr>\n",
       "      <th>pitcher_id</th>\n",
       "      <th></th>\n",
       "      <th></th>\n",
       "      <th></th>\n",
       "      <th></th>\n",
       "      <th></th>\n",
       "      <th></th>\n",
       "      <th></th>\n",
       "      <th></th>\n",
       "      <th></th>\n",
       "      <th></th>\n",
       "      <th></th>\n",
       "      <th></th>\n",
       "      <th></th>\n",
       "      <th></th>\n",
       "      <th></th>\n",
       "      <th></th>\n",
       "      <th></th>\n",
       "      <th></th>\n",
       "    </tr>\n",
       "  </thead>\n",
       "  <tbody>\n",
       "    <tr>\n",
       "      <td>596451</td>\n",
       "      <td>12.161765</td>\n",
       "      <td>1.000000</td>\n",
       "      <td>2.019118e+09</td>\n",
       "      <td>2.019015e+08</td>\n",
       "      <td>2.500000</td>\n",
       "      <td>583321.926471</td>\n",
       "      <td>1.750000</td>\n",
       "      <td>0.955882</td>\n",
       "      <td>0.014706</td>\n",
       "      <td>1.220588</td>\n",
       "      <td>2.691176</td>\n",
       "      <td>0.0</td>\n",
       "      <td>0.0</td>\n",
       "      <td>0.0</td>\n",
       "      <td>1.735294</td>\n",
       "      <td>0.014706</td>\n",
       "      <td>596451</td>\n",
       "      <td>12.161765</td>\n",
       "    </tr>\n",
       "    <tr>\n",
       "      <td>594951</td>\n",
       "      <td>10.619048</td>\n",
       "      <td>0.476190</td>\n",
       "      <td>2.019035e+09</td>\n",
       "      <td>2.019005e+08</td>\n",
       "      <td>1.047619</td>\n",
       "      <td>527810.380952</td>\n",
       "      <td>1.666667</td>\n",
       "      <td>1.095238</td>\n",
       "      <td>0.000000</td>\n",
       "      <td>1.095238</td>\n",
       "      <td>2.428571</td>\n",
       "      <td>0.0</td>\n",
       "      <td>0.0</td>\n",
       "      <td>0.0</td>\n",
       "      <td>1.619048</td>\n",
       "      <td>0.047619</td>\n",
       "      <td>594951</td>\n",
       "      <td>10.619048</td>\n",
       "    </tr>\n",
       "    <tr>\n",
       "      <td>592859</td>\n",
       "      <td>10.370968</td>\n",
       "      <td>0.774194</td>\n",
       "      <td>2.019118e+09</td>\n",
       "      <td>2.019015e+08</td>\n",
       "      <td>5.096774</td>\n",
       "      <td>571716.080645</td>\n",
       "      <td>1.951613</td>\n",
       "      <td>0.435484</td>\n",
       "      <td>0.112903</td>\n",
       "      <td>1.145161</td>\n",
       "      <td>2.274194</td>\n",
       "      <td>0.0</td>\n",
       "      <td>0.0</td>\n",
       "      <td>0.0</td>\n",
       "      <td>1.935484</td>\n",
       "      <td>0.016129</td>\n",
       "      <td>592859</td>\n",
       "      <td>10.370968</td>\n",
       "    </tr>\n",
       "    <tr>\n",
       "      <td>643466</td>\n",
       "      <td>9.805687</td>\n",
       "      <td>0.582938</td>\n",
       "      <td>2.019019e+09</td>\n",
       "      <td>2.019003e+08</td>\n",
       "      <td>4.587678</td>\n",
       "      <td>562685.559242</td>\n",
       "      <td>1.454976</td>\n",
       "      <td>0.928910</td>\n",
       "      <td>0.146919</td>\n",
       "      <td>0.834123</td>\n",
       "      <td>3.080569</td>\n",
       "      <td>0.0</td>\n",
       "      <td>0.0</td>\n",
       "      <td>0.0</td>\n",
       "      <td>1.454976</td>\n",
       "      <td>0.000000</td>\n",
       "      <td>643466</td>\n",
       "      <td>9.805687</td>\n",
       "    </tr>\n",
       "    <tr>\n",
       "      <td>644364</td>\n",
       "      <td>9.617647</td>\n",
       "      <td>0.000000</td>\n",
       "      <td>2.019017e+09</td>\n",
       "      <td>2.019002e+08</td>\n",
       "      <td>4.205882</td>\n",
       "      <td>590925.235294</td>\n",
       "      <td>2.014706</td>\n",
       "      <td>1.029412</td>\n",
       "      <td>0.367647</td>\n",
       "      <td>1.279412</td>\n",
       "      <td>2.941176</td>\n",
       "      <td>0.0</td>\n",
       "      <td>0.0</td>\n",
       "      <td>0.0</td>\n",
       "      <td>1.985294</td>\n",
       "      <td>0.029412</td>\n",
       "      <td>644364</td>\n",
       "      <td>9.617647</td>\n",
       "    </tr>\n",
       "    <tr>\n",
       "      <td>...</td>\n",
       "      <td>...</td>\n",
       "      <td>...</td>\n",
       "      <td>...</td>\n",
       "      <td>...</td>\n",
       "      <td>...</td>\n",
       "      <td>...</td>\n",
       "      <td>...</td>\n",
       "      <td>...</td>\n",
       "      <td>...</td>\n",
       "      <td>...</td>\n",
       "      <td>...</td>\n",
       "      <td>...</td>\n",
       "      <td>...</td>\n",
       "      <td>...</td>\n",
       "      <td>...</td>\n",
       "      <td>...</td>\n",
       "      <td>...</td>\n",
       "      <td>...</td>\n",
       "    </tr>\n",
       "    <tr>\n",
       "      <td>656814</td>\n",
       "      <td>2.325000</td>\n",
       "      <td>1.000000</td>\n",
       "      <td>2.019078e+09</td>\n",
       "      <td>2.019010e+08</td>\n",
       "      <td>0.737500</td>\n",
       "      <td>573940.000000</td>\n",
       "      <td>1.600000</td>\n",
       "      <td>1.200000</td>\n",
       "      <td>0.150000</td>\n",
       "      <td>1.012500</td>\n",
       "      <td>3.412500</td>\n",
       "      <td>0.0</td>\n",
       "      <td>0.0</td>\n",
       "      <td>0.0</td>\n",
       "      <td>1.625000</td>\n",
       "      <td>-0.025000</td>\n",
       "      <td>656814</td>\n",
       "      <td>2.325000</td>\n",
       "    </tr>\n",
       "    <tr>\n",
       "      <td>656756</td>\n",
       "      <td>1.902439</td>\n",
       "      <td>0.000000</td>\n",
       "      <td>2.019176e+09</td>\n",
       "      <td>2.019023e+08</td>\n",
       "      <td>0.865854</td>\n",
       "      <td>600683.609756</td>\n",
       "      <td>1.914634</td>\n",
       "      <td>0.634146</td>\n",
       "      <td>0.268293</td>\n",
       "      <td>1.207317</td>\n",
       "      <td>2.914634</td>\n",
       "      <td>0.0</td>\n",
       "      <td>0.0</td>\n",
       "      <td>0.0</td>\n",
       "      <td>1.914634</td>\n",
       "      <td>0.000000</td>\n",
       "      <td>656756</td>\n",
       "      <td>1.902439</td>\n",
       "    </tr>\n",
       "    <tr>\n",
       "      <td>543219</td>\n",
       "      <td>1.808824</td>\n",
       "      <td>0.000000</td>\n",
       "      <td>2.019086e+09</td>\n",
       "      <td>2.019011e+08</td>\n",
       "      <td>3.000000</td>\n",
       "      <td>601223.264706</td>\n",
       "      <td>1.367647</td>\n",
       "      <td>0.750000</td>\n",
       "      <td>0.235294</td>\n",
       "      <td>0.941176</td>\n",
       "      <td>2.867647</td>\n",
       "      <td>0.0</td>\n",
       "      <td>0.0</td>\n",
       "      <td>0.0</td>\n",
       "      <td>1.397059</td>\n",
       "      <td>-0.029412</td>\n",
       "      <td>543219</td>\n",
       "      <td>1.808824</td>\n",
       "    </tr>\n",
       "    <tr>\n",
       "      <td>643290</td>\n",
       "      <td>1.320000</td>\n",
       "      <td>0.640000</td>\n",
       "      <td>2.019174e+09</td>\n",
       "      <td>2.019023e+08</td>\n",
       "      <td>0.380000</td>\n",
       "      <td>584905.040000</td>\n",
       "      <td>1.340000</td>\n",
       "      <td>1.060000</td>\n",
       "      <td>0.070000</td>\n",
       "      <td>0.790000</td>\n",
       "      <td>3.030000</td>\n",
       "      <td>0.0</td>\n",
       "      <td>0.0</td>\n",
       "      <td>0.0</td>\n",
       "      <td>1.350000</td>\n",
       "      <td>-0.010000</td>\n",
       "      <td>643290</td>\n",
       "      <td>1.320000</td>\n",
       "    </tr>\n",
       "    <tr>\n",
       "      <td>621368</td>\n",
       "      <td>1.000000</td>\n",
       "      <td>0.000000</td>\n",
       "      <td>2.019028e+09</td>\n",
       "      <td>2.019004e+08</td>\n",
       "      <td>0.000000</td>\n",
       "      <td>563521.666667</td>\n",
       "      <td>0.487179</td>\n",
       "      <td>1.102564</td>\n",
       "      <td>0.153846</td>\n",
       "      <td>0.384615</td>\n",
       "      <td>3.384615</td>\n",
       "      <td>0.0</td>\n",
       "      <td>0.0</td>\n",
       "      <td>0.0</td>\n",
       "      <td>0.538462</td>\n",
       "      <td>-0.051282</td>\n",
       "      <td>621368</td>\n",
       "      <td>1.000000</td>\n",
       "    </tr>\n",
       "  </tbody>\n",
       "</table>\n",
       "<p>828 rows × 18 columns</p>\n",
       "</div>"
      ],
      "text/plain": [
       "               inning       top         ab_id          g_id   p_score  \\\n",
       "                 mean      mean          mean          mean      mean   \n",
       "pitcher_id                                                              \n",
       "596451      12.161765  1.000000  2.019118e+09  2.019015e+08  2.500000   \n",
       "594951      10.619048  0.476190  2.019035e+09  2.019005e+08  1.047619   \n",
       "592859      10.370968  0.774194  2.019118e+09  2.019015e+08  5.096774   \n",
       "643466       9.805687  0.582938  2.019019e+09  2.019003e+08  4.587678   \n",
       "644364       9.617647  0.000000  2.019017e+09  2.019002e+08  4.205882   \n",
       "...               ...       ...           ...           ...       ...   \n",
       "656814       2.325000  1.000000  2.019078e+09  2.019010e+08  0.737500   \n",
       "656756       1.902439  0.000000  2.019176e+09  2.019023e+08  0.865854   \n",
       "543219       1.808824  0.000000  2.019086e+09  2.019011e+08  3.000000   \n",
       "643290       1.320000  0.640000  2.019174e+09  2.019023e+08  0.380000   \n",
       "621368       1.000000  0.000000  2.019028e+09  2.019004e+08  0.000000   \n",
       "\n",
       "                batter_id         o   b_count   s_count      outs pitch_num  \\\n",
       "                     mean      mean      mean      mean      mean      mean   \n",
       "pitcher_id                                                                    \n",
       "596451      583321.926471  1.750000  0.955882  0.014706  1.220588  2.691176   \n",
       "594951      527810.380952  1.666667  1.095238  0.000000  1.095238  2.428571   \n",
       "592859      571716.080645  1.951613  0.435484  0.112903  1.145161  2.274194   \n",
       "643466      562685.559242  1.454976  0.928910  0.146919  0.834123  3.080569   \n",
       "644364      590925.235294  2.014706  1.029412  0.367647  1.279412  2.941176   \n",
       "...                   ...       ...       ...       ...       ...       ...   \n",
       "656814      573940.000000  1.600000  1.200000  0.150000  1.012500  3.412500   \n",
       "656756      600683.609756  1.914634  0.634146  0.268293  1.207317  2.914634   \n",
       "543219      601223.264706  1.367647  0.750000  0.235294  0.941176  2.867647   \n",
       "643290      584905.040000  1.340000  1.060000  0.070000  0.790000  3.030000   \n",
       "621368      563521.666667  0.487179  1.102564  0.153846  0.384615  3.384615   \n",
       "\n",
       "           on_1b on_2b on_3b     o_lag       out pitcher_id avg_inning  \n",
       "            mean  mean  mean      mean      mean                        \n",
       "pitcher_id                                                              \n",
       "596451       0.0   0.0   0.0  1.735294  0.014706     596451  12.161765  \n",
       "594951       0.0   0.0   0.0  1.619048  0.047619     594951  10.619048  \n",
       "592859       0.0   0.0   0.0  1.935484  0.016129     592859  10.370968  \n",
       "643466       0.0   0.0   0.0  1.454976  0.000000     643466   9.805687  \n",
       "644364       0.0   0.0   0.0  1.985294  0.029412     644364   9.617647  \n",
       "...          ...   ...   ...       ...       ...        ...        ...  \n",
       "656814       0.0   0.0   0.0  1.625000 -0.025000     656814   2.325000  \n",
       "656756       0.0   0.0   0.0  1.914634  0.000000     656756   1.902439  \n",
       "543219       0.0   0.0   0.0  1.397059 -0.029412     543219   1.808824  \n",
       "643290       0.0   0.0   0.0  1.350000 -0.010000     643290   1.320000  \n",
       "621368       0.0   0.0   0.0  0.538462 -0.051282     621368   1.000000  \n",
       "\n",
       "[828 rows x 18 columns]"
      ]
     },
     "execution_count": 24,
     "metadata": {},
     "output_type": "execute_result"
    }
   ],
   "source": [
    "a_viz1.sort_values('avg_inning', ascending=False)"
   ]
  },
  {
   "cell_type": "code",
   "execution_count": 25,
   "metadata": {},
   "outputs": [],
   "source": [
    "a_viz1 = a_viz1.rename(columns = {'pitcher_id' : 'id'})"
   ]
  },
  {
   "cell_type": "code",
   "execution_count": 26,
   "metadata": {},
   "outputs": [],
   "source": [
    "a_viz2 = a_viz1.head(10)"
   ]
  },
  {
   "cell_type": "code",
   "execution_count": 27,
   "metadata": {},
   "outputs": [
    {
     "name": "stderr",
     "output_type": "stream",
     "text": [
      "C:\\Users\\sikyu\\AppData\\Local\\Continuum\\anaconda3\\lib\\site-packages\\pandas\\core\\reshape\\merge.py:617: UserWarning: merging between different levels can give an unintended result (2 levels on the left, 1 on the right)\n",
      "  warnings.warn(msg, UserWarning)\n"
     ]
    }
   ],
   "source": [
    "a_viz3 = pd.merge(a_viz2, names, how = 'left', on = 'id')"
   ]
  },
  {
   "cell_type": "code",
   "execution_count": 28,
   "metadata": {},
   "outputs": [],
   "source": [
    "a_viz3['avg_inning'] = a_viz3['inning', 'mean']"
   ]
  },
  {
   "cell_type": "code",
   "execution_count": 29,
   "metadata": {},
   "outputs": [],
   "source": [
    "a_viz3 = a_viz3.sort_values('avg_inning', ascending=False)"
   ]
  },
  {
   "cell_type": "markdown",
   "metadata": {},
   "source": [
    "#### Output 1: Top 10 Pitchers with Highest Avg. Innings"
   ]
  },
  {
   "cell_type": "code",
   "execution_count": 30,
   "metadata": {},
   "outputs": [
    {
     "data": {
      "text/plain": [
       "[Text(0, 0.5, 'Avg. Innings'),\n",
       " Text(0.5, 0, 'Pitcher'),\n",
       " Text(0.5, 1.0, 'Top 10 Pitchers with Highest Avg. Innings')]"
      ]
     },
     "execution_count": 30,
     "metadata": {},
     "output_type": "execute_result"
    },
    {
     "data": {
      "image/png": "[encoded data removed]",
      "text/plain": [
       "<Figure size 2160x1080 with 1 Axes>"
      ]
     },
     "metadata": {},
     "output_type": "display_data"
    }
   ],
   "source": [
    "# Barplot of top 10 pitchers with highest avg innings\n",
    "sns.set(font_scale=2) \n",
    "f, ax = plt.subplots(figsize=(30, 15))\n",
    "ax = sns.barplot(x=\"full_name\", y=\"avg_inning\", data=a_viz3)\n",
    "ax.set(ylabel = \"Avg. Innings\", xlabel = \"Pitcher\", title = 'Top 10 Pitchers with Highest Avg. Innings')"
   ]
  },
  {
   "cell_type": "code",
   "execution_count": 31,
   "metadata": {},
   "outputs": [],
   "source": [
    "b_viz1 = a_viz.groupby(by = ['pitch_type'], as_index=False).count()"
   ]
  },
  {
   "cell_type": "code",
   "execution_count": 32,
   "metadata": {},
   "outputs": [],
   "source": [
    "b_viz1['counts'] = b_viz1['inning']"
   ]
  },
  {
   "cell_type": "code",
   "execution_count": 33,
   "metadata": {},
   "outputs": [],
   "source": [
    "b_viz1 = b_viz1.sort_values('counts', ascending = False)"
   ]
  },
  {
   "cell_type": "markdown",
   "metadata": {},
   "source": [
    "#### Output 2: Countplot of Pitch Types Thrown in 2019 Season"
   ]
  },
  {
   "cell_type": "code",
   "execution_count": 34,
   "metadata": {},
   "outputs": [
    {
     "data": {
      "text/plain": [
       "[Text(0, 0.5, 'Total Pitch Count'),\n",
       " Text(0.5, 0, 'Pitch Type'),\n",
       " Text(0.5, 1.0, 'Frequently Thrown Pitches')]"
      ]
     },
     "execution_count": 34,
     "metadata": {},
     "output_type": "execute_result"
    },
    {
     "data": {
      "image/png": "[encoded data removed]",
      "text/plain": [
       "<Figure size 2160x1080 with 1 Axes>"
      ]
     },
     "metadata": {},
     "output_type": "display_data"
    }
   ],
   "source": [
    "# Barplot of frequently thrown pitches in MLB 2019 season\n",
    "sns.set(font_scale=3) \n",
    "f, ax = plt.subplots(figsize=(30, 15))\n",
    "ax = sns.barplot(x=\"pitch_type\", y=\"counts\", data=b_viz1)\n",
    "ax.set(ylabel = \"Total Pitch Count\", xlabel = \"Pitch Type\", title = 'Frequently Thrown Pitches')"
   ]
  },
  {
   "cell_type": "code",
   "execution_count": 35,
   "metadata": {},
   "outputs": [],
   "source": [
    "pitch_out = a_viz.groupby(by = ['pitch_type'], as_index = False).sum()"
   ]
  },
  {
   "cell_type": "code",
   "execution_count": 36,
   "metadata": {},
   "outputs": [],
   "source": [
    "pitch_out_viz = pitch_out[['pitch_type', 'out']]"
   ]
  },
  {
   "cell_type": "code",
   "execution_count": 37,
   "metadata": {},
   "outputs": [],
   "source": [
    "pitch_out_viz = pitch_out_viz.sort_values('out')"
   ]
  },
  {
   "cell_type": "markdown",
   "metadata": {},
   "source": [
    "#### Output 3: Pitch Types that Converted an Out"
   ]
  },
  {
   "cell_type": "code",
   "execution_count": 38,
   "metadata": {},
   "outputs": [
    {
     "data": {
      "text/plain": [
       "[Text(0, 0.5, 'Total Outs Made'),\n",
       " Text(0.5, 0, 'Pitch Type'),\n",
       " Text(0.5, 1.0, 'Total Outs Converted by Pitch Types')]"
      ]
     },
     "execution_count": 38,
     "metadata": {},
     "output_type": "execute_result"
    },
    {
     "data": {
      "image/png": "[encoded data removed]",
      "text/plain": [
       "<Figure size 2160x2160 with 1 Axes>"
      ]
     },
     "metadata": {},
     "output_type": "display_data"
    }
   ],
   "source": [
    "# Barplot of frequently thrown pitches in MLB 2019 season\n",
    "sns.set(font_scale=3) \n",
    "f, ax = plt.subplots(figsize=(30, 30))\n",
    "ax = sns.barplot(x=\"pitch_type\", y=\"out\", data=pitch_out_viz)\n",
    "ax.set(ylabel = \"Total Outs Made\", xlabel = \"Pitch Type\", title = 'Total Outs Converted by Pitch Types')"
   ]
  },
  {
   "cell_type": "markdown",
   "metadata": {},
   "source": [
    "#### 4. Analysis "
   ]
  },
  {
   "cell_type": "markdown",
   "metadata": {},
   "source": [
    "#### 4-1. Comparing Speed Changes by Pitch Type to Strikes\n",
    "For each pitch type:\n",
    "- How much does speed change? (This may be obvious for some types)\n",
    "- How does the change of speed affect the number of strikes? (compared to balls, outs)"
   ]
  },
  {
   "cell_type": "code",
   "execution_count": 39,
   "metadata": {},
   "outputs": [],
   "source": [
    "speed = joined_atbats[['inning','ab_id','g_id','batter_id','pitcher_id','event','start_speed','end_speed','spin_rate','spin_dir',\n",
    "               'break_angle','break_length','break_y','ax','ay','az','zone','pitch_type','b_score','b_count',\n",
    "               's_count','outs','pitch_num','on_1b','on_2b','on_3b']]"
   ]
  },
  {
   "cell_type": "code",
   "execution_count": 40,
   "metadata": {},
   "outputs": [
    {
     "name": "stderr",
     "output_type": "stream",
     "text": [
      "C:\\Users\\sikyu\\AppData\\Local\\Continuum\\anaconda3\\lib\\site-packages\\ipykernel_launcher.py:1: SettingWithCopyWarning: \n",
      "A value is trying to be set on a copy of a slice from a DataFrame.\n",
      "Try using .loc[row_indexer,col_indexer] = value instead\n",
      "\n",
      "See the caveats in the documentation: http://pandas.pydata.org/pandas-docs/stable/user_guide/indexing.html#returning-a-view-versus-a-copy\n",
      "  \"\"\"Entry point for launching an IPython kernel.\n"
     ]
    }
   ],
   "source": [
    "speed['out'] = speed['outs'] - speed['outs'].shift(1)\n",
    "#a_viz['out'] = a_viz['o'] - a_viz['o_lag']\n",
    "#a_viz1 = a_viz['o_lag'] = a_viz['o'].shift(1)"
   ]
  },
  {
   "cell_type": "code",
   "execution_count": 41,
   "metadata": {},
   "outputs": [
    {
     "name": "stderr",
     "output_type": "stream",
     "text": [
      "C:\\Users\\sikyu\\AppData\\Local\\Continuum\\anaconda3\\lib\\site-packages\\ipykernel_launcher.py:1: SettingWithCopyWarning: \n",
      "A value is trying to be set on a copy of a slice from a DataFrame.\n",
      "Try using .loc[row_indexer,col_indexer] = value instead\n",
      "\n",
      "See the caveats in the documentation: http://pandas.pydata.org/pandas-docs/stable/user_guide/indexing.html#returning-a-view-versus-a-copy\n",
      "  \"\"\"Entry point for launching an IPython kernel.\n"
     ]
    }
   ],
   "source": [
    "speed['change_speed'] = speed['start_speed'] - speed['end_speed']"
   ]
  },
  {
   "cell_type": "code",
   "execution_count": 42,
   "metadata": {},
   "outputs": [],
   "source": [
    "#change of speed per pitcher per game\n",
    "speed_change_pitcher_game = speed.groupby(by = ['g_id','pitcher_id','pitch_type','event'])['change_speed'].mean()"
   ]
  },
  {
   "cell_type": "code",
   "execution_count": 44,
   "metadata": {},
   "outputs": [],
   "source": [
    "speed_viz1 = speed_change_pitcher_game.reset_index()\n",
    "\n",
    "#df.pivot_table(index='number', columns='class').swaplevel(axis=1).sort_index(1)#"
   ]
  },
  {
   "cell_type": "code",
   "execution_count": 45,
   "metadata": {},
   "outputs": [],
   "source": [
    "speed_viz2 = speed.groupby(by = ['event'],as_index=False)['change_speed'].agg([np.mean]).reset_index()"
   ]
  },
  {
   "cell_type": "code",
   "execution_count": 46,
   "metadata": {},
   "outputs": [],
   "source": [
    "event_count = speed.groupby(by = ['event'],as_index=False).count().reset_index()"
   ]
  },
  {
   "cell_type": "code",
   "execution_count": 47,
   "metadata": {},
   "outputs": [],
   "source": [
    "event_count = event_count[['event','outs']]"
   ]
  },
  {
   "cell_type": "code",
   "execution_count": 48,
   "metadata": {},
   "outputs": [],
   "source": [
    "event_count['counts'] = event_count['outs']"
   ]
  },
  {
   "cell_type": "code",
   "execution_count": 49,
   "metadata": {},
   "outputs": [],
   "source": [
    "speed_viz2['event_cleaned'] = 0\n",
    "\n",
    "speed_viz2.loc[0, 'event_cleaned'] = \"Out\"\n",
    "speed_viz2.loc[1, 'event_cleaned'] = \"Out\"\n",
    "speed_viz2.loc[2, 'event_cleaned'] = \"Out\"\n",
    "speed_viz2.loc[3, 'event_cleaned'] = \"Out\"\n",
    "speed_viz2.loc[4, 'event_cleaned'] = \"Not Out\"\n",
    "speed_viz2.loc[5, 'event_cleaned'] = \"Out\"\n",
    "speed_viz2.loc[6, 'event_cleaned'] = \"Out\"\n",
    "speed_viz2.loc[7, 'event_cleaned'] = \"Out\"\n",
    "speed_viz2.loc[8, 'event_cleaned'] = \"Not Out\"\n",
    "speed_viz2.loc[9, 'event_cleaned'] = \"Out\"\n",
    "speed_viz2.loc[10, 'event_cleaned'] = \"Not Out\"\n",
    "speed_viz2.loc[11, 'event_cleaned'] = \"Not Out\"\n",
    "speed_viz2.loc[12, 'event_cleaned'] = \"Out\"\n",
    "speed_viz2.loc[13, 'event_cleaned'] = \"Out\"\n",
    "speed_viz2.loc[14, 'event_cleaned'] = \"Out\"\n",
    "speed_viz2.loc[15, 'event_cleaned'] = \"Out\"\n",
    "speed_viz2.loc[16, 'event_cleaned'] = \"Not Out\"\n",
    "speed_viz2.loc[17, 'event_cleaned'] = \"Out\"\n",
    "speed_viz2.loc[18, 'event_cleaned'] = \"Out\"\n",
    "speed_viz2.loc[19, 'event_cleaned'] = \"Not Out\"\n",
    "speed_viz2.loc[20, 'event_cleaned'] = \"Not Out\"\n",
    "speed_viz2.loc[21, 'event_cleaned'] = \"Not Out\"\n",
    "speed_viz2.loc[22, 'event_cleaned'] = \"Out\"\n",
    "speed_viz2.loc[23, 'event_cleaned'] = \"Not Out\"\n",
    "speed_viz2.loc[24, 'event_cleaned'] = \"Out\"\n",
    "speed_viz2.loc[25, 'event_cleaned'] = \"Out\"\n",
    "speed_viz2.loc[26, 'event_cleaned'] = \"Out\"\n",
    "speed_viz2.loc[27, 'event_cleaned'] = \"Out\"\n",
    "speed_viz2.loc[28, 'event_cleaned'] = \"Out\"\n",
    "speed_viz2.loc[29, 'event_cleaned'] = \"Out\"\n",
    "speed_viz2.loc[30, 'event_cleaned'] = \"Not Out\"\n",
    "speed_viz2.loc[31, 'event_cleaned'] = \"Out\"\n",
    "speed_viz2.loc[32, 'event_cleaned'] = \"Out\"\n",
    "speed_viz2.loc[33, 'event_cleaned'] = \"Out\"\n",
    "speed_viz2.loc[34, 'event_cleaned'] = \"Out\"\n",
    "speed_viz2.loc[35, 'event_cleaned'] = \"Out\"\n",
    "speed_viz2.loc[36, 'event_cleaned'] = \"Out\"\n",
    "speed_viz2.loc[37, 'event_cleaned'] = \"Out\"\n",
    "speed_viz2.loc[38, 'event_cleaned'] = \"Not Out\"\n",
    "speed_viz2.loc[39, 'event_cleaned'] = \"Not Out\"\n",
    "speed_viz2.loc[40, 'event_cleaned'] = \"Out\"\n",
    "speed_viz2.loc[41, 'event_cleaned'] = \"Out\"\n",
    "speed_viz2.loc[42, 'event_cleaned'] = \"Not Out\"\n",
    "speed_viz2.loc[43, 'event_cleaned'] = \"Out\"\n",
    "speed_viz2.loc[44, 'event_cleaned'] = \"Not Out\"\n",
    "speed_viz2.loc[45, 'event_cleaned'] = \"Not Out\""
   ]
  },
  {
   "cell_type": "code",
   "execution_count": 50,
   "metadata": {},
   "outputs": [],
   "source": [
    "speed_viz3 = pd.merge(speed_viz2, event_count, how=\"left\", on ='event')"
   ]
  },
  {
   "cell_type": "code",
   "execution_count": 51,
   "metadata": {},
   "outputs": [],
   "source": [
    "speed_viz3.drop(columns = ['outs'], inplace=True)"
   ]
  },
  {
   "cell_type": "code",
   "execution_count": 52,
   "metadata": {},
   "outputs": [
    {
     "data": {
      "text/html": [
       "<div>\n",
       "<style scoped>\n",
       "    .dataframe tbody tr th:only-of-type {\n",
       "        vertical-align: middle;\n",
       "    }\n",
       "\n",
       "    .dataframe tbody tr th {\n",
       "        vertical-align: top;\n",
       "    }\n",
       "\n",
       "    .dataframe thead th {\n",
       "        text-align: right;\n",
       "    }\n",
       "</style>\n",
       "<table border=\"1\" class=\"dataframe\">\n",
       "  <thead>\n",
       "    <tr style=\"text-align: right;\">\n",
       "      <th></th>\n",
       "      <th>event</th>\n",
       "      <th>mean</th>\n",
       "      <th>event_cleaned</th>\n",
       "      <th>counts</th>\n",
       "    </tr>\n",
       "  </thead>\n",
       "  <tbody>\n",
       "    <tr>\n",
       "      <td>16</td>\n",
       "      <td>Game Advisory</td>\n",
       "      <td>7.84000</td>\n",
       "      <td>Not Out</td>\n",
       "      <td>5</td>\n",
       "    </tr>\n",
       "    <tr>\n",
       "      <td>29</td>\n",
       "      <td>Pickoff Caught Stealing Home</td>\n",
       "      <td>7.55000</td>\n",
       "      <td>Out</td>\n",
       "      <td>14</td>\n",
       "    </tr>\n",
       "    <tr>\n",
       "      <td>25</td>\n",
       "      <td>Pickoff 2B</td>\n",
       "      <td>7.42381</td>\n",
       "      <td>Out</td>\n",
       "      <td>21</td>\n",
       "    </tr>\n",
       "    <tr>\n",
       "      <td>30</td>\n",
       "      <td>Pickoff Error 1B</td>\n",
       "      <td>7.30000</td>\n",
       "      <td>Not Out</td>\n",
       "      <td>2</td>\n",
       "    </tr>\n",
       "    <tr>\n",
       "      <td>3</td>\n",
       "      <td>Bunt Pop Out</td>\n",
       "      <td>7.23172</td>\n",
       "      <td>Out</td>\n",
       "      <td>186</td>\n",
       "    </tr>\n",
       "  </tbody>\n",
       "</table>\n",
       "</div>"
      ],
      "text/plain": [
       "                           event     mean event_cleaned  counts\n",
       "16                 Game Advisory  7.84000       Not Out       5\n",
       "29  Pickoff Caught Stealing Home  7.55000           Out      14\n",
       "25                    Pickoff 2B  7.42381           Out      21\n",
       "30              Pickoff Error 1B  7.30000       Not Out       2\n",
       "3                   Bunt Pop Out  7.23172           Out     186"
      ]
     },
     "execution_count": 52,
     "metadata": {},
     "output_type": "execute_result"
    }
   ],
   "source": [
    "speed_viz3.sort_values('mean',ascending=False).head()"
   ]
  },
  {
   "cell_type": "code",
   "execution_count": 53,
   "metadata": {},
   "outputs": [
    {
     "data": {
      "text/plain": [
       "[Text(0.5, 0, 'Events')]"
      ]
     },
     "execution_count": 53,
     "metadata": {},
     "output_type": "execute_result"
    },
    {
     "data": {
      "image/png": "[encoded data removed]",
      "text/plain": [
       "<Figure size 2160x1080 with 1 Axes>"
      ]
     },
     "metadata": {},
     "output_type": "display_data"
    }
   ],
   "source": [
    "# Barplot of frequently thrown pitches in MLB 2019 season\n",
    "\n",
    "sns.set(font_scale=3) \n",
    "f, ax = plt.subplots(figsize=(30, 15))\n",
    "ax = sns.barplot(x=\"event\", y=\"mean\", data=speed_viz3, hue = 'event_cleaned')\n",
    "ax.set(ylabel = \"Total Count of Events\", title = 'Number of Events')\n",
    "ax.set_xticklabels(labels = speed_viz3['event'], rotation=45, fontsize=14)\n",
    "ax.set(xlabel = \"Events\")\n",
    "\n",
    "#Seems as though there isn't any big difference between speed change in Outs and Not Out results"
   ]
  },
  {
   "cell_type": "markdown",
   "metadata": {},
   "source": [
    "### Part 2: Building Functions to Automatically Calculate Player Stats\n",
    "1. Average Pitches thrown per game + visualization per pitcher per game\n",
    "2. Average Strikes and Balls + Ratio by pitcher per game + visualization\n",
    "3. Average Ground balls, Fly balls, Hits, On-base, Outs/On-Base Ratio by pitcher per game + visualization\n",
    "4. Average Start_speed and End_speed, Start_speed:End_speed Ratio by Pitcher per game\n",
    "5. Ranking pitchers by above metrics (e.g.: top 10, by team)\n"
   ]
  },
  {
   "cell_type": "code",
   "execution_count": 100,
   "metadata": {},
   "outputs": [],
   "source": [
    "#1. Avg. pitches thrown per game by pitcher\n",
    "#Group by game_id, count pitches grouped pitcher\n",
    "#Output: Total Pitches thrown by pitcher per game\n",
    "total_pitches_pitcher = joined_atbats.groupby(by = ['g_id','pitcher_id'], as_index=False)['batter_id'].agg([np.count_nonzero]).reset_index()\n",
    "total_pitches_pitcher = total_pitches_pitcher.sort_values(['g_id','count_nonzero','pitcher_id'], ascending=[True, False,True])"
   ]
  },
  {
   "cell_type": "code",
   "execution_count": 101,
   "metadata": {},
   "outputs": [
    {
     "data": {
      "text/html": [
       "<div>\n",
       "<style scoped>\n",
       "    .dataframe tbody tr th:only-of-type {\n",
       "        vertical-align: middle;\n",
       "    }\n",
       "\n",
       "    .dataframe tbody tr th {\n",
       "        vertical-align: top;\n",
       "    }\n",
       "\n",
       "    .dataframe thead th {\n",
       "        text-align: right;\n",
       "    }\n",
       "</style>\n",
       "<table border=\"1\" class=\"dataframe\">\n",
       "  <thead>\n",
       "    <tr style=\"text-align: right;\">\n",
       "      <th></th>\n",
       "      <th>g_id</th>\n",
       "      <th>pitcher_id</th>\n",
       "      <th>count_nonzero</th>\n",
       "    </tr>\n",
       "  </thead>\n",
       "  <tbody>\n",
       "    <tr>\n",
       "      <td>0</td>\n",
       "      <td>201900001.0</td>\n",
       "      <td>502239</td>\n",
       "      <td>86</td>\n",
       "    </tr>\n",
       "    <tr>\n",
       "      <td>1</td>\n",
       "      <td>201900066.0</td>\n",
       "      <td>502239</td>\n",
       "      <td>83</td>\n",
       "    </tr>\n",
       "    <tr>\n",
       "      <td>2</td>\n",
       "      <td>201900144.0</td>\n",
       "      <td>502239</td>\n",
       "      <td>90</td>\n",
       "    </tr>\n",
       "    <tr>\n",
       "      <td>3</td>\n",
       "      <td>201900230.0</td>\n",
       "      <td>502239</td>\n",
       "      <td>71</td>\n",
       "    </tr>\n",
       "    <tr>\n",
       "      <td>4</td>\n",
       "      <td>201900304.0</td>\n",
       "      <td>502239</td>\n",
       "      <td>95</td>\n",
       "    </tr>\n",
       "    <tr>\n",
       "      <td>5</td>\n",
       "      <td>201900369.0</td>\n",
       "      <td>502239</td>\n",
       "      <td>93</td>\n",
       "    </tr>\n",
       "    <tr>\n",
       "      <td>6</td>\n",
       "      <td>201900478.0</td>\n",
       "      <td>502239</td>\n",
       "      <td>68</td>\n",
       "    </tr>\n",
       "    <tr>\n",
       "      <td>7</td>\n",
       "      <td>201900555.0</td>\n",
       "      <td>502239</td>\n",
       "      <td>78</td>\n",
       "    </tr>\n",
       "    <tr>\n",
       "      <td>8</td>\n",
       "      <td>201900620.0</td>\n",
       "      <td>502239</td>\n",
       "      <td>84</td>\n",
       "    </tr>\n",
       "    <tr>\n",
       "      <td>9</td>\n",
       "      <td>201900707.0</td>\n",
       "      <td>502239</td>\n",
       "      <td>90</td>\n",
       "    </tr>\n",
       "    <tr>\n",
       "      <td>10</td>\n",
       "      <td>201900782.0</td>\n",
       "      <td>502239</td>\n",
       "      <td>85</td>\n",
       "    </tr>\n",
       "    <tr>\n",
       "      <td>11</td>\n",
       "      <td>201900879.0</td>\n",
       "      <td>502239</td>\n",
       "      <td>73</td>\n",
       "    </tr>\n",
       "    <tr>\n",
       "      <td>12</td>\n",
       "      <td>201901185.0</td>\n",
       "      <td>502239</td>\n",
       "      <td>28</td>\n",
       "    </tr>\n",
       "    <tr>\n",
       "      <td>13</td>\n",
       "      <td>201901230.0</td>\n",
       "      <td>502239</td>\n",
       "      <td>39</td>\n",
       "    </tr>\n",
       "    <tr>\n",
       "      <td>14</td>\n",
       "      <td>201901257.0</td>\n",
       "      <td>502239</td>\n",
       "      <td>33</td>\n",
       "    </tr>\n",
       "  </tbody>\n",
       "</table>\n",
       "</div>"
      ],
      "text/plain": [
       "           g_id  pitcher_id  count_nonzero\n",
       "0   201900001.0      502239             86\n",
       "1   201900066.0      502239             83\n",
       "2   201900144.0      502239             90\n",
       "3   201900230.0      502239             71\n",
       "4   201900304.0      502239             95\n",
       "5   201900369.0      502239             93\n",
       "6   201900478.0      502239             68\n",
       "7   201900555.0      502239             78\n",
       "8   201900620.0      502239             84\n",
       "9   201900707.0      502239             90\n",
       "10  201900782.0      502239             85\n",
       "11  201900879.0      502239             73\n",
       "12  201901185.0      502239             28\n",
       "13  201901230.0      502239             39\n",
       "14  201901257.0      502239             33"
      ]
     },
     "execution_count": 101,
     "metadata": {},
     "output_type": "execute_result"
    }
   ],
   "source": [
    "total_pitches_pitcher.head(15)"
   ]
  },
  {
   "cell_type": "code",
   "execution_count": 102,
   "metadata": {},
   "outputs": [
    {
     "data": {
      "text/html": [
       "<div>\n",
       "<style scoped>\n",
       "    .dataframe tbody tr th:only-of-type {\n",
       "        vertical-align: middle;\n",
       "    }\n",
       "\n",
       "    .dataframe tbody tr th {\n",
       "        vertical-align: top;\n",
       "    }\n",
       "\n",
       "    .dataframe thead th {\n",
       "        text-align: right;\n",
       "    }\n",
       "</style>\n",
       "<table border=\"1\" class=\"dataframe\">\n",
       "  <thead>\n",
       "    <tr style=\"text-align: right;\">\n",
       "      <th></th>\n",
       "      <th>g_id</th>\n",
       "      <th>pitcher_id</th>\n",
       "      <th>count_nonzero</th>\n",
       "    </tr>\n",
       "  </thead>\n",
       "  <tbody>\n",
       "    <tr>\n",
       "      <td>0</td>\n",
       "      <td>201900001.0</td>\n",
       "      <td>502239</td>\n",
       "      <td>86</td>\n",
       "    </tr>\n",
       "    <tr>\n",
       "      <td>1</td>\n",
       "      <td>201900066.0</td>\n",
       "      <td>502239</td>\n",
       "      <td>83</td>\n",
       "    </tr>\n",
       "    <tr>\n",
       "      <td>2</td>\n",
       "      <td>201900144.0</td>\n",
       "      <td>502239</td>\n",
       "      <td>90</td>\n",
       "    </tr>\n",
       "    <tr>\n",
       "      <td>3</td>\n",
       "      <td>201900230.0</td>\n",
       "      <td>502239</td>\n",
       "      <td>71</td>\n",
       "    </tr>\n",
       "    <tr>\n",
       "      <td>4</td>\n",
       "      <td>201900304.0</td>\n",
       "      <td>502239</td>\n",
       "      <td>95</td>\n",
       "    </tr>\n",
       "  </tbody>\n",
       "</table>\n",
       "</div>"
      ],
      "text/plain": [
       "          g_id  pitcher_id  count_nonzero\n",
       "0  201900001.0      502239             86\n",
       "1  201900066.0      502239             83\n",
       "2  201900144.0      502239             90\n",
       "3  201900230.0      502239             71\n",
       "4  201900304.0      502239             95"
      ]
     },
     "execution_count": 102,
     "metadata": {},
     "output_type": "execute_result"
    }
   ],
   "source": [
    "#example for one pitcher for all games\n",
    "total_pitches_pitcher[total_pitches_pitcher['pitcher_id'] == 502239].sort_values(['g_id','count_nonzero'], ascending=[True, False]).head(5)"
   ]
  },
  {
   "cell_type": "code",
   "execution_count": 57,
   "metadata": {},
   "outputs": [],
   "source": [
    "#speed_viz3 = pd.merge(speed_viz2, event_count, how=\"left\", on ='event')\n",
    "# Average pitches thrown over all games (season)\n",
    "# Output: Average pitches thrown per game\n",
    "avg_pitches_pitcher = total_pitches_pitcher.groupby(['pitcher_id'], as_index=False)['count_nonzero'].agg([np.sum]).reset_index()\n",
    "avg_pitches_pitcher = avg_pitches_pitcher.sort_values(['sum'], ascending=False)"
   ]
  },
  {
   "cell_type": "code",
   "execution_count": 91,
   "metadata": {},
   "outputs": [
    {
     "data": {
      "text/html": [
       "<div>\n",
       "<style scoped>\n",
       "    .dataframe tbody tr th:only-of-type {\n",
       "        vertical-align: middle;\n",
       "    }\n",
       "\n",
       "    .dataframe tbody tr th {\n",
       "        vertical-align: top;\n",
       "    }\n",
       "\n",
       "    .dataframe thead th {\n",
       "        text-align: right;\n",
       "    }\n",
       "</style>\n",
       "<table border=\"1\" class=\"dataframe\">\n",
       "  <thead>\n",
       "    <tr style=\"text-align: right;\">\n",
       "      <th></th>\n",
       "      <th>g_id</th>\n",
       "      <th>inning</th>\n",
       "      <th>batter_id</th>\n",
       "      <th>pitch_num_x</th>\n",
       "    </tr>\n",
       "  </thead>\n",
       "  <tbody>\n",
       "    <tr>\n",
       "      <td>51</td>\n",
       "      <td>201900001.0</td>\n",
       "      <td>1.0</td>\n",
       "      <td>543257</td>\n",
       "      <td>1.0</td>\n",
       "    </tr>\n",
       "    <tr>\n",
       "      <td>52</td>\n",
       "      <td>201900001.0</td>\n",
       "      <td>1.0</td>\n",
       "      <td>543257</td>\n",
       "      <td>1.0</td>\n",
       "    </tr>\n",
       "    <tr>\n",
       "      <td>53</td>\n",
       "      <td>201900001.0</td>\n",
       "      <td>1.0</td>\n",
       "      <td>543257</td>\n",
       "      <td>2.0</td>\n",
       "    </tr>\n",
       "    <tr>\n",
       "      <td>54</td>\n",
       "      <td>201900001.0</td>\n",
       "      <td>1.0</td>\n",
       "      <td>543257</td>\n",
       "      <td>2.0</td>\n",
       "    </tr>\n",
       "    <tr>\n",
       "      <td>55</td>\n",
       "      <td>201900001.0</td>\n",
       "      <td>1.0</td>\n",
       "      <td>656305</td>\n",
       "      <td>1.0</td>\n",
       "    </tr>\n",
       "    <tr>\n",
       "      <td>56</td>\n",
       "      <td>201900001.0</td>\n",
       "      <td>1.0</td>\n",
       "      <td>656305</td>\n",
       "      <td>1.0</td>\n",
       "    </tr>\n",
       "    <tr>\n",
       "      <td>57</td>\n",
       "      <td>201900001.0</td>\n",
       "      <td>1.0</td>\n",
       "      <td>656305</td>\n",
       "      <td>1.0</td>\n",
       "    </tr>\n",
       "    <tr>\n",
       "      <td>58</td>\n",
       "      <td>201900001.0</td>\n",
       "      <td>1.0</td>\n",
       "      <td>656305</td>\n",
       "      <td>2.0</td>\n",
       "    </tr>\n",
       "    <tr>\n",
       "      <td>59</td>\n",
       "      <td>201900001.0</td>\n",
       "      <td>1.0</td>\n",
       "      <td>656305</td>\n",
       "      <td>2.0</td>\n",
       "    </tr>\n",
       "    <tr>\n",
       "      <td>60</td>\n",
       "      <td>201900001.0</td>\n",
       "      <td>1.0</td>\n",
       "      <td>656305</td>\n",
       "      <td>2.0</td>\n",
       "    </tr>\n",
       "    <tr>\n",
       "      <td>61</td>\n",
       "      <td>201900001.0</td>\n",
       "      <td>1.0</td>\n",
       "      <td>656305</td>\n",
       "      <td>3.0</td>\n",
       "    </tr>\n",
       "    <tr>\n",
       "      <td>62</td>\n",
       "      <td>201900001.0</td>\n",
       "      <td>1.0</td>\n",
       "      <td>656305</td>\n",
       "      <td>3.0</td>\n",
       "    </tr>\n",
       "    <tr>\n",
       "      <td>63</td>\n",
       "      <td>201900001.0</td>\n",
       "      <td>1.0</td>\n",
       "      <td>656305</td>\n",
       "      <td>3.0</td>\n",
       "    </tr>\n",
       "    <tr>\n",
       "      <td>64</td>\n",
       "      <td>201900001.0</td>\n",
       "      <td>1.0</td>\n",
       "      <td>572039</td>\n",
       "      <td>1.0</td>\n",
       "    </tr>\n",
       "    <tr>\n",
       "      <td>65</td>\n",
       "      <td>201900001.0</td>\n",
       "      <td>1.0</td>\n",
       "      <td>572039</td>\n",
       "      <td>1.0</td>\n",
       "    </tr>\n",
       "    <tr>\n",
       "      <td>66</td>\n",
       "      <td>201900001.0</td>\n",
       "      <td>1.0</td>\n",
       "      <td>572039</td>\n",
       "      <td>1.0</td>\n",
       "    </tr>\n",
       "    <tr>\n",
       "      <td>67</td>\n",
       "      <td>201900001.0</td>\n",
       "      <td>1.0</td>\n",
       "      <td>572039</td>\n",
       "      <td>2.0</td>\n",
       "    </tr>\n",
       "    <tr>\n",
       "      <td>68</td>\n",
       "      <td>201900001.0</td>\n",
       "      <td>1.0</td>\n",
       "      <td>572039</td>\n",
       "      <td>2.0</td>\n",
       "    </tr>\n",
       "    <tr>\n",
       "      <td>69</td>\n",
       "      <td>201900001.0</td>\n",
       "      <td>1.0</td>\n",
       "      <td>572039</td>\n",
       "      <td>2.0</td>\n",
       "    </tr>\n",
       "    <tr>\n",
       "      <td>70</td>\n",
       "      <td>201900001.0</td>\n",
       "      <td>1.0</td>\n",
       "      <td>572039</td>\n",
       "      <td>3.0</td>\n",
       "    </tr>\n",
       "  </tbody>\n",
       "</table>\n",
       "</div>"
      ],
      "text/plain": [
       "           g_id  inning  batter_id  pitch_num_x\n",
       "51  201900001.0     1.0     543257          1.0\n",
       "52  201900001.0     1.0     543257          1.0\n",
       "53  201900001.0     1.0     543257          2.0\n",
       "54  201900001.0     1.0     543257          2.0\n",
       "55  201900001.0     1.0     656305          1.0\n",
       "56  201900001.0     1.0     656305          1.0\n",
       "57  201900001.0     1.0     656305          1.0\n",
       "58  201900001.0     1.0     656305          2.0\n",
       "59  201900001.0     1.0     656305          2.0\n",
       "60  201900001.0     1.0     656305          2.0\n",
       "61  201900001.0     1.0     656305          3.0\n",
       "62  201900001.0     1.0     656305          3.0\n",
       "63  201900001.0     1.0     656305          3.0\n",
       "64  201900001.0     1.0     572039          1.0\n",
       "65  201900001.0     1.0     572039          1.0\n",
       "66  201900001.0     1.0     572039          1.0\n",
       "67  201900001.0     1.0     572039          2.0\n",
       "68  201900001.0     1.0     572039          2.0\n",
       "69  201900001.0     1.0     572039          2.0\n",
       "70  201900001.0     1.0     572039          3.0"
      ]
     },
     "execution_count": 91,
     "metadata": {},
     "output_type": "execute_result"
    }
   ],
   "source": [
    "joined_atbats[['g_id','inning','batter_id','pitch_num_x']].head(20)"
   ]
  },
  {
   "cell_type": "code",
   "execution_count": 103,
   "metadata": {},
   "outputs": [
    {
     "data": {
      "text/html": [
       "<div>\n",
       "<style scoped>\n",
       "    .dataframe tbody tr th:only-of-type {\n",
       "        vertical-align: middle;\n",
       "    }\n",
       "\n",
       "    .dataframe tbody tr th {\n",
       "        vertical-align: top;\n",
       "    }\n",
       "\n",
       "    .dataframe thead th {\n",
       "        text-align: right;\n",
       "    }\n",
       "</style>\n",
       "<table border=\"1\" class=\"dataframe\">\n",
       "  <thead>\n",
       "    <tr style=\"text-align: right;\">\n",
       "      <th></th>\n",
       "      <th>date</th>\n",
       "      <th>pitcher_id</th>\n",
       "      <th>count_nonzero</th>\n",
       "    </tr>\n",
       "  </thead>\n",
       "  <tbody>\n",
       "    <tr>\n",
       "      <td>0</td>\n",
       "      <td>2019-03-28</td>\n",
       "      <td>502239</td>\n",
       "      <td>86</td>\n",
       "    </tr>\n",
       "    <tr>\n",
       "      <td>1</td>\n",
       "      <td>2019-04-02</td>\n",
       "      <td>502239</td>\n",
       "      <td>83</td>\n",
       "    </tr>\n",
       "    <tr>\n",
       "      <td>2</td>\n",
       "      <td>2019-04-08</td>\n",
       "      <td>502239</td>\n",
       "      <td>90</td>\n",
       "    </tr>\n",
       "    <tr>\n",
       "      <td>3</td>\n",
       "      <td>2019-04-15</td>\n",
       "      <td>502239</td>\n",
       "      <td>71</td>\n",
       "    </tr>\n",
       "    <tr>\n",
       "      <td>4</td>\n",
       "      <td>2019-04-20</td>\n",
       "      <td>502239</td>\n",
       "      <td>95</td>\n",
       "    </tr>\n",
       "    <tr>\n",
       "      <td>5</td>\n",
       "      <td>2019-04-25</td>\n",
       "      <td>502239</td>\n",
       "      <td>93</td>\n",
       "    </tr>\n",
       "    <tr>\n",
       "      <td>6</td>\n",
       "      <td>2019-05-04</td>\n",
       "      <td>502239</td>\n",
       "      <td>68</td>\n",
       "    </tr>\n",
       "    <tr>\n",
       "      <td>7</td>\n",
       "      <td>2019-05-10</td>\n",
       "      <td>502239</td>\n",
       "      <td>78</td>\n",
       "    </tr>\n",
       "    <tr>\n",
       "      <td>8</td>\n",
       "      <td>2019-05-15</td>\n",
       "      <td>502239</td>\n",
       "      <td>84</td>\n",
       "    </tr>\n",
       "    <tr>\n",
       "      <td>9</td>\n",
       "      <td>2019-05-21</td>\n",
       "      <td>502239</td>\n",
       "      <td>90</td>\n",
       "    </tr>\n",
       "    <tr>\n",
       "      <td>10</td>\n",
       "      <td>2019-05-27</td>\n",
       "      <td>502239</td>\n",
       "      <td>85</td>\n",
       "    </tr>\n",
       "    <tr>\n",
       "      <td>11</td>\n",
       "      <td>2019-06-03</td>\n",
       "      <td>502239</td>\n",
       "      <td>73</td>\n",
       "    </tr>\n",
       "    <tr>\n",
       "      <td>12</td>\n",
       "      <td>2019-06-26</td>\n",
       "      <td>502239</td>\n",
       "      <td>28</td>\n",
       "    </tr>\n",
       "    <tr>\n",
       "      <td>13</td>\n",
       "      <td>2019-06-29</td>\n",
       "      <td>502239</td>\n",
       "      <td>39</td>\n",
       "    </tr>\n",
       "    <tr>\n",
       "      <td>14</td>\n",
       "      <td>2019-07-02</td>\n",
       "      <td>502239</td>\n",
       "      <td>33</td>\n",
       "    </tr>\n",
       "    <tr>\n",
       "      <td>15</td>\n",
       "      <td>2019-07-06</td>\n",
       "      <td>502239</td>\n",
       "      <td>38</td>\n",
       "    </tr>\n",
       "    <tr>\n",
       "      <td>16</td>\n",
       "      <td>2019-07-13</td>\n",
       "      <td>502239</td>\n",
       "      <td>16</td>\n",
       "    </tr>\n",
       "    <tr>\n",
       "      <td>17</td>\n",
       "      <td>2019-07-16</td>\n",
       "      <td>502239</td>\n",
       "      <td>35</td>\n",
       "    </tr>\n",
       "    <tr>\n",
       "      <td>18</td>\n",
       "      <td>2019-07-19</td>\n",
       "      <td>502239</td>\n",
       "      <td>24</td>\n",
       "    </tr>\n",
       "    <tr>\n",
       "      <td>19</td>\n",
       "      <td>2019-07-21</td>\n",
       "      <td>502239</td>\n",
       "      <td>30</td>\n",
       "    </tr>\n",
       "    <tr>\n",
       "      <td>20</td>\n",
       "      <td>2019-07-25</td>\n",
       "      <td>502239</td>\n",
       "      <td>18</td>\n",
       "    </tr>\n",
       "    <tr>\n",
       "      <td>21</td>\n",
       "      <td>2019-07-27</td>\n",
       "      <td>502239</td>\n",
       "      <td>48</td>\n",
       "    </tr>\n",
       "    <tr>\n",
       "      <td>22</td>\n",
       "      <td>2019-07-31</td>\n",
       "      <td>502239</td>\n",
       "      <td>35</td>\n",
       "    </tr>\n",
       "    <tr>\n",
       "      <td>23</td>\n",
       "      <td>2019-08-03</td>\n",
       "      <td>502239</td>\n",
       "      <td>58</td>\n",
       "    </tr>\n",
       "    <tr>\n",
       "      <td>24</td>\n",
       "      <td>2019-08-09</td>\n",
       "      <td>502239</td>\n",
       "      <td>63</td>\n",
       "    </tr>\n",
       "    <tr>\n",
       "      <td>25</td>\n",
       "      <td>2019-08-15</td>\n",
       "      <td>502239</td>\n",
       "      <td>27</td>\n",
       "    </tr>\n",
       "    <tr>\n",
       "      <td>26</td>\n",
       "      <td>2019-08-16</td>\n",
       "      <td>502239</td>\n",
       "      <td>20</td>\n",
       "    </tr>\n",
       "    <tr>\n",
       "      <td>27</td>\n",
       "      <td>2019-08-21</td>\n",
       "      <td>502239</td>\n",
       "      <td>10</td>\n",
       "    </tr>\n",
       "    <tr>\n",
       "      <td>28</td>\n",
       "      <td>2019-08-24</td>\n",
       "      <td>502239</td>\n",
       "      <td>43</td>\n",
       "    </tr>\n",
       "    <tr>\n",
       "      <td>29</td>\n",
       "      <td>2019-08-30</td>\n",
       "      <td>502239</td>\n",
       "      <td>34</td>\n",
       "    </tr>\n",
       "    <tr>\n",
       "      <td>30</td>\n",
       "      <td>2019-09-04</td>\n",
       "      <td>502239</td>\n",
       "      <td>48</td>\n",
       "    </tr>\n",
       "    <tr>\n",
       "      <td>31</td>\n",
       "      <td>2019-09-08</td>\n",
       "      <td>502239</td>\n",
       "      <td>10</td>\n",
       "    </tr>\n",
       "    <tr>\n",
       "      <td>32</td>\n",
       "      <td>2019-09-10</td>\n",
       "      <td>502239</td>\n",
       "      <td>54</td>\n",
       "    </tr>\n",
       "    <tr>\n",
       "      <td>33</td>\n",
       "      <td>2019-09-17</td>\n",
       "      <td>502239</td>\n",
       "      <td>15</td>\n",
       "    </tr>\n",
       "    <tr>\n",
       "      <td>34</td>\n",
       "      <td>2019-09-22</td>\n",
       "      <td>502239</td>\n",
       "      <td>27</td>\n",
       "    </tr>\n",
       "    <tr>\n",
       "      <td>35</td>\n",
       "      <td>2019-09-26</td>\n",
       "      <td>502239</td>\n",
       "      <td>28</td>\n",
       "    </tr>\n",
       "    <tr>\n",
       "      <td>36</td>\n",
       "      <td>2019-09-27</td>\n",
       "      <td>502239</td>\n",
       "      <td>11</td>\n",
       "    </tr>\n",
       "  </tbody>\n",
       "</table>\n",
       "</div>"
      ],
      "text/plain": [
       "          date  pitcher_id  count_nonzero\n",
       "0   2019-03-28      502239             86\n",
       "1   2019-04-02      502239             83\n",
       "2   2019-04-08      502239             90\n",
       "3   2019-04-15      502239             71\n",
       "4   2019-04-20      502239             95\n",
       "5   2019-04-25      502239             93\n",
       "6   2019-05-04      502239             68\n",
       "7   2019-05-10      502239             78\n",
       "8   2019-05-15      502239             84\n",
       "9   2019-05-21      502239             90\n",
       "10  2019-05-27      502239             85\n",
       "11  2019-06-03      502239             73\n",
       "12  2019-06-26      502239             28\n",
       "13  2019-06-29      502239             39\n",
       "14  2019-07-02      502239             33\n",
       "15  2019-07-06      502239             38\n",
       "16  2019-07-13      502239             16\n",
       "17  2019-07-16      502239             35\n",
       "18  2019-07-19      502239             24\n",
       "19  2019-07-21      502239             30\n",
       "20  2019-07-25      502239             18\n",
       "21  2019-07-27      502239             48\n",
       "22  2019-07-31      502239             35\n",
       "23  2019-08-03      502239             58\n",
       "24  2019-08-09      502239             63\n",
       "25  2019-08-15      502239             27\n",
       "26  2019-08-16      502239             20\n",
       "27  2019-08-21      502239             10\n",
       "28  2019-08-24      502239             43\n",
       "29  2019-08-30      502239             34\n",
       "30  2019-09-04      502239             48\n",
       "31  2019-09-08      502239             10\n",
       "32  2019-09-10      502239             54\n",
       "33  2019-09-17      502239             15\n",
       "34  2019-09-22      502239             27\n",
       "35  2019-09-26      502239             28\n",
       "36  2019-09-27      502239             11"
      ]
     },
     "execution_count": 103,
     "metadata": {},
     "output_type": "execute_result"
    }
   ],
   "source": [
    "joined_atbats = joined_atbats[joined_atbats['pitcher_id'] == 502239\t]\n",
    "\n",
    "#Aggregate to get total pitches thrown by pitcher per game\n",
    "total_pitches_pitcher_game = joined_atbats.groupby(by = ['date','pitcher_id'], as_index=False)['batter_id'].agg([np.count_nonzero]).reset_index()\n",
    "total_pitches_pitcher_game = total_pitches_pitcher_game.sort_values(['date','count_nonzero','pitcher_id'], ascending=[True, False,True])\n",
    "total_pitches_pitcher_game = total_pitches_pitcher_game.sort_values(['date','count_nonzero'], ascending=[True, False])\n",
    "\n",
    "total_pitches_pitcher_game"
   ]
  },
  {
   "cell_type": "code",
   "execution_count": 131,
   "metadata": {},
   "outputs": [],
   "source": [
    "def metric_pitches_per_game_per_pitcher(joined_atbats):\n",
    "    print('This metric returns Pitches thrown by a Pitcher per Game, per Season and Avg. Pitches thrown by a Pitcher per Game over a Season')\n",
    "    print('\\n')\n",
    "    print('Enter Pitcher ID Number and Press Enter: ')\n",
    "    pitcher_id = int(input())\n",
    "    joined_atbats = joined_atbats\n",
    "    \n",
    "    #Search for that specific pitcher by ID\n",
    "    joined_atbats = joined_atbats[joined_atbats['pitcher_id'] == pitcher_id]\n",
    "    pitcher_name = joined_atbats[joined_atbats['pitcher_id'] == pitcher_id]['full_name'].unique()\n",
    "    \n",
    "    #Aggregate to get total pitches thrown by pitcher per game\n",
    "    total_pitches_pitcher_game = joined_atbats.groupby(by = ['date','pitcher_id'], as_index=False)['batter_id'].agg([np.count_nonzero]).reset_index()\n",
    "    total_pitches_pitcher_game = total_pitches_pitcher_game.sort_values(['date','count_nonzero','pitcher_id'], ascending=[True, False,True])\n",
    "    total_pitches_pitcher_game = total_pitches_pitcher_game.sort_values(['date','count_nonzero'], ascending=[True, False])\n",
    "    \n",
    "    #Aggregate to get total pitches thrown by pitcher over season\n",
    "    total_pitches_pitcher_season = total_pitches_pitcher_game.groupby(['pitcher_id'], as_index=False)['count_nonzero'].agg([np.sum]).reset_index()\n",
    "    temp = total_pitches_pitcher_game.groupby(['pitcher_id'], as_index=False)['count_nonzero'].agg([np.sum]).reset_index()\n",
    "    total_pitches_pitcher_season = temp.sort_values(['sum'], ascending=False)\n",
    "    \n",
    "    #Aggregate to get average pitches thrown by pitcher over season \n",
    "    total_games_pitcher = total_pitches_pitcher_game['date'].nunique()\n",
    "    total_pitches_pitcher = total_pitches_pitcher_game['count_nonzero'].agg([np.sum])\n",
    "    avg_pitches_pitcher = np.round(total_pitches_pitcher / total_games_pitcher, decimals = 0, out=None)\n",
    "    \n",
    "    #Return a DataFrame of Average Pitches \n",
    "    print('--------------------------------------------------------')\n",
    "    print('For Pitcher ID: ', pitcher_id)\n",
    "    print('Pitcher Name is ', pitcher_name)\n",
    "    print('Total Pitches Thrown per Game :')\n",
    "    print(pd.DataFrame(total_pitches_pitcher_game))\n",
    "    print('\\n')\n",
    "    print('Total Pitches Thrown per Season :', total_pitches_pitcher_season['sum'])\n",
    "    print('\\n')\n",
    "    print('Average Pitches Thrown per Game :', avg_pitches_pitcher)\n",
    "    print('--------------------------------------------------------')"
   ]
  },
  {
   "cell_type": "code",
   "execution_count": 132,
   "metadata": {},
   "outputs": [
    {
     "name": "stdout",
     "output_type": "stream",
     "text": [
      "This metric returns Pitches thrown by a Pitcher per Game, per Season and Avg. Pitches thrown by a Pitcher per Game over a Season\n",
      "\n",
      "\n",
      "Enter Pitcher ID Number and Press Enter: \n",
      "502239   \n",
      "--------------------------------------------------------\n",
      "For Pitcher ID:  502239\n",
      "Pitcher Name is  ['Trevor Cahill']\n",
      "Total Pitches Thrown per Game :\n",
      "          date  pitcher_id  count_nonzero\n",
      "0   2019-03-28      502239             86\n",
      "1   2019-04-02      502239             83\n",
      "2   2019-04-08      502239             90\n",
      "3   2019-04-15      502239             71\n",
      "4   2019-04-20      502239             95\n",
      "5   2019-04-25      502239             93\n",
      "6   2019-05-04      502239             68\n",
      "7   2019-05-10      502239             78\n",
      "8   2019-05-15      502239             84\n",
      "9   2019-05-21      502239             90\n",
      "10  2019-05-27      502239             85\n",
      "11  2019-06-03      502239             73\n",
      "12  2019-06-26      502239             28\n",
      "13  2019-06-29      502239             39\n",
      "14  2019-07-02      502239             33\n",
      "15  2019-07-06      502239             38\n",
      "16  2019-07-13      502239             16\n",
      "17  2019-07-16      502239             35\n",
      "18  2019-07-19      502239             24\n",
      "19  2019-07-21      502239             30\n",
      "20  2019-07-25      502239             18\n",
      "21  2019-07-27      502239             48\n",
      "22  2019-07-31      502239             35\n",
      "23  2019-08-03      502239             58\n",
      "24  2019-08-09      502239             63\n",
      "25  2019-08-15      502239             27\n",
      "26  2019-08-16      502239             20\n",
      "27  2019-08-21      502239             10\n",
      "28  2019-08-24      502239             43\n",
      "29  2019-08-30      502239             34\n",
      "30  2019-09-04      502239             48\n",
      "31  2019-09-08      502239             10\n",
      "32  2019-09-10      502239             54\n",
      "33  2019-09-17      502239             15\n",
      "34  2019-09-22      502239             27\n",
      "35  2019-09-26      502239             28\n",
      "36  2019-09-27      502239             11\n",
      "\n",
      "\n",
      "Total Pitches Thrown per Season : 0    1788\n",
      "Name: sum, dtype: int64\n",
      "\n",
      "\n",
      "Average Pitches Thrown per Game : sum    48.0\n",
      "Name: count_nonzero, dtype: float64\n",
      "--------------------------------------------------------\n"
     ]
    }
   ],
   "source": [
    "metric_pitches_per_game_per_pitcher(joined_atbats)"
   ]
  },
  {
   "cell_type": "code",
   "execution_count": 216,
   "metadata": {},
   "outputs": [],
   "source": [
    "#plots of the pitches thrown per game for a pitcher\n",
    "import plotly.express as px\n",
    "import plotly.graph_objects as go\n",
    "from plotly.subplots import make_subplots\n",
    "\n",
    "def plot_pitch_trend_per_pitcher(joined_atbats):\n",
    "    print('This metric returns Pitches thrown by a Pitcher per Game, per Season and Avg. Pitches thrown by a Pitcher per Game over a Season')\n",
    "    print('\\n')\n",
    "    print('Enter Pitcher ID Number and Press Enter: ')\n",
    "    pitcher_id = int(input())\n",
    "    joined_atbats = joined_atbats\n",
    "    \n",
    "    #Search for that specific pitcher by ID\n",
    "    joined_atbats = joined_atbats[joined_atbats['pitcher_id'] == pitcher_id]\n",
    "    pitcher_name = joined_atbats[joined_atbats['pitcher_id'] == pitcher_id]['full_name'].unique()\n",
    "    \n",
    "    #Aggregate to get total pitches thrown by pitcher per game\n",
    "    total_pitches_pitcher_game = joined_atbats.groupby(by = ['date','pitcher_id'], as_index=False)['batter_id'].agg([np.count_nonzero]).reset_index()\n",
    "    total_pitches_pitcher_game = total_pitches_pitcher_game.sort_values(['date','count_nonzero','pitcher_id'], ascending=[True, False,True])\n",
    "    total_pitches_pitcher_game = total_pitches_pitcher_game.sort_values(['date','count_nonzero'], ascending=[True, False])\n",
    "    \n",
    "    #Get the Rolling Average of Pitches Thrown by pitcher per game\n",
    "    total_pitches_pitcher_game['rolling_mean'] = np.round(total_pitches_pitcher_game['count_nonzero'].rolling(window=3).mean(), decimals = 0)\n",
    "    \n",
    "    \n",
    "    #Output: Text and Visualization   \n",
    "    print('--------------------------------------------------------')\n",
    "    print('Visualization of Total Pitches thrown by ID:', pitcher_id, ' ', pitcher_name, ' over the Season')\n",
    "    print('--------------------------------------------------------')\n",
    "\n",
    "#     fig = px.line(total_pitches_pitcher_game, x=\"date\", y=\"rolling_mean\", title='Average Pitches Thrown over Last 3 Games')\n",
    "#     fig = fig.add_bar(total_pitches_pitcher_game, x='date', y='count_nonzero', title='Total Pitches Thrown per Game over the Season',\n",
    "#             hover_data = ['date', 'count_nonzero'], color = 'count_nonzero',\n",
    "#         labels = {'count_nonzero' : 'Total Pitches Thrown', 'date' : 'Game Date'})\n",
    "       \n",
    "    fig = make_subplots(specs = [[{'secondary_y' : True}]])\n",
    "    \n",
    "    fig.add_trace(\n",
    "        go.Bar(x=total_pitches_pitcher_game['date'], y=total_pitches_pitcher_game['count_nonzero'], name = 'Total Pitches over Season'),\n",
    "        secondary_y = False,\n",
    "    )\n",
    "    \n",
    "    fig.add_trace(\n",
    "        go.Line(x=total_pitches_pitcher_game[\"date\"], y=total_pitches_pitcher_game[\"rolling_mean\"], name = 'Average Pitches in Last 3 Games'),\n",
    "        secondary_y = True,\n",
    "    )\n",
    "    \n",
    "    fig.update_layout(title_text = \"<b>Pitches Thrown per Game over the Season</b>\")\n",
    "    fig.update_xaxes(title_text = '<b>Game Date</b>')\n",
    "    fig.update_yaxes(title_text = '<b>Total Pitches Thrown Over the Season</b>', secondary_y = False)\n",
    "    fig.update_yaxes(title_text = '<b>Average Pitches Thrown Over Last 3 Games</b>', secondary_y = True)\n",
    "\n",
    "    fig.show()"
   ]
  },
  {
   "cell_type": "code",
   "execution_count": 296,
   "metadata": {},
   "outputs": [
    {
     "name": "stdout",
     "output_type": "stream",
     "text": [
      "This metric returns Pitches thrown by a Pitcher per Game, per Season and Avg. Pitches thrown by a Pitcher per Game over a Season\n",
      "\n",
      "\n",
      "Enter Pitcher ID Number and Press Enter: \n",
      "547943\n",
      "Visualization of Total Pitches thrown by ID: 547943   ['Hyun-Jin Ryu']  over the Season\n"
     ]
    },
    {
     "data": {
      "application/vnd.plotly.v1+json": {
       "config": {
        "plotlyServerURL": "https://plot.ly"
       },
       "data": [
        {
         "name": "Total Pitches over Season",
         "type": "bar",
         "x": [
          "2019-03-28",
          "2019-04-02",
          "2019-04-08",
          "2019-04-20",
          "2019-04-26",
          "2019-05-01",
          "2019-05-07",
          "2019-05-12",
          "2019-05-19",
          "2019-05-25",
          "2019-05-30",
          "2019-06-04",
          "2019-06-10",
          "2019-06-16",
          "2019-06-22",
          "2019-06-28",
          "2019-07-04",
          "2019-07-14",
          "2019-07-19",
          "2019-07-26",
          "2019-07-31",
          "2019-08-11",
          "2019-08-17",
          "2019-08-23",
          "2019-08-29",
          "2019-09-04",
          "2019-09-14",
          "2019-09-22",
          "2019-09-28"
         ],
         "xaxis": "x",
         "y": [
          82,
          87,
          33,
          92,
          105,
          107,
          93,
          116,
          88,
          93,
          106,
          104,
          99,
          94,
          107,
          81,
          89,
          94,
          102,
          103,
          80,
          91,
          101,
          94,
          97,
          93,
          90,
          95,
          97
         ],
         "yaxis": "y"
        },
        {
         "name": "Average Pitches in Last 3 Games",
         "type": "scatter",
         "x": [
          "2019-03-28",
          "2019-04-02",
          "2019-04-08",
          "2019-04-20",
          "2019-04-26",
          "2019-05-01",
          "2019-05-07",
          "2019-05-12",
          "2019-05-19",
          "2019-05-25",
          "2019-05-30",
          "2019-06-04",
          "2019-06-10",
          "2019-06-16",
          "2019-06-22",
          "2019-06-28",
          "2019-07-04",
          "2019-07-14",
          "2019-07-19",
          "2019-07-26",
          "2019-07-31",
          "2019-08-11",
          "2019-08-17",
          "2019-08-23",
          "2019-08-29",
          "2019-09-04",
          "2019-09-14",
          "2019-09-22",
          "2019-09-28"
         ],
         "xaxis": "x",
         "y": [
          null,
          null,
          67,
          71,
          77,
          101,
          102,
          105,
          99,
          99,
          96,
          101,
          103,
          99,
          100,
          94,
          92,
          88,
          95,
          100,
          95,
          91,
          91,
          95,
          97,
          95,
          93,
          93,
          94
         ],
         "yaxis": "y2"
        }
       ],
       "layout": {
        "template": {
         "data": {
          "bar": [
           {
            "error_x": {
             "color": "#2a3f5f"
            },
            "error_y": {
             "color": "#2a3f5f"
            },
            "marker": {
             "line": {
              "color": "#E5ECF6",
              "width": 0.5
             }
            },
            "type": "bar"
           }
          ],
          "barpolar": [
           {
            "marker": {
             "line": {
              "color": "#E5ECF6",
              "width": 0.5
             }
            },
            "type": "barpolar"
           }
          ],
          "carpet": [
           {
            "aaxis": {
             "endlinecolor": "#2a3f5f",
             "gridcolor": "white",
             "linecolor": "white",
             "minorgridcolor": "white",
             "startlinecolor": "#2a3f5f"
            },
            "baxis": {
             "endlinecolor": "#2a3f5f",
             "gridcolor": "white",
             "linecolor": "white",
             "minorgridcolor": "white",
             "startlinecolor": "#2a3f5f"
            },
            "type": "carpet"
           }
          ],
          "choropleth": [
           {
            "colorbar": {
             "outlinewidth": 0,
             "ticks": ""
            },
            "type": "choropleth"
           }
          ],
          "contour": [
           {
            "colorbar": {
             "outlinewidth": 0,
             "ticks": ""
            },
            "colorscale": [
             [
              0,
              "#0d0887"
             ],
             [
              0.1111111111111111,
              "#46039f"
             ],
             [
              0.2222222222222222,
              "#7201a8"
             ],
             [
              0.3333333333333333,
              "#9c179e"
             ],
             [
              0.4444444444444444,
              "#bd3786"
             ],
             [
              0.5555555555555556,
              "#d8576b"
             ],
             [
              0.6666666666666666,
              "#ed7953"
             ],
             [
              0.7777777777777778,
              "#fb9f3a"
             ],
             [
              0.8888888888888888,
              "#fdca26"
             ],
             [
              1,
              "#f0f921"
             ]
            ],
            "type": "contour"
           }
          ],
          "contourcarpet": [
           {
            "colorbar": {
             "outlinewidth": 0,
             "ticks": ""
            },
            "type": "contourcarpet"
           }
          ],
          "heatmap": [
           {
            "colorbar": {
             "outlinewidth": 0,
             "ticks": ""
            },
            "colorscale": [
             [
              0,
              "#0d0887"
             ],
             [
              0.1111111111111111,
              "#46039f"
             ],
             [
              0.2222222222222222,
              "#7201a8"
             ],
             [
              0.3333333333333333,
              "#9c179e"
             ],
             [
              0.4444444444444444,
              "#bd3786"
             ],
             [
              0.5555555555555556,
              "#d8576b"
             ],
             [
              0.6666666666666666,
              "#ed7953"
             ],
             [
              0.7777777777777778,
              "#fb9f3a"
             ],
             [
              0.8888888888888888,
              "#fdca26"
             ],
             [
              1,
              "#f0f921"
             ]
            ],
            "type": "heatmap"
           }
          ],
          "heatmapgl": [
           {
            "colorbar": {
             "outlinewidth": 0,
             "ticks": ""
            },
            "colorscale": [
             [
              0,
              "#0d0887"
             ],
             [
              0.1111111111111111,
              "#46039f"
             ],
             [
              0.2222222222222222,
              "#7201a8"
             ],
             [
              0.3333333333333333,
              "#9c179e"
             ],
             [
              0.4444444444444444,
              "#bd3786"
             ],
             [
              0.5555555555555556,
              "#d8576b"
             ],
             [
              0.6666666666666666,
              "#ed7953"
             ],
             [
              0.7777777777777778,
              "#fb9f3a"
             ],
             [
              0.8888888888888888,
              "#fdca26"
             ],
             [
              1,
              "#f0f921"
             ]
            ],
            "type": "heatmapgl"
           }
          ],
          "histogram": [
           {
            "marker": {
             "colorbar": {
              "outlinewidth": 0,
              "ticks": ""
             }
            },
            "type": "histogram"
           }
          ],
          "histogram2d": [
           {
            "colorbar": {
             "outlinewidth": 0,
             "ticks": ""
            },
            "colorscale": [
             [
              0,
              "#0d0887"
             ],
             [
              0.1111111111111111,
              "#46039f"
             ],
             [
              0.2222222222222222,
              "#7201a8"
             ],
             [
              0.3333333333333333,
              "#9c179e"
             ],
             [
              0.4444444444444444,
              "#bd3786"
             ],
             [
              0.5555555555555556,
              "#d8576b"
             ],
             [
              0.6666666666666666,
              "#ed7953"
             ],
             [
              0.7777777777777778,
              "#fb9f3a"
             ],
             [
              0.8888888888888888,
              "#fdca26"
             ],
             [
              1,
              "#f0f921"
             ]
            ],
            "type": "histogram2d"
           }
          ],
          "histogram2dcontour": [
           {
            "colorbar": {
             "outlinewidth": 0,
             "ticks": ""
            },
            "colorscale": [
             [
              0,
              "#0d0887"
             ],
             [
              0.1111111111111111,
              "#46039f"
             ],
             [
              0.2222222222222222,
              "#7201a8"
             ],
             [
              0.3333333333333333,
              "#9c179e"
             ],
             [
              0.4444444444444444,
              "#bd3786"
             ],
             [
              0.5555555555555556,
              "#d8576b"
             ],
             [
              0.6666666666666666,
              "#ed7953"
             ],
             [
              0.7777777777777778,
              "#fb9f3a"
             ],
             [
              0.8888888888888888,
              "#fdca26"
             ],
             [
              1,
              "#f0f921"
             ]
            ],
            "type": "histogram2dcontour"
           }
          ],
          "mesh3d": [
           {
            "colorbar": {
             "outlinewidth": 0,
             "ticks": ""
            },
            "type": "mesh3d"
           }
          ],
          "parcoords": [
           {
            "line": {
             "colorbar": {
              "outlinewidth": 0,
              "ticks": ""
             }
            },
            "type": "parcoords"
           }
          ],
          "pie": [
           {
            "automargin": true,
            "type": "pie"
           }
          ],
          "scatter": [
           {
            "marker": {
             "colorbar": {
              "outlinewidth": 0,
              "ticks": ""
             }
            },
            "type": "scatter"
           }
          ],
          "scatter3d": [
           {
            "line": {
             "colorbar": {
              "outlinewidth": 0,
              "ticks": ""
             }
            },
            "marker": {
             "colorbar": {
              "outlinewidth": 0,
              "ticks": ""
             }
            },
            "type": "scatter3d"
           }
          ],
          "scattercarpet": [
           {
            "marker": {
             "colorbar": {
              "outlinewidth": 0,
              "ticks": ""
             }
            },
            "type": "scattercarpet"
           }
          ],
          "scattergeo": [
           {
            "marker": {
             "colorbar": {
              "outlinewidth": 0,
              "ticks": ""
             }
            },
            "type": "scattergeo"
           }
          ],
          "scattergl": [
           {
            "marker": {
             "colorbar": {
              "outlinewidth": 0,
              "ticks": ""
             }
            },
            "type": "scattergl"
           }
          ],
          "scattermapbox": [
           {
            "marker": {
             "colorbar": {
              "outlinewidth": 0,
              "ticks": ""
             }
            },
            "type": "scattermapbox"
           }
          ],
          "scatterpolar": [
           {
            "marker": {
             "colorbar": {
              "outlinewidth": 0,
              "ticks": ""
             }
            },
            "type": "scatterpolar"
           }
          ],
          "scatterpolargl": [
           {
            "marker": {
             "colorbar": {
              "outlinewidth": 0,
              "ticks": ""
             }
            },
            "type": "scatterpolargl"
           }
          ],
          "scatterternary": [
           {
            "marker": {
             "colorbar": {
              "outlinewidth": 0,
              "ticks": ""
             }
            },
            "type": "scatterternary"
           }
          ],
          "surface": [
           {
            "colorbar": {
             "outlinewidth": 0,
             "ticks": ""
            },
            "colorscale": [
             [
              0,
              "#0d0887"
             ],
             [
              0.1111111111111111,
              "#46039f"
             ],
             [
              0.2222222222222222,
              "#7201a8"
             ],
             [
              0.3333333333333333,
              "#9c179e"
             ],
             [
              0.4444444444444444,
              "#bd3786"
             ],
             [
              0.5555555555555556,
              "#d8576b"
             ],
             [
              0.6666666666666666,
              "#ed7953"
             ],
             [
              0.7777777777777778,
              "#fb9f3a"
             ],
             [
              0.8888888888888888,
              "#fdca26"
             ],
             [
              1,
              "#f0f921"
             ]
            ],
            "type": "surface"
           }
          ],
          "table": [
           {
            "cells": {
             "fill": {
              "color": "#EBF0F8"
             },
             "line": {
              "color": "white"
             }
            },
            "header": {
             "fill": {
              "color": "#C8D4E3"
             },
             "line": {
              "color": "white"
             }
            },
            "type": "table"
           }
          ]
         },
         "layout": {
          "annotationdefaults": {
           "arrowcolor": "#2a3f5f",
           "arrowhead": 0,
           "arrowwidth": 1
          },
          "autotypenumbers": "strict",
          "coloraxis": {
           "colorbar": {
            "outlinewidth": 0,
            "ticks": ""
           }
          },
          "colorscale": {
           "diverging": [
            [
             0,
             "#8e0152"
            ],
            [
             0.1,
             "#c51b7d"
            ],
            [
             0.2,
             "#de77ae"
            ],
            [
             0.3,
             "#f1b6da"
            ],
            [
             0.4,
             "#fde0ef"
            ],
            [
             0.5,
             "#f7f7f7"
            ],
            [
             0.6,
             "#e6f5d0"
            ],
            [
             0.7,
             "#b8e186"
            ],
            [
             0.8,
             "#7fbc41"
            ],
            [
             0.9,
             "#4d9221"
            ],
            [
             1,
             "#276419"
            ]
           ],
           "sequential": [
            [
             0,
             "#0d0887"
            ],
            [
             0.1111111111111111,
             "#46039f"
            ],
            [
             0.2222222222222222,
             "#7201a8"
            ],
            [
             0.3333333333333333,
             "#9c179e"
            ],
            [
             0.4444444444444444,
             "#bd3786"
            ],
            [
             0.5555555555555556,
             "#d8576b"
            ],
            [
             0.6666666666666666,
             "#ed7953"
            ],
            [
             0.7777777777777778,
             "#fb9f3a"
            ],
            [
             0.8888888888888888,
             "#fdca26"
            ],
            [
             1,
             "#f0f921"
            ]
           ],
           "sequentialminus": [
            [
             0,
             "#0d0887"
            ],
            [
             0.1111111111111111,
             "#46039f"
            ],
            [
             0.2222222222222222,
             "#7201a8"
            ],
            [
             0.3333333333333333,
             "#9c179e"
            ],
            [
             0.4444444444444444,
             "#bd3786"
            ],
            [
             0.5555555555555556,
             "#d8576b"
            ],
            [
             0.6666666666666666,
             "#ed7953"
            ],
            [
             0.7777777777777778,
             "#fb9f3a"
            ],
            [
             0.8888888888888888,
             "#fdca26"
            ],
            [
             1,
             "#f0f921"
            ]
           ]
          },
          "colorway": [
           "#636efa",
           "#EF553B",
           "#00cc96",
           "#ab63fa",
           "#FFA15A",
           "#19d3f3",
           "#FF6692",
           "#B6E880",
           "#FF97FF",
           "#FECB52"
          ],
          "font": {
           "color": "#2a3f5f"
          },
          "geo": {
           "bgcolor": "white",
           "lakecolor": "white",
           "landcolor": "#E5ECF6",
           "showlakes": true,
           "showland": true,
           "subunitcolor": "white"
          },
          "hoverlabel": {
           "align": "left"
          },
          "hovermode": "closest",
          "mapbox": {
           "style": "light"
          },
          "paper_bgcolor": "white",
          "plot_bgcolor": "#E5ECF6",
          "polar": {
           "angularaxis": {
            "gridcolor": "white",
            "linecolor": "white",
            "ticks": ""
           },
           "bgcolor": "#E5ECF6",
           "radialaxis": {
            "gridcolor": "white",
            "linecolor": "white",
            "ticks": ""
           }
          },
          "scene": {
           "xaxis": {
            "backgroundcolor": "#E5ECF6",
            "gridcolor": "white",
            "gridwidth": 2,
            "linecolor": "white",
            "showbackground": true,
            "ticks": "",
            "zerolinecolor": "white"
           },
           "yaxis": {
            "backgroundcolor": "#E5ECF6",
            "gridcolor": "white",
            "gridwidth": 2,
            "linecolor": "white",
            "showbackground": true,
            "ticks": "",
            "zerolinecolor": "white"
           },
           "zaxis": {
            "backgroundcolor": "#E5ECF6",
            "gridcolor": "white",
            "gridwidth": 2,
            "linecolor": "white",
            "showbackground": true,
            "ticks": "",
            "zerolinecolor": "white"
           }
          },
          "shapedefaults": {
           "line": {
            "color": "#2a3f5f"
           }
          },
          "ternary": {
           "aaxis": {
            "gridcolor": "white",
            "linecolor": "white",
            "ticks": ""
           },
           "baxis": {
            "gridcolor": "white",
            "linecolor": "white",
            "ticks": ""
           },
           "bgcolor": "#E5ECF6",
           "caxis": {
            "gridcolor": "white",
            "linecolor": "white",
            "ticks": ""
           }
          },
          "title": {
           "x": 0.05
          },
          "xaxis": {
           "automargin": true,
           "gridcolor": "white",
           "linecolor": "white",
           "ticks": "",
           "title": {
            "standoff": 15
           },
           "zerolinecolor": "white",
           "zerolinewidth": 2
          },
          "yaxis": {
           "automargin": true,
           "gridcolor": "white",
           "linecolor": "white",
           "ticks": "",
           "title": {
            "standoff": 15
           },
           "zerolinecolor": "white",
           "zerolinewidth": 2
          }
         }
        },
        "title": {
         "text": "<b>Pitches Thrown per Game over the Season</b>"
        },
        "xaxis": {
         "anchor": "y",
         "domain": [
          0,
          0.94
         ],
         "title": {
          "text": "<b>Game Date</b>"
         }
        },
        "yaxis": {
         "anchor": "x",
         "domain": [
          0,
          1
         ],
         "title": {
          "text": "<b>Total Pitches Thrown Over the Season</b>"
         }
        },
        "yaxis2": {
         "anchor": "x",
         "overlaying": "y",
         "side": "right",
         "title": {
          "text": "<b>Average Pitches Thrown Over Last 3 Games</b>"
         }
        }
       }
      },
      "text/html": [
       "<div>                            <div id=\"8efd32f3-9a35-48c9-a366-155cac2b201f\" class=\"plotly-graph-div\" style=\"height:525px; width:100%;\"></div>            <script type=\"text/javascript\">                require([\"plotly\"], function(Plotly) {                    window.PLOTLYENV=window.PLOTLYENV || {};                                    if (document.getElementById(\"8efd32f3-9a35-48c9-a366-155cac2b201f\")) {                    Plotly.newPlot(                        \"8efd32f3-9a35-48c9-a366-155cac2b201f\",                        [{\"name\": \"Total Pitches over Season\", \"type\": \"bar\", \"x\": [\"2019-03-28\", \"2019-04-02\", \"2019-04-08\", \"2019-04-20\", \"2019-04-26\", \"2019-05-01\", \"2019-05-07\", \"2019-05-12\", \"2019-05-19\", \"2019-05-25\", \"2019-05-30\", \"2019-06-04\", \"2019-06-10\", \"2019-06-16\", \"2019-06-22\", \"2019-06-28\", \"2019-07-04\", \"2019-07-14\", \"2019-07-19\", \"2019-07-26\", \"2019-07-31\", \"2019-08-11\", \"2019-08-17\", \"2019-08-23\", \"2019-08-29\", \"2019-09-04\", \"2019-09-14\", \"2019-09-22\", \"2019-09-28\"], \"xaxis\": \"x\", \"y\": [82, 87, 33, 92, 105, 107, 93, 116, 88, 93, 106, 104, 99, 94, 107, 81, 89, 94, 102, 103, 80, 91, 101, 94, 97, 93, 90, 95, 97], \"yaxis\": \"y\"}, {\"name\": \"Average Pitches in Last 3 Games\", \"type\": \"scatter\", \"x\": [\"2019-03-28\", \"2019-04-02\", \"2019-04-08\", \"2019-04-20\", \"2019-04-26\", \"2019-05-01\", \"2019-05-07\", \"2019-05-12\", \"2019-05-19\", \"2019-05-25\", \"2019-05-30\", \"2019-06-04\", \"2019-06-10\", \"2019-06-16\", \"2019-06-22\", \"2019-06-28\", \"2019-07-04\", \"2019-07-14\", \"2019-07-19\", \"2019-07-26\", \"2019-07-31\", \"2019-08-11\", \"2019-08-17\", \"2019-08-23\", \"2019-08-29\", \"2019-09-04\", \"2019-09-14\", \"2019-09-22\", \"2019-09-28\"], \"xaxis\": \"x\", \"y\": [null, null, 67.0, 71.0, 77.0, 101.0, 102.0, 105.0, 99.0, 99.0, 96.0, 101.0, 103.0, 99.0, 100.0, 94.0, 92.0, 88.0, 95.0, 100.0, 95.0, 91.0, 91.0, 95.0, 97.0, 95.0, 93.0, 93.0, 94.0], \"yaxis\": \"y2\"}],                        {\"template\": {\"data\": {\"bar\": [{\"error_x\": {\"color\": \"#2a3f5f\"}, \"error_y\": {\"color\": \"#2a3f5f\"}, \"marker\": {\"line\": {\"color\": \"#E5ECF6\", \"width\": 0.5}}, \"type\": \"bar\"}], \"barpolar\": [{\"marker\": {\"line\": {\"color\": \"#E5ECF6\", \"width\": 0.5}}, \"type\": \"barpolar\"}], \"carpet\": [{\"aaxis\": {\"endlinecolor\": \"#2a3f5f\", \"gridcolor\": \"white\", \"linecolor\": \"white\", \"minorgridcolor\": \"white\", \"startlinecolor\": \"#2a3f5f\"}, \"baxis\": {\"endlinecolor\": \"#2a3f5f\", \"gridcolor\": \"white\", \"linecolor\": \"white\", \"minorgridcolor\": \"white\", \"startlinecolor\": \"#2a3f5f\"}, \"type\": \"carpet\"}], \"choropleth\": [{\"colorbar\": {\"outlinewidth\": 0, \"ticks\": \"\"}, \"type\": \"choropleth\"}], \"contour\": [{\"colorbar\": {\"outlinewidth\": 0, \"ticks\": \"\"}, \"colorscale\": [[0.0, \"#0d0887\"], [0.1111111111111111, \"#46039f\"], [0.2222222222222222, \"#7201a8\"], [0.3333333333333333, \"#9c179e\"], [0.4444444444444444, \"#bd3786\"], [0.5555555555555556, \"#d8576b\"], [0.6666666666666666, \"#ed7953\"], [0.7777777777777778, \"#fb9f3a\"], [0.8888888888888888, \"#fdca26\"], [1.0, \"#f0f921\"]], \"type\": \"contour\"}], \"contourcarpet\": [{\"colorbar\": {\"outlinewidth\": 0, \"ticks\": \"\"}, \"type\": \"contourcarpet\"}], \"heatmap\": [{\"colorbar\": {\"outlinewidth\": 0, \"ticks\": \"\"}, \"colorscale\": [[0.0, \"#0d0887\"], [0.1111111111111111, \"#46039f\"], [0.2222222222222222, \"#7201a8\"], [0.3333333333333333, \"#9c179e\"], [0.4444444444444444, \"#bd3786\"], [0.5555555555555556, \"#d8576b\"], [0.6666666666666666, \"#ed7953\"], [0.7777777777777778, \"#fb9f3a\"], [0.8888888888888888, \"#fdca26\"], [1.0, \"#f0f921\"]], \"type\": \"heatmap\"}], \"heatmapgl\": [{\"colorbar\": {\"outlinewidth\": 0, \"ticks\": \"\"}, \"colorscale\": [[0.0, \"#0d0887\"], [0.1111111111111111, \"#46039f\"], [0.2222222222222222, \"#7201a8\"], [0.3333333333333333, \"#9c179e\"], [0.4444444444444444, \"#bd3786\"], [0.5555555555555556, \"#d8576b\"], [0.6666666666666666, \"#ed7953\"], [0.7777777777777778, \"#fb9f3a\"], [0.8888888888888888, \"#fdca26\"], [1.0, \"#f0f921\"]], \"type\": \"heatmapgl\"}], \"histogram\": [{\"marker\": {\"colorbar\": {\"outlinewidth\": 0, \"ticks\": \"\"}}, \"type\": \"histogram\"}], \"histogram2d\": [{\"colorbar\": {\"outlinewidth\": 0, \"ticks\": \"\"}, \"colorscale\": [[0.0, \"#0d0887\"], [0.1111111111111111, \"#46039f\"], [0.2222222222222222, \"#7201a8\"], [0.3333333333333333, \"#9c179e\"], [0.4444444444444444, \"#bd3786\"], [0.5555555555555556, \"#d8576b\"], [0.6666666666666666, \"#ed7953\"], [0.7777777777777778, \"#fb9f3a\"], [0.8888888888888888, \"#fdca26\"], [1.0, \"#f0f921\"]], \"type\": \"histogram2d\"}], \"histogram2dcontour\": [{\"colorbar\": {\"outlinewidth\": 0, \"ticks\": \"\"}, \"colorscale\": [[0.0, \"#0d0887\"], [0.1111111111111111, \"#46039f\"], [0.2222222222222222, \"#7201a8\"], [0.3333333333333333, \"#9c179e\"], [0.4444444444444444, \"#bd3786\"], [0.5555555555555556, \"#d8576b\"], [0.6666666666666666, \"#ed7953\"], [0.7777777777777778, \"#fb9f3a\"], [0.8888888888888888, \"#fdca26\"], [1.0, \"#f0f921\"]], \"type\": \"histogram2dcontour\"}], \"mesh3d\": [{\"colorbar\": {\"outlinewidth\": 0, \"ticks\": \"\"}, \"type\": \"mesh3d\"}], \"parcoords\": [{\"line\": {\"colorbar\": {\"outlinewidth\": 0, \"ticks\": \"\"}}, \"type\": \"parcoords\"}], \"pie\": [{\"automargin\": true, \"type\": \"pie\"}], \"scatter\": [{\"marker\": {\"colorbar\": {\"outlinewidth\": 0, \"ticks\": \"\"}}, \"type\": \"scatter\"}], \"scatter3d\": [{\"line\": {\"colorbar\": {\"outlinewidth\": 0, \"ticks\": \"\"}}, \"marker\": {\"colorbar\": {\"outlinewidth\": 0, \"ticks\": \"\"}}, \"type\": \"scatter3d\"}], \"scattercarpet\": [{\"marker\": {\"colorbar\": {\"outlinewidth\": 0, \"ticks\": \"\"}}, \"type\": \"scattercarpet\"}], \"scattergeo\": [{\"marker\": {\"colorbar\": {\"outlinewidth\": 0, \"ticks\": \"\"}}, \"type\": \"scattergeo\"}], \"scattergl\": [{\"marker\": {\"colorbar\": {\"outlinewidth\": 0, \"ticks\": \"\"}}, \"type\": \"scattergl\"}], \"scattermapbox\": [{\"marker\": {\"colorbar\": {\"outlinewidth\": 0, \"ticks\": \"\"}}, \"type\": \"scattermapbox\"}], \"scatterpolar\": [{\"marker\": {\"colorbar\": {\"outlinewidth\": 0, \"ticks\": \"\"}}, \"type\": \"scatterpolar\"}], \"scatterpolargl\": [{\"marker\": {\"colorbar\": {\"outlinewidth\": 0, \"ticks\": \"\"}}, \"type\": \"scatterpolargl\"}], \"scatterternary\": [{\"marker\": {\"colorbar\": {\"outlinewidth\": 0, \"ticks\": \"\"}}, \"type\": \"scatterternary\"}], \"surface\": [{\"colorbar\": {\"outlinewidth\": 0, \"ticks\": \"\"}, \"colorscale\": [[0.0, \"#0d0887\"], [0.1111111111111111, \"#46039f\"], [0.2222222222222222, \"#7201a8\"], [0.3333333333333333, \"#9c179e\"], [0.4444444444444444, \"#bd3786\"], [0.5555555555555556, \"#d8576b\"], [0.6666666666666666, \"#ed7953\"], [0.7777777777777778, \"#fb9f3a\"], [0.8888888888888888, \"#fdca26\"], [1.0, \"#f0f921\"]], \"type\": \"surface\"}], \"table\": [{\"cells\": {\"fill\": {\"color\": \"#EBF0F8\"}, \"line\": {\"color\": \"white\"}}, \"header\": {\"fill\": {\"color\": \"#C8D4E3\"}, \"line\": {\"color\": \"white\"}}, \"type\": \"table\"}]}, \"layout\": {\"annotationdefaults\": {\"arrowcolor\": \"#2a3f5f\", \"arrowhead\": 0, \"arrowwidth\": 1}, \"autotypenumbers\": \"strict\", \"coloraxis\": {\"colorbar\": {\"outlinewidth\": 0, \"ticks\": \"\"}}, \"colorscale\": {\"diverging\": [[0, \"#8e0152\"], [0.1, \"#c51b7d\"], [0.2, \"#de77ae\"], [0.3, \"#f1b6da\"], [0.4, \"#fde0ef\"], [0.5, \"#f7f7f7\"], [0.6, \"#e6f5d0\"], [0.7, \"#b8e186\"], [0.8, \"#7fbc41\"], [0.9, \"#4d9221\"], [1, \"#276419\"]], \"sequential\": [[0.0, \"#0d0887\"], [0.1111111111111111, \"#46039f\"], [0.2222222222222222, \"#7201a8\"], [0.3333333333333333, \"#9c179e\"], [0.4444444444444444, \"#bd3786\"], [0.5555555555555556, \"#d8576b\"], [0.6666666666666666, \"#ed7953\"], [0.7777777777777778, \"#fb9f3a\"], [0.8888888888888888, \"#fdca26\"], [1.0, \"#f0f921\"]], \"sequentialminus\": [[0.0, \"#0d0887\"], [0.1111111111111111, \"#46039f\"], [0.2222222222222222, \"#7201a8\"], [0.3333333333333333, \"#9c179e\"], [0.4444444444444444, \"#bd3786\"], [0.5555555555555556, \"#d8576b\"], [0.6666666666666666, \"#ed7953\"], [0.7777777777777778, \"#fb9f3a\"], [0.8888888888888888, \"#fdca26\"], [1.0, \"#f0f921\"]]}, \"colorway\": [\"#636efa\", \"#EF553B\", \"#00cc96\", \"#ab63fa\", \"#FFA15A\", \"#19d3f3\", \"#FF6692\", \"#B6E880\", \"#FF97FF\", \"#FECB52\"], \"font\": {\"color\": \"#2a3f5f\"}, \"geo\": {\"bgcolor\": \"white\", \"lakecolor\": \"white\", \"landcolor\": \"#E5ECF6\", \"showlakes\": true, \"showland\": true, \"subunitcolor\": \"white\"}, \"hoverlabel\": {\"align\": \"left\"}, \"hovermode\": \"closest\", \"mapbox\": {\"style\": \"light\"}, \"paper_bgcolor\": \"white\", \"plot_bgcolor\": \"#E5ECF6\", \"polar\": {\"angularaxis\": {\"gridcolor\": \"white\", \"linecolor\": \"white\", \"ticks\": \"\"}, \"bgcolor\": \"#E5ECF6\", \"radialaxis\": {\"gridcolor\": \"white\", \"linecolor\": \"white\", \"ticks\": \"\"}}, \"scene\": {\"xaxis\": {\"backgroundcolor\": \"#E5ECF6\", \"gridcolor\": \"white\", \"gridwidth\": 2, \"linecolor\": \"white\", \"showbackground\": true, \"ticks\": \"\", \"zerolinecolor\": \"white\"}, \"yaxis\": {\"backgroundcolor\": \"#E5ECF6\", \"gridcolor\": \"white\", \"gridwidth\": 2, \"linecolor\": \"white\", \"showbackground\": true, \"ticks\": \"\", \"zerolinecolor\": \"white\"}, \"zaxis\": {\"backgroundcolor\": \"#E5ECF6\", \"gridcolor\": \"white\", \"gridwidth\": 2, \"linecolor\": \"white\", \"showbackground\": true, \"ticks\": \"\", \"zerolinecolor\": \"white\"}}, \"shapedefaults\": {\"line\": {\"color\": \"#2a3f5f\"}}, \"ternary\": {\"aaxis\": {\"gridcolor\": \"white\", \"linecolor\": \"white\", \"ticks\": \"\"}, \"baxis\": {\"gridcolor\": \"white\", \"linecolor\": \"white\", \"ticks\": \"\"}, \"bgcolor\": \"#E5ECF6\", \"caxis\": {\"gridcolor\": \"white\", \"linecolor\": \"white\", \"ticks\": \"\"}}, \"title\": {\"x\": 0.05}, \"xaxis\": {\"automargin\": true, \"gridcolor\": \"white\", \"linecolor\": \"white\", \"ticks\": \"\", \"title\": {\"standoff\": 15}, \"zerolinecolor\": \"white\", \"zerolinewidth\": 2}, \"yaxis\": {\"automargin\": true, \"gridcolor\": \"white\", \"linecolor\": \"white\", \"ticks\": \"\", \"title\": {\"standoff\": 15}, \"zerolinecolor\": \"white\", \"zerolinewidth\": 2}}}, \"title\": {\"text\": \"<b>Pitches Thrown per Game over the Season</b>\"}, \"xaxis\": {\"anchor\": \"y\", \"domain\": [0.0, 0.94], \"title\": {\"text\": \"<b>Game Date</b>\"}}, \"yaxis\": {\"anchor\": \"x\", \"domain\": [0.0, 1.0], \"title\": {\"text\": \"<b>Total Pitches Thrown Over the Season</b>\"}}, \"yaxis2\": {\"anchor\": \"x\", \"overlaying\": \"y\", \"side\": \"right\", \"title\": {\"text\": \"<b>Average Pitches Thrown Over Last 3 Games</b>\"}}},                        {\"responsive\": true}                    ).then(function(){\n",
       "                            \n",
       "var gd = document.getElementById('8efd32f3-9a35-48c9-a366-155cac2b201f');\n",
       "var x = new MutationObserver(function (mutations, observer) {{\n",
       "        var display = window.getComputedStyle(gd).display;\n",
       "        if (!display || display === 'none') {{\n",
       "            console.log([gd, 'removed!']);\n",
       "            Plotly.purge(gd);\n",
       "            observer.disconnect();\n",
       "        }}\n",
       "}});\n",
       "\n",
       "// Listen for the removal of the full notebook cells\n",
       "var notebookContainer = gd.closest('#notebook-container');\n",
       "if (notebookContainer) {{\n",
       "    x.observe(notebookContainer, {childList: true});\n",
       "}}\n",
       "\n",
       "// Listen for the clearing of the current output cell\n",
       "var outputEl = gd.closest('.output');\n",
       "if (outputEl) {{\n",
       "    x.observe(outputEl, {childList: true});\n",
       "}}\n",
       "\n",
       "                        })                };                });            </script>        </div>"
      ]
     },
     "metadata": {},
     "output_type": "display_data"
    }
   ],
   "source": [
    "plot_pitch_trend_per_pitcher(joined_atbats)"
   ]
  },
  {
   "cell_type": "code",
   "execution_count": 177,
   "metadata": {},
   "outputs": [
    {
     "data": {
      "text/plain": [
       "Index(['px', 'pz', 'start_speed', 'end_speed', 'spin_rate', 'spin_dir',\n",
       "       'break_angle', 'break_length', 'break_y', 'ax', 'ay', 'az', 'sz_bot',\n",
       "       'sz_top', 'type_confidence', 'vx0', 'vy0', 'vz0', 'x', 'x0', 'y', 'y0',\n",
       "       'z0', 'pfx_x', 'pfx_z', 'nasty', 'zone', 'code', 'type', 'pitch_type',\n",
       "       'event_num', 'b_score', 'ab_id', 'b_count', 's_count', 'outs',\n",
       "       'pitch_num', 'on_1b', 'on_2b', 'on_3b', 'inning', 'top', 'g_id',\n",
       "       'p_score', 'batter_id', 'pitcher_id', 'stand', 'p_throws', 'event', 'o',\n",
       "       'home_team', 'away_team', 'home_final_score', 'away_final_score',\n",
       "       'date', 'umpire_HP', 'umpire_1B', 'umpire_2B', 'umpire_3B',\n",
       "       'start_time', 'venue_name', 'weather', 'wind', 'elapsed_time',\n",
       "       'attendance', 'id', 'first_name', 'last_name', 'full_name'],\n",
       "      dtype='object')"
      ]
     },
     "execution_count": 177,
     "metadata": {},
     "output_type": "execute_result"
    }
   ],
   "source": [
    "joined_atbats.columns"
   ]
  },
  {
   "cell_type": "code",
   "execution_count": 189,
   "metadata": {},
   "outputs": [
    {
     "data": {
      "text/plain": [
       "Index(['px', 'pz', 'start_speed', 'end_speed', 'spin_rate', 'spin_dir',\n",
       "       'break_angle', 'break_length', 'break_y', 'ax', 'ay', 'az', 'sz_bot',\n",
       "       'sz_top', 'type_confidence', 'vx0', 'vy0', 'vz0', 'x', 'x0', 'y', 'y0',\n",
       "       'z0', 'pfx_x', 'pfx_z', 'nasty', 'zone', 'code', 'type', 'pitch_type',\n",
       "       'event_num', 'b_score', 'ab_id', 'b_count', 's_count', 'outs',\n",
       "       'pitch_num', 'on_1b', 'on_2b', 'on_3b'],\n",
       "      dtype='object')"
      ]
     },
     "execution_count": 189,
     "metadata": {},
     "output_type": "execute_result"
    }
   ],
   "source": [
    "pitches.columns"
   ]
  },
  {
   "cell_type": "code",
   "execution_count": 208,
   "metadata": {},
   "outputs": [
    {
     "data": {
      "text/html": [
       "<div>\n",
       "<style scoped>\n",
       "    .dataframe tbody tr th:only-of-type {\n",
       "        vertical-align: middle;\n",
       "    }\n",
       "\n",
       "    .dataframe tbody tr th {\n",
       "        vertical-align: top;\n",
       "    }\n",
       "\n",
       "    .dataframe thead th {\n",
       "        text-align: right;\n",
       "    }\n",
       "</style>\n",
       "<table border=\"1\" class=\"dataframe\">\n",
       "  <thead>\n",
       "    <tr style=\"text-align: right;\">\n",
       "      <th></th>\n",
       "      <th>date</th>\n",
       "      <th>g_id</th>\n",
       "      <th>pitcher_id</th>\n",
       "      <th>batter_id</th>\n",
       "      <th>inning</th>\n",
       "      <th>b_score</th>\n",
       "      <th>p_score</th>\n",
       "      <th>b_count</th>\n",
       "      <th>s_count</th>\n",
       "      <th>outs</th>\n",
       "      <th>on_1b</th>\n",
       "      <th>on_2b</th>\n",
       "      <th>on_3b</th>\n",
       "      <th>start_speed</th>\n",
       "      <th>end_speed</th>\n",
       "      <th>pitch_type</th>\n",
       "    </tr>\n",
       "  </thead>\n",
       "  <tbody>\n",
       "    <tr>\n",
       "      <td>11</td>\n",
       "      <td>2019-03-28</td>\n",
       "      <td>201900001.0</td>\n",
       "      <td>502239</td>\n",
       "      <td>543257</td>\n",
       "      <td>1.0</td>\n",
       "      <td>0.0</td>\n",
       "      <td>0.0</td>\n",
       "      <td>0.0</td>\n",
       "      <td>0.0</td>\n",
       "      <td>0.0</td>\n",
       "      <td>0.0</td>\n",
       "      <td>0.0</td>\n",
       "      <td>0.0</td>\n",
       "      <td>89.8</td>\n",
       "      <td>82.3</td>\n",
       "      <td>SI</td>\n",
       "    </tr>\n",
       "    <tr>\n",
       "      <td>12</td>\n",
       "      <td>2019-03-28</td>\n",
       "      <td>201900001.0</td>\n",
       "      <td>502239</td>\n",
       "      <td>543257</td>\n",
       "      <td>1.0</td>\n",
       "      <td>0.0</td>\n",
       "      <td>0.0</td>\n",
       "      <td>0.0</td>\n",
       "      <td>0.0</td>\n",
       "      <td>0.0</td>\n",
       "      <td>0.0</td>\n",
       "      <td>0.0</td>\n",
       "      <td>0.0</td>\n",
       "      <td>82.3</td>\n",
       "      <td>76.0</td>\n",
       "      <td>CH</td>\n",
       "    </tr>\n",
       "    <tr>\n",
       "      <td>13</td>\n",
       "      <td>2019-03-28</td>\n",
       "      <td>201900001.0</td>\n",
       "      <td>502239</td>\n",
       "      <td>656305</td>\n",
       "      <td>1.0</td>\n",
       "      <td>0.0</td>\n",
       "      <td>0.0</td>\n",
       "      <td>0.0</td>\n",
       "      <td>0.0</td>\n",
       "      <td>0.0</td>\n",
       "      <td>0.0</td>\n",
       "      <td>0.0</td>\n",
       "      <td>0.0</td>\n",
       "      <td>92.1</td>\n",
       "      <td>83.3</td>\n",
       "      <td>SI</td>\n",
       "    </tr>\n",
       "    <tr>\n",
       "      <td>14</td>\n",
       "      <td>2019-03-28</td>\n",
       "      <td>201900001.0</td>\n",
       "      <td>502239</td>\n",
       "      <td>656305</td>\n",
       "      <td>1.0</td>\n",
       "      <td>0.0</td>\n",
       "      <td>0.0</td>\n",
       "      <td>0.0</td>\n",
       "      <td>0.0</td>\n",
       "      <td>0.0</td>\n",
       "      <td>0.0</td>\n",
       "      <td>0.0</td>\n",
       "      <td>0.0</td>\n",
       "      <td>83.0</td>\n",
       "      <td>76.2</td>\n",
       "      <td>CH</td>\n",
       "    </tr>\n",
       "    <tr>\n",
       "      <td>15</td>\n",
       "      <td>2019-03-28</td>\n",
       "      <td>201900001.0</td>\n",
       "      <td>502239</td>\n",
       "      <td>656305</td>\n",
       "      <td>1.0</td>\n",
       "      <td>0.0</td>\n",
       "      <td>0.0</td>\n",
       "      <td>0.0</td>\n",
       "      <td>0.0</td>\n",
       "      <td>0.0</td>\n",
       "      <td>0.0</td>\n",
       "      <td>0.0</td>\n",
       "      <td>0.0</td>\n",
       "      <td>85.1</td>\n",
       "      <td>78.7</td>\n",
       "      <td>CH</td>\n",
       "    </tr>\n",
       "    <tr>\n",
       "      <td>...</td>\n",
       "      <td>...</td>\n",
       "      <td>...</td>\n",
       "      <td>...</td>\n",
       "      <td>...</td>\n",
       "      <td>...</td>\n",
       "      <td>...</td>\n",
       "      <td>...</td>\n",
       "      <td>...</td>\n",
       "      <td>...</td>\n",
       "      <td>...</td>\n",
       "      <td>...</td>\n",
       "      <td>...</td>\n",
       "      <td>...</td>\n",
       "      <td>...</td>\n",
       "      <td>...</td>\n",
       "      <td>...</td>\n",
       "    </tr>\n",
       "    <tr>\n",
       "      <td>721387</td>\n",
       "      <td>2019-09-27</td>\n",
       "      <td>201902384.0</td>\n",
       "      <td>502239</td>\n",
       "      <td>493329</td>\n",
       "      <td>9.0</td>\n",
       "      <td>4.0</td>\n",
       "      <td>0.0</td>\n",
       "      <td>1.0</td>\n",
       "      <td>0.0</td>\n",
       "      <td>1.0</td>\n",
       "      <td>0.0</td>\n",
       "      <td>0.0</td>\n",
       "      <td>0.0</td>\n",
       "      <td>84.3</td>\n",
       "      <td>78.4</td>\n",
       "      <td>CH</td>\n",
       "    </tr>\n",
       "    <tr>\n",
       "      <td>721388</td>\n",
       "      <td>2019-09-27</td>\n",
       "      <td>201902384.0</td>\n",
       "      <td>502239</td>\n",
       "      <td>493329</td>\n",
       "      <td>9.0</td>\n",
       "      <td>4.0</td>\n",
       "      <td>0.0</td>\n",
       "      <td>1.0</td>\n",
       "      <td>1.0</td>\n",
       "      <td>1.0</td>\n",
       "      <td>0.0</td>\n",
       "      <td>0.0</td>\n",
       "      <td>0.0</td>\n",
       "      <td>92.2</td>\n",
       "      <td>84.7</td>\n",
       "      <td>SI</td>\n",
       "    </tr>\n",
       "    <tr>\n",
       "      <td>721389</td>\n",
       "      <td>2019-09-27</td>\n",
       "      <td>201902384.0</td>\n",
       "      <td>502239</td>\n",
       "      <td>493329</td>\n",
       "      <td>9.0</td>\n",
       "      <td>4.0</td>\n",
       "      <td>0.0</td>\n",
       "      <td>2.0</td>\n",
       "      <td>1.0</td>\n",
       "      <td>1.0</td>\n",
       "      <td>0.0</td>\n",
       "      <td>0.0</td>\n",
       "      <td>0.0</td>\n",
       "      <td>84.1</td>\n",
       "      <td>77.9</td>\n",
       "      <td>CH</td>\n",
       "    </tr>\n",
       "    <tr>\n",
       "      <td>721390</td>\n",
       "      <td>2019-09-27</td>\n",
       "      <td>201902384.0</td>\n",
       "      <td>502239</td>\n",
       "      <td>455139</td>\n",
       "      <td>9.0</td>\n",
       "      <td>4.0</td>\n",
       "      <td>0.0</td>\n",
       "      <td>0.0</td>\n",
       "      <td>0.0</td>\n",
       "      <td>2.0</td>\n",
       "      <td>0.0</td>\n",
       "      <td>0.0</td>\n",
       "      <td>0.0</td>\n",
       "      <td>92.7</td>\n",
       "      <td>85.2</td>\n",
       "      <td>SI</td>\n",
       "    </tr>\n",
       "    <tr>\n",
       "      <td>721391</td>\n",
       "      <td>2019-09-27</td>\n",
       "      <td>201902384.0</td>\n",
       "      <td>502239</td>\n",
       "      <td>455139</td>\n",
       "      <td>9.0</td>\n",
       "      <td>4.0</td>\n",
       "      <td>0.0</td>\n",
       "      <td>0.0</td>\n",
       "      <td>0.0</td>\n",
       "      <td>2.0</td>\n",
       "      <td>0.0</td>\n",
       "      <td>0.0</td>\n",
       "      <td>0.0</td>\n",
       "      <td>83.3</td>\n",
       "      <td>77.0</td>\n",
       "      <td>CH</td>\n",
       "    </tr>\n",
       "  </tbody>\n",
       "</table>\n",
       "<p>1788 rows × 16 columns</p>\n",
       "</div>"
      ],
      "text/plain": [
       "              date         g_id  pitcher_id  batter_id  inning  b_score  \\\n",
       "11      2019-03-28  201900001.0      502239     543257     1.0      0.0   \n",
       "12      2019-03-28  201900001.0      502239     543257     1.0      0.0   \n",
       "13      2019-03-28  201900001.0      502239     656305     1.0      0.0   \n",
       "14      2019-03-28  201900001.0      502239     656305     1.0      0.0   \n",
       "15      2019-03-28  201900001.0      502239     656305     1.0      0.0   \n",
       "...            ...          ...         ...        ...     ...      ...   \n",
       "721387  2019-09-27  201902384.0      502239     493329     9.0      4.0   \n",
       "721388  2019-09-27  201902384.0      502239     493329     9.0      4.0   \n",
       "721389  2019-09-27  201902384.0      502239     493329     9.0      4.0   \n",
       "721390  2019-09-27  201902384.0      502239     455139     9.0      4.0   \n",
       "721391  2019-09-27  201902384.0      502239     455139     9.0      4.0   \n",
       "\n",
       "        p_score  b_count  s_count  outs  on_1b  on_2b  on_3b  start_speed  \\\n",
       "11          0.0      0.0      0.0   0.0    0.0    0.0    0.0         89.8   \n",
       "12          0.0      0.0      0.0   0.0    0.0    0.0    0.0         82.3   \n",
       "13          0.0      0.0      0.0   0.0    0.0    0.0    0.0         92.1   \n",
       "14          0.0      0.0      0.0   0.0    0.0    0.0    0.0         83.0   \n",
       "15          0.0      0.0      0.0   0.0    0.0    0.0    0.0         85.1   \n",
       "...         ...      ...      ...   ...    ...    ...    ...          ...   \n",
       "721387      0.0      1.0      0.0   1.0    0.0    0.0    0.0         84.3   \n",
       "721388      0.0      1.0      1.0   1.0    0.0    0.0    0.0         92.2   \n",
       "721389      0.0      2.0      1.0   1.0    0.0    0.0    0.0         84.1   \n",
       "721390      0.0      0.0      0.0   2.0    0.0    0.0    0.0         92.7   \n",
       "721391      0.0      0.0      0.0   2.0    0.0    0.0    0.0         83.3   \n",
       "\n",
       "        end_speed pitch_type  \n",
       "11           82.3         SI  \n",
       "12           76.0         CH  \n",
       "13           83.3         SI  \n",
       "14           76.2         CH  \n",
       "15           78.7         CH  \n",
       "...           ...        ...  \n",
       "721387       78.4         CH  \n",
       "721388       84.7         SI  \n",
       "721389       77.9         CH  \n",
       "721390       85.2         SI  \n",
       "721391       77.0         CH  \n",
       "\n",
       "[1788 rows x 16 columns]"
      ]
     },
     "execution_count": 208,
     "metadata": {},
     "output_type": "execute_result"
    }
   ],
   "source": [
    "#get strikes/ball ratio\n",
    "#number of innings thrown\n",
    "test = joined_atbats[joined_atbats['pitcher_id'] == 502239]\n",
    "test[['date','g_id','pitcher_id','batter_id','inning','b_score','p_score','b_count','s_count','outs','on_1b','on_2b','on_3b','start_speed','end_speed','pitch_type']]"
   ]
  },
  {
   "cell_type": "code",
   "execution_count": 359,
   "metadata": {},
   "outputs": [],
   "source": [
    "test1 = test.groupby(by=['g_id'], as_index=False)['inning'].nunique().reset_index()\n",
    "#as_index=False)['batter_id'].agg([np.count_nonzero]).reset_index()\n",
    "#speed_change_pitcher_game = speed.groupby(by = ['g_id','pitcher_id','pitch_type','event'])['change_speed'].mean()"
   ]
  },
  {
   "cell_type": "code",
   "execution_count": 360,
   "metadata": {},
   "outputs": [],
   "source": [
    "test2 = test.groupby(by=['g_id'], as_index=False)['date'].agg([np.unique]).reset_index()"
   ]
  },
  {
   "cell_type": "code",
   "execution_count": 361,
   "metadata": {},
   "outputs": [],
   "source": [
    "c1 = pd.concat([test2,test1], axis=1).drop(columns=['index'])"
   ]
  },
  {
   "cell_type": "code",
   "execution_count": null,
   "metadata": {},
   "outputs": [],
   "source": [
    "joined_atbats[joined_atbats['pitcher_id'] == 502239]"
   ]
  },
  {
   "cell_type": "code",
   "execution_count": null,
   "metadata": {},
   "outputs": [],
   "source": [
    "total_pitches_pitcher['g_id'].value_counts()"
   ]
  },
  {
   "cell_type": "code",
   "execution_count": 265,
   "metadata": {},
   "outputs": [],
   "source": [
    "def plot_inning_trend_per_pitcher(joined_atbats):\n",
    "    print('This metric returns innings thrown by a Pitcher per Game, per Season and Avg. innings thrown by a Pitcher per Game over a Season')\n",
    "    print('\\n')\n",
    "    print('Enter Pitcher ID Number and Press Enter: ')\n",
    "    pitcher_id = int(input())\n",
    "    joined_atbats = joined_atbats\n",
    "    \n",
    "    #Search for that specific pitcher by ID\n",
    "    joined_atbats = joined_atbats[joined_atbats['pitcher_id'] == pitcher_id]\n",
    "    pitcher_name = joined_atbats[joined_atbats['pitcher_id'] == pitcher_id]['full_name'].unique()\n",
    "    \n",
    "    #Aggregate to get innings information for pitcher_id\n",
    "    #Get innings as a column\n",
    "    all_games_innings = joined_atbats.groupby(by=['g_id'], as_index=False)['inning'].nunique().reset_index()\n",
    "    #Get unique game dates that the pitcher pitched as a column\n",
    "    all_games_dates = joined_atbats.groupby(by=['g_id'], as_index=False)['date'].agg([np.unique]).reset_index()\n",
    "    #Concatenate into one Pandas dataframe, drop the index column\n",
    "    combined_innings = pd.concat([all_games_dates, all_games_innings], axis=1).drop(columns=['index'])\n",
    "    combined_innings = combined_innings.rename(columns = {'unique': 'date'})\n",
    "    \n",
    "    #Get some performance metrics\n",
    "    #Total innings pitched\n",
    "    total_innings = all_games_innings.sum()\n",
    "    #Average innings pitched\n",
    "    avg_innings = all_games_innings.mean()\n",
    "    #Get Rolling Average of last 3 games pitched innings\n",
    "    combined_innings['rolling_mean'] = np.round(combined_innings['inning'].rolling(window=3).mean(), decimals = 0)\n",
    " \n",
    "    \n",
    "    #Output: Text and Visualization   \n",
    "    print('--------------------------------------------------------')\n",
    "    print('Visualization of Innings Pitched by ID:', pitcher_id, ' ', pitcher_name, ' over the Season')\n",
    "    print('Pitcher ', pitcher_name, 'Pitched a Total of ', total_innings, ' and an Average of ', avg_innings, ' over the Season')\n",
    "    print('--------------------------------------------------------')\n",
    "       \n",
    "    fig = make_subplots(specs = [[{'secondary_y' : True}]])\n",
    "    \n",
    "    fig.add_trace(\n",
    "        go.Bar(x=combined_innings['date'], y=combined_innings['inning'], name = 'Innings Pitched over Season'),\n",
    "        secondary_y = False,\n",
    "    )\n",
    "    \n",
    "    fig.add_trace(\n",
    "        go.Line(x=combined_innings[\"date\"], y=combined_innings[\"rolling_mean\"], name = 'Average Innings in Last 3 Games'),\n",
    "        secondary_y = True,\n",
    "    )\n",
    "    \n",
    "    fig.update_layout(title_text = \"<b>Innings Thrown per Game over the Season</b>\")\n",
    "    fig.update_xaxes(title_text = '<b>Game Date</b>')\n",
    "    fig.update_yaxes(title_text = '<b>Total Innings Thrown Over the Season</b>', secondary_y = False)\n",
    "    fig.update_yaxes(title_text = '<b>Average Innings Thrown Over Last 3 Games</b>', secondary_y = True)\n",
    "\n",
    "    fig.show()\n",
    "    "
   ]
  },
  {
   "cell_type": "code",
   "execution_count": 295,
   "metadata": {},
   "outputs": [
    {
     "name": "stdout",
     "output_type": "stream",
     "text": [
      "This metric returns innings thrown by a Pitcher per Game, per Season and Avg. innings thrown by a Pitcher per Game over a Season\n",
      "\n",
      "\n",
      "Enter Pitcher ID Number and Press Enter: \n",
      "547943\n",
      "--------------------------------------------------------\n",
      "Visualization of Innings Pitched by ID: 547943   ['Hyun-Jin Ryu']  over the Season\n",
      "Pitcher  ['Hyun-Jin Ryu'] Pitched a Total of  index     406\n",
      "inning    187\n",
      "dtype: int64  and an Average of  index     14.000000\n",
      "inning     6.448276\n",
      "dtype: float64  over the Season\n",
      "--------------------------------------------------------\n"
     ]
    },
    {
     "data": {
      "application/vnd.plotly.v1+json": {
       "config": {
        "plotlyServerURL": "https://plot.ly"
       },
       "data": [
        {
         "name": "Innings Pitched over Season",
         "type": "bar",
         "x": [
          "2019-03-28",
          "2019-04-02",
          "2019-04-08",
          "2019-04-20",
          "2019-04-26",
          "2019-05-01",
          "2019-05-07",
          "2019-05-12",
          "2019-05-19",
          "2019-05-25",
          "2019-05-30",
          "2019-06-04",
          "2019-06-10",
          "2019-06-16",
          "2019-06-22",
          "2019-06-28",
          "2019-07-04",
          "2019-07-14",
          "2019-07-19",
          "2019-07-26",
          "2019-07-31",
          "2019-08-11",
          "2019-08-17",
          "2019-08-23",
          "2019-08-29",
          "2019-09-04",
          "2019-09-14",
          "2019-09-22",
          "2019-09-28"
         ],
         "xaxis": "x",
         "y": [
          6,
          7,
          2,
          6,
          7,
          8,
          9,
          8,
          7,
          6,
          8,
          7,
          6,
          7,
          6,
          5,
          6,
          7,
          7,
          7,
          6,
          7,
          6,
          5,
          5,
          5,
          7,
          7,
          7
         ],
         "yaxis": "y"
        },
        {
         "name": "Average Innings in Last 3 Games",
         "type": "scatter",
         "x": [
          "2019-03-28",
          "2019-04-02",
          "2019-04-08",
          "2019-04-20",
          "2019-04-26",
          "2019-05-01",
          "2019-05-07",
          "2019-05-12",
          "2019-05-19",
          "2019-05-25",
          "2019-05-30",
          "2019-06-04",
          "2019-06-10",
          "2019-06-16",
          "2019-06-22",
          "2019-06-28",
          "2019-07-04",
          "2019-07-14",
          "2019-07-19",
          "2019-07-26",
          "2019-07-31",
          "2019-08-11",
          "2019-08-17",
          "2019-08-23",
          "2019-08-29",
          "2019-09-04",
          "2019-09-14",
          "2019-09-22",
          "2019-09-28"
         ],
         "xaxis": "x",
         "y": [
          null,
          null,
          5,
          5,
          5,
          7,
          8,
          8,
          8,
          7,
          7,
          7,
          7,
          7,
          6,
          6,
          6,
          6,
          7,
          7,
          7,
          7,
          6,
          6,
          5,
          5,
          6,
          6,
          7
         ],
         "yaxis": "y2"
        }
       ],
       "layout": {
        "template": {
         "data": {
          "bar": [
           {
            "error_x": {
             "color": "#2a3f5f"
            },
            "error_y": {
             "color": "#2a3f5f"
            },
            "marker": {
             "line": {
              "color": "#E5ECF6",
              "width": 0.5
             }
            },
            "type": "bar"
           }
          ],
          "barpolar": [
           {
            "marker": {
             "line": {
              "color": "#E5ECF6",
              "width": 0.5
             }
            },
            "type": "barpolar"
           }
          ],
          "carpet": [
           {
            "aaxis": {
             "endlinecolor": "#2a3f5f",
             "gridcolor": "white",
             "linecolor": "white",
             "minorgridcolor": "white",
             "startlinecolor": "#2a3f5f"
            },
            "baxis": {
             "endlinecolor": "#2a3f5f",
             "gridcolor": "white",
             "linecolor": "white",
             "minorgridcolor": "white",
             "startlinecolor": "#2a3f5f"
            },
            "type": "carpet"
           }
          ],
          "choropleth": [
           {
            "colorbar": {
             "outlinewidth": 0,
             "ticks": ""
            },
            "type": "choropleth"
           }
          ],
          "contour": [
           {
            "colorbar": {
             "outlinewidth": 0,
             "ticks": ""
            },
            "colorscale": [
             [
              0,
              "#0d0887"
             ],
             [
              0.1111111111111111,
              "#46039f"
             ],
             [
              0.2222222222222222,
              "#7201a8"
             ],
             [
              0.3333333333333333,
              "#9c179e"
             ],
             [
              0.4444444444444444,
              "#bd3786"
             ],
             [
              0.5555555555555556,
              "#d8576b"
             ],
             [
              0.6666666666666666,
              "#ed7953"
             ],
             [
              0.7777777777777778,
              "#fb9f3a"
             ],
             [
              0.8888888888888888,
              "#fdca26"
             ],
             [
              1,
              "#f0f921"
             ]
            ],
            "type": "contour"
           }
          ],
          "contourcarpet": [
           {
            "colorbar": {
             "outlinewidth": 0,
             "ticks": ""
            },
            "type": "contourcarpet"
           }
          ],
          "heatmap": [
           {
            "colorbar": {
             "outlinewidth": 0,
             "ticks": ""
            },
            "colorscale": [
             [
              0,
              "#0d0887"
             ],
             [
              0.1111111111111111,
              "#46039f"
             ],
             [
              0.2222222222222222,
              "#7201a8"
             ],
             [
              0.3333333333333333,
              "#9c179e"
             ],
             [
              0.4444444444444444,
              "#bd3786"
             ],
             [
              0.5555555555555556,
              "#d8576b"
             ],
             [
              0.6666666666666666,
              "#ed7953"
             ],
             [
              0.7777777777777778,
              "#fb9f3a"
             ],
             [
              0.8888888888888888,
              "#fdca26"
             ],
             [
              1,
              "#f0f921"
             ]
            ],
            "type": "heatmap"
           }
          ],
          "heatmapgl": [
           {
            "colorbar": {
             "outlinewidth": 0,
             "ticks": ""
            },
            "colorscale": [
             [
              0,
              "#0d0887"
             ],
             [
              0.1111111111111111,
              "#46039f"
             ],
             [
              0.2222222222222222,
              "#7201a8"
             ],
             [
              0.3333333333333333,
              "#9c179e"
             ],
             [
              0.4444444444444444,
              "#bd3786"
             ],
             [
              0.5555555555555556,
              "#d8576b"
             ],
             [
              0.6666666666666666,
              "#ed7953"
             ],
             [
              0.7777777777777778,
              "#fb9f3a"
             ],
             [
              0.8888888888888888,
              "#fdca26"
             ],
             [
              1,
              "#f0f921"
             ]
            ],
            "type": "heatmapgl"
           }
          ],
          "histogram": [
           {
            "marker": {
             "colorbar": {
              "outlinewidth": 0,
              "ticks": ""
             }
            },
            "type": "histogram"
           }
          ],
          "histogram2d": [
           {
            "colorbar": {
             "outlinewidth": 0,
             "ticks": ""
            },
            "colorscale": [
             [
              0,
              "#0d0887"
             ],
             [
              0.1111111111111111,
              "#46039f"
             ],
             [
              0.2222222222222222,
              "#7201a8"
             ],
             [
              0.3333333333333333,
              "#9c179e"
             ],
             [
              0.4444444444444444,
              "#bd3786"
             ],
             [
              0.5555555555555556,
              "#d8576b"
             ],
             [
              0.6666666666666666,
              "#ed7953"
             ],
             [
              0.7777777777777778,
              "#fb9f3a"
             ],
             [
              0.8888888888888888,
              "#fdca26"
             ],
             [
              1,
              "#f0f921"
             ]
            ],
            "type": "histogram2d"
           }
          ],
          "histogram2dcontour": [
           {
            "colorbar": {
             "outlinewidth": 0,
             "ticks": ""
            },
            "colorscale": [
             [
              0,
              "#0d0887"
             ],
             [
              0.1111111111111111,
              "#46039f"
             ],
             [
              0.2222222222222222,
              "#7201a8"
             ],
             [
              0.3333333333333333,
              "#9c179e"
             ],
             [
              0.4444444444444444,
              "#bd3786"
             ],
             [
              0.5555555555555556,
              "#d8576b"
             ],
             [
              0.6666666666666666,
              "#ed7953"
             ],
             [
              0.7777777777777778,
              "#fb9f3a"
             ],
             [
              0.8888888888888888,
              "#fdca26"
             ],
             [
              1,
              "#f0f921"
             ]
            ],
            "type": "histogram2dcontour"
           }
          ],
          "mesh3d": [
           {
            "colorbar": {
             "outlinewidth": 0,
             "ticks": ""
            },
            "type": "mesh3d"
           }
          ],
          "parcoords": [
           {
            "line": {
             "colorbar": {
              "outlinewidth": 0,
              "ticks": ""
             }
            },
            "type": "parcoords"
           }
          ],
          "pie": [
           {
            "automargin": true,
            "type": "pie"
           }
          ],
          "scatter": [
           {
            "marker": {
             "colorbar": {
              "outlinewidth": 0,
              "ticks": ""
             }
            },
            "type": "scatter"
           }
          ],
          "scatter3d": [
           {
            "line": {
             "colorbar": {
              "outlinewidth": 0,
              "ticks": ""
             }
            },
            "marker": {
             "colorbar": {
              "outlinewidth": 0,
              "ticks": ""
             }
            },
            "type": "scatter3d"
           }
          ],
          "scattercarpet": [
           {
            "marker": {
             "colorbar": {
              "outlinewidth": 0,
              "ticks": ""
             }
            },
            "type": "scattercarpet"
           }
          ],
          "scattergeo": [
           {
            "marker": {
             "colorbar": {
              "outlinewidth": 0,
              "ticks": ""
             }
            },
            "type": "scattergeo"
           }
          ],
          "scattergl": [
           {
            "marker": {
             "colorbar": {
              "outlinewidth": 0,
              "ticks": ""
             }
            },
            "type": "scattergl"
           }
          ],
          "scattermapbox": [
           {
            "marker": {
             "colorbar": {
              "outlinewidth": 0,
              "ticks": ""
             }
            },
            "type": "scattermapbox"
           }
          ],
          "scatterpolar": [
           {
            "marker": {
             "colorbar": {
              "outlinewidth": 0,
              "ticks": ""
             }
            },
            "type": "scatterpolar"
           }
          ],
          "scatterpolargl": [
           {
            "marker": {
             "colorbar": {
              "outlinewidth": 0,
              "ticks": ""
             }
            },
            "type": "scatterpolargl"
           }
          ],
          "scatterternary": [
           {
            "marker": {
             "colorbar": {
              "outlinewidth": 0,
              "ticks": ""
             }
            },
            "type": "scatterternary"
           }
          ],
          "surface": [
           {
            "colorbar": {
             "outlinewidth": 0,
             "ticks": ""
            },
            "colorscale": [
             [
              0,
              "#0d0887"
             ],
             [
              0.1111111111111111,
              "#46039f"
             ],
             [
              0.2222222222222222,
              "#7201a8"
             ],
             [
              0.3333333333333333,
              "#9c179e"
             ],
             [
              0.4444444444444444,
              "#bd3786"
             ],
             [
              0.5555555555555556,
              "#d8576b"
             ],
             [
              0.6666666666666666,
              "#ed7953"
             ],
             [
              0.7777777777777778,
              "#fb9f3a"
             ],
             [
              0.8888888888888888,
              "#fdca26"
             ],
             [
              1,
              "#f0f921"
             ]
            ],
            "type": "surface"
           }
          ],
          "table": [
           {
            "cells": {
             "fill": {
              "color": "#EBF0F8"
             },
             "line": {
              "color": "white"
             }
            },
            "header": {
             "fill": {
              "color": "#C8D4E3"
             },
             "line": {
              "color": "white"
             }
            },
            "type": "table"
           }
          ]
         },
         "layout": {
          "annotationdefaults": {
           "arrowcolor": "#2a3f5f",
           "arrowhead": 0,
           "arrowwidth": 1
          },
          "autotypenumbers": "strict",
          "coloraxis": {
           "colorbar": {
            "outlinewidth": 0,
            "ticks": ""
           }
          },
          "colorscale": {
           "diverging": [
            [
             0,
             "#8e0152"
            ],
            [
             0.1,
             "#c51b7d"
            ],
            [
             0.2,
             "#de77ae"
            ],
            [
             0.3,
             "#f1b6da"
            ],
            [
             0.4,
             "#fde0ef"
            ],
            [
             0.5,
             "#f7f7f7"
            ],
            [
             0.6,
             "#e6f5d0"
            ],
            [
             0.7,
             "#b8e186"
            ],
            [
             0.8,
             "#7fbc41"
            ],
            [
             0.9,
             "#4d9221"
            ],
            [
             1,
             "#276419"
            ]
           ],
           "sequential": [
            [
             0,
             "#0d0887"
            ],
            [
             0.1111111111111111,
             "#46039f"
            ],
            [
             0.2222222222222222,
             "#7201a8"
            ],
            [
             0.3333333333333333,
             "#9c179e"
            ],
            [
             0.4444444444444444,
             "#bd3786"
            ],
            [
             0.5555555555555556,
             "#d8576b"
            ],
            [
             0.6666666666666666,
             "#ed7953"
            ],
            [
             0.7777777777777778,
             "#fb9f3a"
            ],
            [
             0.8888888888888888,
             "#fdca26"
            ],
            [
             1,
             "#f0f921"
            ]
           ],
           "sequentialminus": [
            [
             0,
             "#0d0887"
            ],
            [
             0.1111111111111111,
             "#46039f"
            ],
            [
             0.2222222222222222,
             "#7201a8"
            ],
            [
             0.3333333333333333,
             "#9c179e"
            ],
            [
             0.4444444444444444,
             "#bd3786"
            ],
            [
             0.5555555555555556,
             "#d8576b"
            ],
            [
             0.6666666666666666,
             "#ed7953"
            ],
            [
             0.7777777777777778,
             "#fb9f3a"
            ],
            [
             0.8888888888888888,
             "#fdca26"
            ],
            [
             1,
             "#f0f921"
            ]
           ]
          },
          "colorway": [
           "#636efa",
           "#EF553B",
           "#00cc96",
           "#ab63fa",
           "#FFA15A",
           "#19d3f3",
           "#FF6692",
           "#B6E880",
           "#FF97FF",
           "#FECB52"
          ],
          "font": {
           "color": "#2a3f5f"
          },
          "geo": {
           "bgcolor": "white",
           "lakecolor": "white",
           "landcolor": "#E5ECF6",
           "showlakes": true,
           "showland": true,
           "subunitcolor": "white"
          },
          "hoverlabel": {
           "align": "left"
          },
          "hovermode": "closest",
          "mapbox": {
           "style": "light"
          },
          "paper_bgcolor": "white",
          "plot_bgcolor": "#E5ECF6",
          "polar": {
           "angularaxis": {
            "gridcolor": "white",
            "linecolor": "white",
            "ticks": ""
           },
           "bgcolor": "#E5ECF6",
           "radialaxis": {
            "gridcolor": "white",
            "linecolor": "white",
            "ticks": ""
           }
          },
          "scene": {
           "xaxis": {
            "backgroundcolor": "#E5ECF6",
            "gridcolor": "white",
            "gridwidth": 2,
            "linecolor": "white",
            "showbackground": true,
            "ticks": "",
            "zerolinecolor": "white"
           },
           "yaxis": {
            "backgroundcolor": "#E5ECF6",
            "gridcolor": "white",
            "gridwidth": 2,
            "linecolor": "white",
            "showbackground": true,
            "ticks": "",
            "zerolinecolor": "white"
           },
           "zaxis": {
            "backgroundcolor": "#E5ECF6",
            "gridcolor": "white",
            "gridwidth": 2,
            "linecolor": "white",
            "showbackground": true,
            "ticks": "",
            "zerolinecolor": "white"
           }
          },
          "shapedefaults": {
           "line": {
            "color": "#2a3f5f"
           }
          },
          "ternary": {
           "aaxis": {
            "gridcolor": "white",
            "linecolor": "white",
            "ticks": ""
           },
           "baxis": {
            "gridcolor": "white",
            "linecolor": "white",
            "ticks": ""
           },
           "bgcolor": "#E5ECF6",
           "caxis": {
            "gridcolor": "white",
            "linecolor": "white",
            "ticks": ""
           }
          },
          "title": {
           "x": 0.05
          },
          "xaxis": {
           "automargin": true,
           "gridcolor": "white",
           "linecolor": "white",
           "ticks": "",
           "title": {
            "standoff": 15
           },
           "zerolinecolor": "white",
           "zerolinewidth": 2
          },
          "yaxis": {
           "automargin": true,
           "gridcolor": "white",
           "linecolor": "white",
           "ticks": "",
           "title": {
            "standoff": 15
           },
           "zerolinecolor": "white",
           "zerolinewidth": 2
          }
         }
        },
        "title": {
         "text": "<b>Innings Thrown per Game over the Season</b>"
        },
        "xaxis": {
         "anchor": "y",
         "domain": [
          0,
          0.94
         ],
         "title": {
          "text": "<b>Game Date</b>"
         }
        },
        "yaxis": {
         "anchor": "x",
         "domain": [
          0,
          1
         ],
         "title": {
          "text": "<b>Total Innings Thrown Over the Season</b>"
         }
        },
        "yaxis2": {
         "anchor": "x",
         "overlaying": "y",
         "side": "right",
         "title": {
          "text": "<b>Average Innings Thrown Over Last 3 Games</b>"
         }
        }
       }
      },
      "text/html": [
       "<div>                            <div id=\"c8de9648-a81a-4daf-b330-f788842e456d\" class=\"plotly-graph-div\" style=\"height:525px; width:100%;\"></div>            <script type=\"text/javascript\">                require([\"plotly\"], function(Plotly) {                    window.PLOTLYENV=window.PLOTLYENV || {};                                    if (document.getElementById(\"c8de9648-a81a-4daf-b330-f788842e456d\")) {                    Plotly.newPlot(                        \"c8de9648-a81a-4daf-b330-f788842e456d\",                        [{\"name\": \"Innings Pitched over Season\", \"type\": \"bar\", \"x\": [\"2019-03-28\", \"2019-04-02\", \"2019-04-08\", \"2019-04-20\", \"2019-04-26\", \"2019-05-01\", \"2019-05-07\", \"2019-05-12\", \"2019-05-19\", \"2019-05-25\", \"2019-05-30\", \"2019-06-04\", \"2019-06-10\", \"2019-06-16\", \"2019-06-22\", \"2019-06-28\", \"2019-07-04\", \"2019-07-14\", \"2019-07-19\", \"2019-07-26\", \"2019-07-31\", \"2019-08-11\", \"2019-08-17\", \"2019-08-23\", \"2019-08-29\", \"2019-09-04\", \"2019-09-14\", \"2019-09-22\", \"2019-09-28\"], \"xaxis\": \"x\", \"y\": [6, 7, 2, 6, 7, 8, 9, 8, 7, 6, 8, 7, 6, 7, 6, 5, 6, 7, 7, 7, 6, 7, 6, 5, 5, 5, 7, 7, 7], \"yaxis\": \"y\"}, {\"name\": \"Average Innings in Last 3 Games\", \"type\": \"scatter\", \"x\": [\"2019-03-28\", \"2019-04-02\", \"2019-04-08\", \"2019-04-20\", \"2019-04-26\", \"2019-05-01\", \"2019-05-07\", \"2019-05-12\", \"2019-05-19\", \"2019-05-25\", \"2019-05-30\", \"2019-06-04\", \"2019-06-10\", \"2019-06-16\", \"2019-06-22\", \"2019-06-28\", \"2019-07-04\", \"2019-07-14\", \"2019-07-19\", \"2019-07-26\", \"2019-07-31\", \"2019-08-11\", \"2019-08-17\", \"2019-08-23\", \"2019-08-29\", \"2019-09-04\", \"2019-09-14\", \"2019-09-22\", \"2019-09-28\"], \"xaxis\": \"x\", \"y\": [null, null, 5.0, 5.0, 5.0, 7.0, 8.0, 8.0, 8.0, 7.0, 7.0, 7.0, 7.0, 7.0, 6.0, 6.0, 6.0, 6.0, 7.0, 7.0, 7.0, 7.0, 6.0, 6.0, 5.0, 5.0, 6.0, 6.0, 7.0], \"yaxis\": \"y2\"}],                        {\"template\": {\"data\": {\"bar\": [{\"error_x\": {\"color\": \"#2a3f5f\"}, \"error_y\": {\"color\": \"#2a3f5f\"}, \"marker\": {\"line\": {\"color\": \"#E5ECF6\", \"width\": 0.5}}, \"type\": \"bar\"}], \"barpolar\": [{\"marker\": {\"line\": {\"color\": \"#E5ECF6\", \"width\": 0.5}}, \"type\": \"barpolar\"}], \"carpet\": [{\"aaxis\": {\"endlinecolor\": \"#2a3f5f\", \"gridcolor\": \"white\", \"linecolor\": \"white\", \"minorgridcolor\": \"white\", \"startlinecolor\": \"#2a3f5f\"}, \"baxis\": {\"endlinecolor\": \"#2a3f5f\", \"gridcolor\": \"white\", \"linecolor\": \"white\", \"minorgridcolor\": \"white\", \"startlinecolor\": \"#2a3f5f\"}, \"type\": \"carpet\"}], \"choropleth\": [{\"colorbar\": {\"outlinewidth\": 0, \"ticks\": \"\"}, \"type\": \"choropleth\"}], \"contour\": [{\"colorbar\": {\"outlinewidth\": 0, \"ticks\": \"\"}, \"colorscale\": [[0.0, \"#0d0887\"], [0.1111111111111111, \"#46039f\"], [0.2222222222222222, \"#7201a8\"], [0.3333333333333333, \"#9c179e\"], [0.4444444444444444, \"#bd3786\"], [0.5555555555555556, \"#d8576b\"], [0.6666666666666666, \"#ed7953\"], [0.7777777777777778, \"#fb9f3a\"], [0.8888888888888888, \"#fdca26\"], [1.0, \"#f0f921\"]], \"type\": \"contour\"}], \"contourcarpet\": [{\"colorbar\": {\"outlinewidth\": 0, \"ticks\": \"\"}, \"type\": \"contourcarpet\"}], \"heatmap\": [{\"colorbar\": {\"outlinewidth\": 0, \"ticks\": \"\"}, \"colorscale\": [[0.0, \"#0d0887\"], [0.1111111111111111, \"#46039f\"], [0.2222222222222222, \"#7201a8\"], [0.3333333333333333, \"#9c179e\"], [0.4444444444444444, \"#bd3786\"], [0.5555555555555556, \"#d8576b\"], [0.6666666666666666, \"#ed7953\"], [0.7777777777777778, \"#fb9f3a\"], [0.8888888888888888, \"#fdca26\"], [1.0, \"#f0f921\"]], \"type\": \"heatmap\"}], \"heatmapgl\": [{\"colorbar\": {\"outlinewidth\": 0, \"ticks\": \"\"}, \"colorscale\": [[0.0, \"#0d0887\"], [0.1111111111111111, \"#46039f\"], [0.2222222222222222, \"#7201a8\"], [0.3333333333333333, \"#9c179e\"], [0.4444444444444444, \"#bd3786\"], [0.5555555555555556, \"#d8576b\"], [0.6666666666666666, \"#ed7953\"], [0.7777777777777778, \"#fb9f3a\"], [0.8888888888888888, \"#fdca26\"], [1.0, \"#f0f921\"]], \"type\": \"heatmapgl\"}], \"histogram\": [{\"marker\": {\"colorbar\": {\"outlinewidth\": 0, \"ticks\": \"\"}}, \"type\": \"histogram\"}], \"histogram2d\": [{\"colorbar\": {\"outlinewidth\": 0, \"ticks\": \"\"}, \"colorscale\": [[0.0, \"#0d0887\"], [0.1111111111111111, \"#46039f\"], [0.2222222222222222, \"#7201a8\"], [0.3333333333333333, \"#9c179e\"], [0.4444444444444444, \"#bd3786\"], [0.5555555555555556, \"#d8576b\"], [0.6666666666666666, \"#ed7953\"], [0.7777777777777778, \"#fb9f3a\"], [0.8888888888888888, \"#fdca26\"], [1.0, \"#f0f921\"]], \"type\": \"histogram2d\"}], \"histogram2dcontour\": [{\"colorbar\": {\"outlinewidth\": 0, \"ticks\": \"\"}, \"colorscale\": [[0.0, \"#0d0887\"], [0.1111111111111111, \"#46039f\"], [0.2222222222222222, \"#7201a8\"], [0.3333333333333333, \"#9c179e\"], [0.4444444444444444, \"#bd3786\"], [0.5555555555555556, \"#d8576b\"], [0.6666666666666666, \"#ed7953\"], [0.7777777777777778, \"#fb9f3a\"], [0.8888888888888888, \"#fdca26\"], [1.0, \"#f0f921\"]], \"type\": \"histogram2dcontour\"}], \"mesh3d\": [{\"colorbar\": {\"outlinewidth\": 0, \"ticks\": \"\"}, \"type\": \"mesh3d\"}], \"parcoords\": [{\"line\": {\"colorbar\": {\"outlinewidth\": 0, \"ticks\": \"\"}}, \"type\": \"parcoords\"}], \"pie\": [{\"automargin\": true, \"type\": \"pie\"}], \"scatter\": [{\"marker\": {\"colorbar\": {\"outlinewidth\": 0, \"ticks\": \"\"}}, \"type\": \"scatter\"}], \"scatter3d\": [{\"line\": {\"colorbar\": {\"outlinewidth\": 0, \"ticks\": \"\"}}, \"marker\": {\"colorbar\": {\"outlinewidth\": 0, \"ticks\": \"\"}}, \"type\": \"scatter3d\"}], \"scattercarpet\": [{\"marker\": {\"colorbar\": {\"outlinewidth\": 0, \"ticks\": \"\"}}, \"type\": \"scattercarpet\"}], \"scattergeo\": [{\"marker\": {\"colorbar\": {\"outlinewidth\": 0, \"ticks\": \"\"}}, \"type\": \"scattergeo\"}], \"scattergl\": [{\"marker\": {\"colorbar\": {\"outlinewidth\": 0, \"ticks\": \"\"}}, \"type\": \"scattergl\"}], \"scattermapbox\": [{\"marker\": {\"colorbar\": {\"outlinewidth\": 0, \"ticks\": \"\"}}, \"type\": \"scattermapbox\"}], \"scatterpolar\": [{\"marker\": {\"colorbar\": {\"outlinewidth\": 0, \"ticks\": \"\"}}, \"type\": \"scatterpolar\"}], \"scatterpolargl\": [{\"marker\": {\"colorbar\": {\"outlinewidth\": 0, \"ticks\": \"\"}}, \"type\": \"scatterpolargl\"}], \"scatterternary\": [{\"marker\": {\"colorbar\": {\"outlinewidth\": 0, \"ticks\": \"\"}}, \"type\": \"scatterternary\"}], \"surface\": [{\"colorbar\": {\"outlinewidth\": 0, \"ticks\": \"\"}, \"colorscale\": [[0.0, \"#0d0887\"], [0.1111111111111111, \"#46039f\"], [0.2222222222222222, \"#7201a8\"], [0.3333333333333333, \"#9c179e\"], [0.4444444444444444, \"#bd3786\"], [0.5555555555555556, \"#d8576b\"], [0.6666666666666666, \"#ed7953\"], [0.7777777777777778, \"#fb9f3a\"], [0.8888888888888888, \"#fdca26\"], [1.0, \"#f0f921\"]], \"type\": \"surface\"}], \"table\": [{\"cells\": {\"fill\": {\"color\": \"#EBF0F8\"}, \"line\": {\"color\": \"white\"}}, \"header\": {\"fill\": {\"color\": \"#C8D4E3\"}, \"line\": {\"color\": \"white\"}}, \"type\": \"table\"}]}, \"layout\": {\"annotationdefaults\": {\"arrowcolor\": \"#2a3f5f\", \"arrowhead\": 0, \"arrowwidth\": 1}, \"autotypenumbers\": \"strict\", \"coloraxis\": {\"colorbar\": {\"outlinewidth\": 0, \"ticks\": \"\"}}, \"colorscale\": {\"diverging\": [[0, \"#8e0152\"], [0.1, \"#c51b7d\"], [0.2, \"#de77ae\"], [0.3, \"#f1b6da\"], [0.4, \"#fde0ef\"], [0.5, \"#f7f7f7\"], [0.6, \"#e6f5d0\"], [0.7, \"#b8e186\"], [0.8, \"#7fbc41\"], [0.9, \"#4d9221\"], [1, \"#276419\"]], \"sequential\": [[0.0, \"#0d0887\"], [0.1111111111111111, \"#46039f\"], [0.2222222222222222, \"#7201a8\"], [0.3333333333333333, \"#9c179e\"], [0.4444444444444444, \"#bd3786\"], [0.5555555555555556, \"#d8576b\"], [0.6666666666666666, \"#ed7953\"], [0.7777777777777778, \"#fb9f3a\"], [0.8888888888888888, \"#fdca26\"], [1.0, \"#f0f921\"]], \"sequentialminus\": [[0.0, \"#0d0887\"], [0.1111111111111111, \"#46039f\"], [0.2222222222222222, \"#7201a8\"], [0.3333333333333333, \"#9c179e\"], [0.4444444444444444, \"#bd3786\"], [0.5555555555555556, \"#d8576b\"], [0.6666666666666666, \"#ed7953\"], [0.7777777777777778, \"#fb9f3a\"], [0.8888888888888888, \"#fdca26\"], [1.0, \"#f0f921\"]]}, \"colorway\": [\"#636efa\", \"#EF553B\", \"#00cc96\", \"#ab63fa\", \"#FFA15A\", \"#19d3f3\", \"#FF6692\", \"#B6E880\", \"#FF97FF\", \"#FECB52\"], \"font\": {\"color\": \"#2a3f5f\"}, \"geo\": {\"bgcolor\": \"white\", \"lakecolor\": \"white\", \"landcolor\": \"#E5ECF6\", \"showlakes\": true, \"showland\": true, \"subunitcolor\": \"white\"}, \"hoverlabel\": {\"align\": \"left\"}, \"hovermode\": \"closest\", \"mapbox\": {\"style\": \"light\"}, \"paper_bgcolor\": \"white\", \"plot_bgcolor\": \"#E5ECF6\", \"polar\": {\"angularaxis\": {\"gridcolor\": \"white\", \"linecolor\": \"white\", \"ticks\": \"\"}, \"bgcolor\": \"#E5ECF6\", \"radialaxis\": {\"gridcolor\": \"white\", \"linecolor\": \"white\", \"ticks\": \"\"}}, \"scene\": {\"xaxis\": {\"backgroundcolor\": \"#E5ECF6\", \"gridcolor\": \"white\", \"gridwidth\": 2, \"linecolor\": \"white\", \"showbackground\": true, \"ticks\": \"\", \"zerolinecolor\": \"white\"}, \"yaxis\": {\"backgroundcolor\": \"#E5ECF6\", \"gridcolor\": \"white\", \"gridwidth\": 2, \"linecolor\": \"white\", \"showbackground\": true, \"ticks\": \"\", \"zerolinecolor\": \"white\"}, \"zaxis\": {\"backgroundcolor\": \"#E5ECF6\", \"gridcolor\": \"white\", \"gridwidth\": 2, \"linecolor\": \"white\", \"showbackground\": true, \"ticks\": \"\", \"zerolinecolor\": \"white\"}}, \"shapedefaults\": {\"line\": {\"color\": \"#2a3f5f\"}}, \"ternary\": {\"aaxis\": {\"gridcolor\": \"white\", \"linecolor\": \"white\", \"ticks\": \"\"}, \"baxis\": {\"gridcolor\": \"white\", \"linecolor\": \"white\", \"ticks\": \"\"}, \"bgcolor\": \"#E5ECF6\", \"caxis\": {\"gridcolor\": \"white\", \"linecolor\": \"white\", \"ticks\": \"\"}}, \"title\": {\"x\": 0.05}, \"xaxis\": {\"automargin\": true, \"gridcolor\": \"white\", \"linecolor\": \"white\", \"ticks\": \"\", \"title\": {\"standoff\": 15}, \"zerolinecolor\": \"white\", \"zerolinewidth\": 2}, \"yaxis\": {\"automargin\": true, \"gridcolor\": \"white\", \"linecolor\": \"white\", \"ticks\": \"\", \"title\": {\"standoff\": 15}, \"zerolinecolor\": \"white\", \"zerolinewidth\": 2}}}, \"title\": {\"text\": \"<b>Innings Thrown per Game over the Season</b>\"}, \"xaxis\": {\"anchor\": \"y\", \"domain\": [0.0, 0.94], \"title\": {\"text\": \"<b>Game Date</b>\"}}, \"yaxis\": {\"anchor\": \"x\", \"domain\": [0.0, 1.0], \"title\": {\"text\": \"<b>Total Innings Thrown Over the Season</b>\"}}, \"yaxis2\": {\"anchor\": \"x\", \"overlaying\": \"y\", \"side\": \"right\", \"title\": {\"text\": \"<b>Average Innings Thrown Over Last 3 Games</b>\"}}},                        {\"responsive\": true}                    ).then(function(){\n",
       "                            \n",
       "var gd = document.getElementById('c8de9648-a81a-4daf-b330-f788842e456d');\n",
       "var x = new MutationObserver(function (mutations, observer) {{\n",
       "        var display = window.getComputedStyle(gd).display;\n",
       "        if (!display || display === 'none') {{\n",
       "            console.log([gd, 'removed!']);\n",
       "            Plotly.purge(gd);\n",
       "            observer.disconnect();\n",
       "        }}\n",
       "}});\n",
       "\n",
       "// Listen for the removal of the full notebook cells\n",
       "var notebookContainer = gd.closest('#notebook-container');\n",
       "if (notebookContainer) {{\n",
       "    x.observe(notebookContainer, {childList: true});\n",
       "}}\n",
       "\n",
       "// Listen for the clearing of the current output cell\n",
       "var outputEl = gd.closest('.output');\n",
       "if (outputEl) {{\n",
       "    x.observe(outputEl, {childList: true});\n",
       "}}\n",
       "\n",
       "                        })                };                });            </script>        </div>"
      ]
     },
     "metadata": {},
     "output_type": "display_data"
    }
   ],
   "source": [
    "plot_inning_trend_per_pitcher(joined_atbats)"
   ]
  },
  {
   "cell_type": "code",
   "execution_count": 274,
   "metadata": {},
   "outputs": [
    {
     "data": {
      "text/plain": [
       "Index(['px', 'pz', 'start_speed', 'end_speed', 'spin_rate', 'spin_dir',\n",
       "       'break_angle', 'break_length', 'break_y', 'ax', 'ay', 'az', 'sz_bot',\n",
       "       'sz_top', 'type_confidence', 'vx0', 'vy0', 'vz0', 'x', 'x0', 'y', 'y0',\n",
       "       'z0', 'pfx_x', 'pfx_z', 'nasty', 'zone', 'code', 'type', 'pitch_type',\n",
       "       'event_num', 'b_score', 'ab_id', 'b_count', 's_count', 'outs',\n",
       "       'pitch_num', 'on_1b', 'on_2b', 'on_3b', 'inning', 'top', 'g_id',\n",
       "       'p_score', 'batter_id', 'pitcher_id', 'stand', 'p_throws', 'event', 'o',\n",
       "       'home_team', 'away_team', 'home_final_score', 'away_final_score',\n",
       "       'date', 'umpire_HP', 'umpire_1B', 'umpire_2B', 'umpire_3B',\n",
       "       'start_time', 'venue_name', 'weather', 'wind', 'elapsed_time',\n",
       "       'attendance', 'id', 'first_name', 'last_name', 'full_name'],\n",
       "      dtype='object')"
      ]
     },
     "execution_count": 274,
     "metadata": {},
     "output_type": "execute_result"
    }
   ],
   "source": [
    "test.columns"
   ]
  },
  {
   "cell_type": "code",
   "execution_count": 304,
   "metadata": {},
   "outputs": [
    {
     "data": {
      "text/html": [
       "<div>\n",
       "<style scoped>\n",
       "    .dataframe tbody tr th:only-of-type {\n",
       "        vertical-align: middle;\n",
       "    }\n",
       "\n",
       "    .dataframe tbody tr th {\n",
       "        vertical-align: top;\n",
       "    }\n",
       "\n",
       "    .dataframe thead th {\n",
       "        text-align: right;\n",
       "    }\n",
       "</style>\n",
       "<table border=\"1\" class=\"dataframe\">\n",
       "  <thead>\n",
       "    <tr style=\"text-align: right;\">\n",
       "      <th></th>\n",
       "      <th>date</th>\n",
       "      <th>g_id</th>\n",
       "      <th>pitcher_id</th>\n",
       "      <th>batter_id</th>\n",
       "      <th>inning</th>\n",
       "      <th>event_num</th>\n",
       "      <th>b_score</th>\n",
       "      <th>p_score</th>\n",
       "      <th>b_count</th>\n",
       "      <th>s_count</th>\n",
       "      <th>outs</th>\n",
       "      <th>on_1b</th>\n",
       "      <th>on_2b</th>\n",
       "      <th>on_3b</th>\n",
       "      <th>start_speed</th>\n",
       "      <th>end_speed</th>\n",
       "      <th>pitch_type</th>\n",
       "    </tr>\n",
       "  </thead>\n",
       "  <tbody>\n",
       "    <tr>\n",
       "      <td>11</td>\n",
       "      <td>2019-03-28</td>\n",
       "      <td>201900001.0</td>\n",
       "      <td>502239</td>\n",
       "      <td>543257</td>\n",
       "      <td>1.0</td>\n",
       "      <td>22</td>\n",
       "      <td>0.0</td>\n",
       "      <td>0.0</td>\n",
       "      <td>0.0</td>\n",
       "      <td>0.0</td>\n",
       "      <td>0.0</td>\n",
       "      <td>0.0</td>\n",
       "      <td>0.0</td>\n",
       "      <td>0.0</td>\n",
       "      <td>89.8</td>\n",
       "      <td>82.3</td>\n",
       "      <td>SI</td>\n",
       "    </tr>\n",
       "    <tr>\n",
       "      <td>12</td>\n",
       "      <td>2019-03-28</td>\n",
       "      <td>201900001.0</td>\n",
       "      <td>502239</td>\n",
       "      <td>543257</td>\n",
       "      <td>1.0</td>\n",
       "      <td>23</td>\n",
       "      <td>0.0</td>\n",
       "      <td>0.0</td>\n",
       "      <td>0.0</td>\n",
       "      <td>0.0</td>\n",
       "      <td>0.0</td>\n",
       "      <td>0.0</td>\n",
       "      <td>0.0</td>\n",
       "      <td>0.0</td>\n",
       "      <td>82.3</td>\n",
       "      <td>76.0</td>\n",
       "      <td>CH</td>\n",
       "    </tr>\n",
       "    <tr>\n",
       "      <td>13</td>\n",
       "      <td>2019-03-28</td>\n",
       "      <td>201900001.0</td>\n",
       "      <td>502239</td>\n",
       "      <td>656305</td>\n",
       "      <td>1.0</td>\n",
       "      <td>26</td>\n",
       "      <td>0.0</td>\n",
       "      <td>0.0</td>\n",
       "      <td>0.0</td>\n",
       "      <td>0.0</td>\n",
       "      <td>0.0</td>\n",
       "      <td>0.0</td>\n",
       "      <td>0.0</td>\n",
       "      <td>0.0</td>\n",
       "      <td>92.1</td>\n",
       "      <td>83.3</td>\n",
       "      <td>SI</td>\n",
       "    </tr>\n",
       "    <tr>\n",
       "      <td>14</td>\n",
       "      <td>2019-03-28</td>\n",
       "      <td>201900001.0</td>\n",
       "      <td>502239</td>\n",
       "      <td>656305</td>\n",
       "      <td>1.0</td>\n",
       "      <td>27</td>\n",
       "      <td>0.0</td>\n",
       "      <td>0.0</td>\n",
       "      <td>0.0</td>\n",
       "      <td>0.0</td>\n",
       "      <td>0.0</td>\n",
       "      <td>0.0</td>\n",
       "      <td>0.0</td>\n",
       "      <td>0.0</td>\n",
       "      <td>83.0</td>\n",
       "      <td>76.2</td>\n",
       "      <td>CH</td>\n",
       "    </tr>\n",
       "    <tr>\n",
       "      <td>15</td>\n",
       "      <td>2019-03-28</td>\n",
       "      <td>201900001.0</td>\n",
       "      <td>502239</td>\n",
       "      <td>656305</td>\n",
       "      <td>1.0</td>\n",
       "      <td>28</td>\n",
       "      <td>0.0</td>\n",
       "      <td>0.0</td>\n",
       "      <td>0.0</td>\n",
       "      <td>0.0</td>\n",
       "      <td>0.0</td>\n",
       "      <td>0.0</td>\n",
       "      <td>0.0</td>\n",
       "      <td>0.0</td>\n",
       "      <td>85.1</td>\n",
       "      <td>78.7</td>\n",
       "      <td>CH</td>\n",
       "    </tr>\n",
       "    <tr>\n",
       "      <td>16</td>\n",
       "      <td>2019-03-28</td>\n",
       "      <td>201900001.0</td>\n",
       "      <td>502239</td>\n",
       "      <td>572039</td>\n",
       "      <td>1.0</td>\n",
       "      <td>31</td>\n",
       "      <td>0.0</td>\n",
       "      <td>0.0</td>\n",
       "      <td>0.0</td>\n",
       "      <td>0.0</td>\n",
       "      <td>1.0</td>\n",
       "      <td>0.0</td>\n",
       "      <td>0.0</td>\n",
       "      <td>0.0</td>\n",
       "      <td>91.8</td>\n",
       "      <td>84.3</td>\n",
       "      <td>SI</td>\n",
       "    </tr>\n",
       "    <tr>\n",
       "      <td>17</td>\n",
       "      <td>2019-03-28</td>\n",
       "      <td>201900001.0</td>\n",
       "      <td>502239</td>\n",
       "      <td>572039</td>\n",
       "      <td>1.0</td>\n",
       "      <td>32</td>\n",
       "      <td>0.0</td>\n",
       "      <td>0.0</td>\n",
       "      <td>0.0</td>\n",
       "      <td>0.0</td>\n",
       "      <td>1.0</td>\n",
       "      <td>0.0</td>\n",
       "      <td>0.0</td>\n",
       "      <td>0.0</td>\n",
       "      <td>91.5</td>\n",
       "      <td>82.9</td>\n",
       "      <td>SI</td>\n",
       "    </tr>\n",
       "    <tr>\n",
       "      <td>18</td>\n",
       "      <td>2019-03-28</td>\n",
       "      <td>201900001.0</td>\n",
       "      <td>502239</td>\n",
       "      <td>572039</td>\n",
       "      <td>1.0</td>\n",
       "      <td>34</td>\n",
       "      <td>0.0</td>\n",
       "      <td>0.0</td>\n",
       "      <td>0.0</td>\n",
       "      <td>1.0</td>\n",
       "      <td>1.0</td>\n",
       "      <td>0.0</td>\n",
       "      <td>0.0</td>\n",
       "      <td>0.0</td>\n",
       "      <td>80.7</td>\n",
       "      <td>73.1</td>\n",
       "      <td>KC</td>\n",
       "    </tr>\n",
       "    <tr>\n",
       "      <td>19</td>\n",
       "      <td>2019-03-28</td>\n",
       "      <td>201900001.0</td>\n",
       "      <td>502239</td>\n",
       "      <td>501981</td>\n",
       "      <td>1.0</td>\n",
       "      <td>38</td>\n",
       "      <td>0.0</td>\n",
       "      <td>0.0</td>\n",
       "      <td>0.0</td>\n",
       "      <td>0.0</td>\n",
       "      <td>2.0</td>\n",
       "      <td>0.0</td>\n",
       "      <td>0.0</td>\n",
       "      <td>0.0</td>\n",
       "      <td>91.8</td>\n",
       "      <td>83.6</td>\n",
       "      <td>SI</td>\n",
       "    </tr>\n",
       "    <tr>\n",
       "      <td>20</td>\n",
       "      <td>2019-03-28</td>\n",
       "      <td>201900001.0</td>\n",
       "      <td>502239</td>\n",
       "      <td>501981</td>\n",
       "      <td>1.0</td>\n",
       "      <td>39</td>\n",
       "      <td>0.0</td>\n",
       "      <td>0.0</td>\n",
       "      <td>0.0</td>\n",
       "      <td>0.0</td>\n",
       "      <td>2.0</td>\n",
       "      <td>0.0</td>\n",
       "      <td>0.0</td>\n",
       "      <td>0.0</td>\n",
       "      <td>80.9</td>\n",
       "      <td>74.0</td>\n",
       "      <td>KC</td>\n",
       "    </tr>\n",
       "    <tr>\n",
       "      <td>38</td>\n",
       "      <td>2019-03-28</td>\n",
       "      <td>201900001.0</td>\n",
       "      <td>502239</td>\n",
       "      <td>595777</td>\n",
       "      <td>2.0</td>\n",
       "      <td>70</td>\n",
       "      <td>0.0</td>\n",
       "      <td>0.0</td>\n",
       "      <td>0.0</td>\n",
       "      <td>0.0</td>\n",
       "      <td>0.0</td>\n",
       "      <td>0.0</td>\n",
       "      <td>0.0</td>\n",
       "      <td>0.0</td>\n",
       "      <td>90.5</td>\n",
       "      <td>82.8</td>\n",
       "      <td>SI</td>\n",
       "    </tr>\n",
       "    <tr>\n",
       "      <td>39</td>\n",
       "      <td>2019-03-28</td>\n",
       "      <td>201900001.0</td>\n",
       "      <td>502239</td>\n",
       "      <td>595777</td>\n",
       "      <td>2.0</td>\n",
       "      <td>71</td>\n",
       "      <td>0.0</td>\n",
       "      <td>0.0</td>\n",
       "      <td>1.0</td>\n",
       "      <td>0.0</td>\n",
       "      <td>0.0</td>\n",
       "      <td>0.0</td>\n",
       "      <td>0.0</td>\n",
       "      <td>0.0</td>\n",
       "      <td>82.7</td>\n",
       "      <td>76.3</td>\n",
       "      <td>CH</td>\n",
       "    </tr>\n",
       "    <tr>\n",
       "      <td>40</td>\n",
       "      <td>2019-03-28</td>\n",
       "      <td>201900001.0</td>\n",
       "      <td>502239</td>\n",
       "      <td>595777</td>\n",
       "      <td>2.0</td>\n",
       "      <td>72</td>\n",
       "      <td>0.0</td>\n",
       "      <td>0.0</td>\n",
       "      <td>1.0</td>\n",
       "      <td>0.0</td>\n",
       "      <td>0.0</td>\n",
       "      <td>0.0</td>\n",
       "      <td>0.0</td>\n",
       "      <td>0.0</td>\n",
       "      <td>87.8</td>\n",
       "      <td>79.7</td>\n",
       "      <td>FC</td>\n",
       "    </tr>\n",
       "    <tr>\n",
       "      <td>41</td>\n",
       "      <td>2019-03-28</td>\n",
       "      <td>201900001.0</td>\n",
       "      <td>502239</td>\n",
       "      <td>640461</td>\n",
       "      <td>2.0</td>\n",
       "      <td>75</td>\n",
       "      <td>0.0</td>\n",
       "      <td>0.0</td>\n",
       "      <td>0.0</td>\n",
       "      <td>0.0</td>\n",
       "      <td>0.0</td>\n",
       "      <td>0.0</td>\n",
       "      <td>0.0</td>\n",
       "      <td>0.0</td>\n",
       "      <td>79.9</td>\n",
       "      <td>73.8</td>\n",
       "      <td>KC</td>\n",
       "    </tr>\n",
       "    <tr>\n",
       "      <td>42</td>\n",
       "      <td>2019-03-28</td>\n",
       "      <td>201900001.0</td>\n",
       "      <td>502239</td>\n",
       "      <td>543760</td>\n",
       "      <td>2.0</td>\n",
       "      <td>79</td>\n",
       "      <td>1.0</td>\n",
       "      <td>0.0</td>\n",
       "      <td>0.0</td>\n",
       "      <td>0.0</td>\n",
       "      <td>1.0</td>\n",
       "      <td>0.0</td>\n",
       "      <td>0.0</td>\n",
       "      <td>0.0</td>\n",
       "      <td>91.8</td>\n",
       "      <td>84.4</td>\n",
       "      <td>SI</td>\n",
       "    </tr>\n",
       "    <tr>\n",
       "      <td>43</td>\n",
       "      <td>2019-03-28</td>\n",
       "      <td>201900001.0</td>\n",
       "      <td>502239</td>\n",
       "      <td>543760</td>\n",
       "      <td>2.0</td>\n",
       "      <td>80</td>\n",
       "      <td>1.0</td>\n",
       "      <td>0.0</td>\n",
       "      <td>0.0</td>\n",
       "      <td>0.0</td>\n",
       "      <td>1.0</td>\n",
       "      <td>0.0</td>\n",
       "      <td>0.0</td>\n",
       "      <td>0.0</td>\n",
       "      <td>81.9</td>\n",
       "      <td>76.2</td>\n",
       "      <td>CH</td>\n",
       "    </tr>\n",
       "    <tr>\n",
       "      <td>44</td>\n",
       "      <td>2019-03-28</td>\n",
       "      <td>201900001.0</td>\n",
       "      <td>502239</td>\n",
       "      <td>543760</td>\n",
       "      <td>2.0</td>\n",
       "      <td>81</td>\n",
       "      <td>1.0</td>\n",
       "      <td>0.0</td>\n",
       "      <td>1.0</td>\n",
       "      <td>0.0</td>\n",
       "      <td>1.0</td>\n",
       "      <td>0.0</td>\n",
       "      <td>0.0</td>\n",
       "      <td>0.0</td>\n",
       "      <td>91.7</td>\n",
       "      <td>84.7</td>\n",
       "      <td>SI</td>\n",
       "    </tr>\n",
       "    <tr>\n",
       "      <td>45</td>\n",
       "      <td>2019-03-28</td>\n",
       "      <td>201900001.0</td>\n",
       "      <td>502239</td>\n",
       "      <td>543760</td>\n",
       "      <td>2.0</td>\n",
       "      <td>82</td>\n",
       "      <td>1.0</td>\n",
       "      <td>0.0</td>\n",
       "      <td>1.0</td>\n",
       "      <td>0.0</td>\n",
       "      <td>1.0</td>\n",
       "      <td>0.0</td>\n",
       "      <td>0.0</td>\n",
       "      <td>0.0</td>\n",
       "      <td>91.8</td>\n",
       "      <td>84.5</td>\n",
       "      <td>SI</td>\n",
       "    </tr>\n",
       "    <tr>\n",
       "      <td>46</td>\n",
       "      <td>2019-03-28</td>\n",
       "      <td>201900001.0</td>\n",
       "      <td>502239</td>\n",
       "      <td>543760</td>\n",
       "      <td>2.0</td>\n",
       "      <td>83</td>\n",
       "      <td>1.0</td>\n",
       "      <td>0.0</td>\n",
       "      <td>2.0</td>\n",
       "      <td>0.0</td>\n",
       "      <td>1.0</td>\n",
       "      <td>0.0</td>\n",
       "      <td>0.0</td>\n",
       "      <td>0.0</td>\n",
       "      <td>84.2</td>\n",
       "      <td>78.5</td>\n",
       "      <td>CH</td>\n",
       "    </tr>\n",
       "    <tr>\n",
       "      <td>47</td>\n",
       "      <td>2019-03-28</td>\n",
       "      <td>201900001.0</td>\n",
       "      <td>502239</td>\n",
       "      <td>657656</td>\n",
       "      <td>2.0</td>\n",
       "      <td>86</td>\n",
       "      <td>1.0</td>\n",
       "      <td>0.0</td>\n",
       "      <td>0.0</td>\n",
       "      <td>0.0</td>\n",
       "      <td>2.0</td>\n",
       "      <td>0.0</td>\n",
       "      <td>0.0</td>\n",
       "      <td>0.0</td>\n",
       "      <td>91.5</td>\n",
       "      <td>84.7</td>\n",
       "      <td>SI</td>\n",
       "    </tr>\n",
       "  </tbody>\n",
       "</table>\n",
       "</div>"
      ],
      "text/plain": [
       "          date         g_id  pitcher_id  batter_id  inning  event_num  \\\n",
       "11  2019-03-28  201900001.0      502239     543257     1.0         22   \n",
       "12  2019-03-28  201900001.0      502239     543257     1.0         23   \n",
       "13  2019-03-28  201900001.0      502239     656305     1.0         26   \n",
       "14  2019-03-28  201900001.0      502239     656305     1.0         27   \n",
       "15  2019-03-28  201900001.0      502239     656305     1.0         28   \n",
       "16  2019-03-28  201900001.0      502239     572039     1.0         31   \n",
       "17  2019-03-28  201900001.0      502239     572039     1.0         32   \n",
       "18  2019-03-28  201900001.0      502239     572039     1.0         34   \n",
       "19  2019-03-28  201900001.0      502239     501981     1.0         38   \n",
       "20  2019-03-28  201900001.0      502239     501981     1.0         39   \n",
       "38  2019-03-28  201900001.0      502239     595777     2.0         70   \n",
       "39  2019-03-28  201900001.0      502239     595777     2.0         71   \n",
       "40  2019-03-28  201900001.0      502239     595777     2.0         72   \n",
       "41  2019-03-28  201900001.0      502239     640461     2.0         75   \n",
       "42  2019-03-28  201900001.0      502239     543760     2.0         79   \n",
       "43  2019-03-28  201900001.0      502239     543760     2.0         80   \n",
       "44  2019-03-28  201900001.0      502239     543760     2.0         81   \n",
       "45  2019-03-28  201900001.0      502239     543760     2.0         82   \n",
       "46  2019-03-28  201900001.0      502239     543760     2.0         83   \n",
       "47  2019-03-28  201900001.0      502239     657656     2.0         86   \n",
       "\n",
       "    b_score  p_score  b_count  s_count  outs  on_1b  on_2b  on_3b  \\\n",
       "11      0.0      0.0      0.0      0.0   0.0    0.0    0.0    0.0   \n",
       "12      0.0      0.0      0.0      0.0   0.0    0.0    0.0    0.0   \n",
       "13      0.0      0.0      0.0      0.0   0.0    0.0    0.0    0.0   \n",
       "14      0.0      0.0      0.0      0.0   0.0    0.0    0.0    0.0   \n",
       "15      0.0      0.0      0.0      0.0   0.0    0.0    0.0    0.0   \n",
       "16      0.0      0.0      0.0      0.0   1.0    0.0    0.0    0.0   \n",
       "17      0.0      0.0      0.0      0.0   1.0    0.0    0.0    0.0   \n",
       "18      0.0      0.0      0.0      1.0   1.0    0.0    0.0    0.0   \n",
       "19      0.0      0.0      0.0      0.0   2.0    0.0    0.0    0.0   \n",
       "20      0.0      0.0      0.0      0.0   2.0    0.0    0.0    0.0   \n",
       "38      0.0      0.0      0.0      0.0   0.0    0.0    0.0    0.0   \n",
       "39      0.0      0.0      1.0      0.0   0.0    0.0    0.0    0.0   \n",
       "40      0.0      0.0      1.0      0.0   0.0    0.0    0.0    0.0   \n",
       "41      0.0      0.0      0.0      0.0   0.0    0.0    0.0    0.0   \n",
       "42      1.0      0.0      0.0      0.0   1.0    0.0    0.0    0.0   \n",
       "43      1.0      0.0      0.0      0.0   1.0    0.0    0.0    0.0   \n",
       "44      1.0      0.0      1.0      0.0   1.0    0.0    0.0    0.0   \n",
       "45      1.0      0.0      1.0      0.0   1.0    0.0    0.0    0.0   \n",
       "46      1.0      0.0      2.0      0.0   1.0    0.0    0.0    0.0   \n",
       "47      1.0      0.0      0.0      0.0   2.0    0.0    0.0    0.0   \n",
       "\n",
       "    start_speed  end_speed pitch_type  \n",
       "11         89.8       82.3         SI  \n",
       "12         82.3       76.0         CH  \n",
       "13         92.1       83.3         SI  \n",
       "14         83.0       76.2         CH  \n",
       "15         85.1       78.7         CH  \n",
       "16         91.8       84.3         SI  \n",
       "17         91.5       82.9         SI  \n",
       "18         80.7       73.1         KC  \n",
       "19         91.8       83.6         SI  \n",
       "20         80.9       74.0         KC  \n",
       "38         90.5       82.8         SI  \n",
       "39         82.7       76.3         CH  \n",
       "40         87.8       79.7         FC  \n",
       "41         79.9       73.8         KC  \n",
       "42         91.8       84.4         SI  \n",
       "43         81.9       76.2         CH  \n",
       "44         91.7       84.7         SI  \n",
       "45         91.8       84.5         SI  \n",
       "46         84.2       78.5         CH  \n",
       "47         91.5       84.7         SI  "
      ]
     },
     "execution_count": 304,
     "metadata": {},
     "output_type": "execute_result"
    }
   ],
   "source": [
    "#number of batters faced and avg pitches thrown per batter\n",
    "test = joined_atbats[joined_atbats['pitcher_id'] == 502239]\n",
    "test[['date','g_id','pitcher_id','batter_id','inning','event_num','b_score','p_score','b_count','s_count','outs','on_1b','on_2b','on_3b','start_speed','end_speed','pitch_type']][0:20]"
   ]
  },
  {
   "cell_type": "code",
   "execution_count": 339,
   "metadata": {},
   "outputs": [],
   "source": [
    "#groupby unique inning and unique batter_id\n",
    "test3 = test.groupby(by=['g_id','inning'], as_index=False)['batter_id'].nunique().value_counts().reset_index()"
   ]
  },
  {
   "cell_type": "code",
   "execution_count": 353,
   "metadata": {},
   "outputs": [],
   "source": [
    "test3 = test.groupby(by=['g_id','inning'], as_index=True)['batter_id'].nunique().reset_index()\n",
    "#test3[0:15]\n",
    "c2 = test3.groupby(by=['g_id'], as_index=True)['batter_id'].sum().reset_index() #25, 21"
   ]
  },
  {
   "cell_type": "code",
   "execution_count": 354,
   "metadata": {},
   "outputs": [
    {
     "data": {
      "text/html": [
       "<div>\n",
       "<style scoped>\n",
       "    .dataframe tbody tr th:only-of-type {\n",
       "        vertical-align: middle;\n",
       "    }\n",
       "\n",
       "    .dataframe tbody tr th {\n",
       "        vertical-align: top;\n",
       "    }\n",
       "\n",
       "    .dataframe thead th {\n",
       "        text-align: right;\n",
       "    }\n",
       "</style>\n",
       "<table border=\"1\" class=\"dataframe\">\n",
       "  <thead>\n",
       "    <tr style=\"text-align: right;\">\n",
       "      <th></th>\n",
       "      <th>g_id</th>\n",
       "      <th>batter_id</th>\n",
       "    </tr>\n",
       "  </thead>\n",
       "  <tbody>\n",
       "    <tr>\n",
       "      <td>0</td>\n",
       "      <td>201900001.0</td>\n",
       "      <td>25</td>\n",
       "    </tr>\n",
       "    <tr>\n",
       "      <td>1</td>\n",
       "      <td>201900066.0</td>\n",
       "      <td>21</td>\n",
       "    </tr>\n",
       "    <tr>\n",
       "      <td>2</td>\n",
       "      <td>201900144.0</td>\n",
       "      <td>24</td>\n",
       "    </tr>\n",
       "    <tr>\n",
       "      <td>3</td>\n",
       "      <td>201900230.0</td>\n",
       "      <td>20</td>\n",
       "    </tr>\n",
       "    <tr>\n",
       "      <td>4</td>\n",
       "      <td>201900304.0</td>\n",
       "      <td>21</td>\n",
       "    </tr>\n",
       "    <tr>\n",
       "      <td>5</td>\n",
       "      <td>201900369.0</td>\n",
       "      <td>22</td>\n",
       "    </tr>\n",
       "    <tr>\n",
       "      <td>6</td>\n",
       "      <td>201900478.0</td>\n",
       "      <td>18</td>\n",
       "    </tr>\n",
       "    <tr>\n",
       "      <td>7</td>\n",
       "      <td>201900555.0</td>\n",
       "      <td>22</td>\n",
       "    </tr>\n",
       "    <tr>\n",
       "      <td>8</td>\n",
       "      <td>201900620.0</td>\n",
       "      <td>22</td>\n",
       "    </tr>\n",
       "    <tr>\n",
       "      <td>9</td>\n",
       "      <td>201900707.0</td>\n",
       "      <td>19</td>\n",
       "    </tr>\n",
       "    <tr>\n",
       "      <td>10</td>\n",
       "      <td>201900782.0</td>\n",
       "      <td>21</td>\n",
       "    </tr>\n",
       "    <tr>\n",
       "      <td>11</td>\n",
       "      <td>201900879.0</td>\n",
       "      <td>21</td>\n",
       "    </tr>\n",
       "    <tr>\n",
       "      <td>12</td>\n",
       "      <td>201901185.0</td>\n",
       "      <td>9</td>\n",
       "    </tr>\n",
       "    <tr>\n",
       "      <td>13</td>\n",
       "      <td>201901230.0</td>\n",
       "      <td>10</td>\n",
       "    </tr>\n",
       "    <tr>\n",
       "      <td>14</td>\n",
       "      <td>201901257.0</td>\n",
       "      <td>7</td>\n",
       "    </tr>\n",
       "    <tr>\n",
       "      <td>15</td>\n",
       "      <td>201901312.0</td>\n",
       "      <td>10</td>\n",
       "    </tr>\n",
       "    <tr>\n",
       "      <td>16</td>\n",
       "      <td>201901368.0</td>\n",
       "      <td>3</td>\n",
       "    </tr>\n",
       "    <tr>\n",
       "      <td>17</td>\n",
       "      <td>201901405.0</td>\n",
       "      <td>11</td>\n",
       "    </tr>\n",
       "    <tr>\n",
       "      <td>18</td>\n",
       "      <td>201901442.0</td>\n",
       "      <td>5</td>\n",
       "    </tr>\n",
       "    <tr>\n",
       "      <td>19</td>\n",
       "      <td>201901472.0</td>\n",
       "      <td>7</td>\n",
       "    </tr>\n",
       "    <tr>\n",
       "      <td>20</td>\n",
       "      <td>201901528.0</td>\n",
       "      <td>4</td>\n",
       "    </tr>\n",
       "    <tr>\n",
       "      <td>21</td>\n",
       "      <td>201901554.0</td>\n",
       "      <td>13</td>\n",
       "    </tr>\n",
       "    <tr>\n",
       "      <td>22</td>\n",
       "      <td>201901607.0</td>\n",
       "      <td>9</td>\n",
       "    </tr>\n",
       "    <tr>\n",
       "      <td>23</td>\n",
       "      <td>201901641.0</td>\n",
       "      <td>12</td>\n",
       "    </tr>\n",
       "    <tr>\n",
       "      <td>24</td>\n",
       "      <td>201901724.0</td>\n",
       "      <td>15</td>\n",
       "    </tr>\n",
       "    <tr>\n",
       "      <td>25</td>\n",
       "      <td>201901808.0</td>\n",
       "      <td>7</td>\n",
       "    </tr>\n",
       "    <tr>\n",
       "      <td>26</td>\n",
       "      <td>201901819.0</td>\n",
       "      <td>6</td>\n",
       "    </tr>\n",
       "    <tr>\n",
       "      <td>27</td>\n",
       "      <td>201901888.0</td>\n",
       "      <td>2</td>\n",
       "    </tr>\n",
       "    <tr>\n",
       "      <td>28</td>\n",
       "      <td>201901927.0</td>\n",
       "      <td>11</td>\n",
       "    </tr>\n",
       "    <tr>\n",
       "      <td>29</td>\n",
       "      <td>201902004.0</td>\n",
       "      <td>9</td>\n",
       "    </tr>\n",
       "    <tr>\n",
       "      <td>30</td>\n",
       "      <td>201902077.0</td>\n",
       "      <td>11</td>\n",
       "    </tr>\n",
       "    <tr>\n",
       "      <td>31</td>\n",
       "      <td>201902130.0</td>\n",
       "      <td>3</td>\n",
       "    </tr>\n",
       "    <tr>\n",
       "      <td>32</td>\n",
       "      <td>201902158.0</td>\n",
       "      <td>13</td>\n",
       "    </tr>\n",
       "    <tr>\n",
       "      <td>33</td>\n",
       "      <td>201902248.0</td>\n",
       "      <td>5</td>\n",
       "    </tr>\n",
       "    <tr>\n",
       "      <td>34</td>\n",
       "      <td>201902317.0</td>\n",
       "      <td>8</td>\n",
       "    </tr>\n",
       "    <tr>\n",
       "      <td>35</td>\n",
       "      <td>201902372.0</td>\n",
       "      <td>6</td>\n",
       "    </tr>\n",
       "    <tr>\n",
       "      <td>36</td>\n",
       "      <td>201902384.0</td>\n",
       "      <td>3</td>\n",
       "    </tr>\n",
       "  </tbody>\n",
       "</table>\n",
       "</div>"
      ],
      "text/plain": [
       "           g_id  batter_id\n",
       "0   201900001.0         25\n",
       "1   201900066.0         21\n",
       "2   201900144.0         24\n",
       "3   201900230.0         20\n",
       "4   201900304.0         21\n",
       "5   201900369.0         22\n",
       "6   201900478.0         18\n",
       "7   201900555.0         22\n",
       "8   201900620.0         22\n",
       "9   201900707.0         19\n",
       "10  201900782.0         21\n",
       "11  201900879.0         21\n",
       "12  201901185.0          9\n",
       "13  201901230.0         10\n",
       "14  201901257.0          7\n",
       "15  201901312.0         10\n",
       "16  201901368.0          3\n",
       "17  201901405.0         11\n",
       "18  201901442.0          5\n",
       "19  201901472.0          7\n",
       "20  201901528.0          4\n",
       "21  201901554.0         13\n",
       "22  201901607.0          9\n",
       "23  201901641.0         12\n",
       "24  201901724.0         15\n",
       "25  201901808.0          7\n",
       "26  201901819.0          6\n",
       "27  201901888.0          2\n",
       "28  201901927.0         11\n",
       "29  201902004.0          9\n",
       "30  201902077.0         11\n",
       "31  201902130.0          3\n",
       "32  201902158.0         13\n",
       "33  201902248.0          5\n",
       "34  201902317.0          8\n",
       "35  201902372.0          6\n",
       "36  201902384.0          3"
      ]
     },
     "execution_count": 354,
     "metadata": {},
     "output_type": "execute_result"
    }
   ],
   "source": [
    "c2"
   ]
  },
  {
   "cell_type": "code",
   "execution_count": 362,
   "metadata": {},
   "outputs": [
    {
     "data": {
      "text/html": [
       "<div>\n",
       "<style scoped>\n",
       "    .dataframe tbody tr th:only-of-type {\n",
       "        vertical-align: middle;\n",
       "    }\n",
       "\n",
       "    .dataframe tbody tr th {\n",
       "        vertical-align: top;\n",
       "    }\n",
       "\n",
       "    .dataframe thead th {\n",
       "        text-align: right;\n",
       "    }\n",
       "</style>\n",
       "<table border=\"1\" class=\"dataframe\">\n",
       "  <thead>\n",
       "    <tr style=\"text-align: right;\">\n",
       "      <th></th>\n",
       "      <th>g_id</th>\n",
       "      <th>unique</th>\n",
       "      <th>inning</th>\n",
       "    </tr>\n",
       "  </thead>\n",
       "  <tbody>\n",
       "    <tr>\n",
       "      <td>0</td>\n",
       "      <td>201900001.0</td>\n",
       "      <td>2019-03-28</td>\n",
       "      <td>6</td>\n",
       "    </tr>\n",
       "    <tr>\n",
       "      <td>1</td>\n",
       "      <td>201900066.0</td>\n",
       "      <td>2019-04-02</td>\n",
       "      <td>6</td>\n",
       "    </tr>\n",
       "    <tr>\n",
       "      <td>2</td>\n",
       "      <td>201900144.0</td>\n",
       "      <td>2019-04-08</td>\n",
       "      <td>6</td>\n",
       "    </tr>\n",
       "    <tr>\n",
       "      <td>3</td>\n",
       "      <td>201900230.0</td>\n",
       "      <td>2019-04-15</td>\n",
       "      <td>4</td>\n",
       "    </tr>\n",
       "    <tr>\n",
       "      <td>4</td>\n",
       "      <td>201900304.0</td>\n",
       "      <td>2019-04-20</td>\n",
       "      <td>5</td>\n",
       "    </tr>\n",
       "    <tr>\n",
       "      <td>5</td>\n",
       "      <td>201900369.0</td>\n",
       "      <td>2019-04-25</td>\n",
       "      <td>5</td>\n",
       "    </tr>\n",
       "    <tr>\n",
       "      <td>6</td>\n",
       "      <td>201900478.0</td>\n",
       "      <td>2019-05-04</td>\n",
       "      <td>4</td>\n",
       "    </tr>\n",
       "    <tr>\n",
       "      <td>7</td>\n",
       "      <td>201900555.0</td>\n",
       "      <td>2019-05-10</td>\n",
       "      <td>6</td>\n",
       "    </tr>\n",
       "    <tr>\n",
       "      <td>8</td>\n",
       "      <td>201900620.0</td>\n",
       "      <td>2019-05-15</td>\n",
       "      <td>5</td>\n",
       "    </tr>\n",
       "    <tr>\n",
       "      <td>9</td>\n",
       "      <td>201900707.0</td>\n",
       "      <td>2019-05-21</td>\n",
       "      <td>6</td>\n",
       "    </tr>\n",
       "    <tr>\n",
       "      <td>10</td>\n",
       "      <td>201900782.0</td>\n",
       "      <td>2019-05-27</td>\n",
       "      <td>5</td>\n",
       "    </tr>\n",
       "    <tr>\n",
       "      <td>11</td>\n",
       "      <td>201900879.0</td>\n",
       "      <td>2019-06-03</td>\n",
       "      <td>5</td>\n",
       "    </tr>\n",
       "    <tr>\n",
       "      <td>12</td>\n",
       "      <td>201901185.0</td>\n",
       "      <td>2019-06-26</td>\n",
       "      <td>2</td>\n",
       "    </tr>\n",
       "    <tr>\n",
       "      <td>13</td>\n",
       "      <td>201901230.0</td>\n",
       "      <td>2019-06-29</td>\n",
       "      <td>3</td>\n",
       "    </tr>\n",
       "    <tr>\n",
       "      <td>14</td>\n",
       "      <td>201901257.0</td>\n",
       "      <td>2019-07-02</td>\n",
       "      <td>2</td>\n",
       "    </tr>\n",
       "    <tr>\n",
       "      <td>15</td>\n",
       "      <td>201901312.0</td>\n",
       "      <td>2019-07-06</td>\n",
       "      <td>2</td>\n",
       "    </tr>\n",
       "    <tr>\n",
       "      <td>16</td>\n",
       "      <td>201901368.0</td>\n",
       "      <td>2019-07-13</td>\n",
       "      <td>1</td>\n",
       "    </tr>\n",
       "    <tr>\n",
       "      <td>17</td>\n",
       "      <td>201901405.0</td>\n",
       "      <td>2019-07-16</td>\n",
       "      <td>3</td>\n",
       "    </tr>\n",
       "    <tr>\n",
       "      <td>18</td>\n",
       "      <td>201901442.0</td>\n",
       "      <td>2019-07-19</td>\n",
       "      <td>2</td>\n",
       "    </tr>\n",
       "    <tr>\n",
       "      <td>19</td>\n",
       "      <td>201901472.0</td>\n",
       "      <td>2019-07-21</td>\n",
       "      <td>1</td>\n",
       "    </tr>\n",
       "    <tr>\n",
       "      <td>20</td>\n",
       "      <td>201901528.0</td>\n",
       "      <td>2019-07-25</td>\n",
       "      <td>1</td>\n",
       "    </tr>\n",
       "    <tr>\n",
       "      <td>21</td>\n",
       "      <td>201901554.0</td>\n",
       "      <td>2019-07-27</td>\n",
       "      <td>3</td>\n",
       "    </tr>\n",
       "    <tr>\n",
       "      <td>22</td>\n",
       "      <td>201901607.0</td>\n",
       "      <td>2019-07-31</td>\n",
       "      <td>3</td>\n",
       "    </tr>\n",
       "    <tr>\n",
       "      <td>23</td>\n",
       "      <td>201901641.0</td>\n",
       "      <td>2019-08-03</td>\n",
       "      <td>4</td>\n",
       "    </tr>\n",
       "    <tr>\n",
       "      <td>24</td>\n",
       "      <td>201901724.0</td>\n",
       "      <td>2019-08-09</td>\n",
       "      <td>3</td>\n",
       "    </tr>\n",
       "    <tr>\n",
       "      <td>25</td>\n",
       "      <td>201901808.0</td>\n",
       "      <td>2019-08-15</td>\n",
       "      <td>2</td>\n",
       "    </tr>\n",
       "    <tr>\n",
       "      <td>26</td>\n",
       "      <td>201901819.0</td>\n",
       "      <td>2019-08-16</td>\n",
       "      <td>2</td>\n",
       "    </tr>\n",
       "    <tr>\n",
       "      <td>27</td>\n",
       "      <td>201901888.0</td>\n",
       "      <td>2019-08-21</td>\n",
       "      <td>1</td>\n",
       "    </tr>\n",
       "    <tr>\n",
       "      <td>28</td>\n",
       "      <td>201901927.0</td>\n",
       "      <td>2019-08-24</td>\n",
       "      <td>3</td>\n",
       "    </tr>\n",
       "    <tr>\n",
       "      <td>29</td>\n",
       "      <td>201902004.0</td>\n",
       "      <td>2019-08-30</td>\n",
       "      <td>2</td>\n",
       "    </tr>\n",
       "    <tr>\n",
       "      <td>30</td>\n",
       "      <td>201902077.0</td>\n",
       "      <td>2019-09-04</td>\n",
       "      <td>3</td>\n",
       "    </tr>\n",
       "    <tr>\n",
       "      <td>31</td>\n",
       "      <td>201902130.0</td>\n",
       "      <td>2019-09-08</td>\n",
       "      <td>1</td>\n",
       "    </tr>\n",
       "    <tr>\n",
       "      <td>32</td>\n",
       "      <td>201902158.0</td>\n",
       "      <td>2019-09-10</td>\n",
       "      <td>3</td>\n",
       "    </tr>\n",
       "    <tr>\n",
       "      <td>33</td>\n",
       "      <td>201902248.0</td>\n",
       "      <td>2019-09-17</td>\n",
       "      <td>2</td>\n",
       "    </tr>\n",
       "    <tr>\n",
       "      <td>34</td>\n",
       "      <td>201902317.0</td>\n",
       "      <td>2019-09-22</td>\n",
       "      <td>2</td>\n",
       "    </tr>\n",
       "    <tr>\n",
       "      <td>35</td>\n",
       "      <td>201902372.0</td>\n",
       "      <td>2019-09-26</td>\n",
       "      <td>1</td>\n",
       "    </tr>\n",
       "    <tr>\n",
       "      <td>36</td>\n",
       "      <td>201902384.0</td>\n",
       "      <td>2019-09-27</td>\n",
       "      <td>1</td>\n",
       "    </tr>\n",
       "  </tbody>\n",
       "</table>\n",
       "</div>"
      ],
      "text/plain": [
       "           g_id      unique  inning\n",
       "0   201900001.0  2019-03-28       6\n",
       "1   201900066.0  2019-04-02       6\n",
       "2   201900144.0  2019-04-08       6\n",
       "3   201900230.0  2019-04-15       4\n",
       "4   201900304.0  2019-04-20       5\n",
       "5   201900369.0  2019-04-25       5\n",
       "6   201900478.0  2019-05-04       4\n",
       "7   201900555.0  2019-05-10       6\n",
       "8   201900620.0  2019-05-15       5\n",
       "9   201900707.0  2019-05-21       6\n",
       "10  201900782.0  2019-05-27       5\n",
       "11  201900879.0  2019-06-03       5\n",
       "12  201901185.0  2019-06-26       2\n",
       "13  201901230.0  2019-06-29       3\n",
       "14  201901257.0  2019-07-02       2\n",
       "15  201901312.0  2019-07-06       2\n",
       "16  201901368.0  2019-07-13       1\n",
       "17  201901405.0  2019-07-16       3\n",
       "18  201901442.0  2019-07-19       2\n",
       "19  201901472.0  2019-07-21       1\n",
       "20  201901528.0  2019-07-25       1\n",
       "21  201901554.0  2019-07-27       3\n",
       "22  201901607.0  2019-07-31       3\n",
       "23  201901641.0  2019-08-03       4\n",
       "24  201901724.0  2019-08-09       3\n",
       "25  201901808.0  2019-08-15       2\n",
       "26  201901819.0  2019-08-16       2\n",
       "27  201901888.0  2019-08-21       1\n",
       "28  201901927.0  2019-08-24       3\n",
       "29  201902004.0  2019-08-30       2\n",
       "30  201902077.0  2019-09-04       3\n",
       "31  201902130.0  2019-09-08       1\n",
       "32  201902158.0  2019-09-10       3\n",
       "33  201902248.0  2019-09-17       2\n",
       "34  201902317.0  2019-09-22       2\n",
       "35  201902372.0  2019-09-26       1\n",
       "36  201902384.0  2019-09-27       1"
      ]
     },
     "execution_count": 362,
     "metadata": {},
     "output_type": "execute_result"
    }
   ],
   "source": [
    "c1"
   ]
  },
  {
   "cell_type": "code",
   "execution_count": 302,
   "metadata": {},
   "outputs": [],
   "source": [
    "test2 = test.groupby(by=['g_id'], as_index=False)['date'].agg([np.unique]).reset_index()"
   ]
  },
  {
   "cell_type": "code",
   "execution_count": 356,
   "metadata": {},
   "outputs": [
    {
     "data": {
      "text/html": [
       "<div>\n",
       "<style scoped>\n",
       "    .dataframe tbody tr th:only-of-type {\n",
       "        vertical-align: middle;\n",
       "    }\n",
       "\n",
       "    .dataframe tbody tr th {\n",
       "        vertical-align: top;\n",
       "    }\n",
       "\n",
       "    .dataframe thead th {\n",
       "        text-align: right;\n",
       "    }\n",
       "</style>\n",
       "<table border=\"1\" class=\"dataframe\">\n",
       "  <thead>\n",
       "    <tr style=\"text-align: right;\">\n",
       "      <th></th>\n",
       "      <th>g_id</th>\n",
       "      <th>unique</th>\n",
       "      <th>inning</th>\n",
       "      <th>batter_id</th>\n",
       "    </tr>\n",
       "  </thead>\n",
       "  <tbody>\n",
       "    <tr>\n",
       "      <td>0</td>\n",
       "      <td>201900001.0</td>\n",
       "      <td>2019-03-28</td>\n",
       "      <td>6</td>\n",
       "      <td>25</td>\n",
       "    </tr>\n",
       "    <tr>\n",
       "      <td>1</td>\n",
       "      <td>201900066.0</td>\n",
       "      <td>2019-04-02</td>\n",
       "      <td>6</td>\n",
       "      <td>21</td>\n",
       "    </tr>\n",
       "    <tr>\n",
       "      <td>2</td>\n",
       "      <td>201900144.0</td>\n",
       "      <td>2019-04-08</td>\n",
       "      <td>6</td>\n",
       "      <td>24</td>\n",
       "    </tr>\n",
       "    <tr>\n",
       "      <td>3</td>\n",
       "      <td>201900230.0</td>\n",
       "      <td>2019-04-15</td>\n",
       "      <td>4</td>\n",
       "      <td>20</td>\n",
       "    </tr>\n",
       "    <tr>\n",
       "      <td>4</td>\n",
       "      <td>201900304.0</td>\n",
       "      <td>2019-04-20</td>\n",
       "      <td>5</td>\n",
       "      <td>21</td>\n",
       "    </tr>\n",
       "    <tr>\n",
       "      <td>5</td>\n",
       "      <td>201900369.0</td>\n",
       "      <td>2019-04-25</td>\n",
       "      <td>5</td>\n",
       "      <td>22</td>\n",
       "    </tr>\n",
       "    <tr>\n",
       "      <td>6</td>\n",
       "      <td>201900478.0</td>\n",
       "      <td>2019-05-04</td>\n",
       "      <td>4</td>\n",
       "      <td>18</td>\n",
       "    </tr>\n",
       "    <tr>\n",
       "      <td>7</td>\n",
       "      <td>201900555.0</td>\n",
       "      <td>2019-05-10</td>\n",
       "      <td>6</td>\n",
       "      <td>22</td>\n",
       "    </tr>\n",
       "    <tr>\n",
       "      <td>8</td>\n",
       "      <td>201900620.0</td>\n",
       "      <td>2019-05-15</td>\n",
       "      <td>5</td>\n",
       "      <td>22</td>\n",
       "    </tr>\n",
       "    <tr>\n",
       "      <td>9</td>\n",
       "      <td>201900707.0</td>\n",
       "      <td>2019-05-21</td>\n",
       "      <td>6</td>\n",
       "      <td>19</td>\n",
       "    </tr>\n",
       "    <tr>\n",
       "      <td>10</td>\n",
       "      <td>201900782.0</td>\n",
       "      <td>2019-05-27</td>\n",
       "      <td>5</td>\n",
       "      <td>21</td>\n",
       "    </tr>\n",
       "    <tr>\n",
       "      <td>11</td>\n",
       "      <td>201900879.0</td>\n",
       "      <td>2019-06-03</td>\n",
       "      <td>5</td>\n",
       "      <td>21</td>\n",
       "    </tr>\n",
       "    <tr>\n",
       "      <td>12</td>\n",
       "      <td>201901185.0</td>\n",
       "      <td>2019-06-26</td>\n",
       "      <td>2</td>\n",
       "      <td>9</td>\n",
       "    </tr>\n",
       "    <tr>\n",
       "      <td>13</td>\n",
       "      <td>201901230.0</td>\n",
       "      <td>2019-06-29</td>\n",
       "      <td>3</td>\n",
       "      <td>10</td>\n",
       "    </tr>\n",
       "    <tr>\n",
       "      <td>14</td>\n",
       "      <td>201901257.0</td>\n",
       "      <td>2019-07-02</td>\n",
       "      <td>2</td>\n",
       "      <td>7</td>\n",
       "    </tr>\n",
       "    <tr>\n",
       "      <td>15</td>\n",
       "      <td>201901312.0</td>\n",
       "      <td>2019-07-06</td>\n",
       "      <td>2</td>\n",
       "      <td>10</td>\n",
       "    </tr>\n",
       "    <tr>\n",
       "      <td>16</td>\n",
       "      <td>201901368.0</td>\n",
       "      <td>2019-07-13</td>\n",
       "      <td>1</td>\n",
       "      <td>3</td>\n",
       "    </tr>\n",
       "    <tr>\n",
       "      <td>17</td>\n",
       "      <td>201901405.0</td>\n",
       "      <td>2019-07-16</td>\n",
       "      <td>3</td>\n",
       "      <td>11</td>\n",
       "    </tr>\n",
       "    <tr>\n",
       "      <td>18</td>\n",
       "      <td>201901442.0</td>\n",
       "      <td>2019-07-19</td>\n",
       "      <td>2</td>\n",
       "      <td>5</td>\n",
       "    </tr>\n",
       "    <tr>\n",
       "      <td>19</td>\n",
       "      <td>201901472.0</td>\n",
       "      <td>2019-07-21</td>\n",
       "      <td>1</td>\n",
       "      <td>7</td>\n",
       "    </tr>\n",
       "    <tr>\n",
       "      <td>20</td>\n",
       "      <td>201901528.0</td>\n",
       "      <td>2019-07-25</td>\n",
       "      <td>1</td>\n",
       "      <td>4</td>\n",
       "    </tr>\n",
       "    <tr>\n",
       "      <td>21</td>\n",
       "      <td>201901554.0</td>\n",
       "      <td>2019-07-27</td>\n",
       "      <td>3</td>\n",
       "      <td>13</td>\n",
       "    </tr>\n",
       "    <tr>\n",
       "      <td>22</td>\n",
       "      <td>201901607.0</td>\n",
       "      <td>2019-07-31</td>\n",
       "      <td>3</td>\n",
       "      <td>9</td>\n",
       "    </tr>\n",
       "    <tr>\n",
       "      <td>23</td>\n",
       "      <td>201901641.0</td>\n",
       "      <td>2019-08-03</td>\n",
       "      <td>4</td>\n",
       "      <td>12</td>\n",
       "    </tr>\n",
       "    <tr>\n",
       "      <td>24</td>\n",
       "      <td>201901724.0</td>\n",
       "      <td>2019-08-09</td>\n",
       "      <td>3</td>\n",
       "      <td>15</td>\n",
       "    </tr>\n",
       "    <tr>\n",
       "      <td>25</td>\n",
       "      <td>201901808.0</td>\n",
       "      <td>2019-08-15</td>\n",
       "      <td>2</td>\n",
       "      <td>7</td>\n",
       "    </tr>\n",
       "    <tr>\n",
       "      <td>26</td>\n",
       "      <td>201901819.0</td>\n",
       "      <td>2019-08-16</td>\n",
       "      <td>2</td>\n",
       "      <td>6</td>\n",
       "    </tr>\n",
       "    <tr>\n",
       "      <td>27</td>\n",
       "      <td>201901888.0</td>\n",
       "      <td>2019-08-21</td>\n",
       "      <td>1</td>\n",
       "      <td>2</td>\n",
       "    </tr>\n",
       "    <tr>\n",
       "      <td>28</td>\n",
       "      <td>201901927.0</td>\n",
       "      <td>2019-08-24</td>\n",
       "      <td>3</td>\n",
       "      <td>11</td>\n",
       "    </tr>\n",
       "    <tr>\n",
       "      <td>29</td>\n",
       "      <td>201902004.0</td>\n",
       "      <td>2019-08-30</td>\n",
       "      <td>2</td>\n",
       "      <td>9</td>\n",
       "    </tr>\n",
       "    <tr>\n",
       "      <td>30</td>\n",
       "      <td>201902077.0</td>\n",
       "      <td>2019-09-04</td>\n",
       "      <td>3</td>\n",
       "      <td>11</td>\n",
       "    </tr>\n",
       "    <tr>\n",
       "      <td>31</td>\n",
       "      <td>201902130.0</td>\n",
       "      <td>2019-09-08</td>\n",
       "      <td>1</td>\n",
       "      <td>3</td>\n",
       "    </tr>\n",
       "    <tr>\n",
       "      <td>32</td>\n",
       "      <td>201902158.0</td>\n",
       "      <td>2019-09-10</td>\n",
       "      <td>3</td>\n",
       "      <td>13</td>\n",
       "    </tr>\n",
       "    <tr>\n",
       "      <td>33</td>\n",
       "      <td>201902248.0</td>\n",
       "      <td>2019-09-17</td>\n",
       "      <td>2</td>\n",
       "      <td>5</td>\n",
       "    </tr>\n",
       "    <tr>\n",
       "      <td>34</td>\n",
       "      <td>201902317.0</td>\n",
       "      <td>2019-09-22</td>\n",
       "      <td>2</td>\n",
       "      <td>8</td>\n",
       "    </tr>\n",
       "    <tr>\n",
       "      <td>35</td>\n",
       "      <td>201902372.0</td>\n",
       "      <td>2019-09-26</td>\n",
       "      <td>1</td>\n",
       "      <td>6</td>\n",
       "    </tr>\n",
       "    <tr>\n",
       "      <td>36</td>\n",
       "      <td>201902384.0</td>\n",
       "      <td>2019-09-27</td>\n",
       "      <td>1</td>\n",
       "      <td>3</td>\n",
       "    </tr>\n",
       "  </tbody>\n",
       "</table>\n",
       "</div>"
      ],
      "text/plain": [
       "           g_id      unique  inning  batter_id\n",
       "0   201900001.0  2019-03-28       6         25\n",
       "1   201900066.0  2019-04-02       6         21\n",
       "2   201900144.0  2019-04-08       6         24\n",
       "3   201900230.0  2019-04-15       4         20\n",
       "4   201900304.0  2019-04-20       5         21\n",
       "5   201900369.0  2019-04-25       5         22\n",
       "6   201900478.0  2019-05-04       4         18\n",
       "7   201900555.0  2019-05-10       6         22\n",
       "8   201900620.0  2019-05-15       5         22\n",
       "9   201900707.0  2019-05-21       6         19\n",
       "10  201900782.0  2019-05-27       5         21\n",
       "11  201900879.0  2019-06-03       5         21\n",
       "12  201901185.0  2019-06-26       2          9\n",
       "13  201901230.0  2019-06-29       3         10\n",
       "14  201901257.0  2019-07-02       2          7\n",
       "15  201901312.0  2019-07-06       2         10\n",
       "16  201901368.0  2019-07-13       1          3\n",
       "17  201901405.0  2019-07-16       3         11\n",
       "18  201901442.0  2019-07-19       2          5\n",
       "19  201901472.0  2019-07-21       1          7\n",
       "20  201901528.0  2019-07-25       1          4\n",
       "21  201901554.0  2019-07-27       3         13\n",
       "22  201901607.0  2019-07-31       3          9\n",
       "23  201901641.0  2019-08-03       4         12\n",
       "24  201901724.0  2019-08-09       3         15\n",
       "25  201901808.0  2019-08-15       2          7\n",
       "26  201901819.0  2019-08-16       2          6\n",
       "27  201901888.0  2019-08-21       1          2\n",
       "28  201901927.0  2019-08-24       3         11\n",
       "29  201902004.0  2019-08-30       2          9\n",
       "30  201902077.0  2019-09-04       3         11\n",
       "31  201902130.0  2019-09-08       1          3\n",
       "32  201902158.0  2019-09-10       3         13\n",
       "33  201902248.0  2019-09-17       2          5\n",
       "34  201902317.0  2019-09-22       2          8\n",
       "35  201902372.0  2019-09-26       1          6\n",
       "36  201902384.0  2019-09-27       1          3"
      ]
     },
     "execution_count": 356,
     "metadata": {},
     "output_type": "execute_result"
    }
   ],
   "source": [
    "pd.merge(c1, c2,how='left', on = 'g_id')"
   ]
  },
  {
   "cell_type": "code",
   "execution_count": 367,
   "metadata": {
    "scrolled": true
   },
   "outputs": [
    {
     "data": {
      "text/html": [
       "<div>\n",
       "<style scoped>\n",
       "    .dataframe tbody tr th:only-of-type {\n",
       "        vertical-align: middle;\n",
       "    }\n",
       "\n",
       "    .dataframe tbody tr th {\n",
       "        vertical-align: top;\n",
       "    }\n",
       "\n",
       "    .dataframe thead th {\n",
       "        text-align: right;\n",
       "    }\n",
       "</style>\n",
       "<table border=\"1\" class=\"dataframe\">\n",
       "  <thead>\n",
       "    <tr style=\"text-align: right;\">\n",
       "      <th></th>\n",
       "      <th>g_id</th>\n",
       "      <th>unique</th>\n",
       "      <th>inning</th>\n",
       "      <th>batter_id</th>\n",
       "    </tr>\n",
       "  </thead>\n",
       "  <tbody>\n",
       "    <tr>\n",
       "      <td>0</td>\n",
       "      <td>201900001.0</td>\n",
       "      <td>2019-03-28</td>\n",
       "      <td>6</td>\n",
       "      <td>25</td>\n",
       "    </tr>\n",
       "    <tr>\n",
       "      <td>1</td>\n",
       "      <td>201900066.0</td>\n",
       "      <td>2019-04-02</td>\n",
       "      <td>6</td>\n",
       "      <td>21</td>\n",
       "    </tr>\n",
       "    <tr>\n",
       "      <td>2</td>\n",
       "      <td>201900144.0</td>\n",
       "      <td>2019-04-08</td>\n",
       "      <td>6</td>\n",
       "      <td>24</td>\n",
       "    </tr>\n",
       "    <tr>\n",
       "      <td>3</td>\n",
       "      <td>201900230.0</td>\n",
       "      <td>2019-04-15</td>\n",
       "      <td>4</td>\n",
       "      <td>20</td>\n",
       "    </tr>\n",
       "    <tr>\n",
       "      <td>4</td>\n",
       "      <td>201900304.0</td>\n",
       "      <td>2019-04-20</td>\n",
       "      <td>5</td>\n",
       "      <td>21</td>\n",
       "    </tr>\n",
       "    <tr>\n",
       "      <td>5</td>\n",
       "      <td>201900369.0</td>\n",
       "      <td>2019-04-25</td>\n",
       "      <td>5</td>\n",
       "      <td>22</td>\n",
       "    </tr>\n",
       "    <tr>\n",
       "      <td>6</td>\n",
       "      <td>201900478.0</td>\n",
       "      <td>2019-05-04</td>\n",
       "      <td>4</td>\n",
       "      <td>18</td>\n",
       "    </tr>\n",
       "    <tr>\n",
       "      <td>7</td>\n",
       "      <td>201900555.0</td>\n",
       "      <td>2019-05-10</td>\n",
       "      <td>6</td>\n",
       "      <td>22</td>\n",
       "    </tr>\n",
       "    <tr>\n",
       "      <td>8</td>\n",
       "      <td>201900620.0</td>\n",
       "      <td>2019-05-15</td>\n",
       "      <td>5</td>\n",
       "      <td>22</td>\n",
       "    </tr>\n",
       "    <tr>\n",
       "      <td>9</td>\n",
       "      <td>201900707.0</td>\n",
       "      <td>2019-05-21</td>\n",
       "      <td>6</td>\n",
       "      <td>19</td>\n",
       "    </tr>\n",
       "    <tr>\n",
       "      <td>10</td>\n",
       "      <td>201900782.0</td>\n",
       "      <td>2019-05-27</td>\n",
       "      <td>5</td>\n",
       "      <td>21</td>\n",
       "    </tr>\n",
       "    <tr>\n",
       "      <td>11</td>\n",
       "      <td>201900879.0</td>\n",
       "      <td>2019-06-03</td>\n",
       "      <td>5</td>\n",
       "      <td>21</td>\n",
       "    </tr>\n",
       "    <tr>\n",
       "      <td>12</td>\n",
       "      <td>201901185.0</td>\n",
       "      <td>2019-06-26</td>\n",
       "      <td>2</td>\n",
       "      <td>9</td>\n",
       "    </tr>\n",
       "    <tr>\n",
       "      <td>13</td>\n",
       "      <td>201901230.0</td>\n",
       "      <td>2019-06-29</td>\n",
       "      <td>3</td>\n",
       "      <td>10</td>\n",
       "    </tr>\n",
       "    <tr>\n",
       "      <td>14</td>\n",
       "      <td>201901257.0</td>\n",
       "      <td>2019-07-02</td>\n",
       "      <td>2</td>\n",
       "      <td>7</td>\n",
       "    </tr>\n",
       "    <tr>\n",
       "      <td>15</td>\n",
       "      <td>201901312.0</td>\n",
       "      <td>2019-07-06</td>\n",
       "      <td>2</td>\n",
       "      <td>10</td>\n",
       "    </tr>\n",
       "    <tr>\n",
       "      <td>16</td>\n",
       "      <td>201901368.0</td>\n",
       "      <td>2019-07-13</td>\n",
       "      <td>1</td>\n",
       "      <td>3</td>\n",
       "    </tr>\n",
       "    <tr>\n",
       "      <td>17</td>\n",
       "      <td>201901405.0</td>\n",
       "      <td>2019-07-16</td>\n",
       "      <td>3</td>\n",
       "      <td>11</td>\n",
       "    </tr>\n",
       "    <tr>\n",
       "      <td>18</td>\n",
       "      <td>201901442.0</td>\n",
       "      <td>2019-07-19</td>\n",
       "      <td>2</td>\n",
       "      <td>5</td>\n",
       "    </tr>\n",
       "    <tr>\n",
       "      <td>19</td>\n",
       "      <td>201901472.0</td>\n",
       "      <td>2019-07-21</td>\n",
       "      <td>1</td>\n",
       "      <td>7</td>\n",
       "    </tr>\n",
       "    <tr>\n",
       "      <td>20</td>\n",
       "      <td>201901528.0</td>\n",
       "      <td>2019-07-25</td>\n",
       "      <td>1</td>\n",
       "      <td>4</td>\n",
       "    </tr>\n",
       "    <tr>\n",
       "      <td>21</td>\n",
       "      <td>201901554.0</td>\n",
       "      <td>2019-07-27</td>\n",
       "      <td>3</td>\n",
       "      <td>13</td>\n",
       "    </tr>\n",
       "    <tr>\n",
       "      <td>22</td>\n",
       "      <td>201901607.0</td>\n",
       "      <td>2019-07-31</td>\n",
       "      <td>3</td>\n",
       "      <td>9</td>\n",
       "    </tr>\n",
       "    <tr>\n",
       "      <td>23</td>\n",
       "      <td>201901641.0</td>\n",
       "      <td>2019-08-03</td>\n",
       "      <td>4</td>\n",
       "      <td>12</td>\n",
       "    </tr>\n",
       "    <tr>\n",
       "      <td>24</td>\n",
       "      <td>201901724.0</td>\n",
       "      <td>2019-08-09</td>\n",
       "      <td>3</td>\n",
       "      <td>15</td>\n",
       "    </tr>\n",
       "    <tr>\n",
       "      <td>25</td>\n",
       "      <td>201901808.0</td>\n",
       "      <td>2019-08-15</td>\n",
       "      <td>2</td>\n",
       "      <td>7</td>\n",
       "    </tr>\n",
       "    <tr>\n",
       "      <td>26</td>\n",
       "      <td>201901819.0</td>\n",
       "      <td>2019-08-16</td>\n",
       "      <td>2</td>\n",
       "      <td>6</td>\n",
       "    </tr>\n",
       "    <tr>\n",
       "      <td>27</td>\n",
       "      <td>201901888.0</td>\n",
       "      <td>2019-08-21</td>\n",
       "      <td>1</td>\n",
       "      <td>2</td>\n",
       "    </tr>\n",
       "    <tr>\n",
       "      <td>28</td>\n",
       "      <td>201901927.0</td>\n",
       "      <td>2019-08-24</td>\n",
       "      <td>3</td>\n",
       "      <td>11</td>\n",
       "    </tr>\n",
       "    <tr>\n",
       "      <td>29</td>\n",
       "      <td>201902004.0</td>\n",
       "      <td>2019-08-30</td>\n",
       "      <td>2</td>\n",
       "      <td>9</td>\n",
       "    </tr>\n",
       "    <tr>\n",
       "      <td>30</td>\n",
       "      <td>201902077.0</td>\n",
       "      <td>2019-09-04</td>\n",
       "      <td>3</td>\n",
       "      <td>11</td>\n",
       "    </tr>\n",
       "    <tr>\n",
       "      <td>31</td>\n",
       "      <td>201902130.0</td>\n",
       "      <td>2019-09-08</td>\n",
       "      <td>1</td>\n",
       "      <td>3</td>\n",
       "    </tr>\n",
       "    <tr>\n",
       "      <td>32</td>\n",
       "      <td>201902158.0</td>\n",
       "      <td>2019-09-10</td>\n",
       "      <td>3</td>\n",
       "      <td>13</td>\n",
       "    </tr>\n",
       "    <tr>\n",
       "      <td>33</td>\n",
       "      <td>201902248.0</td>\n",
       "      <td>2019-09-17</td>\n",
       "      <td>2</td>\n",
       "      <td>5</td>\n",
       "    </tr>\n",
       "    <tr>\n",
       "      <td>34</td>\n",
       "      <td>201902317.0</td>\n",
       "      <td>2019-09-22</td>\n",
       "      <td>2</td>\n",
       "      <td>8</td>\n",
       "    </tr>\n",
       "    <tr>\n",
       "      <td>35</td>\n",
       "      <td>201902372.0</td>\n",
       "      <td>2019-09-26</td>\n",
       "      <td>1</td>\n",
       "      <td>6</td>\n",
       "    </tr>\n",
       "    <tr>\n",
       "      <td>36</td>\n",
       "      <td>201902384.0</td>\n",
       "      <td>2019-09-27</td>\n",
       "      <td>1</td>\n",
       "      <td>3</td>\n",
       "    </tr>\n",
       "  </tbody>\n",
       "</table>\n",
       "</div>"
      ],
      "text/plain": [
       "           g_id      unique  inning  batter_id\n",
       "0   201900001.0  2019-03-28       6         25\n",
       "1   201900066.0  2019-04-02       6         21\n",
       "2   201900144.0  2019-04-08       6         24\n",
       "3   201900230.0  2019-04-15       4         20\n",
       "4   201900304.0  2019-04-20       5         21\n",
       "5   201900369.0  2019-04-25       5         22\n",
       "6   201900478.0  2019-05-04       4         18\n",
       "7   201900555.0  2019-05-10       6         22\n",
       "8   201900620.0  2019-05-15       5         22\n",
       "9   201900707.0  2019-05-21       6         19\n",
       "10  201900782.0  2019-05-27       5         21\n",
       "11  201900879.0  2019-06-03       5         21\n",
       "12  201901185.0  2019-06-26       2          9\n",
       "13  201901230.0  2019-06-29       3         10\n",
       "14  201901257.0  2019-07-02       2          7\n",
       "15  201901312.0  2019-07-06       2         10\n",
       "16  201901368.0  2019-07-13       1          3\n",
       "17  201901405.0  2019-07-16       3         11\n",
       "18  201901442.0  2019-07-19       2          5\n",
       "19  201901472.0  2019-07-21       1          7\n",
       "20  201901528.0  2019-07-25       1          4\n",
       "21  201901554.0  2019-07-27       3         13\n",
       "22  201901607.0  2019-07-31       3          9\n",
       "23  201901641.0  2019-08-03       4         12\n",
       "24  201901724.0  2019-08-09       3         15\n",
       "25  201901808.0  2019-08-15       2          7\n",
       "26  201901819.0  2019-08-16       2          6\n",
       "27  201901888.0  2019-08-21       1          2\n",
       "28  201901927.0  2019-08-24       3         11\n",
       "29  201902004.0  2019-08-30       2          9\n",
       "30  201902077.0  2019-09-04       3         11\n",
       "31  201902130.0  2019-09-08       1          3\n",
       "32  201902158.0  2019-09-10       3         13\n",
       "33  201902248.0  2019-09-17       2          5\n",
       "34  201902317.0  2019-09-22       2          8\n",
       "35  201902372.0  2019-09-26       1          6\n",
       "36  201902384.0  2019-09-27       1          3"
      ]
     },
     "execution_count": 367,
     "metadata": {},
     "output_type": "execute_result"
    }
   ],
   "source": [
    "test = joined_atbats[joined_atbats['pitcher_id'] == 502239]\n",
    "test1 = test.groupby(by=['g_id'], as_index=False)['inning'].nunique().reset_index()\n",
    "test2 = test.groupby(by=['g_id'], as_index=False)['date'].agg([np.unique]).reset_index()\n",
    "c1 = pd.concat([test2,test1], axis=1).drop(columns=['index'])\n",
    "test3 = test.groupby(by=['g_id','inning'], as_index=True)['batter_id'].nunique().reset_index()\n",
    "#test3[0:15]\n",
    "c2 = test3.groupby(by=['g_id'], as_index=True)['batter_id'].sum().reset_index() #25, 21\n",
    "pd.merge(c1, c2,how='left', on = 'g_id')"
   ]
  },
  {
   "cell_type": "code",
   "execution_count": 376,
   "metadata": {},
   "outputs": [],
   "source": [
    "def plot_batters_faced_per_pitcher(joined_atbats):\n",
    "    print('This metrics return Batters faced by a Pitcher per Game, per Season and Avg. batters faced by a Pitcher per Game over a Season')\n",
    "    print('\\n')\n",
    "    print('Enter Pitcher ID Number and Press Enter: ')\n",
    "    pitcher_id = int(input())\n",
    "    joined_atbats = joined_atbats\n",
    "    \n",
    "    #Search for that specific pitcher by ID\n",
    "    pitcher_data = joined_atbats[joined_atbats['pitcher_id'] == pitcher_id] #test\n",
    "    pitcher_name = joined_atbats[joined_atbats['pitcher_id'] == pitcher_id]['full_name'].unique()\n",
    "    \n",
    "    #Get aggregated table of batters faced per game\n",
    "    innings_num = pitcher_data.groupby(by=['g_id'], as_index=False)['inning'].nunique().reset_index() #test1\n",
    "    games_num = pitcher_data.groupby(by=['g_id'], as_index=False)['date'].agg([np.unique]).reset_index() #test2\n",
    "    c1 = pd.concat([games_num, innings_num], axis=1).drop(columns=['index'])\n",
    "    batters_num = pitcher_data.groupby(by=['g_id','inning'], as_index=True)['batter_id'].nunique().reset_index() #test3\n",
    "    c2 = batters_num.groupby(by=['g_id'], as_index=True)['batter_id'].sum().reset_index() #25, 21\n",
    "    combined_data = pd.merge(c1, c2,how='left', on = 'g_id')\n",
    "    combined_data = combined_data.rename(columns = {'unique': 'date', 'batter_id': 'batters_faced'})\n",
    "    \n",
    "    #Get some performance metrics\n",
    "    #Total innings pitched\n",
    "    total_innings = combined_data['inning'].sum()\n",
    "    #Average innings pitched\n",
    "    avg_innings = combined_data['inning'].mean()\n",
    "    #Get Rolling Average of last 3 games pitched innings\n",
    "    combined_data['rolling_mean_innings'] = np.round(combined_data['inning'].rolling(window=3).mean(), decimals = 0)\n",
    "    \n",
    "    #Total batters faced\n",
    "    total_batters = combined_data['batters_faced'].sum()\n",
    "    #Average batters faced per game\n",
    "    avg_batters = combined_data['batters_faced'].mean()\n",
    "    #Get Rolling Average of last 3 games' batters faced number\n",
    "    combined_data['rolling_mean_batters_faced'] = np.round(combined_data['batters_faced'].rolling(window=3).mean(), decimals = 0)\n",
    "    \n",
    "    #Average batters faced per inning\n",
    "    avg_batters_inning = np.round(total_batters / total_innings, decimals = 0)\n",
    " \n",
    "    #Output: Text and Visualization   \n",
    "    print('--------------------------------------------------------')\n",
    "    print('Visualization of Batters faced by ID:', pitcher_id, ' ', pitcher_name, ' over the Season')\n",
    "    print('Pitcher ', pitcher_name, 'Pitched a Total of ', total_innings, ' innings and an Average of ', avg_innings, ' innings over the Season')\n",
    "    print('Pitcher ', pitcher_name, 'Faced a Total of ', total_batters, ' batters and an Average of ', avg_batters, ' batters over the Season')\n",
    "    print('Pitcher ', pitcher_name, 'Faces an Average of ', avg_batters_inning, ' batters per inning on a given game')\n",
    "    print('--------------------------------------------------------')\n",
    "       \n",
    "    fig = make_subplots(specs = [[{'secondary_y' : True}]])\n",
    "    \n",
    "    fig.add_trace(\n",
    "        go.Bar(x=combined_data['date'], y=combined_data['batters_faced'], name = 'Batters Faced over Season'),\n",
    "        secondary_y = False,\n",
    "    )\n",
    "    \n",
    "    fig.add_trace(\n",
    "        go.Line(x=combined_data[\"date\"], y=combined_data[\"rolling_mean_batters_faced\"], name = 'Average Batters Faced in Last 3 Games'),\n",
    "        secondary_y = True,\n",
    "    )\n",
    "    \n",
    "    fig.update_layout(title_text = \"<b>Batters Faced per Game over the Season</b>\")\n",
    "    fig.update_xaxes(title_text = '<b>Game Date</b>')\n",
    "    fig.update_yaxes(title_text = '<b>Total Batters Faced Over the Season</b>', secondary_y = False)\n",
    "    fig.update_yaxes(title_text = '<b>Average Batters Faced Over Last 3 Games</b>', secondary_y = True)\n",
    "\n",
    "    fig.show()\n",
    "        "
   ]
  },
  {
   "cell_type": "code",
   "execution_count": 377,
   "metadata": {},
   "outputs": [
    {
     "name": "stdout",
     "output_type": "stream",
     "text": [
      "This metrics return Batters faced by a Pitcher per Game, per Season and Avg. batters faced by a Pitcher per Game over a Season\n",
      "\n",
      "\n",
      "Enter Pitcher ID Number and Press Enter: \n",
      "502239\n",
      "--------------------------------------------------------\n",
      "Visualization of Batters faced by ID: 502239   ['Trevor Cahill']  over the Season\n",
      "Pitcher  ['Trevor Cahill'] Pitched a Total of  116  innings and an Average of  3.135135135135135  innings over the Season\n",
      "Pitcher  ['Trevor Cahill'] Faced a Total of  455  batters and an Average of  12.297297297297296  batters over the Season\n",
      "Pitcher  ['Trevor Cahill'] Faces an Average of  4.0  batters per inning on a given game\n",
      "--------------------------------------------------------\n"
     ]
    },
    {
     "data": {
      "application/vnd.plotly.v1+json": {
       "config": {
        "plotlyServerURL": "https://plot.ly"
       },
       "data": [
        {
         "name": "Batters Faced over Season",
         "type": "bar",
         "x": [
          "2019-03-28",
          "2019-04-02",
          "2019-04-08",
          "2019-04-15",
          "2019-04-20",
          "2019-04-25",
          "2019-05-04",
          "2019-05-10",
          "2019-05-15",
          "2019-05-21",
          "2019-05-27",
          "2019-06-03",
          "2019-06-26",
          "2019-06-29",
          "2019-07-02",
          "2019-07-06",
          "2019-07-13",
          "2019-07-16",
          "2019-07-19",
          "2019-07-21",
          "2019-07-25",
          "2019-07-27",
          "2019-07-31",
          "2019-08-03",
          "2019-08-09",
          "2019-08-15",
          "2019-08-16",
          "2019-08-21",
          "2019-08-24",
          "2019-08-30",
          "2019-09-04",
          "2019-09-08",
          "2019-09-10",
          "2019-09-17",
          "2019-09-22",
          "2019-09-26",
          "2019-09-27"
         ],
         "xaxis": "x",
         "y": [
          25,
          21,
          24,
          20,
          21,
          22,
          18,
          22,
          22,
          19,
          21,
          21,
          9,
          10,
          7,
          10,
          3,
          11,
          5,
          7,
          4,
          13,
          9,
          12,
          15,
          7,
          6,
          2,
          11,
          9,
          11,
          3,
          13,
          5,
          8,
          6,
          3
         ],
         "yaxis": "y"
        },
        {
         "name": "Average Batters Faced in Last 3 Games",
         "type": "scatter",
         "x": [
          "2019-03-28",
          "2019-04-02",
          "2019-04-08",
          "2019-04-15",
          "2019-04-20",
          "2019-04-25",
          "2019-05-04",
          "2019-05-10",
          "2019-05-15",
          "2019-05-21",
          "2019-05-27",
          "2019-06-03",
          "2019-06-26",
          "2019-06-29",
          "2019-07-02",
          "2019-07-06",
          "2019-07-13",
          "2019-07-16",
          "2019-07-19",
          "2019-07-21",
          "2019-07-25",
          "2019-07-27",
          "2019-07-31",
          "2019-08-03",
          "2019-08-09",
          "2019-08-15",
          "2019-08-16",
          "2019-08-21",
          "2019-08-24",
          "2019-08-30",
          "2019-09-04",
          "2019-09-08",
          "2019-09-10",
          "2019-09-17",
          "2019-09-22",
          "2019-09-26",
          "2019-09-27"
         ],
         "xaxis": "x",
         "y": [
          null,
          null,
          23,
          22,
          22,
          21,
          20,
          21,
          21,
          21,
          21,
          20,
          17,
          13,
          9,
          9,
          7,
          8,
          6,
          8,
          5,
          8,
          9,
          11,
          12,
          11,
          9,
          5,
          6,
          7,
          10,
          8,
          9,
          7,
          9,
          6,
          6
         ],
         "yaxis": "y2"
        }
       ],
       "layout": {
        "template": {
         "data": {
          "bar": [
           {
            "error_x": {
             "color": "#2a3f5f"
            },
            "error_y": {
             "color": "#2a3f5f"
            },
            "marker": {
             "line": {
              "color": "#E5ECF6",
              "width": 0.5
             }
            },
            "type": "bar"
           }
          ],
          "barpolar": [
           {
            "marker": {
             "line": {
              "color": "#E5ECF6",
              "width": 0.5
             }
            },
            "type": "barpolar"
           }
          ],
          "carpet": [
           {
            "aaxis": {
             "endlinecolor": "#2a3f5f",
             "gridcolor": "white",
             "linecolor": "white",
             "minorgridcolor": "white",
             "startlinecolor": "#2a3f5f"
            },
            "baxis": {
             "endlinecolor": "#2a3f5f",
             "gridcolor": "white",
             "linecolor": "white",
             "minorgridcolor": "white",
             "startlinecolor": "#2a3f5f"
            },
            "type": "carpet"
           }
          ],
          "choropleth": [
           {
            "colorbar": {
             "outlinewidth": 0,
             "ticks": ""
            },
            "type": "choropleth"
           }
          ],
          "contour": [
           {
            "colorbar": {
             "outlinewidth": 0,
             "ticks": ""
            },
            "colorscale": [
             [
              0,
              "#0d0887"
             ],
             [
              0.1111111111111111,
              "#46039f"
             ],
             [
              0.2222222222222222,
              "#7201a8"
             ],
             [
              0.3333333333333333,
              "#9c179e"
             ],
             [
              0.4444444444444444,
              "#bd3786"
             ],
             [
              0.5555555555555556,
              "#d8576b"
             ],
             [
              0.6666666666666666,
              "#ed7953"
             ],
             [
              0.7777777777777778,
              "#fb9f3a"
             ],
             [
              0.8888888888888888,
              "#fdca26"
             ],
             [
              1,
              "#f0f921"
             ]
            ],
            "type": "contour"
           }
          ],
          "contourcarpet": [
           {
            "colorbar": {
             "outlinewidth": 0,
             "ticks": ""
            },
            "type": "contourcarpet"
           }
          ],
          "heatmap": [
           {
            "colorbar": {
             "outlinewidth": 0,
             "ticks": ""
            },
            "colorscale": [
             [
              0,
              "#0d0887"
             ],
             [
              0.1111111111111111,
              "#46039f"
             ],
             [
              0.2222222222222222,
              "#7201a8"
             ],
             [
              0.3333333333333333,
              "#9c179e"
             ],
             [
              0.4444444444444444,
              "#bd3786"
             ],
             [
              0.5555555555555556,
              "#d8576b"
             ],
             [
              0.6666666666666666,
              "#ed7953"
             ],
             [
              0.7777777777777778,
              "#fb9f3a"
             ],
             [
              0.8888888888888888,
              "#fdca26"
             ],
             [
              1,
              "#f0f921"
             ]
            ],
            "type": "heatmap"
           }
          ],
          "heatmapgl": [
           {
            "colorbar": {
             "outlinewidth": 0,
             "ticks": ""
            },
            "colorscale": [
             [
              0,
              "#0d0887"
             ],
             [
              0.1111111111111111,
              "#46039f"
             ],
             [
              0.2222222222222222,
              "#7201a8"
             ],
             [
              0.3333333333333333,
              "#9c179e"
             ],
             [
              0.4444444444444444,
              "#bd3786"
             ],
             [
              0.5555555555555556,
              "#d8576b"
             ],
             [
              0.6666666666666666,
              "#ed7953"
             ],
             [
              0.7777777777777778,
              "#fb9f3a"
             ],
             [
              0.8888888888888888,
              "#fdca26"
             ],
             [
              1,
              "#f0f921"
             ]
            ],
            "type": "heatmapgl"
           }
          ],
          "histogram": [
           {
            "marker": {
             "colorbar": {
              "outlinewidth": 0,
              "ticks": ""
             }
            },
            "type": "histogram"
           }
          ],
          "histogram2d": [
           {
            "colorbar": {
             "outlinewidth": 0,
             "ticks": ""
            },
            "colorscale": [
             [
              0,
              "#0d0887"
             ],
             [
              0.1111111111111111,
              "#46039f"
             ],
             [
              0.2222222222222222,
              "#7201a8"
             ],
             [
              0.3333333333333333,
              "#9c179e"
             ],
             [
              0.4444444444444444,
              "#bd3786"
             ],
             [
              0.5555555555555556,
              "#d8576b"
             ],
             [
              0.6666666666666666,
              "#ed7953"
             ],
             [
              0.7777777777777778,
              "#fb9f3a"
             ],
             [
              0.8888888888888888,
              "#fdca26"
             ],
             [
              1,
              "#f0f921"
             ]
            ],
            "type": "histogram2d"
           }
          ],
          "histogram2dcontour": [
           {
            "colorbar": {
             "outlinewidth": 0,
             "ticks": ""
            },
            "colorscale": [
             [
              0,
              "#0d0887"
             ],
             [
              0.1111111111111111,
              "#46039f"
             ],
             [
              0.2222222222222222,
              "#7201a8"
             ],
             [
              0.3333333333333333,
              "#9c179e"
             ],
             [
              0.4444444444444444,
              "#bd3786"
             ],
             [
              0.5555555555555556,
              "#d8576b"
             ],
             [
              0.6666666666666666,
              "#ed7953"
             ],
             [
              0.7777777777777778,
              "#fb9f3a"
             ],
             [
              0.8888888888888888,
              "#fdca26"
             ],
             [
              1,
              "#f0f921"
             ]
            ],
            "type": "histogram2dcontour"
           }
          ],
          "mesh3d": [
           {
            "colorbar": {
             "outlinewidth": 0,
             "ticks": ""
            },
            "type": "mesh3d"
           }
          ],
          "parcoords": [
           {
            "line": {
             "colorbar": {
              "outlinewidth": 0,
              "ticks": ""
             }
            },
            "type": "parcoords"
           }
          ],
          "pie": [
           {
            "automargin": true,
            "type": "pie"
           }
          ],
          "scatter": [
           {
            "marker": {
             "colorbar": {
              "outlinewidth": 0,
              "ticks": ""
             }
            },
            "type": "scatter"
           }
          ],
          "scatter3d": [
           {
            "line": {
             "colorbar": {
              "outlinewidth": 0,
              "ticks": ""
             }
            },
            "marker": {
             "colorbar": {
              "outlinewidth": 0,
              "ticks": ""
             }
            },
            "type": "scatter3d"
           }
          ],
          "scattercarpet": [
           {
            "marker": {
             "colorbar": {
              "outlinewidth": 0,
              "ticks": ""
             }
            },
            "type": "scattercarpet"
           }
          ],
          "scattergeo": [
           {
            "marker": {
             "colorbar": {
              "outlinewidth": 0,
              "ticks": ""
             }
            },
            "type": "scattergeo"
           }
          ],
          "scattergl": [
           {
            "marker": {
             "colorbar": {
              "outlinewidth": 0,
              "ticks": ""
             }
            },
            "type": "scattergl"
           }
          ],
          "scattermapbox": [
           {
            "marker": {
             "colorbar": {
              "outlinewidth": 0,
              "ticks": ""
             }
            },
            "type": "scattermapbox"
           }
          ],
          "scatterpolar": [
           {
            "marker": {
             "colorbar": {
              "outlinewidth": 0,
              "ticks": ""
             }
            },
            "type": "scatterpolar"
           }
          ],
          "scatterpolargl": [
           {
            "marker": {
             "colorbar": {
              "outlinewidth": 0,
              "ticks": ""
             }
            },
            "type": "scatterpolargl"
           }
          ],
          "scatterternary": [
           {
            "marker": {
             "colorbar": {
              "outlinewidth": 0,
              "ticks": ""
             }
            },
            "type": "scatterternary"
           }
          ],
          "surface": [
           {
            "colorbar": {
             "outlinewidth": 0,
             "ticks": ""
            },
            "colorscale": [
             [
              0,
              "#0d0887"
             ],
             [
              0.1111111111111111,
              "#46039f"
             ],
             [
              0.2222222222222222,
              "#7201a8"
             ],
             [
              0.3333333333333333,
              "#9c179e"
             ],
             [
              0.4444444444444444,
              "#bd3786"
             ],
             [
              0.5555555555555556,
              "#d8576b"
             ],
             [
              0.6666666666666666,
              "#ed7953"
             ],
             [
              0.7777777777777778,
              "#fb9f3a"
             ],
             [
              0.8888888888888888,
              "#fdca26"
             ],
             [
              1,
              "#f0f921"
             ]
            ],
            "type": "surface"
           }
          ],
          "table": [
           {
            "cells": {
             "fill": {
              "color": "#EBF0F8"
             },
             "line": {
              "color": "white"
             }
            },
            "header": {
             "fill": {
              "color": "#C8D4E3"
             },
             "line": {
              "color": "white"
             }
            },
            "type": "table"
           }
          ]
         },
         "layout": {
          "annotationdefaults": {
           "arrowcolor": "#2a3f5f",
           "arrowhead": 0,
           "arrowwidth": 1
          },
          "autotypenumbers": "strict",
          "coloraxis": {
           "colorbar": {
            "outlinewidth": 0,
            "ticks": ""
           }
          },
          "colorscale": {
           "diverging": [
            [
             0,
             "#8e0152"
            ],
            [
             0.1,
             "#c51b7d"
            ],
            [
             0.2,
             "#de77ae"
            ],
            [
             0.3,
             "#f1b6da"
            ],
            [
             0.4,
             "#fde0ef"
            ],
            [
             0.5,
             "#f7f7f7"
            ],
            [
             0.6,
             "#e6f5d0"
            ],
            [
             0.7,
             "#b8e186"
            ],
            [
             0.8,
             "#7fbc41"
            ],
            [
             0.9,
             "#4d9221"
            ],
            [
             1,
             "#276419"
            ]
           ],
           "sequential": [
            [
             0,
             "#0d0887"
            ],
            [
             0.1111111111111111,
             "#46039f"
            ],
            [
             0.2222222222222222,
             "#7201a8"
            ],
            [
             0.3333333333333333,
             "#9c179e"
            ],
            [
             0.4444444444444444,
             "#bd3786"
            ],
            [
             0.5555555555555556,
             "#d8576b"
            ],
            [
             0.6666666666666666,
             "#ed7953"
            ],
            [
             0.7777777777777778,
             "#fb9f3a"
            ],
            [
             0.8888888888888888,
             "#fdca26"
            ],
            [
             1,
             "#f0f921"
            ]
           ],
           "sequentialminus": [
            [
             0,
             "#0d0887"
            ],
            [
             0.1111111111111111,
             "#46039f"
            ],
            [
             0.2222222222222222,
             "#7201a8"
            ],
            [
             0.3333333333333333,
             "#9c179e"
            ],
            [
             0.4444444444444444,
             "#bd3786"
            ],
            [
             0.5555555555555556,
             "#d8576b"
            ],
            [
             0.6666666666666666,
             "#ed7953"
            ],
            [
             0.7777777777777778,
             "#fb9f3a"
            ],
            [
             0.8888888888888888,
             "#fdca26"
            ],
            [
             1,
             "#f0f921"
            ]
           ]
          },
          "colorway": [
           "#636efa",
           "#EF553B",
           "#00cc96",
           "#ab63fa",
           "#FFA15A",
           "#19d3f3",
           "#FF6692",
           "#B6E880",
           "#FF97FF",
           "#FECB52"
          ],
          "font": {
           "color": "#2a3f5f"
          },
          "geo": {
           "bgcolor": "white",
           "lakecolor": "white",
           "landcolor": "#E5ECF6",
           "showlakes": true,
           "showland": true,
           "subunitcolor": "white"
          },
          "hoverlabel": {
           "align": "left"
          },
          "hovermode": "closest",
          "mapbox": {
           "style": "light"
          },
          "paper_bgcolor": "white",
          "plot_bgcolor": "#E5ECF6",
          "polar": {
           "angularaxis": {
            "gridcolor": "white",
            "linecolor": "white",
            "ticks": ""
           },
           "bgcolor": "#E5ECF6",
           "radialaxis": {
            "gridcolor": "white",
            "linecolor": "white",
            "ticks": ""
           }
          },
          "scene": {
           "xaxis": {
            "backgroundcolor": "#E5ECF6",
            "gridcolor": "white",
            "gridwidth": 2,
            "linecolor": "white",
            "showbackground": true,
            "ticks": "",
            "zerolinecolor": "white"
           },
           "yaxis": {
            "backgroundcolor": "#E5ECF6",
            "gridcolor": "white",
            "gridwidth": 2,
            "linecolor": "white",
            "showbackground": true,
            "ticks": "",
            "zerolinecolor": "white"
           },
           "zaxis": {
            "backgroundcolor": "#E5ECF6",
            "gridcolor": "white",
            "gridwidth": 2,
            "linecolor": "white",
            "showbackground": true,
            "ticks": "",
            "zerolinecolor": "white"
           }
          },
          "shapedefaults": {
           "line": {
            "color": "#2a3f5f"
           }
          },
          "ternary": {
           "aaxis": {
            "gridcolor": "white",
            "linecolor": "white",
            "ticks": ""
           },
           "baxis": {
            "gridcolor": "white",
            "linecolor": "white",
            "ticks": ""
           },
           "bgcolor": "#E5ECF6",
           "caxis": {
            "gridcolor": "white",
            "linecolor": "white",
            "ticks": ""
           }
          },
          "title": {
           "x": 0.05
          },
          "xaxis": {
           "automargin": true,
           "gridcolor": "white",
           "linecolor": "white",
           "ticks": "",
           "title": {
            "standoff": 15
           },
           "zerolinecolor": "white",
           "zerolinewidth": 2
          },
          "yaxis": {
           "automargin": true,
           "gridcolor": "white",
           "linecolor": "white",
           "ticks": "",
           "title": {
            "standoff": 15
           },
           "zerolinecolor": "white",
           "zerolinewidth": 2
          }
         }
        },
        "title": {
         "text": "<b>Batters Faced per Game over the Season</b>"
        },
        "xaxis": {
         "anchor": "y",
         "domain": [
          0,
          0.94
         ],
         "title": {
          "text": "<b>Game Date</b>"
         }
        },
        "yaxis": {
         "anchor": "x",
         "domain": [
          0,
          1
         ],
         "title": {
          "text": "<b>Total Batters Faced Over the Season</b>"
         }
        },
        "yaxis2": {
         "anchor": "x",
         "overlaying": "y",
         "side": "right",
         "title": {
          "text": "<b>Average Batters Faced Over Last 3 Games</b>"
         }
        }
       }
      },
      "text/html": [
       "<div>                            <div id=\"ce673f45-4ce7-4e70-97ab-83f70f0693a3\" class=\"plotly-graph-div\" style=\"height:525px; width:100%;\"></div>            <script type=\"text/javascript\">                require([\"plotly\"], function(Plotly) {                    window.PLOTLYENV=window.PLOTLYENV || {};                                    if (document.getElementById(\"ce673f45-4ce7-4e70-97ab-83f70f0693a3\")) {                    Plotly.newPlot(                        \"ce673f45-4ce7-4e70-97ab-83f70f0693a3\",                        [{\"name\": \"Batters Faced over Season\", \"type\": \"bar\", \"x\": [\"2019-03-28\", \"2019-04-02\", \"2019-04-08\", \"2019-04-15\", \"2019-04-20\", \"2019-04-25\", \"2019-05-04\", \"2019-05-10\", \"2019-05-15\", \"2019-05-21\", \"2019-05-27\", \"2019-06-03\", \"2019-06-26\", \"2019-06-29\", \"2019-07-02\", \"2019-07-06\", \"2019-07-13\", \"2019-07-16\", \"2019-07-19\", \"2019-07-21\", \"2019-07-25\", \"2019-07-27\", \"2019-07-31\", \"2019-08-03\", \"2019-08-09\", \"2019-08-15\", \"2019-08-16\", \"2019-08-21\", \"2019-08-24\", \"2019-08-30\", \"2019-09-04\", \"2019-09-08\", \"2019-09-10\", \"2019-09-17\", \"2019-09-22\", \"2019-09-26\", \"2019-09-27\"], \"xaxis\": \"x\", \"y\": [25, 21, 24, 20, 21, 22, 18, 22, 22, 19, 21, 21, 9, 10, 7, 10, 3, 11, 5, 7, 4, 13, 9, 12, 15, 7, 6, 2, 11, 9, 11, 3, 13, 5, 8, 6, 3], \"yaxis\": \"y\"}, {\"name\": \"Average Batters Faced in Last 3 Games\", \"type\": \"scatter\", \"x\": [\"2019-03-28\", \"2019-04-02\", \"2019-04-08\", \"2019-04-15\", \"2019-04-20\", \"2019-04-25\", \"2019-05-04\", \"2019-05-10\", \"2019-05-15\", \"2019-05-21\", \"2019-05-27\", \"2019-06-03\", \"2019-06-26\", \"2019-06-29\", \"2019-07-02\", \"2019-07-06\", \"2019-07-13\", \"2019-07-16\", \"2019-07-19\", \"2019-07-21\", \"2019-07-25\", \"2019-07-27\", \"2019-07-31\", \"2019-08-03\", \"2019-08-09\", \"2019-08-15\", \"2019-08-16\", \"2019-08-21\", \"2019-08-24\", \"2019-08-30\", \"2019-09-04\", \"2019-09-08\", \"2019-09-10\", \"2019-09-17\", \"2019-09-22\", \"2019-09-26\", \"2019-09-27\"], \"xaxis\": \"x\", \"y\": [null, null, 23.0, 22.0, 22.0, 21.0, 20.0, 21.0, 21.0, 21.0, 21.0, 20.0, 17.0, 13.0, 9.0, 9.0, 7.0, 8.0, 6.0, 8.0, 5.0, 8.0, 9.0, 11.0, 12.0, 11.0, 9.0, 5.0, 6.0, 7.0, 10.0, 8.0, 9.0, 7.0, 9.0, 6.0, 6.0], \"yaxis\": \"y2\"}],                        {\"template\": {\"data\": {\"bar\": [{\"error_x\": {\"color\": \"#2a3f5f\"}, \"error_y\": {\"color\": \"#2a3f5f\"}, \"marker\": {\"line\": {\"color\": \"#E5ECF6\", \"width\": 0.5}}, \"type\": \"bar\"}], \"barpolar\": [{\"marker\": {\"line\": {\"color\": \"#E5ECF6\", \"width\": 0.5}}, \"type\": \"barpolar\"}], \"carpet\": [{\"aaxis\": {\"endlinecolor\": \"#2a3f5f\", \"gridcolor\": \"white\", \"linecolor\": \"white\", \"minorgridcolor\": \"white\", \"startlinecolor\": \"#2a3f5f\"}, \"baxis\": {\"endlinecolor\": \"#2a3f5f\", \"gridcolor\": \"white\", \"linecolor\": \"white\", \"minorgridcolor\": \"white\", \"startlinecolor\": \"#2a3f5f\"}, \"type\": \"carpet\"}], \"choropleth\": [{\"colorbar\": {\"outlinewidth\": 0, \"ticks\": \"\"}, \"type\": \"choropleth\"}], \"contour\": [{\"colorbar\": {\"outlinewidth\": 0, \"ticks\": \"\"}, \"colorscale\": [[0.0, \"#0d0887\"], [0.1111111111111111, \"#46039f\"], [0.2222222222222222, \"#7201a8\"], [0.3333333333333333, \"#9c179e\"], [0.4444444444444444, \"#bd3786\"], [0.5555555555555556, \"#d8576b\"], [0.6666666666666666, \"#ed7953\"], [0.7777777777777778, \"#fb9f3a\"], [0.8888888888888888, \"#fdca26\"], [1.0, \"#f0f921\"]], \"type\": \"contour\"}], \"contourcarpet\": [{\"colorbar\": {\"outlinewidth\": 0, \"ticks\": \"\"}, \"type\": \"contourcarpet\"}], \"heatmap\": [{\"colorbar\": {\"outlinewidth\": 0, \"ticks\": \"\"}, \"colorscale\": [[0.0, \"#0d0887\"], [0.1111111111111111, \"#46039f\"], [0.2222222222222222, \"#7201a8\"], [0.3333333333333333, \"#9c179e\"], [0.4444444444444444, \"#bd3786\"], [0.5555555555555556, \"#d8576b\"], [0.6666666666666666, \"#ed7953\"], [0.7777777777777778, \"#fb9f3a\"], [0.8888888888888888, \"#fdca26\"], [1.0, \"#f0f921\"]], \"type\": \"heatmap\"}], \"heatmapgl\": [{\"colorbar\": {\"outlinewidth\": 0, \"ticks\": \"\"}, \"colorscale\": [[0.0, \"#0d0887\"], [0.1111111111111111, \"#46039f\"], [0.2222222222222222, \"#7201a8\"], [0.3333333333333333, \"#9c179e\"], [0.4444444444444444, \"#bd3786\"], [0.5555555555555556, \"#d8576b\"], [0.6666666666666666, \"#ed7953\"], [0.7777777777777778, \"#fb9f3a\"], [0.8888888888888888, \"#fdca26\"], [1.0, \"#f0f921\"]], \"type\": \"heatmapgl\"}], \"histogram\": [{\"marker\": {\"colorbar\": {\"outlinewidth\": 0, \"ticks\": \"\"}}, \"type\": \"histogram\"}], \"histogram2d\": [{\"colorbar\": {\"outlinewidth\": 0, \"ticks\": \"\"}, \"colorscale\": [[0.0, \"#0d0887\"], [0.1111111111111111, \"#46039f\"], [0.2222222222222222, \"#7201a8\"], [0.3333333333333333, \"#9c179e\"], [0.4444444444444444, \"#bd3786\"], [0.5555555555555556, \"#d8576b\"], [0.6666666666666666, \"#ed7953\"], [0.7777777777777778, \"#fb9f3a\"], [0.8888888888888888, \"#fdca26\"], [1.0, \"#f0f921\"]], \"type\": \"histogram2d\"}], \"histogram2dcontour\": [{\"colorbar\": {\"outlinewidth\": 0, \"ticks\": \"\"}, \"colorscale\": [[0.0, \"#0d0887\"], [0.1111111111111111, \"#46039f\"], [0.2222222222222222, \"#7201a8\"], [0.3333333333333333, \"#9c179e\"], [0.4444444444444444, \"#bd3786\"], [0.5555555555555556, \"#d8576b\"], [0.6666666666666666, \"#ed7953\"], [0.7777777777777778, \"#fb9f3a\"], [0.8888888888888888, \"#fdca26\"], [1.0, \"#f0f921\"]], \"type\": \"histogram2dcontour\"}], \"mesh3d\": [{\"colorbar\": {\"outlinewidth\": 0, \"ticks\": \"\"}, \"type\": \"mesh3d\"}], \"parcoords\": [{\"line\": {\"colorbar\": {\"outlinewidth\": 0, \"ticks\": \"\"}}, \"type\": \"parcoords\"}], \"pie\": [{\"automargin\": true, \"type\": \"pie\"}], \"scatter\": [{\"marker\": {\"colorbar\": {\"outlinewidth\": 0, \"ticks\": \"\"}}, \"type\": \"scatter\"}], \"scatter3d\": [{\"line\": {\"colorbar\": {\"outlinewidth\": 0, \"ticks\": \"\"}}, \"marker\": {\"colorbar\": {\"outlinewidth\": 0, \"ticks\": \"\"}}, \"type\": \"scatter3d\"}], \"scattercarpet\": [{\"marker\": {\"colorbar\": {\"outlinewidth\": 0, \"ticks\": \"\"}}, \"type\": \"scattercarpet\"}], \"scattergeo\": [{\"marker\": {\"colorbar\": {\"outlinewidth\": 0, \"ticks\": \"\"}}, \"type\": \"scattergeo\"}], \"scattergl\": [{\"marker\": {\"colorbar\": {\"outlinewidth\": 0, \"ticks\": \"\"}}, \"type\": \"scattergl\"}], \"scattermapbox\": [{\"marker\": {\"colorbar\": {\"outlinewidth\": 0, \"ticks\": \"\"}}, \"type\": \"scattermapbox\"}], \"scatterpolar\": [{\"marker\": {\"colorbar\": {\"outlinewidth\": 0, \"ticks\": \"\"}}, \"type\": \"scatterpolar\"}], \"scatterpolargl\": [{\"marker\": {\"colorbar\": {\"outlinewidth\": 0, \"ticks\": \"\"}}, \"type\": \"scatterpolargl\"}], \"scatterternary\": [{\"marker\": {\"colorbar\": {\"outlinewidth\": 0, \"ticks\": \"\"}}, \"type\": \"scatterternary\"}], \"surface\": [{\"colorbar\": {\"outlinewidth\": 0, \"ticks\": \"\"}, \"colorscale\": [[0.0, \"#0d0887\"], [0.1111111111111111, \"#46039f\"], [0.2222222222222222, \"#7201a8\"], [0.3333333333333333, \"#9c179e\"], [0.4444444444444444, \"#bd3786\"], [0.5555555555555556, \"#d8576b\"], [0.6666666666666666, \"#ed7953\"], [0.7777777777777778, \"#fb9f3a\"], [0.8888888888888888, \"#fdca26\"], [1.0, \"#f0f921\"]], \"type\": \"surface\"}], \"table\": [{\"cells\": {\"fill\": {\"color\": \"#EBF0F8\"}, \"line\": {\"color\": \"white\"}}, \"header\": {\"fill\": {\"color\": \"#C8D4E3\"}, \"line\": {\"color\": \"white\"}}, \"type\": \"table\"}]}, \"layout\": {\"annotationdefaults\": {\"arrowcolor\": \"#2a3f5f\", \"arrowhead\": 0, \"arrowwidth\": 1}, \"autotypenumbers\": \"strict\", \"coloraxis\": {\"colorbar\": {\"outlinewidth\": 0, \"ticks\": \"\"}}, \"colorscale\": {\"diverging\": [[0, \"#8e0152\"], [0.1, \"#c51b7d\"], [0.2, \"#de77ae\"], [0.3, \"#f1b6da\"], [0.4, \"#fde0ef\"], [0.5, \"#f7f7f7\"], [0.6, \"#e6f5d0\"], [0.7, \"#b8e186\"], [0.8, \"#7fbc41\"], [0.9, \"#4d9221\"], [1, \"#276419\"]], \"sequential\": [[0.0, \"#0d0887\"], [0.1111111111111111, \"#46039f\"], [0.2222222222222222, \"#7201a8\"], [0.3333333333333333, \"#9c179e\"], [0.4444444444444444, \"#bd3786\"], [0.5555555555555556, \"#d8576b\"], [0.6666666666666666, \"#ed7953\"], [0.7777777777777778, \"#fb9f3a\"], [0.8888888888888888, \"#fdca26\"], [1.0, \"#f0f921\"]], \"sequentialminus\": [[0.0, \"#0d0887\"], [0.1111111111111111, \"#46039f\"], [0.2222222222222222, \"#7201a8\"], [0.3333333333333333, \"#9c179e\"], [0.4444444444444444, \"#bd3786\"], [0.5555555555555556, \"#d8576b\"], [0.6666666666666666, \"#ed7953\"], [0.7777777777777778, \"#fb9f3a\"], [0.8888888888888888, \"#fdca26\"], [1.0, \"#f0f921\"]]}, \"colorway\": [\"#636efa\", \"#EF553B\", \"#00cc96\", \"#ab63fa\", \"#FFA15A\", \"#19d3f3\", \"#FF6692\", \"#B6E880\", \"#FF97FF\", \"#FECB52\"], \"font\": {\"color\": \"#2a3f5f\"}, \"geo\": {\"bgcolor\": \"white\", \"lakecolor\": \"white\", \"landcolor\": \"#E5ECF6\", \"showlakes\": true, \"showland\": true, \"subunitcolor\": \"white\"}, \"hoverlabel\": {\"align\": \"left\"}, \"hovermode\": \"closest\", \"mapbox\": {\"style\": \"light\"}, \"paper_bgcolor\": \"white\", \"plot_bgcolor\": \"#E5ECF6\", \"polar\": {\"angularaxis\": {\"gridcolor\": \"white\", \"linecolor\": \"white\", \"ticks\": \"\"}, \"bgcolor\": \"#E5ECF6\", \"radialaxis\": {\"gridcolor\": \"white\", \"linecolor\": \"white\", \"ticks\": \"\"}}, \"scene\": {\"xaxis\": {\"backgroundcolor\": \"#E5ECF6\", \"gridcolor\": \"white\", \"gridwidth\": 2, \"linecolor\": \"white\", \"showbackground\": true, \"ticks\": \"\", \"zerolinecolor\": \"white\"}, \"yaxis\": {\"backgroundcolor\": \"#E5ECF6\", \"gridcolor\": \"white\", \"gridwidth\": 2, \"linecolor\": \"white\", \"showbackground\": true, \"ticks\": \"\", \"zerolinecolor\": \"white\"}, \"zaxis\": {\"backgroundcolor\": \"#E5ECF6\", \"gridcolor\": \"white\", \"gridwidth\": 2, \"linecolor\": \"white\", \"showbackground\": true, \"ticks\": \"\", \"zerolinecolor\": \"white\"}}, \"shapedefaults\": {\"line\": {\"color\": \"#2a3f5f\"}}, \"ternary\": {\"aaxis\": {\"gridcolor\": \"white\", \"linecolor\": \"white\", \"ticks\": \"\"}, \"baxis\": {\"gridcolor\": \"white\", \"linecolor\": \"white\", \"ticks\": \"\"}, \"bgcolor\": \"#E5ECF6\", \"caxis\": {\"gridcolor\": \"white\", \"linecolor\": \"white\", \"ticks\": \"\"}}, \"title\": {\"x\": 0.05}, \"xaxis\": {\"automargin\": true, \"gridcolor\": \"white\", \"linecolor\": \"white\", \"ticks\": \"\", \"title\": {\"standoff\": 15}, \"zerolinecolor\": \"white\", \"zerolinewidth\": 2}, \"yaxis\": {\"automargin\": true, \"gridcolor\": \"white\", \"linecolor\": \"white\", \"ticks\": \"\", \"title\": {\"standoff\": 15}, \"zerolinecolor\": \"white\", \"zerolinewidth\": 2}}}, \"title\": {\"text\": \"<b>Batters Faced per Game over the Season</b>\"}, \"xaxis\": {\"anchor\": \"y\", \"domain\": [0.0, 0.94], \"title\": {\"text\": \"<b>Game Date</b>\"}}, \"yaxis\": {\"anchor\": \"x\", \"domain\": [0.0, 1.0], \"title\": {\"text\": \"<b>Total Batters Faced Over the Season</b>\"}}, \"yaxis2\": {\"anchor\": \"x\", \"overlaying\": \"y\", \"side\": \"right\", \"title\": {\"text\": \"<b>Average Batters Faced Over Last 3 Games</b>\"}}},                        {\"responsive\": true}                    ).then(function(){\n",
       "                            \n",
       "var gd = document.getElementById('ce673f45-4ce7-4e70-97ab-83f70f0693a3');\n",
       "var x = new MutationObserver(function (mutations, observer) {{\n",
       "        var display = window.getComputedStyle(gd).display;\n",
       "        if (!display || display === 'none') {{\n",
       "            console.log([gd, 'removed!']);\n",
       "            Plotly.purge(gd);\n",
       "            observer.disconnect();\n",
       "        }}\n",
       "}});\n",
       "\n",
       "// Listen for the removal of the full notebook cells\n",
       "var notebookContainer = gd.closest('#notebook-container');\n",
       "if (notebookContainer) {{\n",
       "    x.observe(notebookContainer, {childList: true});\n",
       "}}\n",
       "\n",
       "// Listen for the clearing of the current output cell\n",
       "var outputEl = gd.closest('.output');\n",
       "if (outputEl) {{\n",
       "    x.observe(outputEl, {childList: true});\n",
       "}}\n",
       "\n",
       "                        })                };                });            </script>        </div>"
      ]
     },
     "metadata": {},
     "output_type": "display_data"
    }
   ],
   "source": [
    "plot_batters_faced_per_pitcher(joined_atbats)"
   ]
  },
  {
   "cell_type": "code",
   "execution_count": 418,
   "metadata": {},
   "outputs": [],
   "source": [
    "#Comparing Innings Faced VS Batters Faced\n",
    "import plotly.express as px\n",
    "def plot_compare_innings_batters(joined_atbats):\n",
    "    print('This metrics return Batters faced by a Pitcher per Game, per Season and Innings thrown by a Pitcher per Game over a Season')\n",
    "    print('\\n')\n",
    "    print('Enter Pitcher ID Number and Press Enter: ')\n",
    "    pitcher_id = int(input())\n",
    "    joined_atbats = joined_atbats\n",
    "    \n",
    "    #Search for that specific pitcher by ID\n",
    "    pitcher_data = joined_atbats[joined_atbats['pitcher_id'] == pitcher_id] #test\n",
    "    pitcher_name = joined_atbats[joined_atbats['pitcher_id'] == pitcher_id]['full_name'].unique()\n",
    "    \n",
    "    #Get aggregated table of batters faced per game\n",
    "    innings_num = pitcher_data.groupby(by=['g_id'], as_index=False)['inning'].nunique().reset_index() #test1\n",
    "    games_num = pitcher_data.groupby(by=['g_id'], as_index=False)['date'].agg([np.unique]).reset_index() #test2\n",
    "    c1 = pd.concat([games_num, innings_num], axis=1).drop(columns=['index'])\n",
    "    batters_num = pitcher_data.groupby(by=['g_id','inning'], as_index=True)['batter_id'].nunique().reset_index() #test3\n",
    "    c2 = batters_num.groupby(by=['g_id'], as_index=True)['batter_id'].sum().reset_index() #25, 21\n",
    "    combined_data = pd.merge(c1, c2,how='left', on = 'g_id')\n",
    "    combined_data = combined_data.rename(columns = {'unique': 'date', 'batter_id': 'batters_faced'})\n",
    "    combined_data['ratio'] = np.round(combined_data['batters_faced'] / combined_data['inning'], decimals = 2)\n",
    "    \n",
    "    #Get some performance metrics\n",
    "    #Total innings pitched\n",
    "    total_innings = combined_data['inning'].sum()\n",
    "    #Average innings pitched\n",
    "    avg_innings = combined_data['inning'].mean()\n",
    "    #Get Rolling Average of last 3 games pitched innings\n",
    "    combined_data['rolling_mean_innings'] = np.round(combined_data['inning'].rolling(window=3).mean(), decimals = 0)\n",
    "    \n",
    "    #Total batters faced\n",
    "    total_batters = combined_data['batters_faced'].sum()\n",
    "    #Average batters faced per game\n",
    "    avg_batters = combined_data['batters_faced'].mean()\n",
    "    #Get Rolling Average of last 3 games' batters faced number\n",
    "    combined_data['rolling_mean_batters_faced'] = np.round(combined_data['batters_faced'].rolling(window=3).mean(), decimals = 0)\n",
    "    \n",
    "    #Average batters faced per inning\n",
    "    avg_batters_inning = np.round(total_batters / total_innings, decimals = 0)\n",
    " \n",
    "    #Output: Text and Visualization   \n",
    "    #Text\n",
    "    print('--------------------------------------------------------')\n",
    "    print('Visualization of Batters faced by ID:', pitcher_id, ' ', pitcher_name, ' over the Season')\n",
    "    print('Pitcher ', pitcher_name, 'Pitched a Total of ', total_innings, ' innings and an Average of ', np.round(avg_innings, decimals=1), ' innings over the Season')\n",
    "    print('Pitcher ', pitcher_name, 'Faced a Total of ', total_batters, ' batters and an Average of ', np.round(avg_batters, decimals=0), ' batters over the Season')\n",
    "    print('Pitcher ', pitcher_name, 'Faces an Average of ', np.round(avg_batters_inning, decimals=1), ' batters per inning on a given game')\n",
    "    print('--------------------------------------------------------')\n",
    "\n",
    "    #Visualization\n",
    "    plot = go.Figure(data=[go.Bar( \n",
    "        name = 'Innings Thrown', \n",
    "        x = combined_data['date'], \n",
    "        y = combined_data[\"inning\"] \n",
    "       ), \n",
    "                           go.Bar( \n",
    "        name = 'Batters Faced', \n",
    "        x = combined_data['date'], \n",
    "        y = combined_data['batters_faced']\n",
    "       ),\n",
    "                           go.Line(\n",
    "        name = 'Batter per Inning Ratio',\n",
    "        x = combined_data['date'],\n",
    "        y = combined_data['ratio']\n",
    "       ),\n",
    "    ]) \n",
    "    plot.add_shape(type = \"line\", line_color = \"RebeccaPurple\", line_width = 3, opacity = 1, line_dash = \"dot\",\n",
    "                  x0=0, x1=1, xref= \"paper\", y0=3, y1=3, yref=\"y\")\n",
    "    plot.update_layout(title_text = \"<b>Batters Faced Compared to Innings Thrown per Game over the Season</b>\")\n",
    "    plot.update_xaxes(title_text = '<b>Game Date</b>')\n",
    "    plot.update_yaxes(title_text = '<b>Numbers Over the Season</b>')\n",
    "\n",
    "    plot.show()"
   ]
  },
  {
   "cell_type": "code",
   "execution_count": 419,
   "metadata": {},
   "outputs": [
    {
     "name": "stdout",
     "output_type": "stream",
     "text": [
      "This metrics return Batters faced by a Pitcher per Game, per Season and Innings thrown by a Pitcher per Game over a Season\n",
      "\n",
      "\n",
      "Enter Pitcher ID Number and Press Enter: \n",
      "502239\n",
      "--------------------------------------------------------\n",
      "Visualization of Batters faced by ID: 502239   ['Trevor Cahill']  over the Season\n",
      "Pitcher  ['Trevor Cahill'] Pitched a Total of  116  innings and an Average of  3.1  innings over the Season\n",
      "Pitcher  ['Trevor Cahill'] Faced a Total of  455  batters and an Average of  12.0  batters over the Season\n",
      "Pitcher  ['Trevor Cahill'] Faces an Average of  4.0  batters per inning on a given game\n",
      "--------------------------------------------------------\n"
     ]
    },
    {
     "data": {
      "application/vnd.plotly.v1+json": {
       "config": {
        "plotlyServerURL": "https://plot.ly"
       },
       "data": [
        {
         "name": "Innings Thrown",
         "type": "bar",
         "x": [
          "2019-03-28",
          "2019-04-02",
          "2019-04-08",
          "2019-04-15",
          "2019-04-20",
          "2019-04-25",
          "2019-05-04",
          "2019-05-10",
          "2019-05-15",
          "2019-05-21",
          "2019-05-27",
          "2019-06-03",
          "2019-06-26",
          "2019-06-29",
          "2019-07-02",
          "2019-07-06",
          "2019-07-13",
          "2019-07-16",
          "2019-07-19",
          "2019-07-21",
          "2019-07-25",
          "2019-07-27",
          "2019-07-31",
          "2019-08-03",
          "2019-08-09",
          "2019-08-15",
          "2019-08-16",
          "2019-08-21",
          "2019-08-24",
          "2019-08-30",
          "2019-09-04",
          "2019-09-08",
          "2019-09-10",
          "2019-09-17",
          "2019-09-22",
          "2019-09-26",
          "2019-09-27"
         ],
         "y": [
          6,
          6,
          6,
          4,
          5,
          5,
          4,
          6,
          5,
          6,
          5,
          5,
          2,
          3,
          2,
          2,
          1,
          3,
          2,
          1,
          1,
          3,
          3,
          4,
          3,
          2,
          2,
          1,
          3,
          2,
          3,
          1,
          3,
          2,
          2,
          1,
          1
         ]
        },
        {
         "name": "Batters Faced",
         "type": "bar",
         "x": [
          "2019-03-28",
          "2019-04-02",
          "2019-04-08",
          "2019-04-15",
          "2019-04-20",
          "2019-04-25",
          "2019-05-04",
          "2019-05-10",
          "2019-05-15",
          "2019-05-21",
          "2019-05-27",
          "2019-06-03",
          "2019-06-26",
          "2019-06-29",
          "2019-07-02",
          "2019-07-06",
          "2019-07-13",
          "2019-07-16",
          "2019-07-19",
          "2019-07-21",
          "2019-07-25",
          "2019-07-27",
          "2019-07-31",
          "2019-08-03",
          "2019-08-09",
          "2019-08-15",
          "2019-08-16",
          "2019-08-21",
          "2019-08-24",
          "2019-08-30",
          "2019-09-04",
          "2019-09-08",
          "2019-09-10",
          "2019-09-17",
          "2019-09-22",
          "2019-09-26",
          "2019-09-27"
         ],
         "y": [
          25,
          21,
          24,
          20,
          21,
          22,
          18,
          22,
          22,
          19,
          21,
          21,
          9,
          10,
          7,
          10,
          3,
          11,
          5,
          7,
          4,
          13,
          9,
          12,
          15,
          7,
          6,
          2,
          11,
          9,
          11,
          3,
          13,
          5,
          8,
          6,
          3
         ]
        },
        {
         "name": "Batter per Inning Ratio",
         "type": "scatter",
         "x": [
          "2019-03-28",
          "2019-04-02",
          "2019-04-08",
          "2019-04-15",
          "2019-04-20",
          "2019-04-25",
          "2019-05-04",
          "2019-05-10",
          "2019-05-15",
          "2019-05-21",
          "2019-05-27",
          "2019-06-03",
          "2019-06-26",
          "2019-06-29",
          "2019-07-02",
          "2019-07-06",
          "2019-07-13",
          "2019-07-16",
          "2019-07-19",
          "2019-07-21",
          "2019-07-25",
          "2019-07-27",
          "2019-07-31",
          "2019-08-03",
          "2019-08-09",
          "2019-08-15",
          "2019-08-16",
          "2019-08-21",
          "2019-08-24",
          "2019-08-30",
          "2019-09-04",
          "2019-09-08",
          "2019-09-10",
          "2019-09-17",
          "2019-09-22",
          "2019-09-26",
          "2019-09-27"
         ],
         "y": [
          4.17,
          3.5,
          4,
          5,
          4.2,
          4.4,
          4.5,
          3.67,
          4.4,
          3.17,
          4.2,
          4.2,
          4.5,
          3.33,
          3.5,
          5,
          3,
          3.67,
          2.5,
          7,
          4,
          4.33,
          3,
          3,
          5,
          3.5,
          3,
          2,
          3.67,
          4.5,
          3.67,
          3,
          4.33,
          2.5,
          4,
          6,
          3
         ]
        }
       ],
       "layout": {
        "shapes": [
         {
          "line": {
           "color": "RebeccaPurple",
           "dash": "dot",
           "width": 3
          },
          "opacity": 1,
          "type": "line",
          "x0": 0,
          "x1": 1,
          "xref": "paper",
          "y0": 3,
          "y1": 3,
          "yref": "y"
         }
        ],
        "template": {
         "data": {
          "bar": [
           {
            "error_x": {
             "color": "#2a3f5f"
            },
            "error_y": {
             "color": "#2a3f5f"
            },
            "marker": {
             "line": {
              "color": "#E5ECF6",
              "width": 0.5
             }
            },
            "type": "bar"
           }
          ],
          "barpolar": [
           {
            "marker": {
             "line": {
              "color": "#E5ECF6",
              "width": 0.5
             }
            },
            "type": "barpolar"
           }
          ],
          "carpet": [
           {
            "aaxis": {
             "endlinecolor": "#2a3f5f",
             "gridcolor": "white",
             "linecolor": "white",
             "minorgridcolor": "white",
             "startlinecolor": "#2a3f5f"
            },
            "baxis": {
             "endlinecolor": "#2a3f5f",
             "gridcolor": "white",
             "linecolor": "white",
             "minorgridcolor": "white",
             "startlinecolor": "#2a3f5f"
            },
            "type": "carpet"
           }
          ],
          "choropleth": [
           {
            "colorbar": {
             "outlinewidth": 0,
             "ticks": ""
            },
            "type": "choropleth"
           }
          ],
          "contour": [
           {
            "colorbar": {
             "outlinewidth": 0,
             "ticks": ""
            },
            "colorscale": [
             [
              0,
              "#0d0887"
             ],
             [
              0.1111111111111111,
              "#46039f"
             ],
             [
              0.2222222222222222,
              "#7201a8"
             ],
             [
              0.3333333333333333,
              "#9c179e"
             ],
             [
              0.4444444444444444,
              "#bd3786"
             ],
             [
              0.5555555555555556,
              "#d8576b"
             ],
             [
              0.6666666666666666,
              "#ed7953"
             ],
             [
              0.7777777777777778,
              "#fb9f3a"
             ],
             [
              0.8888888888888888,
              "#fdca26"
             ],
             [
              1,
              "#f0f921"
             ]
            ],
            "type": "contour"
           }
          ],
          "contourcarpet": [
           {
            "colorbar": {
             "outlinewidth": 0,
             "ticks": ""
            },
            "type": "contourcarpet"
           }
          ],
          "heatmap": [
           {
            "colorbar": {
             "outlinewidth": 0,
             "ticks": ""
            },
            "colorscale": [
             [
              0,
              "#0d0887"
             ],
             [
              0.1111111111111111,
              "#46039f"
             ],
             [
              0.2222222222222222,
              "#7201a8"
             ],
             [
              0.3333333333333333,
              "#9c179e"
             ],
             [
              0.4444444444444444,
              "#bd3786"
             ],
             [
              0.5555555555555556,
              "#d8576b"
             ],
             [
              0.6666666666666666,
              "#ed7953"
             ],
             [
              0.7777777777777778,
              "#fb9f3a"
             ],
             [
              0.8888888888888888,
              "#fdca26"
             ],
             [
              1,
              "#f0f921"
             ]
            ],
            "type": "heatmap"
           }
          ],
          "heatmapgl": [
           {
            "colorbar": {
             "outlinewidth": 0,
             "ticks": ""
            },
            "colorscale": [
             [
              0,
              "#0d0887"
             ],
             [
              0.1111111111111111,
              "#46039f"
             ],
             [
              0.2222222222222222,
              "#7201a8"
             ],
             [
              0.3333333333333333,
              "#9c179e"
             ],
             [
              0.4444444444444444,
              "#bd3786"
             ],
             [
              0.5555555555555556,
              "#d8576b"
             ],
             [
              0.6666666666666666,
              "#ed7953"
             ],
             [
              0.7777777777777778,
              "#fb9f3a"
             ],
             [
              0.8888888888888888,
              "#fdca26"
             ],
             [
              1,
              "#f0f921"
             ]
            ],
            "type": "heatmapgl"
           }
          ],
          "histogram": [
           {
            "marker": {
             "colorbar": {
              "outlinewidth": 0,
              "ticks": ""
             }
            },
            "type": "histogram"
           }
          ],
          "histogram2d": [
           {
            "colorbar": {
             "outlinewidth": 0,
             "ticks": ""
            },
            "colorscale": [
             [
              0,
              "#0d0887"
             ],
             [
              0.1111111111111111,
              "#46039f"
             ],
             [
              0.2222222222222222,
              "#7201a8"
             ],
             [
              0.3333333333333333,
              "#9c179e"
             ],
             [
              0.4444444444444444,
              "#bd3786"
             ],
             [
              0.5555555555555556,
              "#d8576b"
             ],
             [
              0.6666666666666666,
              "#ed7953"
             ],
             [
              0.7777777777777778,
              "#fb9f3a"
             ],
             [
              0.8888888888888888,
              "#fdca26"
             ],
             [
              1,
              "#f0f921"
             ]
            ],
            "type": "histogram2d"
           }
          ],
          "histogram2dcontour": [
           {
            "colorbar": {
             "outlinewidth": 0,
             "ticks": ""
            },
            "colorscale": [
             [
              0,
              "#0d0887"
             ],
             [
              0.1111111111111111,
              "#46039f"
             ],
             [
              0.2222222222222222,
              "#7201a8"
             ],
             [
              0.3333333333333333,
              "#9c179e"
             ],
             [
              0.4444444444444444,
              "#bd3786"
             ],
             [
              0.5555555555555556,
              "#d8576b"
             ],
             [
              0.6666666666666666,
              "#ed7953"
             ],
             [
              0.7777777777777778,
              "#fb9f3a"
             ],
             [
              0.8888888888888888,
              "#fdca26"
             ],
             [
              1,
              "#f0f921"
             ]
            ],
            "type": "histogram2dcontour"
           }
          ],
          "mesh3d": [
           {
            "colorbar": {
             "outlinewidth": 0,
             "ticks": ""
            },
            "type": "mesh3d"
           }
          ],
          "parcoords": [
           {
            "line": {
             "colorbar": {
              "outlinewidth": 0,
              "ticks": ""
             }
            },
            "type": "parcoords"
           }
          ],
          "pie": [
           {
            "automargin": true,
            "type": "pie"
           }
          ],
          "scatter": [
           {
            "marker": {
             "colorbar": {
              "outlinewidth": 0,
              "ticks": ""
             }
            },
            "type": "scatter"
           }
          ],
          "scatter3d": [
           {
            "line": {
             "colorbar": {
              "outlinewidth": 0,
              "ticks": ""
             }
            },
            "marker": {
             "colorbar": {
              "outlinewidth": 0,
              "ticks": ""
             }
            },
            "type": "scatter3d"
           }
          ],
          "scattercarpet": [
           {
            "marker": {
             "colorbar": {
              "outlinewidth": 0,
              "ticks": ""
             }
            },
            "type": "scattercarpet"
           }
          ],
          "scattergeo": [
           {
            "marker": {
             "colorbar": {
              "outlinewidth": 0,
              "ticks": ""
             }
            },
            "type": "scattergeo"
           }
          ],
          "scattergl": [
           {
            "marker": {
             "colorbar": {
              "outlinewidth": 0,
              "ticks": ""
             }
            },
            "type": "scattergl"
           }
          ],
          "scattermapbox": [
           {
            "marker": {
             "colorbar": {
              "outlinewidth": 0,
              "ticks": ""
             }
            },
            "type": "scattermapbox"
           }
          ],
          "scatterpolar": [
           {
            "marker": {
             "colorbar": {
              "outlinewidth": 0,
              "ticks": ""
             }
            },
            "type": "scatterpolar"
           }
          ],
          "scatterpolargl": [
           {
            "marker": {
             "colorbar": {
              "outlinewidth": 0,
              "ticks": ""
             }
            },
            "type": "scatterpolargl"
           }
          ],
          "scatterternary": [
           {
            "marker": {
             "colorbar": {
              "outlinewidth": 0,
              "ticks": ""
             }
            },
            "type": "scatterternary"
           }
          ],
          "surface": [
           {
            "colorbar": {
             "outlinewidth": 0,
             "ticks": ""
            },
            "colorscale": [
             [
              0,
              "#0d0887"
             ],
             [
              0.1111111111111111,
              "#46039f"
             ],
             [
              0.2222222222222222,
              "#7201a8"
             ],
             [
              0.3333333333333333,
              "#9c179e"
             ],
             [
              0.4444444444444444,
              "#bd3786"
             ],
             [
              0.5555555555555556,
              "#d8576b"
             ],
             [
              0.6666666666666666,
              "#ed7953"
             ],
             [
              0.7777777777777778,
              "#fb9f3a"
             ],
             [
              0.8888888888888888,
              "#fdca26"
             ],
             [
              1,
              "#f0f921"
             ]
            ],
            "type": "surface"
           }
          ],
          "table": [
           {
            "cells": {
             "fill": {
              "color": "#EBF0F8"
             },
             "line": {
              "color": "white"
             }
            },
            "header": {
             "fill": {
              "color": "#C8D4E3"
             },
             "line": {
              "color": "white"
             }
            },
            "type": "table"
           }
          ]
         },
         "layout": {
          "annotationdefaults": {
           "arrowcolor": "#2a3f5f",
           "arrowhead": 0,
           "arrowwidth": 1
          },
          "autotypenumbers": "strict",
          "coloraxis": {
           "colorbar": {
            "outlinewidth": 0,
            "ticks": ""
           }
          },
          "colorscale": {
           "diverging": [
            [
             0,
             "#8e0152"
            ],
            [
             0.1,
             "#c51b7d"
            ],
            [
             0.2,
             "#de77ae"
            ],
            [
             0.3,
             "#f1b6da"
            ],
            [
             0.4,
             "#fde0ef"
            ],
            [
             0.5,
             "#f7f7f7"
            ],
            [
             0.6,
             "#e6f5d0"
            ],
            [
             0.7,
             "#b8e186"
            ],
            [
             0.8,
             "#7fbc41"
            ],
            [
             0.9,
             "#4d9221"
            ],
            [
             1,
             "#276419"
            ]
           ],
           "sequential": [
            [
             0,
             "#0d0887"
            ],
            [
             0.1111111111111111,
             "#46039f"
            ],
            [
             0.2222222222222222,
             "#7201a8"
            ],
            [
             0.3333333333333333,
             "#9c179e"
            ],
            [
             0.4444444444444444,
             "#bd3786"
            ],
            [
             0.5555555555555556,
             "#d8576b"
            ],
            [
             0.6666666666666666,
             "#ed7953"
            ],
            [
             0.7777777777777778,
             "#fb9f3a"
            ],
            [
             0.8888888888888888,
             "#fdca26"
            ],
            [
             1,
             "#f0f921"
            ]
           ],
           "sequentialminus": [
            [
             0,
             "#0d0887"
            ],
            [
             0.1111111111111111,
             "#46039f"
            ],
            [
             0.2222222222222222,
             "#7201a8"
            ],
            [
             0.3333333333333333,
             "#9c179e"
            ],
            [
             0.4444444444444444,
             "#bd3786"
            ],
            [
             0.5555555555555556,
             "#d8576b"
            ],
            [
             0.6666666666666666,
             "#ed7953"
            ],
            [
             0.7777777777777778,
             "#fb9f3a"
            ],
            [
             0.8888888888888888,
             "#fdca26"
            ],
            [
             1,
             "#f0f921"
            ]
           ]
          },
          "colorway": [
           "#636efa",
           "#EF553B",
           "#00cc96",
           "#ab63fa",
           "#FFA15A",
           "#19d3f3",
           "#FF6692",
           "#B6E880",
           "#FF97FF",
           "#FECB52"
          ],
          "font": {
           "color": "#2a3f5f"
          },
          "geo": {
           "bgcolor": "white",
           "lakecolor": "white",
           "landcolor": "#E5ECF6",
           "showlakes": true,
           "showland": true,
           "subunitcolor": "white"
          },
          "hoverlabel": {
           "align": "left"
          },
          "hovermode": "closest",
          "mapbox": {
           "style": "light"
          },
          "paper_bgcolor": "white",
          "plot_bgcolor": "#E5ECF6",
          "polar": {
           "angularaxis": {
            "gridcolor": "white",
            "linecolor": "white",
            "ticks": ""
           },
           "bgcolor": "#E5ECF6",
           "radialaxis": {
            "gridcolor": "white",
            "linecolor": "white",
            "ticks": ""
           }
          },
          "scene": {
           "xaxis": {
            "backgroundcolor": "#E5ECF6",
            "gridcolor": "white",
            "gridwidth": 2,
            "linecolor": "white",
            "showbackground": true,
            "ticks": "",
            "zerolinecolor": "white"
           },
           "yaxis": {
            "backgroundcolor": "#E5ECF6",
            "gridcolor": "white",
            "gridwidth": 2,
            "linecolor": "white",
            "showbackground": true,
            "ticks": "",
            "zerolinecolor": "white"
           },
           "zaxis": {
            "backgroundcolor": "#E5ECF6",
            "gridcolor": "white",
            "gridwidth": 2,
            "linecolor": "white",
            "showbackground": true,
            "ticks": "",
            "zerolinecolor": "white"
           }
          },
          "shapedefaults": {
           "line": {
            "color": "#2a3f5f"
           }
          },
          "ternary": {
           "aaxis": {
            "gridcolor": "white",
            "linecolor": "white",
            "ticks": ""
           },
           "baxis": {
            "gridcolor": "white",
            "linecolor": "white",
            "ticks": ""
           },
           "bgcolor": "#E5ECF6",
           "caxis": {
            "gridcolor": "white",
            "linecolor": "white",
            "ticks": ""
           }
          },
          "title": {
           "x": 0.05
          },
          "xaxis": {
           "automargin": true,
           "gridcolor": "white",
           "linecolor": "white",
           "ticks": "",
           "title": {
            "standoff": 15
           },
           "zerolinecolor": "white",
           "zerolinewidth": 2
          },
          "yaxis": {
           "automargin": true,
           "gridcolor": "white",
           "linecolor": "white",
           "ticks": "",
           "title": {
            "standoff": 15
           },
           "zerolinecolor": "white",
           "zerolinewidth": 2
          }
         }
        },
        "title": {
         "text": "<b>Batters Faced Compared to Innings Thrown per Game over the Season</b>"
        },
        "xaxis": {
         "title": {
          "text": "<b>Game Date</b>"
         }
        },
        "yaxis": {
         "title": {
          "text": "<b>Numbers Over the Season</b>"
         }
        }
       }
      },
      "text/html": [
       "<div>                            <div id=\"7ba0df84-a792-452c-a1dc-aa988da7a0da\" class=\"plotly-graph-div\" style=\"height:525px; width:100%;\"></div>            <script type=\"text/javascript\">                require([\"plotly\"], function(Plotly) {                    window.PLOTLYENV=window.PLOTLYENV || {};                                    if (document.getElementById(\"7ba0df84-a792-452c-a1dc-aa988da7a0da\")) {                    Plotly.newPlot(                        \"7ba0df84-a792-452c-a1dc-aa988da7a0da\",                        [{\"name\": \"Innings Thrown\", \"type\": \"bar\", \"x\": [\"2019-03-28\", \"2019-04-02\", \"2019-04-08\", \"2019-04-15\", \"2019-04-20\", \"2019-04-25\", \"2019-05-04\", \"2019-05-10\", \"2019-05-15\", \"2019-05-21\", \"2019-05-27\", \"2019-06-03\", \"2019-06-26\", \"2019-06-29\", \"2019-07-02\", \"2019-07-06\", \"2019-07-13\", \"2019-07-16\", \"2019-07-19\", \"2019-07-21\", \"2019-07-25\", \"2019-07-27\", \"2019-07-31\", \"2019-08-03\", \"2019-08-09\", \"2019-08-15\", \"2019-08-16\", \"2019-08-21\", \"2019-08-24\", \"2019-08-30\", \"2019-09-04\", \"2019-09-08\", \"2019-09-10\", \"2019-09-17\", \"2019-09-22\", \"2019-09-26\", \"2019-09-27\"], \"y\": [6, 6, 6, 4, 5, 5, 4, 6, 5, 6, 5, 5, 2, 3, 2, 2, 1, 3, 2, 1, 1, 3, 3, 4, 3, 2, 2, 1, 3, 2, 3, 1, 3, 2, 2, 1, 1]}, {\"name\": \"Batters Faced\", \"type\": \"bar\", \"x\": [\"2019-03-28\", \"2019-04-02\", \"2019-04-08\", \"2019-04-15\", \"2019-04-20\", \"2019-04-25\", \"2019-05-04\", \"2019-05-10\", \"2019-05-15\", \"2019-05-21\", \"2019-05-27\", \"2019-06-03\", \"2019-06-26\", \"2019-06-29\", \"2019-07-02\", \"2019-07-06\", \"2019-07-13\", \"2019-07-16\", \"2019-07-19\", \"2019-07-21\", \"2019-07-25\", \"2019-07-27\", \"2019-07-31\", \"2019-08-03\", \"2019-08-09\", \"2019-08-15\", \"2019-08-16\", \"2019-08-21\", \"2019-08-24\", \"2019-08-30\", \"2019-09-04\", \"2019-09-08\", \"2019-09-10\", \"2019-09-17\", \"2019-09-22\", \"2019-09-26\", \"2019-09-27\"], \"y\": [25, 21, 24, 20, 21, 22, 18, 22, 22, 19, 21, 21, 9, 10, 7, 10, 3, 11, 5, 7, 4, 13, 9, 12, 15, 7, 6, 2, 11, 9, 11, 3, 13, 5, 8, 6, 3]}, {\"name\": \"Batter per Inning Ratio\", \"type\": \"scatter\", \"x\": [\"2019-03-28\", \"2019-04-02\", \"2019-04-08\", \"2019-04-15\", \"2019-04-20\", \"2019-04-25\", \"2019-05-04\", \"2019-05-10\", \"2019-05-15\", \"2019-05-21\", \"2019-05-27\", \"2019-06-03\", \"2019-06-26\", \"2019-06-29\", \"2019-07-02\", \"2019-07-06\", \"2019-07-13\", \"2019-07-16\", \"2019-07-19\", \"2019-07-21\", \"2019-07-25\", \"2019-07-27\", \"2019-07-31\", \"2019-08-03\", \"2019-08-09\", \"2019-08-15\", \"2019-08-16\", \"2019-08-21\", \"2019-08-24\", \"2019-08-30\", \"2019-09-04\", \"2019-09-08\", \"2019-09-10\", \"2019-09-17\", \"2019-09-22\", \"2019-09-26\", \"2019-09-27\"], \"y\": [4.17, 3.5, 4.0, 5.0, 4.2, 4.4, 4.5, 3.67, 4.4, 3.17, 4.2, 4.2, 4.5, 3.33, 3.5, 5.0, 3.0, 3.67, 2.5, 7.0, 4.0, 4.33, 3.0, 3.0, 5.0, 3.5, 3.0, 2.0, 3.67, 4.5, 3.67, 3.0, 4.33, 2.5, 4.0, 6.0, 3.0]}],                        {\"shapes\": [{\"line\": {\"color\": \"RebeccaPurple\", \"dash\": \"dot\", \"width\": 3}, \"opacity\": 1, \"type\": \"line\", \"x0\": 0, \"x1\": 1, \"xref\": \"paper\", \"y0\": 3, \"y1\": 3, \"yref\": \"y\"}], \"template\": {\"data\": {\"bar\": [{\"error_x\": {\"color\": \"#2a3f5f\"}, \"error_y\": {\"color\": \"#2a3f5f\"}, \"marker\": {\"line\": {\"color\": \"#E5ECF6\", \"width\": 0.5}}, \"type\": \"bar\"}], \"barpolar\": [{\"marker\": {\"line\": {\"color\": \"#E5ECF6\", \"width\": 0.5}}, \"type\": \"barpolar\"}], \"carpet\": [{\"aaxis\": {\"endlinecolor\": \"#2a3f5f\", \"gridcolor\": \"white\", \"linecolor\": \"white\", \"minorgridcolor\": \"white\", \"startlinecolor\": \"#2a3f5f\"}, \"baxis\": {\"endlinecolor\": \"#2a3f5f\", \"gridcolor\": \"white\", \"linecolor\": \"white\", \"minorgridcolor\": \"white\", \"startlinecolor\": \"#2a3f5f\"}, \"type\": \"carpet\"}], \"choropleth\": [{\"colorbar\": {\"outlinewidth\": 0, \"ticks\": \"\"}, \"type\": \"choropleth\"}], \"contour\": [{\"colorbar\": {\"outlinewidth\": 0, \"ticks\": \"\"}, \"colorscale\": [[0.0, \"#0d0887\"], [0.1111111111111111, \"#46039f\"], [0.2222222222222222, \"#7201a8\"], [0.3333333333333333, \"#9c179e\"], [0.4444444444444444, \"#bd3786\"], [0.5555555555555556, \"#d8576b\"], [0.6666666666666666, \"#ed7953\"], [0.7777777777777778, \"#fb9f3a\"], [0.8888888888888888, \"#fdca26\"], [1.0, \"#f0f921\"]], \"type\": \"contour\"}], \"contourcarpet\": [{\"colorbar\": {\"outlinewidth\": 0, \"ticks\": \"\"}, \"type\": \"contourcarpet\"}], \"heatmap\": [{\"colorbar\": {\"outlinewidth\": 0, \"ticks\": \"\"}, \"colorscale\": [[0.0, \"#0d0887\"], [0.1111111111111111, \"#46039f\"], [0.2222222222222222, \"#7201a8\"], [0.3333333333333333, \"#9c179e\"], [0.4444444444444444, \"#bd3786\"], [0.5555555555555556, \"#d8576b\"], [0.6666666666666666, \"#ed7953\"], [0.7777777777777778, \"#fb9f3a\"], [0.8888888888888888, \"#fdca26\"], [1.0, \"#f0f921\"]], \"type\": \"heatmap\"}], \"heatmapgl\": [{\"colorbar\": {\"outlinewidth\": 0, \"ticks\": \"\"}, \"colorscale\": [[0.0, \"#0d0887\"], [0.1111111111111111, \"#46039f\"], [0.2222222222222222, \"#7201a8\"], [0.3333333333333333, \"#9c179e\"], [0.4444444444444444, \"#bd3786\"], [0.5555555555555556, \"#d8576b\"], [0.6666666666666666, \"#ed7953\"], [0.7777777777777778, \"#fb9f3a\"], [0.8888888888888888, \"#fdca26\"], [1.0, \"#f0f921\"]], \"type\": \"heatmapgl\"}], \"histogram\": [{\"marker\": {\"colorbar\": {\"outlinewidth\": 0, \"ticks\": \"\"}}, \"type\": \"histogram\"}], \"histogram2d\": [{\"colorbar\": {\"outlinewidth\": 0, \"ticks\": \"\"}, \"colorscale\": [[0.0, \"#0d0887\"], [0.1111111111111111, \"#46039f\"], [0.2222222222222222, \"#7201a8\"], [0.3333333333333333, \"#9c179e\"], [0.4444444444444444, \"#bd3786\"], [0.5555555555555556, \"#d8576b\"], [0.6666666666666666, \"#ed7953\"], [0.7777777777777778, \"#fb9f3a\"], [0.8888888888888888, \"#fdca26\"], [1.0, \"#f0f921\"]], \"type\": \"histogram2d\"}], \"histogram2dcontour\": [{\"colorbar\": {\"outlinewidth\": 0, \"ticks\": \"\"}, \"colorscale\": [[0.0, \"#0d0887\"], [0.1111111111111111, \"#46039f\"], [0.2222222222222222, \"#7201a8\"], [0.3333333333333333, \"#9c179e\"], [0.4444444444444444, \"#bd3786\"], [0.5555555555555556, \"#d8576b\"], [0.6666666666666666, \"#ed7953\"], [0.7777777777777778, \"#fb9f3a\"], [0.8888888888888888, \"#fdca26\"], [1.0, \"#f0f921\"]], \"type\": \"histogram2dcontour\"}], \"mesh3d\": [{\"colorbar\": {\"outlinewidth\": 0, \"ticks\": \"\"}, \"type\": \"mesh3d\"}], \"parcoords\": [{\"line\": {\"colorbar\": {\"outlinewidth\": 0, \"ticks\": \"\"}}, \"type\": \"parcoords\"}], \"pie\": [{\"automargin\": true, \"type\": \"pie\"}], \"scatter\": [{\"marker\": {\"colorbar\": {\"outlinewidth\": 0, \"ticks\": \"\"}}, \"type\": \"scatter\"}], \"scatter3d\": [{\"line\": {\"colorbar\": {\"outlinewidth\": 0, \"ticks\": \"\"}}, \"marker\": {\"colorbar\": {\"outlinewidth\": 0, \"ticks\": \"\"}}, \"type\": \"scatter3d\"}], \"scattercarpet\": [{\"marker\": {\"colorbar\": {\"outlinewidth\": 0, \"ticks\": \"\"}}, \"type\": \"scattercarpet\"}], \"scattergeo\": [{\"marker\": {\"colorbar\": {\"outlinewidth\": 0, \"ticks\": \"\"}}, \"type\": \"scattergeo\"}], \"scattergl\": [{\"marker\": {\"colorbar\": {\"outlinewidth\": 0, \"ticks\": \"\"}}, \"type\": \"scattergl\"}], \"scattermapbox\": [{\"marker\": {\"colorbar\": {\"outlinewidth\": 0, \"ticks\": \"\"}}, \"type\": \"scattermapbox\"}], \"scatterpolar\": [{\"marker\": {\"colorbar\": {\"outlinewidth\": 0, \"ticks\": \"\"}}, \"type\": \"scatterpolar\"}], \"scatterpolargl\": [{\"marker\": {\"colorbar\": {\"outlinewidth\": 0, \"ticks\": \"\"}}, \"type\": \"scatterpolargl\"}], \"scatterternary\": [{\"marker\": {\"colorbar\": {\"outlinewidth\": 0, \"ticks\": \"\"}}, \"type\": \"scatterternary\"}], \"surface\": [{\"colorbar\": {\"outlinewidth\": 0, \"ticks\": \"\"}, \"colorscale\": [[0.0, \"#0d0887\"], [0.1111111111111111, \"#46039f\"], [0.2222222222222222, \"#7201a8\"], [0.3333333333333333, \"#9c179e\"], [0.4444444444444444, \"#bd3786\"], [0.5555555555555556, \"#d8576b\"], [0.6666666666666666, \"#ed7953\"], [0.7777777777777778, \"#fb9f3a\"], [0.8888888888888888, \"#fdca26\"], [1.0, \"#f0f921\"]], \"type\": \"surface\"}], \"table\": [{\"cells\": {\"fill\": {\"color\": \"#EBF0F8\"}, \"line\": {\"color\": \"white\"}}, \"header\": {\"fill\": {\"color\": \"#C8D4E3\"}, \"line\": {\"color\": \"white\"}}, \"type\": \"table\"}]}, \"layout\": {\"annotationdefaults\": {\"arrowcolor\": \"#2a3f5f\", \"arrowhead\": 0, \"arrowwidth\": 1}, \"autotypenumbers\": \"strict\", \"coloraxis\": {\"colorbar\": {\"outlinewidth\": 0, \"ticks\": \"\"}}, \"colorscale\": {\"diverging\": [[0, \"#8e0152\"], [0.1, \"#c51b7d\"], [0.2, \"#de77ae\"], [0.3, \"#f1b6da\"], [0.4, \"#fde0ef\"], [0.5, \"#f7f7f7\"], [0.6, \"#e6f5d0\"], [0.7, \"#b8e186\"], [0.8, \"#7fbc41\"], [0.9, \"#4d9221\"], [1, \"#276419\"]], \"sequential\": [[0.0, \"#0d0887\"], [0.1111111111111111, \"#46039f\"], [0.2222222222222222, \"#7201a8\"], [0.3333333333333333, \"#9c179e\"], [0.4444444444444444, \"#bd3786\"], [0.5555555555555556, \"#d8576b\"], [0.6666666666666666, \"#ed7953\"], [0.7777777777777778, \"#fb9f3a\"], [0.8888888888888888, \"#fdca26\"], [1.0, \"#f0f921\"]], \"sequentialminus\": [[0.0, \"#0d0887\"], [0.1111111111111111, \"#46039f\"], [0.2222222222222222, \"#7201a8\"], [0.3333333333333333, \"#9c179e\"], [0.4444444444444444, \"#bd3786\"], [0.5555555555555556, \"#d8576b\"], [0.6666666666666666, \"#ed7953\"], [0.7777777777777778, \"#fb9f3a\"], [0.8888888888888888, \"#fdca26\"], [1.0, \"#f0f921\"]]}, \"colorway\": [\"#636efa\", \"#EF553B\", \"#00cc96\", \"#ab63fa\", \"#FFA15A\", \"#19d3f3\", \"#FF6692\", \"#B6E880\", \"#FF97FF\", \"#FECB52\"], \"font\": {\"color\": \"#2a3f5f\"}, \"geo\": {\"bgcolor\": \"white\", \"lakecolor\": \"white\", \"landcolor\": \"#E5ECF6\", \"showlakes\": true, \"showland\": true, \"subunitcolor\": \"white\"}, \"hoverlabel\": {\"align\": \"left\"}, \"hovermode\": \"closest\", \"mapbox\": {\"style\": \"light\"}, \"paper_bgcolor\": \"white\", \"plot_bgcolor\": \"#E5ECF6\", \"polar\": {\"angularaxis\": {\"gridcolor\": \"white\", \"linecolor\": \"white\", \"ticks\": \"\"}, \"bgcolor\": \"#E5ECF6\", \"radialaxis\": {\"gridcolor\": \"white\", \"linecolor\": \"white\", \"ticks\": \"\"}}, \"scene\": {\"xaxis\": {\"backgroundcolor\": \"#E5ECF6\", \"gridcolor\": \"white\", \"gridwidth\": 2, \"linecolor\": \"white\", \"showbackground\": true, \"ticks\": \"\", \"zerolinecolor\": \"white\"}, \"yaxis\": {\"backgroundcolor\": \"#E5ECF6\", \"gridcolor\": \"white\", \"gridwidth\": 2, \"linecolor\": \"white\", \"showbackground\": true, \"ticks\": \"\", \"zerolinecolor\": \"white\"}, \"zaxis\": {\"backgroundcolor\": \"#E5ECF6\", \"gridcolor\": \"white\", \"gridwidth\": 2, \"linecolor\": \"white\", \"showbackground\": true, \"ticks\": \"\", \"zerolinecolor\": \"white\"}}, \"shapedefaults\": {\"line\": {\"color\": \"#2a3f5f\"}}, \"ternary\": {\"aaxis\": {\"gridcolor\": \"white\", \"linecolor\": \"white\", \"ticks\": \"\"}, \"baxis\": {\"gridcolor\": \"white\", \"linecolor\": \"white\", \"ticks\": \"\"}, \"bgcolor\": \"#E5ECF6\", \"caxis\": {\"gridcolor\": \"white\", \"linecolor\": \"white\", \"ticks\": \"\"}}, \"title\": {\"x\": 0.05}, \"xaxis\": {\"automargin\": true, \"gridcolor\": \"white\", \"linecolor\": \"white\", \"ticks\": \"\", \"title\": {\"standoff\": 15}, \"zerolinecolor\": \"white\", \"zerolinewidth\": 2}, \"yaxis\": {\"automargin\": true, \"gridcolor\": \"white\", \"linecolor\": \"white\", \"ticks\": \"\", \"title\": {\"standoff\": 15}, \"zerolinecolor\": \"white\", \"zerolinewidth\": 2}}}, \"title\": {\"text\": \"<b>Batters Faced Compared to Innings Thrown per Game over the Season</b>\"}, \"xaxis\": {\"title\": {\"text\": \"<b>Game Date</b>\"}}, \"yaxis\": {\"title\": {\"text\": \"<b>Numbers Over the Season</b>\"}}},                        {\"responsive\": true}                    ).then(function(){\n",
       "                            \n",
       "var gd = document.getElementById('7ba0df84-a792-452c-a1dc-aa988da7a0da');\n",
       "var x = new MutationObserver(function (mutations, observer) {{\n",
       "        var display = window.getComputedStyle(gd).display;\n",
       "        if (!display || display === 'none') {{\n",
       "            console.log([gd, 'removed!']);\n",
       "            Plotly.purge(gd);\n",
       "            observer.disconnect();\n",
       "        }}\n",
       "}});\n",
       "\n",
       "// Listen for the removal of the full notebook cells\n",
       "var notebookContainer = gd.closest('#notebook-container');\n",
       "if (notebookContainer) {{\n",
       "    x.observe(notebookContainer, {childList: true});\n",
       "}}\n",
       "\n",
       "// Listen for the clearing of the current output cell\n",
       "var outputEl = gd.closest('.output');\n",
       "if (outputEl) {{\n",
       "    x.observe(outputEl, {childList: true});\n",
       "}}\n",
       "\n",
       "                        })                };                });            </script>        </div>"
      ]
     },
     "metadata": {},
     "output_type": "display_data"
    }
   ],
   "source": [
    "plot_compare_innings_batters(joined_atbats)"
   ]
  },
  {
   "cell_type": "code",
   "execution_count": 427,
   "metadata": {},
   "outputs": [],
   "source": [
    "#Need to aggregate by Month and then compare b/c the dates are all different for pitchers\n",
    "\n",
    "#Compare two pitchers in terms of batters faced and innings thrown\n",
    "def plot_compare_two_pitchers(joined_atbats):\n",
    "    print('This metrics return a comparison of two pitchers in terms of batters faced and innings thrown over a season')\n",
    "    print('\\n')\n",
    "    print('Enter First Pitcher ID Number and Press Enter: ')\n",
    "    print('Enter Second Pitcher ID Number and Press Enter: ')\n",
    "    pitcher_id1 = int(input())\n",
    "    pitcher_id2 = int(input())\n",
    "    joined_atbats = joined_atbats\n",
    "    \n",
    "    #Search for that specific pitcher by ID\n",
    "    pitcher_data1 = joined_atbats[joined_atbats['pitcher_id'] == pitcher_id1] #test\n",
    "    pitcher_data2 = joined_atbats[joined_atbats['pitcher_id'] == pitcher_id2] #test\n",
    "    pitcher_name1 = joined_atbats[joined_atbats['pitcher_id'] == pitcher_id1]['full_name'].unique()\n",
    "    pitcher_name2 = joined_atbats[joined_atbats['pitcher_id'] == pitcher_id2]['full_name'].unique()\n",
    "    \n",
    "    #Get aggregated table of batters faced per game for Pitcher1\n",
    "    innings_num1 = pitcher_data1.groupby(by=['g_id'], as_index=False)['inning'].nunique().reset_index() #test1\n",
    "    games_num1 = pitcher_data1.groupby(by=['g_id'], as_index=False)['date'].agg([np.unique]).reset_index() #test2\n",
    "    c1 = pd.concat([games_num1, innings_num1], axis=1).drop(columns=['index'])\n",
    "    batters_num1 = pitcher_data1.groupby(by=['g_id','inning'], as_index=True)['batter_id'].nunique().reset_index() #test3\n",
    "    c2 = batters_num1.groupby(by=['g_id'], as_index=True)['batter_id'].sum().reset_index() #25, 21\n",
    "    combined_data1 = pd.merge(c1, c2,how='left', on = 'g_id')\n",
    "    combined_data1 = combined_data1.rename(columns = {'unique': 'date', 'batter_id': 'batters_faced'})\n",
    "    combined_data1['ratio'] = np.round(combined_data1['batters_faced'] / combined_data1['inning'], decimals = 2)\n",
    "    \n",
    "    #Get aggregated table of batters faced per game for Pitcher2\n",
    "    innings_num2 = pitcher_data2.groupby(by=['g_id'], as_index=False)['inning'].nunique().reset_index() #test1\n",
    "    games_num2 = pitcher_data2.groupby(by=['g_id'], as_index=False)['date'].agg([np.unique]).reset_index() #test2\n",
    "    c3 = pd.concat([games_num2, innings_num2], axis=1).drop(columns=['index'])\n",
    "    batters_num2 = pitcher_data2.groupby(by=['g_id','inning'], as_index=True)['batter_id'].nunique().reset_index() #test3\n",
    "    c4 = batters_num2.groupby(by=['g_id'], as_index=True)['batter_id'].sum().reset_index() #25, 21\n",
    "    combined_data2 = pd.merge(c3, c4,how='left', on = 'g_id')\n",
    "    combined_data2 = combined_data2.rename(columns = {'unique': 'date', 'batter_id': 'batters_faced'})\n",
    "    combined_data2['ratio'] = np.round(combined_data2['batters_faced'] / combined_data2['inning'], decimals = 2)\n",
    "    \n",
    "    #Get some performance metrics\n",
    "    #Pitcher1\n",
    "    #Total innings pitched\n",
    "    total_innings1 = combined_data1['inning'].sum()\n",
    "    #Average innings pitched\n",
    "    avg_innings1 = combined_data1['inning'].mean()\n",
    "    #Get Rolling Average of last 3 games pitched innings\n",
    "    combined_data1['rolling_mean_innings'] = np.round(combined_data1['inning'].rolling(window=3).mean(), decimals = 0)\n",
    "    \n",
    "    #Total batters faced\n",
    "    total_batters1 = combined_data1['batters_faced'].sum()\n",
    "    #Average batters faced per game\n",
    "    avg_batters1 = combined_data1['batters_faced'].mean()\n",
    "    #Get Rolling Average of last 3 games' batters faced number\n",
    "    combined_data1['rolling_mean_batters_faced'] = np.round(combined_data1['batters_faced'].rolling(window=3).mean(), decimals = 0)\n",
    "    \n",
    "    #Average batters faced per inning\n",
    "    avg_batters_inning1 = np.round(total_batters1 / total_innings1, decimals = 0)  \n",
    "    \n",
    "    #Get some performance metrics\n",
    "    #Pitcher2\n",
    "    #Total innings pitched\n",
    "    total_innings2 = combined_data2['inning'].sum()\n",
    "    #Average innings pitched\n",
    "    avg_innings2 = combined_data2['inning'].mean()\n",
    "    #Get Rolling Average of last 3 games pitched innings\n",
    "    combined_data2['rolling_mean_innings'] = np.round(combined_data2['inning'].rolling(window=3).mean(), decimals = 0)\n",
    "    \n",
    "    #Total batters faced\n",
    "    total_batters2 = combined_data2['batters_faced'].sum()\n",
    "    #Average batters faced per game\n",
    "    avg_batters2 = combined_data2['batters_faced'].mean()\n",
    "    #Get Rolling Average of last 3 games' batters faced number\n",
    "    combined_data2['rolling_mean_batters_faced'] = np.round(combined_data2['batters_faced'].rolling(window=3).mean(), decimals = 0)\n",
    "    \n",
    "    #Average batters faced per inning\n",
    "    avg_batters_inning2 = np.round(total_batters2 / total_innings2, decimals = 0)\n",
    "    \n",
    "    #Output: Text and Visualization   \n",
    "    #Text\n",
    "    print('--------------------------------------------------------')\n",
    "    print('Comparing Two Pitchers in terms of Innings Thrown and Batters Faced per Game over a Season')\n",
    "    compare = pd.DataFrame(columns = ['Pitcher ID', 'Pitcher Name', 'Total Innings', 'Avg. Innings',\n",
    "                                     'Total Batters Faced', 'Avg. Batters Faced'],\n",
    "                          data = [[pitcher_id1, pitcher_name1, total_innings1, avg_innings1,\n",
    "                                  total_batters1, avg_batters1],\n",
    "                                 [pitcher_id2, pitcher_name2, total_innings2, avg_innings2,\n",
    "                                 total_batters2, avg_batters2]])\n",
    "    #print('Visualization of Batters faced by ID:', pitcher_id1, ' ', pitcher_name1, ' over the Season')\n",
    "    #print('Pitcher ', pitcher_name, 'Pitched a Total of ', total_innings, ' innings and an Average of ', np.round(avg_innings, decimals=1), ' innings over the Season')\n",
    "    #print('Pitcher ', pitcher_name, 'Faced a Total of ', total_batters, ' batters and an Average of ', np.round(avg_batters, decimals=0), ' batters over the Season')\n",
    "    #print('Pitcher ', pitcher_name, 'Faces an Average of ', np.round(avg_batters_inning, decimals=1), ' batters per inning on a given game')\n",
    "    print('--------------------------------------------------------')\n",
    "    \n",
    "    #Visualization\n",
    "    plot = go.Figure(data=[go.Bar( \n",
    "        name = 'Innings Thrown by Pitcher 1', \n",
    "        x = combined_data1['date'], \n",
    "        y = combined_data1[\"inning\"] \n",
    "       ), \n",
    "                           go.Bar( \n",
    "        name = 'Innings Thrown by Pitcher 2', \n",
    "        x = combined_data2['date'], \n",
    "        y = combined_data2['batters_faced']\n",
    "       ),\n",
    "                           go.Line(\n",
    "        name = 'Batter per Inning Ratio by Pitcher 1',\n",
    "        x = combined_data1['date'],\n",
    "        y = combined_data1['ratio']\n",
    "       ),\n",
    "                            go.Line(\n",
    "        name = 'Batter per Inning Ratio by Pitcher 2',\n",
    "        x = combined_data2['date'],\n",
    "        y = combined_data2['ratio']\n",
    "       ),                    \n",
    "    ]) \n",
    "    plot.add_shape(type = \"line\", line_color = \"RebeccaPurple\", line_width = 3, opacity = 1, line_dash = \"dot\",\n",
    "                  x0=0, x1=1, xref= \"paper\", y0=3, y1=3, yref=\"y\")\n",
    "    plot.update_layout(title_text = \"<b>Comparison of Two Pitchers in Terms of Innings Thrown and Batters Faced</b>\")\n",
    "    plot.update_xaxes(title_text = '<b>Game Date</b>')\n",
    "    plot.update_yaxes(title_text = '<b>Numbers Over the Season</b>')\n",
    "\n",
    "    return compare, plot.show()"
   ]
  },
  {
   "cell_type": "code",
   "execution_count": 428,
   "metadata": {},
   "outputs": [
    {
     "name": "stdout",
     "output_type": "stream",
     "text": [
      "This metrics return a comparison of two pitchers in terms of batters faced and innings thrown over a season\n",
      "\n",
      "\n",
      "Enter First Pitcher ID Number and Press Enter: \n",
      "Enter Second Pitcher ID Number and Press Enter: \n",
      "502239\n",
      "656814\n",
      "--------------------------------------------------------\n",
      "Comparing Two Pitchers in terms of Innings Thrown and Batters Faced per Game over a Season\n",
      "--------------------------------------------------------\n"
     ]
    },
    {
     "data": {
      "application/vnd.plotly.v1+json": {
       "config": {
        "plotlyServerURL": "https://plot.ly"
       },
       "data": [
        {
         "name": "Innings Thrown by Pitcher 1",
         "type": "bar",
         "x": [
          "2019-03-28",
          "2019-04-02",
          "2019-04-08",
          "2019-04-15",
          "2019-04-20",
          "2019-04-25",
          "2019-05-04",
          "2019-05-10",
          "2019-05-15",
          "2019-05-21",
          "2019-05-27",
          "2019-06-03",
          "2019-06-26",
          "2019-06-29",
          "2019-07-02",
          "2019-07-06",
          "2019-07-13",
          "2019-07-16",
          "2019-07-19",
          "2019-07-21",
          "2019-07-25",
          "2019-07-27",
          "2019-07-31",
          "2019-08-03",
          "2019-08-09",
          "2019-08-15",
          "2019-08-16",
          "2019-08-21",
          "2019-08-24",
          "2019-08-30",
          "2019-09-04",
          "2019-09-08",
          "2019-09-10",
          "2019-09-17",
          "2019-09-22",
          "2019-09-26",
          "2019-09-27"
         ],
         "y": [
          6,
          6,
          6,
          4,
          5,
          5,
          4,
          6,
          5,
          6,
          5,
          5,
          2,
          3,
          2,
          2,
          1,
          3,
          2,
          1,
          1,
          3,
          3,
          4,
          3,
          2,
          2,
          1,
          3,
          2,
          3,
          1,
          3,
          2,
          2,
          1,
          1
         ]
        },
        {
         "name": "Innings Thrown by Pitcher 2",
         "type": "bar",
         "x": [
          "2019-06-14"
         ],
         "y": [
          18
         ]
        },
        {
         "name": "Batter per Inning Ratio by Pitcher 1",
         "type": "scatter",
         "x": [
          "2019-03-28",
          "2019-04-02",
          "2019-04-08",
          "2019-04-15",
          "2019-04-20",
          "2019-04-25",
          "2019-05-04",
          "2019-05-10",
          "2019-05-15",
          "2019-05-21",
          "2019-05-27",
          "2019-06-03",
          "2019-06-26",
          "2019-06-29",
          "2019-07-02",
          "2019-07-06",
          "2019-07-13",
          "2019-07-16",
          "2019-07-19",
          "2019-07-21",
          "2019-07-25",
          "2019-07-27",
          "2019-07-31",
          "2019-08-03",
          "2019-08-09",
          "2019-08-15",
          "2019-08-16",
          "2019-08-21",
          "2019-08-24",
          "2019-08-30",
          "2019-09-04",
          "2019-09-08",
          "2019-09-10",
          "2019-09-17",
          "2019-09-22",
          "2019-09-26",
          "2019-09-27"
         ],
         "y": [
          4.17,
          3.5,
          4,
          5,
          4.2,
          4.4,
          4.5,
          3.67,
          4.4,
          3.17,
          4.2,
          4.2,
          4.5,
          3.33,
          3.5,
          5,
          3,
          3.67,
          2.5,
          7,
          4,
          4.33,
          3,
          3,
          5,
          3.5,
          3,
          2,
          3.67,
          4.5,
          3.67,
          3,
          4.33,
          2.5,
          4,
          6,
          3
         ]
        },
        {
         "name": "Batter per Inning Ratio by Pitcher 2",
         "type": "scatter",
         "x": [
          "2019-06-14"
         ],
         "y": [
          4.5
         ]
        }
       ],
       "layout": {
        "shapes": [
         {
          "line": {
           "color": "RebeccaPurple",
           "dash": "dot",
           "width": 3
          },
          "opacity": 1,
          "type": "line",
          "x0": 0,
          "x1": 1,
          "xref": "paper",
          "y0": 3,
          "y1": 3,
          "yref": "y"
         }
        ],
        "template": {
         "data": {
          "bar": [
           {
            "error_x": {
             "color": "#2a3f5f"
            },
            "error_y": {
             "color": "#2a3f5f"
            },
            "marker": {
             "line": {
              "color": "#E5ECF6",
              "width": 0.5
             }
            },
            "type": "bar"
           }
          ],
          "barpolar": [
           {
            "marker": {
             "line": {
              "color": "#E5ECF6",
              "width": 0.5
             }
            },
            "type": "barpolar"
           }
          ],
          "carpet": [
           {
            "aaxis": {
             "endlinecolor": "#2a3f5f",
             "gridcolor": "white",
             "linecolor": "white",
             "minorgridcolor": "white",
             "startlinecolor": "#2a3f5f"
            },
            "baxis": {
             "endlinecolor": "#2a3f5f",
             "gridcolor": "white",
             "linecolor": "white",
             "minorgridcolor": "white",
             "startlinecolor": "#2a3f5f"
            },
            "type": "carpet"
           }
          ],
          "choropleth": [
           {
            "colorbar": {
             "outlinewidth": 0,
             "ticks": ""
            },
            "type": "choropleth"
           }
          ],
          "contour": [
           {
            "colorbar": {
             "outlinewidth": 0,
             "ticks": ""
            },
            "colorscale": [
             [
              0,
              "#0d0887"
             ],
             [
              0.1111111111111111,
              "#46039f"
             ],
             [
              0.2222222222222222,
              "#7201a8"
             ],
             [
              0.3333333333333333,
              "#9c179e"
             ],
             [
              0.4444444444444444,
              "#bd3786"
             ],
             [
              0.5555555555555556,
              "#d8576b"
             ],
             [
              0.6666666666666666,
              "#ed7953"
             ],
             [
              0.7777777777777778,
              "#fb9f3a"
             ],
             [
              0.8888888888888888,
              "#fdca26"
             ],
             [
              1,
              "#f0f921"
             ]
            ],
            "type": "contour"
           }
          ],
          "contourcarpet": [
           {
            "colorbar": {
             "outlinewidth": 0,
             "ticks": ""
            },
            "type": "contourcarpet"
           }
          ],
          "heatmap": [
           {
            "colorbar": {
             "outlinewidth": 0,
             "ticks": ""
            },
            "colorscale": [
             [
              0,
              "#0d0887"
             ],
             [
              0.1111111111111111,
              "#46039f"
             ],
             [
              0.2222222222222222,
              "#7201a8"
             ],
             [
              0.3333333333333333,
              "#9c179e"
             ],
             [
              0.4444444444444444,
              "#bd3786"
             ],
             [
              0.5555555555555556,
              "#d8576b"
             ],
             [
              0.6666666666666666,
              "#ed7953"
             ],
             [
              0.7777777777777778,
              "#fb9f3a"
             ],
             [
              0.8888888888888888,
              "#fdca26"
             ],
             [
              1,
              "#f0f921"
             ]
            ],
            "type": "heatmap"
           }
          ],
          "heatmapgl": [
           {
            "colorbar": {
             "outlinewidth": 0,
             "ticks": ""
            },
            "colorscale": [
             [
              0,
              "#0d0887"
             ],
             [
              0.1111111111111111,
              "#46039f"
             ],
             [
              0.2222222222222222,
              "#7201a8"
             ],
             [
              0.3333333333333333,
              "#9c179e"
             ],
             [
              0.4444444444444444,
              "#bd3786"
             ],
             [
              0.5555555555555556,
              "#d8576b"
             ],
             [
              0.6666666666666666,
              "#ed7953"
             ],
             [
              0.7777777777777778,
              "#fb9f3a"
             ],
             [
              0.8888888888888888,
              "#fdca26"
             ],
             [
              1,
              "#f0f921"
             ]
            ],
            "type": "heatmapgl"
           }
          ],
          "histogram": [
           {
            "marker": {
             "colorbar": {
              "outlinewidth": 0,
              "ticks": ""
             }
            },
            "type": "histogram"
           }
          ],
          "histogram2d": [
           {
            "colorbar": {
             "outlinewidth": 0,
             "ticks": ""
            },
            "colorscale": [
             [
              0,
              "#0d0887"
             ],
             [
              0.1111111111111111,
              "#46039f"
             ],
             [
              0.2222222222222222,
              "#7201a8"
             ],
             [
              0.3333333333333333,
              "#9c179e"
             ],
             [
              0.4444444444444444,
              "#bd3786"
             ],
             [
              0.5555555555555556,
              "#d8576b"
             ],
             [
              0.6666666666666666,
              "#ed7953"
             ],
             [
              0.7777777777777778,
              "#fb9f3a"
             ],
             [
              0.8888888888888888,
              "#fdca26"
             ],
             [
              1,
              "#f0f921"
             ]
            ],
            "type": "histogram2d"
           }
          ],
          "histogram2dcontour": [
           {
            "colorbar": {
             "outlinewidth": 0,
             "ticks": ""
            },
            "colorscale": [
             [
              0,
              "#0d0887"
             ],
             [
              0.1111111111111111,
              "#46039f"
             ],
             [
              0.2222222222222222,
              "#7201a8"
             ],
             [
              0.3333333333333333,
              "#9c179e"
             ],
             [
              0.4444444444444444,
              "#bd3786"
             ],
             [
              0.5555555555555556,
              "#d8576b"
             ],
             [
              0.6666666666666666,
              "#ed7953"
             ],
             [
              0.7777777777777778,
              "#fb9f3a"
             ],
             [
              0.8888888888888888,
              "#fdca26"
             ],
             [
              1,
              "#f0f921"
             ]
            ],
            "type": "histogram2dcontour"
           }
          ],
          "mesh3d": [
           {
            "colorbar": {
             "outlinewidth": 0,
             "ticks": ""
            },
            "type": "mesh3d"
           }
          ],
          "parcoords": [
           {
            "line": {
             "colorbar": {
              "outlinewidth": 0,
              "ticks": ""
             }
            },
            "type": "parcoords"
           }
          ],
          "pie": [
           {
            "automargin": true,
            "type": "pie"
           }
          ],
          "scatter": [
           {
            "marker": {
             "colorbar": {
              "outlinewidth": 0,
              "ticks": ""
             }
            },
            "type": "scatter"
           }
          ],
          "scatter3d": [
           {
            "line": {
             "colorbar": {
              "outlinewidth": 0,
              "ticks": ""
             }
            },
            "marker": {
             "colorbar": {
              "outlinewidth": 0,
              "ticks": ""
             }
            },
            "type": "scatter3d"
           }
          ],
          "scattercarpet": [
           {
            "marker": {
             "colorbar": {
              "outlinewidth": 0,
              "ticks": ""
             }
            },
            "type": "scattercarpet"
           }
          ],
          "scattergeo": [
           {
            "marker": {
             "colorbar": {
              "outlinewidth": 0,
              "ticks": ""
             }
            },
            "type": "scattergeo"
           }
          ],
          "scattergl": [
           {
            "marker": {
             "colorbar": {
              "outlinewidth": 0,
              "ticks": ""
             }
            },
            "type": "scattergl"
           }
          ],
          "scattermapbox": [
           {
            "marker": {
             "colorbar": {
              "outlinewidth": 0,
              "ticks": ""
             }
            },
            "type": "scattermapbox"
           }
          ],
          "scatterpolar": [
           {
            "marker": {
             "colorbar": {
              "outlinewidth": 0,
              "ticks": ""
             }
            },
            "type": "scatterpolar"
           }
          ],
          "scatterpolargl": [
           {
            "marker": {
             "colorbar": {
              "outlinewidth": 0,
              "ticks": ""
             }
            },
            "type": "scatterpolargl"
           }
          ],
          "scatterternary": [
           {
            "marker": {
             "colorbar": {
              "outlinewidth": 0,
              "ticks": ""
             }
            },
            "type": "scatterternary"
           }
          ],
          "surface": [
           {
            "colorbar": {
             "outlinewidth": 0,
             "ticks": ""
            },
            "colorscale": [
             [
              0,
              "#0d0887"
             ],
             [
              0.1111111111111111,
              "#46039f"
             ],
             [
              0.2222222222222222,
              "#7201a8"
             ],
             [
              0.3333333333333333,
              "#9c179e"
             ],
             [
              0.4444444444444444,
              "#bd3786"
             ],
             [
              0.5555555555555556,
              "#d8576b"
             ],
             [
              0.6666666666666666,
              "#ed7953"
             ],
             [
              0.7777777777777778,
              "#fb9f3a"
             ],
             [
              0.8888888888888888,
              "#fdca26"
             ],
             [
              1,
              "#f0f921"
             ]
            ],
            "type": "surface"
           }
          ],
          "table": [
           {
            "cells": {
             "fill": {
              "color": "#EBF0F8"
             },
             "line": {
              "color": "white"
             }
            },
            "header": {
             "fill": {
              "color": "#C8D4E3"
             },
             "line": {
              "color": "white"
             }
            },
            "type": "table"
           }
          ]
         },
         "layout": {
          "annotationdefaults": {
           "arrowcolor": "#2a3f5f",
           "arrowhead": 0,
           "arrowwidth": 1
          },
          "autotypenumbers": "strict",
          "coloraxis": {
           "colorbar": {
            "outlinewidth": 0,
            "ticks": ""
           }
          },
          "colorscale": {
           "diverging": [
            [
             0,
             "#8e0152"
            ],
            [
             0.1,
             "#c51b7d"
            ],
            [
             0.2,
             "#de77ae"
            ],
            [
             0.3,
             "#f1b6da"
            ],
            [
             0.4,
             "#fde0ef"
            ],
            [
             0.5,
             "#f7f7f7"
            ],
            [
             0.6,
             "#e6f5d0"
            ],
            [
             0.7,
             "#b8e186"
            ],
            [
             0.8,
             "#7fbc41"
            ],
            [
             0.9,
             "#4d9221"
            ],
            [
             1,
             "#276419"
            ]
           ],
           "sequential": [
            [
             0,
             "#0d0887"
            ],
            [
             0.1111111111111111,
             "#46039f"
            ],
            [
             0.2222222222222222,
             "#7201a8"
            ],
            [
             0.3333333333333333,
             "#9c179e"
            ],
            [
             0.4444444444444444,
             "#bd3786"
            ],
            [
             0.5555555555555556,
             "#d8576b"
            ],
            [
             0.6666666666666666,
             "#ed7953"
            ],
            [
             0.7777777777777778,
             "#fb9f3a"
            ],
            [
             0.8888888888888888,
             "#fdca26"
            ],
            [
             1,
             "#f0f921"
            ]
           ],
           "sequentialminus": [
            [
             0,
             "#0d0887"
            ],
            [
             0.1111111111111111,
             "#46039f"
            ],
            [
             0.2222222222222222,
             "#7201a8"
            ],
            [
             0.3333333333333333,
             "#9c179e"
            ],
            [
             0.4444444444444444,
             "#bd3786"
            ],
            [
             0.5555555555555556,
             "#d8576b"
            ],
            [
             0.6666666666666666,
             "#ed7953"
            ],
            [
             0.7777777777777778,
             "#fb9f3a"
            ],
            [
             0.8888888888888888,
             "#fdca26"
            ],
            [
             1,
             "#f0f921"
            ]
           ]
          },
          "colorway": [
           "#636efa",
           "#EF553B",
           "#00cc96",
           "#ab63fa",
           "#FFA15A",
           "#19d3f3",
           "#FF6692",
           "#B6E880",
           "#FF97FF",
           "#FECB52"
          ],
          "font": {
           "color": "#2a3f5f"
          },
          "geo": {
           "bgcolor": "white",
           "lakecolor": "white",
           "landcolor": "#E5ECF6",
           "showlakes": true,
           "showland": true,
           "subunitcolor": "white"
          },
          "hoverlabel": {
           "align": "left"
          },
          "hovermode": "closest",
          "mapbox": {
           "style": "light"
          },
          "paper_bgcolor": "white",
          "plot_bgcolor": "#E5ECF6",
          "polar": {
           "angularaxis": {
            "gridcolor": "white",
            "linecolor": "white",
            "ticks": ""
           },
           "bgcolor": "#E5ECF6",
           "radialaxis": {
            "gridcolor": "white",
            "linecolor": "white",
            "ticks": ""
           }
          },
          "scene": {
           "xaxis": {
            "backgroundcolor": "#E5ECF6",
            "gridcolor": "white",
            "gridwidth": 2,
            "linecolor": "white",
            "showbackground": true,
            "ticks": "",
            "zerolinecolor": "white"
           },
           "yaxis": {
            "backgroundcolor": "#E5ECF6",
            "gridcolor": "white",
            "gridwidth": 2,
            "linecolor": "white",
            "showbackground": true,
            "ticks": "",
            "zerolinecolor": "white"
           },
           "zaxis": {
            "backgroundcolor": "#E5ECF6",
            "gridcolor": "white",
            "gridwidth": 2,
            "linecolor": "white",
            "showbackground": true,
            "ticks": "",
            "zerolinecolor": "white"
           }
          },
          "shapedefaults": {
           "line": {
            "color": "#2a3f5f"
           }
          },
          "ternary": {
           "aaxis": {
            "gridcolor": "white",
            "linecolor": "white",
            "ticks": ""
           },
           "baxis": {
            "gridcolor": "white",
            "linecolor": "white",
            "ticks": ""
           },
           "bgcolor": "#E5ECF6",
           "caxis": {
            "gridcolor": "white",
            "linecolor": "white",
            "ticks": ""
           }
          },
          "title": {
           "x": 0.05
          },
          "xaxis": {
           "automargin": true,
           "gridcolor": "white",
           "linecolor": "white",
           "ticks": "",
           "title": {
            "standoff": 15
           },
           "zerolinecolor": "white",
           "zerolinewidth": 2
          },
          "yaxis": {
           "automargin": true,
           "gridcolor": "white",
           "linecolor": "white",
           "ticks": "",
           "title": {
            "standoff": 15
           },
           "zerolinecolor": "white",
           "zerolinewidth": 2
          }
         }
        },
        "title": {
         "text": "<b>Comparison of Two Pitchers in Terms of Innings Thrown and Batters Faced</b>"
        },
        "xaxis": {
         "title": {
          "text": "<b>Game Date</b>"
         }
        },
        "yaxis": {
         "title": {
          "text": "<b>Numbers Over the Season</b>"
         }
        }
       }
      },
      "text/html": [
       "<div>                            <div id=\"dd3d6f84-5a97-42ed-9c22-a62d9723c05f\" class=\"plotly-graph-div\" style=\"height:525px; width:100%;\"></div>            <script type=\"text/javascript\">                require([\"plotly\"], function(Plotly) {                    window.PLOTLYENV=window.PLOTLYENV || {};                                    if (document.getElementById(\"dd3d6f84-5a97-42ed-9c22-a62d9723c05f\")) {                    Plotly.newPlot(                        \"dd3d6f84-5a97-42ed-9c22-a62d9723c05f\",                        [{\"name\": \"Innings Thrown by Pitcher 1\", \"type\": \"bar\", \"x\": [\"2019-03-28\", \"2019-04-02\", \"2019-04-08\", \"2019-04-15\", \"2019-04-20\", \"2019-04-25\", \"2019-05-04\", \"2019-05-10\", \"2019-05-15\", \"2019-05-21\", \"2019-05-27\", \"2019-06-03\", \"2019-06-26\", \"2019-06-29\", \"2019-07-02\", \"2019-07-06\", \"2019-07-13\", \"2019-07-16\", \"2019-07-19\", \"2019-07-21\", \"2019-07-25\", \"2019-07-27\", \"2019-07-31\", \"2019-08-03\", \"2019-08-09\", \"2019-08-15\", \"2019-08-16\", \"2019-08-21\", \"2019-08-24\", \"2019-08-30\", \"2019-09-04\", \"2019-09-08\", \"2019-09-10\", \"2019-09-17\", \"2019-09-22\", \"2019-09-26\", \"2019-09-27\"], \"y\": [6, 6, 6, 4, 5, 5, 4, 6, 5, 6, 5, 5, 2, 3, 2, 2, 1, 3, 2, 1, 1, 3, 3, 4, 3, 2, 2, 1, 3, 2, 3, 1, 3, 2, 2, 1, 1]}, {\"name\": \"Innings Thrown by Pitcher 2\", \"type\": \"bar\", \"x\": [\"2019-06-14\"], \"y\": [18]}, {\"name\": \"Batter per Inning Ratio by Pitcher 1\", \"type\": \"scatter\", \"x\": [\"2019-03-28\", \"2019-04-02\", \"2019-04-08\", \"2019-04-15\", \"2019-04-20\", \"2019-04-25\", \"2019-05-04\", \"2019-05-10\", \"2019-05-15\", \"2019-05-21\", \"2019-05-27\", \"2019-06-03\", \"2019-06-26\", \"2019-06-29\", \"2019-07-02\", \"2019-07-06\", \"2019-07-13\", \"2019-07-16\", \"2019-07-19\", \"2019-07-21\", \"2019-07-25\", \"2019-07-27\", \"2019-07-31\", \"2019-08-03\", \"2019-08-09\", \"2019-08-15\", \"2019-08-16\", \"2019-08-21\", \"2019-08-24\", \"2019-08-30\", \"2019-09-04\", \"2019-09-08\", \"2019-09-10\", \"2019-09-17\", \"2019-09-22\", \"2019-09-26\", \"2019-09-27\"], \"y\": [4.17, 3.5, 4.0, 5.0, 4.2, 4.4, 4.5, 3.67, 4.4, 3.17, 4.2, 4.2, 4.5, 3.33, 3.5, 5.0, 3.0, 3.67, 2.5, 7.0, 4.0, 4.33, 3.0, 3.0, 5.0, 3.5, 3.0, 2.0, 3.67, 4.5, 3.67, 3.0, 4.33, 2.5, 4.0, 6.0, 3.0]}, {\"name\": \"Batter per Inning Ratio by Pitcher 2\", \"type\": \"scatter\", \"x\": [\"2019-06-14\"], \"y\": [4.5]}],                        {\"shapes\": [{\"line\": {\"color\": \"RebeccaPurple\", \"dash\": \"dot\", \"width\": 3}, \"opacity\": 1, \"type\": \"line\", \"x0\": 0, \"x1\": 1, \"xref\": \"paper\", \"y0\": 3, \"y1\": 3, \"yref\": \"y\"}], \"template\": {\"data\": {\"bar\": [{\"error_x\": {\"color\": \"#2a3f5f\"}, \"error_y\": {\"color\": \"#2a3f5f\"}, \"marker\": {\"line\": {\"color\": \"#E5ECF6\", \"width\": 0.5}}, \"type\": \"bar\"}], \"barpolar\": [{\"marker\": {\"line\": {\"color\": \"#E5ECF6\", \"width\": 0.5}}, \"type\": \"barpolar\"}], \"carpet\": [{\"aaxis\": {\"endlinecolor\": \"#2a3f5f\", \"gridcolor\": \"white\", \"linecolor\": \"white\", \"minorgridcolor\": \"white\", \"startlinecolor\": \"#2a3f5f\"}, \"baxis\": {\"endlinecolor\": \"#2a3f5f\", \"gridcolor\": \"white\", \"linecolor\": \"white\", \"minorgridcolor\": \"white\", \"startlinecolor\": \"#2a3f5f\"}, \"type\": \"carpet\"}], \"choropleth\": [{\"colorbar\": {\"outlinewidth\": 0, \"ticks\": \"\"}, \"type\": \"choropleth\"}], \"contour\": [{\"colorbar\": {\"outlinewidth\": 0, \"ticks\": \"\"}, \"colorscale\": [[0.0, \"#0d0887\"], [0.1111111111111111, \"#46039f\"], [0.2222222222222222, \"#7201a8\"], [0.3333333333333333, \"#9c179e\"], [0.4444444444444444, \"#bd3786\"], [0.5555555555555556, \"#d8576b\"], [0.6666666666666666, \"#ed7953\"], [0.7777777777777778, \"#fb9f3a\"], [0.8888888888888888, \"#fdca26\"], [1.0, \"#f0f921\"]], \"type\": \"contour\"}], \"contourcarpet\": [{\"colorbar\": {\"outlinewidth\": 0, \"ticks\": \"\"}, \"type\": \"contourcarpet\"}], \"heatmap\": [{\"colorbar\": {\"outlinewidth\": 0, \"ticks\": \"\"}, \"colorscale\": [[0.0, \"#0d0887\"], [0.1111111111111111, \"#46039f\"], [0.2222222222222222, \"#7201a8\"], [0.3333333333333333, \"#9c179e\"], [0.4444444444444444, \"#bd3786\"], [0.5555555555555556, \"#d8576b\"], [0.6666666666666666, \"#ed7953\"], [0.7777777777777778, \"#fb9f3a\"], [0.8888888888888888, \"#fdca26\"], [1.0, \"#f0f921\"]], \"type\": \"heatmap\"}], \"heatmapgl\": [{\"colorbar\": {\"outlinewidth\": 0, \"ticks\": \"\"}, \"colorscale\": [[0.0, \"#0d0887\"], [0.1111111111111111, \"#46039f\"], [0.2222222222222222, \"#7201a8\"], [0.3333333333333333, \"#9c179e\"], [0.4444444444444444, \"#bd3786\"], [0.5555555555555556, \"#d8576b\"], [0.6666666666666666, \"#ed7953\"], [0.7777777777777778, \"#fb9f3a\"], [0.8888888888888888, \"#fdca26\"], [1.0, \"#f0f921\"]], \"type\": \"heatmapgl\"}], \"histogram\": [{\"marker\": {\"colorbar\": {\"outlinewidth\": 0, \"ticks\": \"\"}}, \"type\": \"histogram\"}], \"histogram2d\": [{\"colorbar\": {\"outlinewidth\": 0, \"ticks\": \"\"}, \"colorscale\": [[0.0, \"#0d0887\"], [0.1111111111111111, \"#46039f\"], [0.2222222222222222, \"#7201a8\"], [0.3333333333333333, \"#9c179e\"], [0.4444444444444444, \"#bd3786\"], [0.5555555555555556, \"#d8576b\"], [0.6666666666666666, \"#ed7953\"], [0.7777777777777778, \"#fb9f3a\"], [0.8888888888888888, \"#fdca26\"], [1.0, \"#f0f921\"]], \"type\": \"histogram2d\"}], \"histogram2dcontour\": [{\"colorbar\": {\"outlinewidth\": 0, \"ticks\": \"\"}, \"colorscale\": [[0.0, \"#0d0887\"], [0.1111111111111111, \"#46039f\"], [0.2222222222222222, \"#7201a8\"], [0.3333333333333333, \"#9c179e\"], [0.4444444444444444, \"#bd3786\"], [0.5555555555555556, \"#d8576b\"], [0.6666666666666666, \"#ed7953\"], [0.7777777777777778, \"#fb9f3a\"], [0.8888888888888888, \"#fdca26\"], [1.0, \"#f0f921\"]], \"type\": \"histogram2dcontour\"}], \"mesh3d\": [{\"colorbar\": {\"outlinewidth\": 0, \"ticks\": \"\"}, \"type\": \"mesh3d\"}], \"parcoords\": [{\"line\": {\"colorbar\": {\"outlinewidth\": 0, \"ticks\": \"\"}}, \"type\": \"parcoords\"}], \"pie\": [{\"automargin\": true, \"type\": \"pie\"}], \"scatter\": [{\"marker\": {\"colorbar\": {\"outlinewidth\": 0, \"ticks\": \"\"}}, \"type\": \"scatter\"}], \"scatter3d\": [{\"line\": {\"colorbar\": {\"outlinewidth\": 0, \"ticks\": \"\"}}, \"marker\": {\"colorbar\": {\"outlinewidth\": 0, \"ticks\": \"\"}}, \"type\": \"scatter3d\"}], \"scattercarpet\": [{\"marker\": {\"colorbar\": {\"outlinewidth\": 0, \"ticks\": \"\"}}, \"type\": \"scattercarpet\"}], \"scattergeo\": [{\"marker\": {\"colorbar\": {\"outlinewidth\": 0, \"ticks\": \"\"}}, \"type\": \"scattergeo\"}], \"scattergl\": [{\"marker\": {\"colorbar\": {\"outlinewidth\": 0, \"ticks\": \"\"}}, \"type\": \"scattergl\"}], \"scattermapbox\": [{\"marker\": {\"colorbar\": {\"outlinewidth\": 0, \"ticks\": \"\"}}, \"type\": \"scattermapbox\"}], \"scatterpolar\": [{\"marker\": {\"colorbar\": {\"outlinewidth\": 0, \"ticks\": \"\"}}, \"type\": \"scatterpolar\"}], \"scatterpolargl\": [{\"marker\": {\"colorbar\": {\"outlinewidth\": 0, \"ticks\": \"\"}}, \"type\": \"scatterpolargl\"}], \"scatterternary\": [{\"marker\": {\"colorbar\": {\"outlinewidth\": 0, \"ticks\": \"\"}}, \"type\": \"scatterternary\"}], \"surface\": [{\"colorbar\": {\"outlinewidth\": 0, \"ticks\": \"\"}, \"colorscale\": [[0.0, \"#0d0887\"], [0.1111111111111111, \"#46039f\"], [0.2222222222222222, \"#7201a8\"], [0.3333333333333333, \"#9c179e\"], [0.4444444444444444, \"#bd3786\"], [0.5555555555555556, \"#d8576b\"], [0.6666666666666666, \"#ed7953\"], [0.7777777777777778, \"#fb9f3a\"], [0.8888888888888888, \"#fdca26\"], [1.0, \"#f0f921\"]], \"type\": \"surface\"}], \"table\": [{\"cells\": {\"fill\": {\"color\": \"#EBF0F8\"}, \"line\": {\"color\": \"white\"}}, \"header\": {\"fill\": {\"color\": \"#C8D4E3\"}, \"line\": {\"color\": \"white\"}}, \"type\": \"table\"}]}, \"layout\": {\"annotationdefaults\": {\"arrowcolor\": \"#2a3f5f\", \"arrowhead\": 0, \"arrowwidth\": 1}, \"autotypenumbers\": \"strict\", \"coloraxis\": {\"colorbar\": {\"outlinewidth\": 0, \"ticks\": \"\"}}, \"colorscale\": {\"diverging\": [[0, \"#8e0152\"], [0.1, \"#c51b7d\"], [0.2, \"#de77ae\"], [0.3, \"#f1b6da\"], [0.4, \"#fde0ef\"], [0.5, \"#f7f7f7\"], [0.6, \"#e6f5d0\"], [0.7, \"#b8e186\"], [0.8, \"#7fbc41\"], [0.9, \"#4d9221\"], [1, \"#276419\"]], \"sequential\": [[0.0, \"#0d0887\"], [0.1111111111111111, \"#46039f\"], [0.2222222222222222, \"#7201a8\"], [0.3333333333333333, \"#9c179e\"], [0.4444444444444444, \"#bd3786\"], [0.5555555555555556, \"#d8576b\"], [0.6666666666666666, \"#ed7953\"], [0.7777777777777778, \"#fb9f3a\"], [0.8888888888888888, \"#fdca26\"], [1.0, \"#f0f921\"]], \"sequentialminus\": [[0.0, \"#0d0887\"], [0.1111111111111111, \"#46039f\"], [0.2222222222222222, \"#7201a8\"], [0.3333333333333333, \"#9c179e\"], [0.4444444444444444, \"#bd3786\"], [0.5555555555555556, \"#d8576b\"], [0.6666666666666666, \"#ed7953\"], [0.7777777777777778, \"#fb9f3a\"], [0.8888888888888888, \"#fdca26\"], [1.0, \"#f0f921\"]]}, \"colorway\": [\"#636efa\", \"#EF553B\", \"#00cc96\", \"#ab63fa\", \"#FFA15A\", \"#19d3f3\", \"#FF6692\", \"#B6E880\", \"#FF97FF\", \"#FECB52\"], \"font\": {\"color\": \"#2a3f5f\"}, \"geo\": {\"bgcolor\": \"white\", \"lakecolor\": \"white\", \"landcolor\": \"#E5ECF6\", \"showlakes\": true, \"showland\": true, \"subunitcolor\": \"white\"}, \"hoverlabel\": {\"align\": \"left\"}, \"hovermode\": \"closest\", \"mapbox\": {\"style\": \"light\"}, \"paper_bgcolor\": \"white\", \"plot_bgcolor\": \"#E5ECF6\", \"polar\": {\"angularaxis\": {\"gridcolor\": \"white\", \"linecolor\": \"white\", \"ticks\": \"\"}, \"bgcolor\": \"#E5ECF6\", \"radialaxis\": {\"gridcolor\": \"white\", \"linecolor\": \"white\", \"ticks\": \"\"}}, \"scene\": {\"xaxis\": {\"backgroundcolor\": \"#E5ECF6\", \"gridcolor\": \"white\", \"gridwidth\": 2, \"linecolor\": \"white\", \"showbackground\": true, \"ticks\": \"\", \"zerolinecolor\": \"white\"}, \"yaxis\": {\"backgroundcolor\": \"#E5ECF6\", \"gridcolor\": \"white\", \"gridwidth\": 2, \"linecolor\": \"white\", \"showbackground\": true, \"ticks\": \"\", \"zerolinecolor\": \"white\"}, \"zaxis\": {\"backgroundcolor\": \"#E5ECF6\", \"gridcolor\": \"white\", \"gridwidth\": 2, \"linecolor\": \"white\", \"showbackground\": true, \"ticks\": \"\", \"zerolinecolor\": \"white\"}}, \"shapedefaults\": {\"line\": {\"color\": \"#2a3f5f\"}}, \"ternary\": {\"aaxis\": {\"gridcolor\": \"white\", \"linecolor\": \"white\", \"ticks\": \"\"}, \"baxis\": {\"gridcolor\": \"white\", \"linecolor\": \"white\", \"ticks\": \"\"}, \"bgcolor\": \"#E5ECF6\", \"caxis\": {\"gridcolor\": \"white\", \"linecolor\": \"white\", \"ticks\": \"\"}}, \"title\": {\"x\": 0.05}, \"xaxis\": {\"automargin\": true, \"gridcolor\": \"white\", \"linecolor\": \"white\", \"ticks\": \"\", \"title\": {\"standoff\": 15}, \"zerolinecolor\": \"white\", \"zerolinewidth\": 2}, \"yaxis\": {\"automargin\": true, \"gridcolor\": \"white\", \"linecolor\": \"white\", \"ticks\": \"\", \"title\": {\"standoff\": 15}, \"zerolinecolor\": \"white\", \"zerolinewidth\": 2}}}, \"title\": {\"text\": \"<b>Comparison of Two Pitchers in Terms of Innings Thrown and Batters Faced</b>\"}, \"xaxis\": {\"title\": {\"text\": \"<b>Game Date</b>\"}}, \"yaxis\": {\"title\": {\"text\": \"<b>Numbers Over the Season</b>\"}}},                        {\"responsive\": true}                    ).then(function(){\n",
       "                            \n",
       "var gd = document.getElementById('dd3d6f84-5a97-42ed-9c22-a62d9723c05f');\n",
       "var x = new MutationObserver(function (mutations, observer) {{\n",
       "        var display = window.getComputedStyle(gd).display;\n",
       "        if (!display || display === 'none') {{\n",
       "            console.log([gd, 'removed!']);\n",
       "            Plotly.purge(gd);\n",
       "            observer.disconnect();\n",
       "        }}\n",
       "}});\n",
       "\n",
       "// Listen for the removal of the full notebook cells\n",
       "var notebookContainer = gd.closest('#notebook-container');\n",
       "if (notebookContainer) {{\n",
       "    x.observe(notebookContainer, {childList: true});\n",
       "}}\n",
       "\n",
       "// Listen for the clearing of the current output cell\n",
       "var outputEl = gd.closest('.output');\n",
       "if (outputEl) {{\n",
       "    x.observe(outputEl, {childList: true});\n",
       "}}\n",
       "\n",
       "                        })                };                });            </script>        </div>"
      ]
     },
     "metadata": {},
     "output_type": "display_data"
    },
    {
     "data": {
      "text/plain": [
       "(   Pitcher ID     Pitcher Name  Total Innings  Avg. Innings  \\\n",
       " 0      502239  [Trevor Cahill]            116      3.135135   \n",
       " 1      656814     [Luis Ortiz]              4      4.000000   \n",
       " \n",
       "    Total Batters Faced  Avg. Batters Faced  \n",
       " 0                  455           12.297297  \n",
       " 1                   18           18.000000  , None)"
      ]
     },
     "execution_count": 428,
     "metadata": {},
     "output_type": "execute_result"
    }
   ],
   "source": [
    "plot_compare_two_pitchers(joined_atbats) # 502239, 656814"
   ]
  },
  {
   "cell_type": "code",
   "execution_count": null,
   "metadata": {},
   "outputs": [],
   "source": [
    "#Let's Try Ranking all of the Pitchers in terms of this stats"
   ]
  },
  {
   "cell_type": "code",
   "execution_count": null,
   "metadata": {},
   "outputs": [],
   "source": []
  },
  {
   "cell_type": "code",
   "execution_count": null,
   "metadata": {},
   "outputs": [],
   "source": [
    "### Analytics Project - Baseball Pitch by Pitch Analysis\n",
    "#### Sikyun (George) Lee \n",
    "1. Obtain a Dataset\n",
    "2. Model and store dataset (SQL, Pandas, ORM, Python Objects, etc.)\n",
    "3. Visualize (Relationship, Insights, Descriptive Statstistics)\n",
    "4. Think ahead of project\n",
    "5. Due 11/25\n",
    "\n",
    "\n",
    "#### Background information on data\n",
    "Data is downloaded from Kaggle (https://www.kaggle.com/pschale/mlb-pitch-data-20152018?select=atbats.csv) but the source of this is from a webscrape in (http://gd2.mlb.com/components/game/mlb/). \n",
    "\n",
    "This data looks at pitch-level data from the 2015 to 2018 seasons in MLB. Through this data, I am hoping to answer some of these questions from a pitching standpoint.\n",
    "\n",
    "**1. What are the pitch-types that gets outs the most? (unhittable pitches)**\\\n",
    "**2. Which pitcher has most pitches per inning ratio? (shows efficiency)**\\\n",
    "**3. Some other questions will asked as project progresses**\\\n",
    "\n",
    "For this session, I will some simple Exploratory Data Analysis to better understand and visualize the data\n",
    "\n",
    "#### 1. Data source will be from the above ***mlb.com*** source through webscraping if possible. Currently, the link above is dead and if another substitute link cannot be found, the dataset from Kaggle will be used.\n",
    "\n",
    "#For homework purposes, I'll only import and work with the 2019 season data\n",
    "\n",
    "import pandas as pd\n",
    "import numpy as np\n",
    "import seaborn as sns\n",
    "import matplotlib.pyplot as plt\n",
    "%matplotlib inline\n",
    "\n",
    "#quick test\n",
    "test = pd.read_csv('20tor.txt')\n",
    "\n",
    "test.head(10)\n",
    "\n",
    "\n",
    "\n",
    "#### 2. Store Data as Pandas Objects\n",
    "\n",
    "atbats = pd.read_csv('2019_atbats.csv')\n",
    "games = pd.read_csv('2019_games.csv')\n",
    "pitches = pd.read_csv('2019_pitches.csv')\n",
    "names = pd.read_csv('player_names.csv')\n",
    "\n",
    "atbats.head()\n",
    "\n",
    "games.head()\n",
    "\n",
    "pitches.head()\n",
    "\n",
    "#### 3. Visualize the Data for:\n",
    "- Exploratory Data Analysis to find relationships and insights\n",
    "- Descriptive Statistics\n",
    "\n",
    "#### 3-1. Data Manipulation to Visualize the Data\n",
    "\n",
    "atbats.columns\n",
    "\n",
    "games.columns\n",
    "\n",
    "pitches.columns\n",
    "\n",
    "# What pitches were thrown the most frequently\n",
    "# Join the pitches pitch_type column by the ab_id to the atbats data\n",
    "joined_atbats = atbats.copy(deep = True)\n",
    "\n",
    "joined_atbats = pd.merge(joined_atbats, pitches, how = 'left', on = 'ab_id')\n",
    "\n",
    "joined_atbats.columns\n",
    "\n",
    "a_viz = joined_atbats[['inning', 'top', 'ab_id', 'g_id', 'p_score', 'batter_id', 'pitcher_id',\n",
    "             'p_throws', 'o', 'zone', 'pitch_type', 'b_count', 's_count', 'outs', \n",
    "              'pitch_num', 'on_1b', 'on_2b', 'on_3b']]\n",
    "\n",
    "a_viz1 = a_viz['o_lag'] = a_viz['o'].shift(1)\n",
    "\n",
    "a_viz['out'] = a_viz['o'] - a_viz['o_lag']\n",
    "\n",
    "#Let's see who has on average and median thrown the most innings\n",
    "a_viz1 = a_viz.groupby(by = 'pitcher_id', as_index=False).agg([np.mean])\n",
    "\n",
    "a_viz1['pitcher_id'] = a_viz1.index\n",
    "\n",
    "names['full_name'] = names.first_name + \" \" + names.last_name\n",
    "\n",
    "#names = names.rename(columns = {'pitcher_id' : 'id'})\n",
    "\n",
    "a_viz1['avg_inning'] = a_viz1['inning', 'mean']\n",
    "\n",
    "a_viz1.sort_values('avg_inning', ascending=False)\n",
    "\n",
    "a_viz1 = a_viz1.rename(columns = {'pitcher_id' : 'id'})\n",
    "\n",
    "a_viz2 = a_viz1.head(10)\n",
    "\n",
    "a_viz3 = pd.merge(a_viz2, names, how = 'left', on = 'id')\n",
    "\n",
    "a_viz3['avg_inning'] = a_viz3['inning', 'mean']\n",
    "\n",
    "a_viz3 = a_viz3.sort_values('avg_inning', ascending=False)\n",
    "\n",
    "#### Output 1: Top 10 Pitchers with Highest Avg. Innings\n",
    "\n",
    "# Barplot of top 10 pitchers with highest avg innings\n",
    "sns.set(font_scale=2) \n",
    "f, ax = plt.subplots(figsize=(30, 15))\n",
    "ax = sns.barplot(x=\"full_name\", y=\"avg_inning\", data=a_viz3)\n",
    "ax.set(ylabel = \"Avg. Innings\", xlabel = \"Pitcher\", title = 'Top 10 Pitchers with Highest Avg. Innings')\n",
    "\n",
    "b_viz1 = a_viz.groupby(by = ['pitch_type'], as_index=False).count()\n",
    "\n",
    "b_viz1['counts'] = b_viz1['inning']\n",
    "\n",
    "b_viz1\n",
    "\n",
    "b_viz1 = b_viz1.sort_values('counts', ascending = False)\n",
    "\n",
    "#### Output 2: Countplot of Pitch Types Thrown in 2019 Season\n",
    "\n",
    "# Barplot of frequently thrown pitches in MLB 2019 season\n",
    "sns.set(font_scale=3) \n",
    "f, ax = plt.subplots(figsize=(30, 15))\n",
    "ax = sns.barplot(x=\"pitch_type\", y=\"counts\", data=b_viz1)\n",
    "ax.set(ylabel = \"Total Pitch Count\", xlabel = \"Pitch Type\", title = 'Frequently Thrown Pitches')\n",
    "\n",
    "a_viz.head(10)\n",
    "\n",
    "pitch_out = a_viz.groupby(by = ['pitch_type'], as_index = False).sum()\n",
    "\n",
    "pitch_out.head(10)\n",
    "\n",
    "pitch_out_viz = pitch_out[['pitch_type', 'out']]\n",
    "\n",
    "pitch_out_viz = pitch_out_viz.sort_values('out')\n",
    "\n",
    "#### Output 3: Pitch Types that Converted an Out\n",
    "\n",
    "# Barplot of frequently thrown pitches in MLB 2019 season\n",
    "sns.set(font_scale=3) \n",
    "f, ax = plt.subplots(figsize=(30, 30))\n",
    "ax = sns.barplot(x=\"pitch_type\", y=\"out\", data=pitch_out_viz)\n",
    "ax.set(ylabel = \"Total Outs Made\", xlabel = \"Pitch Type\", title = 'Total Outs Converted by Pitch Types')\n",
    "\n",
    "#### Next Steps\n",
    "\n",
    "Although in Today's (11/24) session, Paul Carr has said that baseball players cannot use analytics for player valuation (i.e.: contract negotiation) due to arbitration reasons, the following analyses questions can possibly be answered with this data:\\\n",
    "\n",
    "**1. What kind of metrics can we define to measure a pitcher's \"effciency?\"**\n",
    "This could be classic metrics such as pitches per inning or innings per inning, but novel metrics such as \"number of runners on-base per game or inning\" could something to think about.\\\n",
    "To take a step further, we can also look into \"number of runs converted per runner on-base\" to measure a pitcher's (including the team defense) ability to manage run-scoring situations.\\\n",
    "\n",
    "**2. How does a certain angle or speed of pitches convert into outs?**\n",
    "For this, I haven't thought in detail in how I can measure this but considering that data for pitche speeds and angles are available, I am thinking of looking at how a range of pitch angles/speeds convert hitters into outs.\n",
    "\n",
    "**3. Considering the strike/ball counts, how can we predict what pitcher will throw next?**\n",
    "This would be predictive analytics that would probably be related to Bayesian Posterior probabilities, but will more time to think about this topic.\n",
    "\n",
    "**4. Developing a function or package to read a pitcher's (probably starting pitcher) pitch data in an ongoing game and plot a heatmap of where that pitcher is pitching the most/least.**\n",
    "\n",
    "#### 4. Analysis \n",
    "\n",
    "#### 4-1. Comparing Speed Changes by Pitch Type to Strikes\n",
    "For each pitch type:\n",
    "- How much does speed change? (This may be obvious for some types)\n",
    "- How does the change of speed affect the number of strikes? (compared to balls, outs)\n",
    "\n",
    "pitches.head()\n",
    "\n",
    "joined_atbats.head()\n",
    "\n",
    "speed = joined_atbats[['inning','ab_id','g_id','batter_id','pitcher_id','event','start_speed','end_speed','spin_rate','spin_dir',\n",
    "               'break_angle','break_length','break_y','ax','ay','az','zone','pitch_type','b_score','b_count',\n",
    "               's_count','outs','pitch_num','on_1b','on_2b','on_3b']]\n",
    "\n",
    "speed['out'] = speed['outs'] - speed['outs'].shift(1)\n",
    "#a_viz['out'] = a_viz['o'] - a_viz['o_lag']\n",
    "#a_viz1 = a_viz['o_lag'] = a_viz['o'].shift(1)\n",
    "\n",
    "speed['change_speed'] = speed['start_speed'] - speed['end_speed']\n",
    "\n",
    "#change of speed per pitcher per game\n",
    "speed_change_pitcher_game = speed.groupby(by = ['g_id','pitcher_id','pitch_type','event'])['change_speed'].mean()\n",
    "\n",
    "#Plot a game's pitch type subbed with events to the average speed change \n",
    "speed_viz = speed.groupby(by = ['pitch_type','event'],as_index=False)['change_speed'].agg([np.mean])\n",
    "\n",
    "speed_viz1 = speed_viz.reset_index()\n",
    "\n",
    "#df.pivot_table(index='number', columns='class').swaplevel(axis=1).sort_index(1)#\n",
    "\n",
    "speed_viz2 = speed.groupby(by = ['event'],as_index=False)['change_speed'].agg([np.mean]).reset_index()\n",
    "\n",
    "event_count = speed.groupby(by = ['event'],as_index=False).count().reset_index()\n",
    "\n",
    "event_count = event_count[['event','outs']]\n",
    "\n",
    "event_count['counts'] = event_count['outs']\n",
    "\n",
    "speed_viz2['event_cleaned'] = 0\n",
    "\n",
    "speed_viz2.loc[0, 'event_cleaned'] = \"Out\"\n",
    "speed_viz2.loc[1, 'event_cleaned'] = \"Out\"\n",
    "speed_viz2.loc[2, 'event_cleaned'] = \"Out\"\n",
    "speed_viz2.loc[3, 'event_cleaned'] = \"Out\"\n",
    "speed_viz2.loc[4, 'event_cleaned'] = \"Not Out\"\n",
    "speed_viz2.loc[5, 'event_cleaned'] = \"Out\"\n",
    "speed_viz2.loc[6, 'event_cleaned'] = \"Out\"\n",
    "speed_viz2.loc[7, 'event_cleaned'] = \"Out\"\n",
    "speed_viz2.loc[8, 'event_cleaned'] = \"Not Out\"\n",
    "speed_viz2.loc[9, 'event_cleaned'] = \"Out\"\n",
    "speed_viz2.loc[10, 'event_cleaned'] = \"Not Out\"\n",
    "speed_viz2.loc[11, 'event_cleaned'] = \"Not Out\"\n",
    "speed_viz2.loc[12, 'event_cleaned'] = \"Out\"\n",
    "speed_viz2.loc[13, 'event_cleaned'] = \"Out\"\n",
    "speed_viz2.loc[14, 'event_cleaned'] = \"Out\"\n",
    "speed_viz2.loc[15, 'event_cleaned'] = \"Out\"\n",
    "speed_viz2.loc[16, 'event_cleaned'] = \"Not Out\"\n",
    "speed_viz2.loc[17, 'event_cleaned'] = \"Out\"\n",
    "speed_viz2.loc[18, 'event_cleaned'] = \"Out\"\n",
    "speed_viz2.loc[19, 'event_cleaned'] = \"Not Out\"\n",
    "speed_viz2.loc[20, 'event_cleaned'] = \"Not Out\"\n",
    "speed_viz2.loc[21, 'event_cleaned'] = \"Not Out\"\n",
    "speed_viz2.loc[22, 'event_cleaned'] = \"Out\"\n",
    "speed_viz2.loc[23, 'event_cleaned'] = \"Not Out\"\n",
    "speed_viz2.loc[24, 'event_cleaned'] = \"Out\"\n",
    "speed_viz2.loc[25, 'event_cleaned'] = \"Out\"\n",
    "speed_viz2.loc[26, 'event_cleaned'] = \"Out\"\n",
    "speed_viz2.loc[27, 'event_cleaned'] = \"Out\"\n",
    "speed_viz2.loc[28, 'event_cleaned'] = \"Out\"\n",
    "speed_viz2.loc[29, 'event_cleaned'] = \"Out\"\n",
    "speed_viz2.loc[30, 'event_cleaned'] = \"Not Out\"\n",
    "speed_viz2.loc[31, 'event_cleaned'] = \"Out\"\n",
    "speed_viz2.loc[32, 'event_cleaned'] = \"Out\"\n",
    "speed_viz2.loc[33, 'event_cleaned'] = \"Out\"\n",
    "speed_viz2.loc[34, 'event_cleaned'] = \"Out\"\n",
    "speed_viz2.loc[35, 'event_cleaned'] = \"Out\"\n",
    "speed_viz2.loc[36, 'event_cleaned'] = \"Out\"\n",
    "speed_viz2.loc[37, 'event_cleaned'] = \"Out\"\n",
    "speed_viz2.loc[38, 'event_cleaned'] = \"Not Out\"\n",
    "speed_viz2.loc[39, 'event_cleaned'] = \"Not Out\"\n",
    "speed_viz2.loc[40, 'event_cleaned'] = \"Out\"\n",
    "speed_viz2.loc[41, 'event_cleaned'] = \"Out\"\n",
    "speed_viz2.loc[42, 'event_cleaned'] = \"Not Out\"\n",
    "speed_viz2.loc[43, 'event_cleaned'] = \"Out\"\n",
    "speed_viz2.loc[44, 'event_cleaned'] = \"Not Out\"\n",
    "speed_viz2.loc[45, 'event_cleaned'] = \"Not Out\"\n",
    "\n",
    "speed_viz3 = pd.merge(speed_viz2, event_count, how=\"left\", on ='event')\n",
    "\n",
    "speed_viz3.drop(columns = ['outs'], inplace=True)\n",
    "\n",
    "speed_viz3.sort_values('mean',ascending=False).head()\n",
    "\n",
    "# Barplot of frequently thrown pitches in MLB 2019 season\n",
    "\n",
    "sns.set(font_scale=3) \n",
    "f, ax = plt.subplots(figsize=(30, 15))\n",
    "ax = sns.barplot(x=\"event\", y=\"mean\", data=speed_viz3, hue = 'event_cleaned')\n",
    "ax.set(ylabel = \"Total Count of Events\", title = 'Number of Events')\n",
    "ax.set_xticklabels(labels = speed_viz3['event'], rotation=45, fontsize=14)\n",
    "ax.set(xlabel = \"Events\")\n",
    "\n",
    "#Seems as though there isn't any big difference between speed change in Outs and Not Out results\n",
    "\n",
    "To-Do:\n",
    "1. Change of Speed per Inning and Change of Speed per Game for Pitchers (Look at the decrease in speed)\n",
    " - How does this correlate to an increase of Not Out situations (i.e.: hits, on base, etc.)\n",
    " How to do this:\n",
    " 1) Pick a pitcher and get the average speed change per inning\n",
    "  - Get speed change column and group by each inning to get average aggregation\n",
    " 2) Calculate the number of average Not Out situations the pitcher makes per Inning and per Game\n",
    "  - Make a Table of this per Inning and an overall Game\n",
    " 3) Pick a pitcher and get the average speed change per game\n",
    "  - Get speed change column and group by each inning to get average aggregation\n",
    "2. Number of Pitches per Inning and Number of Pitches per Game for Pitchers (Look at the Trend)\n",
    " - How does the increase in pitches thrown correlate to the number of Not Out situations he has given \n",
    " - Find a Threshold point of pitches thrown and decide when to pull out the pitcher\n",
    "3. Pitches thrown in games over a season (could be for teams and/or specific players)\n",
    " - For teams, this could mean trouble as season progresses and may need some management \n",
    " - For specific players, this may mean overusage and/or over-reliance on that specific player and may need management\n",
    "\n",
    "pitches.head()\n",
    "\n",
    "### Automatically show visualizaitons (plots) like ratretina since statcasts probably has all of them\n",
    "### I think the pitches and hits by inning may be something good to look at for visualizations\n",
    "\n",
    "### Part 2: Building Functions to Automatically Calculate Player Stats\n",
    "1. Average Pitches thrown per game + visualization per pitcher per game\n",
    "2. Average Strikes and Balls + Ratio by pitcher per game + visualization\n",
    "3. Average Ground balls, Fly balls, Hits, On-base, Outs/On-Base Ratio by pitcher per game + visualization\n",
    "4. Average Start_speed and End_speed, Start_speed:End_speed Ratio by Pitcher per game\n",
    "5. Ranking pitchers by above metrics (e.g.: top 10, by team)\n",
    "\n",
    "\n",
    "pitches.columns\n",
    "\n",
    "joined_atbats.head()\n",
    "\n",
    "#1. Avg. pitches thrown per game by pitcher\n",
    "#Group by game_id, count pitches grouped pitcher\n",
    "#Output: Total Pitches thrown by pitcher per game\n",
    "total_pitches_pitcher = joined_atbats.groupby(by = ['g_id','pitcher_id'], as_index=False)['batter_id'].agg([np.count_nonzero]).reset_index()\n",
    "total_pitches_pitcher = total_pitches_pitcher.sort_values(['g_id','count_nonzero','pitcher_id'], ascending=[True, False,True])\n",
    "\n",
    "total_pitches_pitcher.head(15)\n",
    "\n",
    "#example for one pitcher for all games\n",
    "total_pitches_pitcher[total_pitches_pitcher['pitcher_id'] == 502239].sort_values(['g_id','count_nonzero'], ascending=[True, False]).head(5)\n",
    "\n",
    "#speed_viz3 = pd.merge(speed_viz2, event_count, how=\"left\", on ='event')\n",
    "# Average pitches thrown over all games (season)\n",
    "# Output: Average pitches thrown per game\n",
    "avg_pitches_pitcher = total_pitches_pitcher.groupby(['pitcher_id'], as_index=False)['count_nonzero'].agg([np.sum]).reset_index()\n",
    "avg_pitches_pitcher = avg_pitches_pitcher.sort_values(['sum'], ascending=False)\n",
    "\n",
    "avg_pitches_pitcher.head(15)\n",
    "\n",
    "def metric_pitches_per_game_per_pitcher(joined_atbats):\n",
    "    print('This metric returns Pitches thrown by a Pitcher per Game, per Season and Avg. Pitches thrown by a Pitcher per Game over a Season')\n",
    "    print('\\n')\n",
    "    print('Enter Pitcher ID Number and Press Enter: ')\n",
    "    pitcher_id = int(input())\n",
    "    joined_atbats = joined_atbats\n",
    "    \n",
    "    #Search for that specific pitcher by ID\n",
    "    joined_atbats = joined_atbats[joined_atbats['pitcher_id'] == pitcher_id]\n",
    "    \n",
    "    #Aggregate to get total pitches thrown by pitcher per game\n",
    "    total_pitches_pitcher_game = joined_atbats.groupby(by = ['g_id','pitcher_id'], as_index=False)['batter_id'].agg([np.count_nonzero]).reset_index()\n",
    "    total_pitches_pitcher_game = total_pitches_pitcher_game.sort_values(['g_id','count_nonzero','pitcher_id'], ascending=[True, False,True])\n",
    "    total_pitches_pitcher_game = total_pitches_pitcher_game.sort_values(['g_id','count_nonzero'], ascending=[True, False])\n",
    "    \n",
    "    #Aggregate to get total pitches thrown by pitcher over season\n",
    "    total_pitches_pitcher_season = total_pitches_pitcher_game.groupby(['pitcher_id'], as_index=False)['count_nonzero'].agg([np.sum]).reset_index()\n",
    "    temp = total_pitches_pitcher_game.groupby(['pitcher_id'], as_index=False)['count_nonzero'].agg([np.sum]).reset_index()\n",
    "    total_pitches_pitcher_season = temp.sort_values(['sum'], ascending=False)\n",
    "    \n",
    "    #Aggregate to get average pitches thrown by pitcher over season \n",
    "    total_games_pitcher = total_pitches_pitcher_game['g_id'].nunique()\n",
    "    total_pitches_pitcher = total_pitches_pitcher_game['count_nonzero'].agg([np.sum])\n",
    "    avg_pitches_pitcher = np.round(total_pitches_pitcher / total_games_pitcher, decimals = 0, out=None)\n",
    "    \n",
    "    #Return a DataFrame of Average Pitches \n",
    "    print('--------------------------------------------------------')\n",
    "    print('For Pitcher ID ', pitcher_id, ':')\n",
    "    print('Total Pitches Thrown per Game :')\n",
    "    print(pd.DataFrame(total_pitches_pitcher_game))\n",
    "    print('\\n')\n",
    "    print('Total Pitches Thrown per Season :', total_pitches_pitcher_season['sum'])\n",
    "    print('\\n')\n",
    "    print('Average Pitches Thrown per Game :', avg_pitches_pitcher)\n",
    "    print('--------------------------------------------------------')\n",
    "\n",
    "metric_pitches_per_game_per_pitcher(joined_atbats)\n",
    "\n",
    "joined_atbats[joined_atbats['pitcher_id'] == 502239]\n",
    "\n",
    "total_pitches_pitcher['g_id'].value_counts()\n",
    "\n",
    "np.round()"
   ]
  },
  {
   "cell_type": "code",
   "execution_count": null,
   "metadata": {},
   "outputs": [],
   "source": []
  }
 ],
 "metadata": {
  "kernelspec": {
   "display_name": "Python 3",
   "language": "python",
   "name": "python3"
  },
  "language_info": {
   "codemirror_mode": {
    "name": "ipython",
    "version": 3
   },
   "file_extension": ".py",
   "mimetype": "text/x-python",
   "name": "python",
   "nbconvert_exporter": "python",
   "pygments_lexer": "ipython3",
   "version": "3.7.4"
  }
 },
 "nbformat": 4,
 "nbformat_minor": 2
}
