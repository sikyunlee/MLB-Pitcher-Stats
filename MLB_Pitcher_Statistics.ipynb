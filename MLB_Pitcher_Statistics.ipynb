{
 "cells": [
  {
   "cell_type": "markdown",
   "metadata": {},
   "source": [
    "### Analytics Project - Baseball Pitch by Pitch Analysis\n",
    "#### Sikyun (George) Lee \n",
    "1. Obtain a Dataset\n",
    "2. Model and store dataset (SQL, Pandas, ORM, Python Objects, etc.)\n",
    "3. Visualize (Relationship, Insights, Descriptive Statstistics)\n",
    "4. Think ahead of project\n",
    "5. Due 11/25\n"
   ]
  },
  {
   "cell_type": "markdown",
   "metadata": {},
   "source": [
    "#### Background information on data\n",
    "Data is downloaded from Kaggle (https://www.kaggle.com/pschale/mlb-pitch-data-20152018?select=atbats.csv) but the source of this is from a webscrape in (http://gd2.mlb.com/components/game/mlb/). \n",
    "\n",
    "This data looks at pitch-level data from the 2015 to 2018 seasons in MLB. Through this data, I am hoping to answer some of these questions from a pitching standpoint.\n",
    "\n",
    "**1. What are the pitch-types that gets outs the most? (unhittable pitches)**\\\n",
    "**2. Which pitcher has most pitches per inning ratio? (shows efficiency)**\\\n",
    "**3. Some other questions will asked as project progresses**\\\n",
    "\n",
    "For this session, I will some simple Exploratory Data Analysis to better understand and visualize the data"
   ]
  },
  {
   "cell_type": "markdown",
   "metadata": {},
   "source": [
    "#### 1. Data source will be from the above ***mlb.com*** source through webscraping if possible. Currently, the link above is dead and if another substitute link cannot be found, the dataset from Kaggle will be used."
   ]
  },
  {
   "cell_type": "code",
   "execution_count": 2,
   "metadata": {},
   "outputs": [],
   "source": [
    "#For homework purposes, I'll only import and work with the 2019 season data\n",
    "\n",
    "import pandas as pd\n",
    "import numpy as np\n",
    "import seaborn as sns\n",
    "import matplotlib.pyplot as plt\n",
    "%matplotlib inline"
   ]
  },
  {
   "cell_type": "code",
   "execution_count": null,
   "metadata": {},
   "outputs": [],
   "source": [
    "#quick test\n",
    "test = pd.read_csv('20tor.txt')"
   ]
  },
  {
   "cell_type": "code",
   "execution_count": null,
   "metadata": {},
   "outputs": [],
   "source": [
    "test.head(10)"
   ]
  },
  {
   "cell_type": "markdown",
   "metadata": {},
   "source": [
    "#### 2. Store Data as Pandas Objects"
   ]
  },
  {
   "cell_type": "code",
   "execution_count": null,
   "metadata": {},
   "outputs": [],
   "source": [
    "atbats = pd.read_csv('2019_atbats.csv')\n",
    "games = pd.read_csv('2019_games.csv')\n",
    "pitches = pd.read_csv('2019_pitches.csv')\n",
    "names = pd.read_csv('player_names.csv')"
   ]
  },
  {
   "cell_type": "markdown",
   "metadata": {},
   "source": [
    "#### 3. Visualize the Data for:\n",
    "- Exploratory Data Analysis to find relationships and insights\n",
    "- Descriptive Statistics"
   ]
  },
  {
   "cell_type": "code",
   "execution_count": null,
   "metadata": {},
   "outputs": [],
   "source": [
    "atbats.columns"
   ]
  },
  {
   "cell_type": "code",
   "execution_count": null,
   "metadata": {},
   "outputs": [],
   "source": [
    "games.columns"
   ]
  },
  {
   "cell_type": "code",
   "execution_count": null,
   "metadata": {},
   "outputs": [],
   "source": [
    "pitches.columns"
   ]
  },
  {
   "cell_type": "code",
   "execution_count": null,
   "metadata": {},
   "outputs": [],
   "source": [
    "# What pitches were thrown the most frequently\n",
    "# Join the pitches pitch_type column by the ab_id to the atbats data\n",
    "joined_atbats = atbats.copy(deep = True)"
   ]
  },
  {
   "cell_type": "code",
   "execution_count": null,
   "metadata": {},
   "outputs": [],
   "source": [
    "joined_atbats = pd.merge(joined_atbats, pitches, how = 'left', on = 'ab_id')"
   ]
  },
  {
   "cell_type": "code",
   "execution_count": null,
   "metadata": {},
   "outputs": [],
   "source": [
    "joined_atbats.columns"
   ]
  },
  {
   "cell_type": "code",
   "execution_count": null,
   "metadata": {},
   "outputs": [],
   "source": [
    "a_viz = joined_atbats[['inning', 'top', 'ab_id', 'g_id', 'p_score', 'batter_id', 'pitcher_id',\n",
    "             'p_throws', 'o', 'zone', 'pitch_type', 'b_count', 's_count', 'outs', \n",
    "              'pitch_num', 'on_1b', 'on_2b', 'on_3b']]"
   ]
  },
  {
   "cell_type": "code",
   "execution_count": null,
   "metadata": {},
   "outputs": [],
   "source": [
    "a_viz1 = a_viz['o_lag'] = a_viz['o'].shift(1)"
   ]
  },
  {
   "cell_type": "code",
   "execution_count": null,
   "metadata": {},
   "outputs": [],
   "source": [
    "a_viz['out'] = a_viz['o'] - a_viz['o_lag']"
   ]
  },
  {
   "cell_type": "code",
   "execution_count": null,
   "metadata": {},
   "outputs": [],
   "source": [
    "#Let's see who has on average and median thrown the most innings\n",
    "a_viz1 = a_viz.groupby(by = 'pitcher_id', as_index=False).agg([np.mean])"
   ]
  },
  {
   "cell_type": "code",
   "execution_count": null,
   "metadata": {},
   "outputs": [],
   "source": [
    "a_viz1['pitcher_id'] = a_viz1.index"
   ]
  },
  {
   "cell_type": "code",
   "execution_count": null,
   "metadata": {},
   "outputs": [],
   "source": [
    "names['full_name'] = names.first_name + \" \" + names.last_name"
   ]
  },
  {
   "cell_type": "code",
   "execution_count": null,
   "metadata": {},
   "outputs": [],
   "source": [
    "#names = names.rename(columns = {'pitcher_id' : 'id'})"
   ]
  },
  {
   "cell_type": "code",
   "execution_count": null,
   "metadata": {},
   "outputs": [],
   "source": [
    "a_viz1['avg_inning'] = a_viz1['inning', 'mean']"
   ]
  },
  {
   "cell_type": "code",
   "execution_count": null,
   "metadata": {},
   "outputs": [],
   "source": [
    "a_viz1.sort_values('avg_inning', ascending=False)"
   ]
  },
  {
   "cell_type": "code",
   "execution_count": null,
   "metadata": {},
   "outputs": [],
   "source": [
    "a_viz1 = a_viz1.rename(columns = {'pitcher_id' : 'id'})"
   ]
  },
  {
   "cell_type": "code",
   "execution_count": null,
   "metadata": {},
   "outputs": [],
   "source": [
    "a_viz2 = a_viz1.head(10)"
   ]
  },
  {
   "cell_type": "code",
   "execution_count": null,
   "metadata": {},
   "outputs": [],
   "source": [
    "a_viz3 = pd.merge(a_viz2, names, how = 'left', on = 'id')"
   ]
  },
  {
   "cell_type": "code",
   "execution_count": null,
   "metadata": {},
   "outputs": [],
   "source": [
    "a_viz3['avg_inning'] = a_viz3['inning', 'mean']"
   ]
  },
  {
   "cell_type": "code",
   "execution_count": null,
   "metadata": {},
   "outputs": [],
   "source": [
    "a_viz3 = a_viz3.sort_values('avg_inning', ascending=False)"
   ]
  },
  {
   "cell_type": "markdown",
   "metadata": {},
   "source": [
    "#### Output 1: Top 10 Pitchers with Highest Avg. Innings"
   ]
  },
  {
   "cell_type": "code",
   "execution_count": null,
   "metadata": {},
   "outputs": [],
   "source": [
    "# Barplot of top 10 pitchers with highest avg innings\n",
    "sns.set(font_scale=2) \n",
    "f, ax = plt.subplots(figsize=(30, 15))\n",
    "ax = sns.barplot(x=\"full_name\", y=\"avg_inning\", data=a_viz3)\n",
    "ax.set(ylabel = \"Avg. Innings\", xlabel = \"Pitcher\", title = 'Top 10 Pitchers with Highest Avg. Innings')"
   ]
  },
  {
   "cell_type": "code",
   "execution_count": null,
   "metadata": {},
   "outputs": [],
   "source": [
    "b_viz1 = a_viz.groupby(by = ['pitch_type'], as_index=False).count()"
   ]
  },
  {
   "cell_type": "code",
   "execution_count": null,
   "metadata": {},
   "outputs": [],
   "source": [
    "b_viz1['counts'] = b_viz1['inning']"
   ]
  },
  {
   "cell_type": "code",
   "execution_count": null,
   "metadata": {},
   "outputs": [],
   "source": [
    "b_viz1 = b_viz1.sort_values('counts', ascending = False)"
   ]
  },
  {
   "cell_type": "markdown",
   "metadata": {},
   "source": [
    "#### Output 2: Countplot of Pitch Types Thrown in 2019 Season"
   ]
  },
  {
   "cell_type": "code",
   "execution_count": null,
   "metadata": {},
   "outputs": [],
   "source": [
    "# Barplot of frequently thrown pitches in MLB 2019 season\n",
    "sns.set(font_scale=3) \n",
    "f, ax = plt.subplots(figsize=(30, 15))\n",
    "ax = sns.barplot(x=\"pitch_type\", y=\"counts\", data=b_viz1)\n",
    "ax.set(ylabel = \"Total Pitch Count\", xlabel = \"Pitch Type\", title = 'Frequently Thrown Pitches')"
   ]
  },
  {
   "cell_type": "code",
   "execution_count": null,
   "metadata": {},
   "outputs": [],
   "source": [
    "pitch_out = a_viz.groupby(by = ['pitch_type'], as_index = False).sum()"
   ]
  },
  {
   "cell_type": "code",
   "execution_count": null,
   "metadata": {},
   "outputs": [],
   "source": [
    "pitch_out_viz = pitch_out[['pitch_type', 'out']]"
   ]
  },
  {
   "cell_type": "code",
   "execution_count": null,
   "metadata": {},
   "outputs": [],
   "source": [
    "pitch_out_viz = pitch_out_viz.sort_values('out')"
   ]
  },
  {
   "cell_type": "markdown",
   "metadata": {},
   "source": [
    "#### Output 3: Pitch Types that Converted an Out"
   ]
  },
  {
   "cell_type": "code",
   "execution_count": null,
   "metadata": {},
   "outputs": [],
   "source": [
    "# Barplot of frequently thrown pitches in MLB 2019 season\n",
    "sns.set(font_scale=3) \n",
    "f, ax = plt.subplots(figsize=(30, 30))\n",
    "ax = sns.barplot(x=\"pitch_type\", y=\"out\", data=pitch_out_viz)\n",
    "ax.set(ylabel = \"Total Outs Made\", xlabel = \"Pitch Type\", title = 'Total Outs Converted by Pitch Types')"
   ]
  },
  {
   "cell_type": "markdown",
   "metadata": {},
   "source": [
    "#### 4. Analysis "
   ]
  },
  {
   "cell_type": "markdown",
   "metadata": {},
   "source": [
    "#### 4-1. Comparing Speed Changes by Pitch Type to Strikes\n",
    "For each pitch type:\n",
    "- How much does speed change? (This may be obvious for some types)\n",
    "- How does the change of speed affect the number of strikes? (compared to balls, outs)"
   ]
  },
  {
   "cell_type": "code",
   "execution_count": null,
   "metadata": {},
   "outputs": [],
   "source": [
    "speed = joined_atbats[['inning','ab_id','g_id','batter_id','pitcher_id','event','start_speed','end_speed','spin_rate','spin_dir',\n",
    "               'break_angle','break_length','break_y','ax','ay','az','zone','pitch_type','b_score','b_count',\n",
    "               's_count','outs','pitch_num','on_1b','on_2b','on_3b']]"
   ]
  },
  {
   "cell_type": "code",
   "execution_count": null,
   "metadata": {},
   "outputs": [],
   "source": [
    "speed['out'] = speed['outs'] - speed['outs'].shift(1)\n",
    "#a_viz['out'] = a_viz['o'] - a_viz['o_lag']\n",
    "#a_viz1 = a_viz['o_lag'] = a_viz['o'].shift(1)"
   ]
  },
  {
   "cell_type": "code",
   "execution_count": null,
   "metadata": {},
   "outputs": [],
   "source": [
    "speed['change_speed'] = speed['start_speed'] - speed['end_speed']"
   ]
  },
  {
   "cell_type": "code",
   "execution_count": null,
   "metadata": {},
   "outputs": [],
   "source": [
    "#change of speed per pitcher per game\n",
    "speed_change_pitcher_game = speed.groupby(by = ['g_id','pitcher_id','pitch_type','event'])['change_speed'].mean()"
   ]
  },
  {
   "cell_type": "code",
   "execution_count": null,
   "metadata": {},
   "outputs": [],
   "source": [
    "speed_viz1 = speed_viz.reset_index()\n",
    "\n",
    "#df.pivot_table(index='number', columns='class').swaplevel(axis=1).sort_index(1)#"
   ]
  },
  {
   "cell_type": "code",
   "execution_count": null,
   "metadata": {},
   "outputs": [],
   "source": [
    "speed_viz2 = speed.groupby(by = ['event'],as_index=False)['change_speed'].agg([np.mean]).reset_index()"
   ]
  },
  {
   "cell_type": "code",
   "execution_count": null,
   "metadata": {},
   "outputs": [],
   "source": [
    "event_count = speed.groupby(by = ['event'],as_index=False).count().reset_index()"
   ]
  },
  {
   "cell_type": "code",
   "execution_count": null,
   "metadata": {},
   "outputs": [],
   "source": [
    "event_count = event_count[['event','outs']]"
   ]
  },
  {
   "cell_type": "code",
   "execution_count": null,
   "metadata": {},
   "outputs": [],
   "source": [
    "event_count['counts'] = event_count['outs']"
   ]
  },
  {
   "cell_type": "code",
   "execution_count": null,
   "metadata": {},
   "outputs": [],
   "source": [
    "speed_viz2['event_cleaned'] = 0\n",
    "\n",
    "speed_viz2.loc[0, 'event_cleaned'] = \"Out\"\n",
    "speed_viz2.loc[1, 'event_cleaned'] = \"Out\"\n",
    "speed_viz2.loc[2, 'event_cleaned'] = \"Out\"\n",
    "speed_viz2.loc[3, 'event_cleaned'] = \"Out\"\n",
    "speed_viz2.loc[4, 'event_cleaned'] = \"Not Out\"\n",
    "speed_viz2.loc[5, 'event_cleaned'] = \"Out\"\n",
    "speed_viz2.loc[6, 'event_cleaned'] = \"Out\"\n",
    "speed_viz2.loc[7, 'event_cleaned'] = \"Out\"\n",
    "speed_viz2.loc[8, 'event_cleaned'] = \"Not Out\"\n",
    "speed_viz2.loc[9, 'event_cleaned'] = \"Out\"\n",
    "speed_viz2.loc[10, 'event_cleaned'] = \"Not Out\"\n",
    "speed_viz2.loc[11, 'event_cleaned'] = \"Not Out\"\n",
    "speed_viz2.loc[12, 'event_cleaned'] = \"Out\"\n",
    "speed_viz2.loc[13, 'event_cleaned'] = \"Out\"\n",
    "speed_viz2.loc[14, 'event_cleaned'] = \"Out\"\n",
    "speed_viz2.loc[15, 'event_cleaned'] = \"Out\"\n",
    "speed_viz2.loc[16, 'event_cleaned'] = \"Not Out\"\n",
    "speed_viz2.loc[17, 'event_cleaned'] = \"Out\"\n",
    "speed_viz2.loc[18, 'event_cleaned'] = \"Out\"\n",
    "speed_viz2.loc[19, 'event_cleaned'] = \"Not Out\"\n",
    "speed_viz2.loc[20, 'event_cleaned'] = \"Not Out\"\n",
    "speed_viz2.loc[21, 'event_cleaned'] = \"Not Out\"\n",
    "speed_viz2.loc[22, 'event_cleaned'] = \"Out\"\n",
    "speed_viz2.loc[23, 'event_cleaned'] = \"Not Out\"\n",
    "speed_viz2.loc[24, 'event_cleaned'] = \"Out\"\n",
    "speed_viz2.loc[25, 'event_cleaned'] = \"Out\"\n",
    "speed_viz2.loc[26, 'event_cleaned'] = \"Out\"\n",
    "speed_viz2.loc[27, 'event_cleaned'] = \"Out\"\n",
    "speed_viz2.loc[28, 'event_cleaned'] = \"Out\"\n",
    "speed_viz2.loc[29, 'event_cleaned'] = \"Out\"\n",
    "speed_viz2.loc[30, 'event_cleaned'] = \"Not Out\"\n",
    "speed_viz2.loc[31, 'event_cleaned'] = \"Out\"\n",
    "speed_viz2.loc[32, 'event_cleaned'] = \"Out\"\n",
    "speed_viz2.loc[33, 'event_cleaned'] = \"Out\"\n",
    "speed_viz2.loc[34, 'event_cleaned'] = \"Out\"\n",
    "speed_viz2.loc[35, 'event_cleaned'] = \"Out\"\n",
    "speed_viz2.loc[36, 'event_cleaned'] = \"Out\"\n",
    "speed_viz2.loc[37, 'event_cleaned'] = \"Out\"\n",
    "speed_viz2.loc[38, 'event_cleaned'] = \"Not Out\"\n",
    "speed_viz2.loc[39, 'event_cleaned'] = \"Not Out\"\n",
    "speed_viz2.loc[40, 'event_cleaned'] = \"Out\"\n",
    "speed_viz2.loc[41, 'event_cleaned'] = \"Out\"\n",
    "speed_viz2.loc[42, 'event_cleaned'] = \"Not Out\"\n",
    "speed_viz2.loc[43, 'event_cleaned'] = \"Out\"\n",
    "speed_viz2.loc[44, 'event_cleaned'] = \"Not Out\"\n",
    "speed_viz2.loc[45, 'event_cleaned'] = \"Not Out\""
   ]
  },
  {
   "cell_type": "code",
   "execution_count": null,
   "metadata": {},
   "outputs": [],
   "source": [
    "speed_viz3 = pd.merge(speed_viz2, event_count, how=\"left\", on ='event')"
   ]
  },
  {
   "cell_type": "code",
   "execution_count": null,
   "metadata": {},
   "outputs": [],
   "source": [
    "speed_viz3.drop(columns = ['outs'], inplace=True)"
   ]
  },
  {
   "cell_type": "code",
   "execution_count": null,
   "metadata": {},
   "outputs": [],
   "source": [
    "speed_viz3.sort_values('mean',ascending=False).head()"
   ]
  },
  {
   "cell_type": "code",
   "execution_count": null,
   "metadata": {},
   "outputs": [],
   "source": [
    "# Barplot of frequently thrown pitches in MLB 2019 season\n",
    "\n",
    "sns.set(font_scale=3) \n",
    "f, ax = plt.subplots(figsize=(30, 15))\n",
    "ax = sns.barplot(x=\"event\", y=\"mean\", data=speed_viz3, hue = 'event_cleaned')\n",
    "ax.set(ylabel = \"Total Count of Events\", title = 'Number of Events')\n",
    "ax.set_xticklabels(labels = speed_viz3['event'], rotation=45, fontsize=14)\n",
    "ax.set(xlabel = \"Events\")\n",
    "\n",
    "#Seems as though there isn't any big difference between speed change in Outs and Not Out results"
   ]
  },
  {
   "cell_type": "markdown",
   "metadata": {},
   "source": [
    "### Part 2: Building Functions to Automatically Calculate Player Stats\n",
    "1. Average Pitches thrown per game + visualization per pitcher per game\n",
    "2. Average Strikes and Balls + Ratio by pitcher per game + visualization\n",
    "3. Average Ground balls, Fly balls, Hits, On-base, Outs/On-Base Ratio by pitcher per game + visualization\n",
    "4. Average Start_speed and End_speed, Start_speed:End_speed Ratio by Pitcher per game\n",
    "5. Ranking pitchers by above metrics (e.g.: top 10, by team)\n"
   ]
  },
  {
   "cell_type": "code",
   "execution_count": null,
   "metadata": {},
   "outputs": [],
   "source": [
    "#1. Avg. pitches thrown per game by pitcher\n",
    "#Group by game_id, count pitches grouped pitcher\n",
    "#Output: Total Pitches thrown by pitcher per game\n",
    "total_pitches_pitcher = joined_atbats.groupby(by = ['g_id','pitcher_id'], as_index=False)['batter_id'].agg([np.count_nonzero]).reset_index()\n",
    "total_pitches_pitcher = total_pitches_pitcher.sort_values(['g_id','count_nonzero','pitcher_id'], ascending=[True, False,True])"
   ]
  },
  {
   "cell_type": "code",
   "execution_count": null,
   "metadata": {},
   "outputs": [],
   "source": [
    "total_pitches_pitcher.head(15)"
   ]
  },
  {
   "cell_type": "code",
   "execution_count": null,
   "metadata": {},
   "outputs": [],
   "source": [
    "#example for one pitcher for all games\n",
    "total_pitches_pitcher[total_pitches_pitcher['pitcher_id'] == 502239].sort_values(['g_id','count_nonzero'], ascending=[True, False]).head(5)"
   ]
  },
  {
   "cell_type": "code",
   "execution_count": null,
   "metadata": {},
   "outputs": [],
   "source": [
    "#speed_viz3 = pd.merge(speed_viz2, event_count, how=\"left\", on ='event')\n",
    "# Average pitches thrown over all games (season)\n",
    "# Output: Average pitches thrown per game\n",
    "avg_pitches_pitcher = total_pitches_pitcher.groupby(['pitcher_id'], as_index=False)['count_nonzero'].agg([np.sum]).reset_index()\n",
    "avg_pitches_pitcher = avg_pitches_pitcher.sort_values(['sum'], ascending=False)"
   ]
  },
  {
   "cell_type": "code",
   "execution_count": null,
   "metadata": {},
   "outputs": [],
   "source": [
    "def metric_pitches_per_game_per_pitcher(joined_atbats):\n",
    "    print('This metric returns Pitches thrown by a Pitcher per Game, per Season and Avg. Pitches thrown by a Pitcher per Game over a Season')\n",
    "    print('\\n')\n",
    "    print('Enter Pitcher ID Number and Press Enter: ')\n",
    "    pitcher_id = int(input())\n",
    "    joined_atbats = joined_atbats\n",
    "    \n",
    "    #Search for that specific pitcher by ID\n",
    "    joined_atbats = joined_atbats[joined_atbats['pitcher_id'] == pitcher_id]\n",
    "    \n",
    "    #Aggregate to get total pitches thrown by pitcher per game\n",
    "    total_pitches_pitcher_game = joined_atbats.groupby(by = ['g_id','pitcher_id'], as_index=False)['batter_id'].agg([np.count_nonzero]).reset_index()\n",
    "    total_pitches_pitcher_game = total_pitches_pitcher_game.sort_values(['g_id','count_nonzero','pitcher_id'], ascending=[True, False,True])\n",
    "    total_pitches_pitcher_game = total_pitches_pitcher_game.sort_values(['g_id','count_nonzero'], ascending=[True, False])\n",
    "    \n",
    "    #Aggregate to get total pitches thrown by pitcher over season\n",
    "    total_pitches_pitcher_season = total_pitches_pitcher_game.groupby(['pitcher_id'], as_index=False)['count_nonzero'].agg([np.sum]).reset_index()\n",
    "    temp = total_pitches_pitcher_game.groupby(['pitcher_id'], as_index=False)['count_nonzero'].agg([np.sum]).reset_index()\n",
    "    total_pitches_pitcher_season = temp.sort_values(['sum'], ascending=False)\n",
    "    \n",
    "    #Aggregate to get average pitches thrown by pitcher over season \n",
    "    total_games_pitcher = total_pitches_pitcher_game['g_id'].nunique()\n",
    "    total_pitches_pitcher = total_pitches_pitcher_game['count_nonzero'].agg([np.sum])\n",
    "    avg_pitches_pitcher = np.round(total_pitches_pitcher / total_games_pitcher, decimals = 0, out=None)\n",
    "    \n",
    "    #Return a DataFrame of Average Pitches \n",
    "    print('--------------------------------------------------------')\n",
    "    print('For Pitcher ID ', pitcher_id, ':')\n",
    "    print('Total Pitches Thrown per Game :')\n",
    "    print(pd.DataFrame(total_pitches_pitcher_game))\n",
    "    print('\\n')\n",
    "    print('Total Pitches Thrown per Season :', total_pitches_pitcher_season['sum'])\n",
    "    print('\\n')\n",
    "    print('Average Pitches Thrown per Game :', avg_pitches_pitcher)\n",
    "    print('--------------------------------------------------------')"
   ]
  },
  {
   "cell_type": "code",
   "execution_count": null,
   "metadata": {},
   "outputs": [],
   "source": [
    "metric_pitches_per_game_per_pitcher(joined_atbats)"
   ]
  },
  {
   "cell_type": "code",
   "execution_count": null,
   "metadata": {},
   "outputs": [],
   "source": [
    "joined_atbats[joined_atbats['pitcher_id'] == 502239]"
   ]
  },
  {
   "cell_type": "code",
   "execution_count": null,
   "metadata": {},
   "outputs": [],
   "source": [
    "total_pitches_pitcher['g_id'].value_counts()"
   ]
  },
  {
   "cell_type": "code",
   "execution_count": null,
   "metadata": {},
   "outputs": [],
   "source": []
  },
  {
   "cell_type": "code",
   "execution_count": null,
   "metadata": {},
   "outputs": [],
   "source": []
  },
  {
   "cell_type": "code",
   "execution_count": null,
   "metadata": {},
   "outputs": [],
   "source": []
  },
  {
   "cell_type": "code",
   "execution_count": null,
   "metadata": {},
   "outputs": [],
   "source": []
  },
  {
   "cell_type": "code",
   "execution_count": null,
   "metadata": {},
   "outputs": [],
   "source": []
  },
  {
   "cell_type": "code",
   "execution_count": null,
   "metadata": {},
   "outputs": [],
   "source": [
    "### Analytics Project - Baseball Pitch by Pitch Analysis\n",
    "#### Sikyun (George) Lee \n",
    "1. Obtain a Dataset\n",
    "2. Model and store dataset (SQL, Pandas, ORM, Python Objects, etc.)\n",
    "3. Visualize (Relationship, Insights, Descriptive Statstistics)\n",
    "4. Think ahead of project\n",
    "5. Due 11/25\n",
    "\n",
    "\n",
    "#### Background information on data\n",
    "Data is downloaded from Kaggle (https://www.kaggle.com/pschale/mlb-pitch-data-20152018?select=atbats.csv) but the source of this is from a webscrape in (http://gd2.mlb.com/components/game/mlb/). \n",
    "\n",
    "This data looks at pitch-level data from the 2015 to 2018 seasons in MLB. Through this data, I am hoping to answer some of these questions from a pitching standpoint.\n",
    "\n",
    "**1. What are the pitch-types that gets outs the most? (unhittable pitches)**\\\n",
    "**2. Which pitcher has most pitches per inning ratio? (shows efficiency)**\\\n",
    "**3. Some other questions will asked as project progresses**\\\n",
    "\n",
    "For this session, I will some simple Exploratory Data Analysis to better understand and visualize the data\n",
    "\n",
    "#### 1. Data source will be from the above ***mlb.com*** source through webscraping if possible. Currently, the link above is dead and if another substitute link cannot be found, the dataset from Kaggle will be used.\n",
    "\n",
    "#For homework purposes, I'll only import and work with the 2019 season data\n",
    "\n",
    "import pandas as pd\n",
    "import numpy as np\n",
    "import seaborn as sns\n",
    "import matplotlib.pyplot as plt\n",
    "%matplotlib inline\n",
    "\n",
    "#quick test\n",
    "test = pd.read_csv('20tor.txt')\n",
    "\n",
    "test.head(10)\n",
    "\n",
    "\n",
    "\n",
    "#### 2. Store Data as Pandas Objects\n",
    "\n",
    "atbats = pd.read_csv('2019_atbats.csv')\n",
    "games = pd.read_csv('2019_games.csv')\n",
    "pitches = pd.read_csv('2019_pitches.csv')\n",
    "names = pd.read_csv('player_names.csv')\n",
    "\n",
    "atbats.head()\n",
    "\n",
    "games.head()\n",
    "\n",
    "pitches.head()\n",
    "\n",
    "#### 3. Visualize the Data for:\n",
    "- Exploratory Data Analysis to find relationships and insights\n",
    "- Descriptive Statistics\n",
    "\n",
    "#### 3-1. Data Manipulation to Visualize the Data\n",
    "\n",
    "atbats.columns\n",
    "\n",
    "games.columns\n",
    "\n",
    "pitches.columns\n",
    "\n",
    "# What pitches were thrown the most frequently\n",
    "# Join the pitches pitch_type column by the ab_id to the atbats data\n",
    "joined_atbats = atbats.copy(deep = True)\n",
    "\n",
    "joined_atbats = pd.merge(joined_atbats, pitches, how = 'left', on = 'ab_id')\n",
    "\n",
    "joined_atbats.columns\n",
    "\n",
    "a_viz = joined_atbats[['inning', 'top', 'ab_id', 'g_id', 'p_score', 'batter_id', 'pitcher_id',\n",
    "             'p_throws', 'o', 'zone', 'pitch_type', 'b_count', 's_count', 'outs', \n",
    "              'pitch_num', 'on_1b', 'on_2b', 'on_3b']]\n",
    "\n",
    "a_viz1 = a_viz['o_lag'] = a_viz['o'].shift(1)\n",
    "\n",
    "a_viz['out'] = a_viz['o'] - a_viz['o_lag']\n",
    "\n",
    "#Let's see who has on average and median thrown the most innings\n",
    "a_viz1 = a_viz.groupby(by = 'pitcher_id', as_index=False).agg([np.mean])\n",
    "\n",
    "a_viz1['pitcher_id'] = a_viz1.index\n",
    "\n",
    "names['full_name'] = names.first_name + \" \" + names.last_name\n",
    "\n",
    "#names = names.rename(columns = {'pitcher_id' : 'id'})\n",
    "\n",
    "a_viz1['avg_inning'] = a_viz1['inning', 'mean']\n",
    "\n",
    "a_viz1.sort_values('avg_inning', ascending=False)\n",
    "\n",
    "a_viz1 = a_viz1.rename(columns = {'pitcher_id' : 'id'})\n",
    "\n",
    "a_viz2 = a_viz1.head(10)\n",
    "\n",
    "a_viz3 = pd.merge(a_viz2, names, how = 'left', on = 'id')\n",
    "\n",
    "a_viz3['avg_inning'] = a_viz3['inning', 'mean']\n",
    "\n",
    "a_viz3 = a_viz3.sort_values('avg_inning', ascending=False)\n",
    "\n",
    "#### Output 1: Top 10 Pitchers with Highest Avg. Innings\n",
    "\n",
    "# Barplot of top 10 pitchers with highest avg innings\n",
    "sns.set(font_scale=2) \n",
    "f, ax = plt.subplots(figsize=(30, 15))\n",
    "ax = sns.barplot(x=\"full_name\", y=\"avg_inning\", data=a_viz3)\n",
    "ax.set(ylabel = \"Avg. Innings\", xlabel = \"Pitcher\", title = 'Top 10 Pitchers with Highest Avg. Innings')\n",
    "\n",
    "b_viz1 = a_viz.groupby(by = ['pitch_type'], as_index=False).count()\n",
    "\n",
    "b_viz1['counts'] = b_viz1['inning']\n",
    "\n",
    "b_viz1\n",
    "\n",
    "b_viz1 = b_viz1.sort_values('counts', ascending = False)\n",
    "\n",
    "#### Output 2: Countplot of Pitch Types Thrown in 2019 Season\n",
    "\n",
    "# Barplot of frequently thrown pitches in MLB 2019 season\n",
    "sns.set(font_scale=3) \n",
    "f, ax = plt.subplots(figsize=(30, 15))\n",
    "ax = sns.barplot(x=\"pitch_type\", y=\"counts\", data=b_viz1)\n",
    "ax.set(ylabel = \"Total Pitch Count\", xlabel = \"Pitch Type\", title = 'Frequently Thrown Pitches')\n",
    "\n",
    "a_viz.head(10)\n",
    "\n",
    "pitch_out = a_viz.groupby(by = ['pitch_type'], as_index = False).sum()\n",
    "\n",
    "pitch_out.head(10)\n",
    "\n",
    "pitch_out_viz = pitch_out[['pitch_type', 'out']]\n",
    "\n",
    "pitch_out_viz = pitch_out_viz.sort_values('out')\n",
    "\n",
    "#### Output 3: Pitch Types that Converted an Out\n",
    "\n",
    "# Barplot of frequently thrown pitches in MLB 2019 season\n",
    "sns.set(font_scale=3) \n",
    "f, ax = plt.subplots(figsize=(30, 30))\n",
    "ax = sns.barplot(x=\"pitch_type\", y=\"out\", data=pitch_out_viz)\n",
    "ax.set(ylabel = \"Total Outs Made\", xlabel = \"Pitch Type\", title = 'Total Outs Converted by Pitch Types')\n",
    "\n",
    "#### Next Steps\n",
    "\n",
    "Although in Today's (11/24) session, Paul Carr has said that baseball players cannot use analytics for player valuation (i.e.: contract negotiation) due to arbitration reasons, the following analyses questions can possibly be answered with this data:\\\n",
    "\n",
    "**1. What kind of metrics can we define to measure a pitcher's \"effciency?\"**\n",
    "This could be classic metrics such as pitches per inning or innings per inning, but novel metrics such as \"number of runners on-base per game or inning\" could something to think about.\\\n",
    "To take a step further, we can also look into \"number of runs converted per runner on-base\" to measure a pitcher's (including the team defense) ability to manage run-scoring situations.\\\n",
    "\n",
    "**2. How does a certain angle or speed of pitches convert into outs?**\n",
    "For this, I haven't thought in detail in how I can measure this but considering that data for pitche speeds and angles are available, I am thinking of looking at how a range of pitch angles/speeds convert hitters into outs.\n",
    "\n",
    "**3. Considering the strike/ball counts, how can we predict what pitcher will throw next?**\n",
    "This would be predictive analytics that would probably be related to Bayesian Posterior probabilities, but will more time to think about this topic.\n",
    "\n",
    "**4. Developing a function or package to read a pitcher's (probably starting pitcher) pitch data in an ongoing game and plot a heatmap of where that pitcher is pitching the most/least.**\n",
    "\n",
    "#### 4. Analysis \n",
    "\n",
    "#### 4-1. Comparing Speed Changes by Pitch Type to Strikes\n",
    "For each pitch type:\n",
    "- How much does speed change? (This may be obvious for some types)\n",
    "- How does the change of speed affect the number of strikes? (compared to balls, outs)\n",
    "\n",
    "pitches.head()\n",
    "\n",
    "joined_atbats.head()\n",
    "\n",
    "speed = joined_atbats[['inning','ab_id','g_id','batter_id','pitcher_id','event','start_speed','end_speed','spin_rate','spin_dir',\n",
    "               'break_angle','break_length','break_y','ax','ay','az','zone','pitch_type','b_score','b_count',\n",
    "               's_count','outs','pitch_num','on_1b','on_2b','on_3b']]\n",
    "\n",
    "speed['out'] = speed['outs'] - speed['outs'].shift(1)\n",
    "#a_viz['out'] = a_viz['o'] - a_viz['o_lag']\n",
    "#a_viz1 = a_viz['o_lag'] = a_viz['o'].shift(1)\n",
    "\n",
    "speed['change_speed'] = speed['start_speed'] - speed['end_speed']\n",
    "\n",
    "#change of speed per pitcher per game\n",
    "speed_change_pitcher_game = speed.groupby(by = ['g_id','pitcher_id','pitch_type','event'])['change_speed'].mean()\n",
    "\n",
    "#Plot a game's pitch type subbed with events to the average speed change \n",
    "speed_viz = speed.groupby(by = ['pitch_type','event'],as_index=False)['change_speed'].agg([np.mean])\n",
    "\n",
    "speed_viz1 = speed_viz.reset_index()\n",
    "\n",
    "#df.pivot_table(index='number', columns='class').swaplevel(axis=1).sort_index(1)#\n",
    "\n",
    "speed_viz2 = speed.groupby(by = ['event'],as_index=False)['change_speed'].agg([np.mean]).reset_index()\n",
    "\n",
    "event_count = speed.groupby(by = ['event'],as_index=False).count().reset_index()\n",
    "\n",
    "event_count = event_count[['event','outs']]\n",
    "\n",
    "event_count['counts'] = event_count['outs']\n",
    "\n",
    "speed_viz2['event_cleaned'] = 0\n",
    "\n",
    "speed_viz2.loc[0, 'event_cleaned'] = \"Out\"\n",
    "speed_viz2.loc[1, 'event_cleaned'] = \"Out\"\n",
    "speed_viz2.loc[2, 'event_cleaned'] = \"Out\"\n",
    "speed_viz2.loc[3, 'event_cleaned'] = \"Out\"\n",
    "speed_viz2.loc[4, 'event_cleaned'] = \"Not Out\"\n",
    "speed_viz2.loc[5, 'event_cleaned'] = \"Out\"\n",
    "speed_viz2.loc[6, 'event_cleaned'] = \"Out\"\n",
    "speed_viz2.loc[7, 'event_cleaned'] = \"Out\"\n",
    "speed_viz2.loc[8, 'event_cleaned'] = \"Not Out\"\n",
    "speed_viz2.loc[9, 'event_cleaned'] = \"Out\"\n",
    "speed_viz2.loc[10, 'event_cleaned'] = \"Not Out\"\n",
    "speed_viz2.loc[11, 'event_cleaned'] = \"Not Out\"\n",
    "speed_viz2.loc[12, 'event_cleaned'] = \"Out\"\n",
    "speed_viz2.loc[13, 'event_cleaned'] = \"Out\"\n",
    "speed_viz2.loc[14, 'event_cleaned'] = \"Out\"\n",
    "speed_viz2.loc[15, 'event_cleaned'] = \"Out\"\n",
    "speed_viz2.loc[16, 'event_cleaned'] = \"Not Out\"\n",
    "speed_viz2.loc[17, 'event_cleaned'] = \"Out\"\n",
    "speed_viz2.loc[18, 'event_cleaned'] = \"Out\"\n",
    "speed_viz2.loc[19, 'event_cleaned'] = \"Not Out\"\n",
    "speed_viz2.loc[20, 'event_cleaned'] = \"Not Out\"\n",
    "speed_viz2.loc[21, 'event_cleaned'] = \"Not Out\"\n",
    "speed_viz2.loc[22, 'event_cleaned'] = \"Out\"\n",
    "speed_viz2.loc[23, 'event_cleaned'] = \"Not Out\"\n",
    "speed_viz2.loc[24, 'event_cleaned'] = \"Out\"\n",
    "speed_viz2.loc[25, 'event_cleaned'] = \"Out\"\n",
    "speed_viz2.loc[26, 'event_cleaned'] = \"Out\"\n",
    "speed_viz2.loc[27, 'event_cleaned'] = \"Out\"\n",
    "speed_viz2.loc[28, 'event_cleaned'] = \"Out\"\n",
    "speed_viz2.loc[29, 'event_cleaned'] = \"Out\"\n",
    "speed_viz2.loc[30, 'event_cleaned'] = \"Not Out\"\n",
    "speed_viz2.loc[31, 'event_cleaned'] = \"Out\"\n",
    "speed_viz2.loc[32, 'event_cleaned'] = \"Out\"\n",
    "speed_viz2.loc[33, 'event_cleaned'] = \"Out\"\n",
    "speed_viz2.loc[34, 'event_cleaned'] = \"Out\"\n",
    "speed_viz2.loc[35, 'event_cleaned'] = \"Out\"\n",
    "speed_viz2.loc[36, 'event_cleaned'] = \"Out\"\n",
    "speed_viz2.loc[37, 'event_cleaned'] = \"Out\"\n",
    "speed_viz2.loc[38, 'event_cleaned'] = \"Not Out\"\n",
    "speed_viz2.loc[39, 'event_cleaned'] = \"Not Out\"\n",
    "speed_viz2.loc[40, 'event_cleaned'] = \"Out\"\n",
    "speed_viz2.loc[41, 'event_cleaned'] = \"Out\"\n",
    "speed_viz2.loc[42, 'event_cleaned'] = \"Not Out\"\n",
    "speed_viz2.loc[43, 'event_cleaned'] = \"Out\"\n",
    "speed_viz2.loc[44, 'event_cleaned'] = \"Not Out\"\n",
    "speed_viz2.loc[45, 'event_cleaned'] = \"Not Out\"\n",
    "\n",
    "speed_viz3 = pd.merge(speed_viz2, event_count, how=\"left\", on ='event')\n",
    "\n",
    "speed_viz3.drop(columns = ['outs'], inplace=True)\n",
    "\n",
    "speed_viz3.sort_values('mean',ascending=False).head()\n",
    "\n",
    "# Barplot of frequently thrown pitches in MLB 2019 season\n",
    "\n",
    "sns.set(font_scale=3) \n",
    "f, ax = plt.subplots(figsize=(30, 15))\n",
    "ax = sns.barplot(x=\"event\", y=\"mean\", data=speed_viz3, hue = 'event_cleaned')\n",
    "ax.set(ylabel = \"Total Count of Events\", title = 'Number of Events')\n",
    "ax.set_xticklabels(labels = speed_viz3['event'], rotation=45, fontsize=14)\n",
    "ax.set(xlabel = \"Events\")\n",
    "\n",
    "#Seems as though there isn't any big difference between speed change in Outs and Not Out results\n",
    "\n",
    "To-Do:\n",
    "1. Change of Speed per Inning and Change of Speed per Game for Pitchers (Look at the decrease in speed)\n",
    " - How does this correlate to an increase of Not Out situations (i.e.: hits, on base, etc.)\n",
    " How to do this:\n",
    " 1) Pick a pitcher and get the average speed change per inning\n",
    "  - Get speed change column and group by each inning to get average aggregation\n",
    " 2) Calculate the number of average Not Out situations the pitcher makes per Inning and per Game\n",
    "  - Make a Table of this per Inning and an overall Game\n",
    " 3) Pick a pitcher and get the average speed change per game\n",
    "  - Get speed change column and group by each inning to get average aggregation\n",
    "2. Number of Pitches per Inning and Number of Pitches per Game for Pitchers (Look at the Trend)\n",
    " - How does the increase in pitches thrown correlate to the number of Not Out situations he has given \n",
    " - Find a Threshold point of pitches thrown and decide when to pull out the pitcher\n",
    "3. Pitches thrown in games over a season (could be for teams and/or specific players)\n",
    " - For teams, this could mean trouble as season progresses and may need some management \n",
    " - For specific players, this may mean overusage and/or over-reliance on that specific player and may need management\n",
    "\n",
    "pitches.head()\n",
    "\n",
    "### Automatically show visualizaitons (plots) like ratretina since statcasts probably has all of them\n",
    "### I think the pitches and hits by inning may be something good to look at for visualizations\n",
    "\n",
    "### Part 2: Building Functions to Automatically Calculate Player Stats\n",
    "1. Average Pitches thrown per game + visualization per pitcher per game\n",
    "2. Average Strikes and Balls + Ratio by pitcher per game + visualization\n",
    "3. Average Ground balls, Fly balls, Hits, On-base, Outs/On-Base Ratio by pitcher per game + visualization\n",
    "4. Average Start_speed and End_speed, Start_speed:End_speed Ratio by Pitcher per game\n",
    "5. Ranking pitchers by above metrics (e.g.: top 10, by team)\n",
    "\n",
    "\n",
    "pitches.columns\n",
    "\n",
    "joined_atbats.head()\n",
    "\n",
    "#1. Avg. pitches thrown per game by pitcher\n",
    "#Group by game_id, count pitches grouped pitcher\n",
    "#Output: Total Pitches thrown by pitcher per game\n",
    "total_pitches_pitcher = joined_atbats.groupby(by = ['g_id','pitcher_id'], as_index=False)['batter_id'].agg([np.count_nonzero]).reset_index()\n",
    "total_pitches_pitcher = total_pitches_pitcher.sort_values(['g_id','count_nonzero','pitcher_id'], ascending=[True, False,True])\n",
    "\n",
    "total_pitches_pitcher.head(15)\n",
    "\n",
    "#example for one pitcher for all games\n",
    "total_pitches_pitcher[total_pitches_pitcher['pitcher_id'] == 502239].sort_values(['g_id','count_nonzero'], ascending=[True, False]).head(5)\n",
    "\n",
    "#speed_viz3 = pd.merge(speed_viz2, event_count, how=\"left\", on ='event')\n",
    "# Average pitches thrown over all games (season)\n",
    "# Output: Average pitches thrown per game\n",
    "avg_pitches_pitcher = total_pitches_pitcher.groupby(['pitcher_id'], as_index=False)['count_nonzero'].agg([np.sum]).reset_index()\n",
    "avg_pitches_pitcher = avg_pitches_pitcher.sort_values(['sum'], ascending=False)\n",
    "\n",
    "avg_pitches_pitcher.head(15)\n",
    "\n",
    "def metric_pitches_per_game_per_pitcher(joined_atbats):\n",
    "    print('This metric returns Pitches thrown by a Pitcher per Game, per Season and Avg. Pitches thrown by a Pitcher per Game over a Season')\n",
    "    print('\\n')\n",
    "    print('Enter Pitcher ID Number and Press Enter: ')\n",
    "    pitcher_id = int(input())\n",
    "    joined_atbats = joined_atbats\n",
    "    \n",
    "    #Search for that specific pitcher by ID\n",
    "    joined_atbats = joined_atbats[joined_atbats['pitcher_id'] == pitcher_id]\n",
    "    \n",
    "    #Aggregate to get total pitches thrown by pitcher per game\n",
    "    total_pitches_pitcher_game = joined_atbats.groupby(by = ['g_id','pitcher_id'], as_index=False)['batter_id'].agg([np.count_nonzero]).reset_index()\n",
    "    total_pitches_pitcher_game = total_pitches_pitcher_game.sort_values(['g_id','count_nonzero','pitcher_id'], ascending=[True, False,True])\n",
    "    total_pitches_pitcher_game = total_pitches_pitcher_game.sort_values(['g_id','count_nonzero'], ascending=[True, False])\n",
    "    \n",
    "    #Aggregate to get total pitches thrown by pitcher over season\n",
    "    total_pitches_pitcher_season = total_pitches_pitcher_game.groupby(['pitcher_id'], as_index=False)['count_nonzero'].agg([np.sum]).reset_index()\n",
    "    temp = total_pitches_pitcher_game.groupby(['pitcher_id'], as_index=False)['count_nonzero'].agg([np.sum]).reset_index()\n",
    "    total_pitches_pitcher_season = temp.sort_values(['sum'], ascending=False)\n",
    "    \n",
    "    #Aggregate to get average pitches thrown by pitcher over season \n",
    "    total_games_pitcher = total_pitches_pitcher_game['g_id'].nunique()\n",
    "    total_pitches_pitcher = total_pitches_pitcher_game['count_nonzero'].agg([np.sum])\n",
    "    avg_pitches_pitcher = np.round(total_pitches_pitcher / total_games_pitcher, decimals = 0, out=None)\n",
    "    \n",
    "    #Return a DataFrame of Average Pitches \n",
    "    print('--------------------------------------------------------')\n",
    "    print('For Pitcher ID ', pitcher_id, ':')\n",
    "    print('Total Pitches Thrown per Game :')\n",
    "    print(pd.DataFrame(total_pitches_pitcher_game))\n",
    "    print('\\n')\n",
    "    print('Total Pitches Thrown per Season :', total_pitches_pitcher_season['sum'])\n",
    "    print('\\n')\n",
    "    print('Average Pitches Thrown per Game :', avg_pitches_pitcher)\n",
    "    print('--------------------------------------------------------')\n",
    "\n",
    "metric_pitches_per_game_per_pitcher(joined_atbats)\n",
    "\n",
    "joined_atbats[joined_atbats['pitcher_id'] == 502239]\n",
    "\n",
    "total_pitches_pitcher['g_id'].value_counts()\n",
    "\n",
    "np.round()"
   ]
  }
 ],
 "metadata": {
  "kernelspec": {
   "display_name": "Python 3",
   "language": "python",
   "name": "python3"
  },
  "language_info": {
   "codemirror_mode": {
    "name": "ipython",
    "version": 3
   },
   "file_extension": ".py",
   "mimetype": "text/x-python",
   "name": "python",
   "nbconvert_exporter": "python",
   "pygments_lexer": "ipython3",
   "version": "3.7.4"
  }
 },
 "nbformat": 4,
 "nbformat_minor": 2
}
